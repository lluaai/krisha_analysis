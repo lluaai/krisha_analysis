{
 "cells": [
  {
   "cell_type": "code",
   "execution_count": 163,
   "id": "a9ede646-1d19-4adf-85ba-8051d6fac63f",
   "metadata": {},
   "outputs": [],
   "source": [
    "import pandas as pd\n",
    "df = pd.read_csv('Krisha_data.csv')"
   ]
  },
  {
   "cell_type": "markdown",
   "id": "1615d54f-9bf3-41b3-8811-48c2aa18afdc",
   "metadata": {},
   "source": [
    "# Знакомство с нашими данными"
   ]
  },
  {
   "cell_type": "code",
   "execution_count": 166,
   "id": "f776d06f-4f6e-42b5-af2f-1c74c98e5a28",
   "metadata": {},
   "outputs": [
    {
     "data": {
      "text/html": [
       "<div>\n",
       "<style scoped>\n",
       "    .dataframe tbody tr th:only-of-type {\n",
       "        vertical-align: middle;\n",
       "    }\n",
       "\n",
       "    .dataframe tbody tr th {\n",
       "        vertical-align: top;\n",
       "    }\n",
       "\n",
       "    .dataframe thead th {\n",
       "        text-align: right;\n",
       "    }\n",
       "</style>\n",
       "<table border=\"1\" class=\"dataframe\">\n",
       "  <thead>\n",
       "    <tr style=\"text-align: right;\">\n",
       "      <th></th>\n",
       "      <th>listing_id</th>\n",
       "      <th>title</th>\n",
       "      <th>property_type</th>\n",
       "      <th>rooms</th>\n",
       "      <th>area_m2</th>\n",
       "      <th>price_kzt</th>\n",
       "      <th>city</th>\n",
       "      <th>district</th>\n",
       "      <th>photos_count</th>\n",
       "      <th>published_at</th>\n",
       "      <th>url</th>\n",
       "      <th>scraped_at</th>\n",
       "    </tr>\n",
       "  </thead>\n",
       "  <tbody>\n",
       "    <tr>\n",
       "      <th>0</th>\n",
       "      <td>1002131078</td>\n",
       "      <td>2-комнатная квартира  72 м²  36 этаж, Жалайыр</td>\n",
       "      <td>Недвижимость</td>\n",
       "      <td>2.0</td>\n",
       "      <td>72.0</td>\n",
       "      <td>36500000.0</td>\n",
       "      <td>Недвижимость В Алматы</td>\n",
       "      <td>Алатауский р-н</td>\n",
       "      <td>0</td>\n",
       "      <td>2025-05-31T00:00:00</td>\n",
       "      <td>https://krisha.kz/a/show/1002131078?srchid=019...</td>\n",
       "      <td>2025-05-31T01:37:44.320585</td>\n",
       "    </tr>\n",
       "    <tr>\n",
       "      <th>1</th>\n",
       "      <td>1002131029</td>\n",
       "      <td>3-комнатная квартира  87.5 м²  416 этаж, Егизб...</td>\n",
       "      <td>Недвижимость</td>\n",
       "      <td>3.0</td>\n",
       "      <td>87.5</td>\n",
       "      <td>68000000.0</td>\n",
       "      <td>Недвижимость В Алматы</td>\n",
       "      <td>Бостандыкский р-н</td>\n",
       "      <td>0</td>\n",
       "      <td>2025-05-31T00:00:00</td>\n",
       "      <td>https://krisha.kz/a/show/1002131029?srchid=019...</td>\n",
       "      <td>2025-05-31T01:37:47.650520</td>\n",
       "    </tr>\n",
       "    <tr>\n",
       "      <th>2</th>\n",
       "      <td>1002130797</td>\n",
       "      <td>3-комнатная квартира  120 м²  12 этаж, мкр Баг...</td>\n",
       "      <td>Недвижимость</td>\n",
       "      <td>3.0</td>\n",
       "      <td>120.0</td>\n",
       "      <td>97000000.0</td>\n",
       "      <td>Недвижимость В Алматы</td>\n",
       "      <td>Бостандыкский р-н</td>\n",
       "      <td>0</td>\n",
       "      <td>2025-05-31T00:00:00</td>\n",
       "      <td>https://krisha.kz/a/show/1002130797?srchid=019...</td>\n",
       "      <td>2025-05-31T01:37:52.281674</td>\n",
       "    </tr>\n",
       "    <tr>\n",
       "      <th>3</th>\n",
       "      <td>761492867</td>\n",
       "      <td>3-комнатная квартира  152.6 м²  44 этаж, Омаро...</td>\n",
       "      <td>Недвижимость</td>\n",
       "      <td>3.0</td>\n",
       "      <td>152.6</td>\n",
       "      <td>84000000.0</td>\n",
       "      <td>Недвижимость В Алматы</td>\n",
       "      <td>Медеуский р-н</td>\n",
       "      <td>0</td>\n",
       "      <td>2025-05-31T00:00:00</td>\n",
       "      <td>https://krisha.kz/a/show/761492867?srchid=0197...</td>\n",
       "      <td>2025-05-31T01:37:55.678862</td>\n",
       "    </tr>\n",
       "    <tr>\n",
       "      <th>4</th>\n",
       "      <td>1001548773</td>\n",
       "      <td>4-комнатная квартира  200 м²  46 этаж, Тимиряз...</td>\n",
       "      <td>Недвижимость</td>\n",
       "      <td>4.0</td>\n",
       "      <td>200.0</td>\n",
       "      <td>240000000.0</td>\n",
       "      <td>Недвижимость В Алматы</td>\n",
       "      <td>Бостандыкский р-н</td>\n",
       "      <td>0</td>\n",
       "      <td>2025-05-31T00:00:00</td>\n",
       "      <td>https://krisha.kz/a/show/1001548773?srchid=019...</td>\n",
       "      <td>2025-05-31T01:37:59.069880</td>\n",
       "    </tr>\n",
       "  </tbody>\n",
       "</table>\n",
       "</div>"
      ],
      "text/plain": [
       "   listing_id                                              title  \\\n",
       "0  1002131078      2-комнатная квартира  72 м²  36 этаж, Жалайыр   \n",
       "1  1002131029  3-комнатная квартира  87.5 м²  416 этаж, Егизб...   \n",
       "2  1002130797  3-комнатная квартира  120 м²  12 этаж, мкр Баг...   \n",
       "3   761492867  3-комнатная квартира  152.6 м²  44 этаж, Омаро...   \n",
       "4  1001548773  4-комнатная квартира  200 м²  46 этаж, Тимиряз...   \n",
       "\n",
       "  property_type  rooms  area_m2    price_kzt                   city  \\\n",
       "0  Недвижимость    2.0     72.0   36500000.0  Недвижимость В Алматы   \n",
       "1  Недвижимость    3.0     87.5   68000000.0  Недвижимость В Алматы   \n",
       "2  Недвижимость    3.0    120.0   97000000.0  Недвижимость В Алматы   \n",
       "3  Недвижимость    3.0    152.6   84000000.0  Недвижимость В Алматы   \n",
       "4  Недвижимость    4.0    200.0  240000000.0  Недвижимость В Алматы   \n",
       "\n",
       "            district  photos_count         published_at  \\\n",
       "0     Алатауский р-н             0  2025-05-31T00:00:00   \n",
       "1  Бостандыкский р-н             0  2025-05-31T00:00:00   \n",
       "2  Бостандыкский р-н             0  2025-05-31T00:00:00   \n",
       "3      Медеуский р-н             0  2025-05-31T00:00:00   \n",
       "4  Бостандыкский р-н             0  2025-05-31T00:00:00   \n",
       "\n",
       "                                                 url  \\\n",
       "0  https://krisha.kz/a/show/1002131078?srchid=019...   \n",
       "1  https://krisha.kz/a/show/1002131029?srchid=019...   \n",
       "2  https://krisha.kz/a/show/1002130797?srchid=019...   \n",
       "3  https://krisha.kz/a/show/761492867?srchid=0197...   \n",
       "4  https://krisha.kz/a/show/1001548773?srchid=019...   \n",
       "\n",
       "                   scraped_at  \n",
       "0  2025-05-31T01:37:44.320585  \n",
       "1  2025-05-31T01:37:47.650520  \n",
       "2  2025-05-31T01:37:52.281674  \n",
       "3  2025-05-31T01:37:55.678862  \n",
       "4  2025-05-31T01:37:59.069880  "
      ]
     },
     "execution_count": 166,
     "metadata": {},
     "output_type": "execute_result"
    }
   ],
   "source": [
    "df.head() "
   ]
  },
  {
   "cell_type": "code",
   "execution_count": 168,
   "id": "549c409e-1caa-4f2c-9cd7-5f3458db6471",
   "metadata": {},
   "outputs": [
    {
     "data": {
      "text/plain": [
       "Index(['listing_id', 'title', 'property_type', 'rooms', 'area_m2', 'price_kzt',\n",
       "       'city', 'district', 'photos_count', 'published_at', 'url',\n",
       "       'scraped_at'],\n",
       "      dtype='object')"
      ]
     },
     "execution_count": 168,
     "metadata": {},
     "output_type": "execute_result"
    }
   ],
   "source": [
    "df.columns"
   ]
  },
  {
   "cell_type": "code",
   "execution_count": 170,
   "id": "302bf105-3b1d-436b-97f5-ff0cfe80c293",
   "metadata": {},
   "outputs": [
    {
     "name": "stdout",
     "output_type": "stream",
     "text": [
      "<class 'pandas.core.frame.DataFrame'>\n",
      "RangeIndex: 623 entries, 0 to 622\n",
      "Data columns (total 12 columns):\n",
      " #   Column         Non-Null Count  Dtype  \n",
      "---  ------         --------------  -----  \n",
      " 0   listing_id     623 non-null    int64  \n",
      " 1   title          623 non-null    object \n",
      " 2   property_type  623 non-null    object \n",
      " 3   rooms          580 non-null    float64\n",
      " 4   area_m2        622 non-null    float64\n",
      " 5   price_kzt      623 non-null    float64\n",
      " 6   city           623 non-null    object \n",
      " 7   district       601 non-null    object \n",
      " 8   photos_count   623 non-null    int64  \n",
      " 9   published_at   623 non-null    object \n",
      " 10  url            623 non-null    object \n",
      " 11  scraped_at     623 non-null    object \n",
      "dtypes: float64(3), int64(2), object(7)\n",
      "memory usage: 58.5+ KB\n"
     ]
    }
   ],
   "source": [
    "df.info()"
   ]
  },
  {
   "cell_type": "code",
   "execution_count": 172,
   "id": "bcc3fdcd-3b7f-493f-b4e0-dfe7cf4f201c",
   "metadata": {},
   "outputs": [
    {
     "data": {
      "text/html": [
       "<div>\n",
       "<style scoped>\n",
       "    .dataframe tbody tr th:only-of-type {\n",
       "        vertical-align: middle;\n",
       "    }\n",
       "\n",
       "    .dataframe tbody tr th {\n",
       "        vertical-align: top;\n",
       "    }\n",
       "\n",
       "    .dataframe thead th {\n",
       "        text-align: right;\n",
       "    }\n",
       "</style>\n",
       "<table border=\"1\" class=\"dataframe\">\n",
       "  <thead>\n",
       "    <tr style=\"text-align: right;\">\n",
       "      <th></th>\n",
       "      <th>listing_id</th>\n",
       "      <th>rooms</th>\n",
       "      <th>area_m2</th>\n",
       "      <th>price_kzt</th>\n",
       "      <th>photos_count</th>\n",
       "    </tr>\n",
       "  </thead>\n",
       "  <tbody>\n",
       "    <tr>\n",
       "      <th>count</th>\n",
       "      <td>6.230000e+02</td>\n",
       "      <td>580.000000</td>\n",
       "      <td>622.000000</td>\n",
       "      <td>6.230000e+02</td>\n",
       "      <td>623.0</td>\n",
       "    </tr>\n",
       "    <tr>\n",
       "      <th>mean</th>\n",
       "      <td>8.923536e+08</td>\n",
       "      <td>2.396552</td>\n",
       "      <td>96.485418</td>\n",
       "      <td>7.000181e+07</td>\n",
       "      <td>0.0</td>\n",
       "    </tr>\n",
       "    <tr>\n",
       "      <th>std</th>\n",
       "      <td>1.406652e+08</td>\n",
       "      <td>1.068301</td>\n",
       "      <td>132.548779</td>\n",
       "      <td>7.867002e+07</td>\n",
       "      <td>0.0</td>\n",
       "    </tr>\n",
       "    <tr>\n",
       "      <th>min</th>\n",
       "      <td>6.676849e+08</td>\n",
       "      <td>1.000000</td>\n",
       "      <td>2.400000</td>\n",
       "      <td>5.000000e+05</td>\n",
       "      <td>0.0</td>\n",
       "    </tr>\n",
       "    <tr>\n",
       "      <th>25%</th>\n",
       "      <td>7.601398e+08</td>\n",
       "      <td>2.000000</td>\n",
       "      <td>47.600000</td>\n",
       "      <td>2.950000e+07</td>\n",
       "      <td>0.0</td>\n",
       "    </tr>\n",
       "    <tr>\n",
       "      <th>50%</th>\n",
       "      <td>1.001013e+09</td>\n",
       "      <td>2.000000</td>\n",
       "      <td>68.550000</td>\n",
       "      <td>4.200000e+07</td>\n",
       "      <td>0.0</td>\n",
       "    </tr>\n",
       "    <tr>\n",
       "      <th>75%</th>\n",
       "      <td>1.001828e+09</td>\n",
       "      <td>3.000000</td>\n",
       "      <td>103.217500</td>\n",
       "      <td>8.450000e+07</td>\n",
       "      <td>0.0</td>\n",
       "    </tr>\n",
       "    <tr>\n",
       "      <th>max</th>\n",
       "      <td>1.002131e+09</td>\n",
       "      <td>6.000000</td>\n",
       "      <td>2160.000000</td>\n",
       "      <td>7.500000e+08</td>\n",
       "      <td>0.0</td>\n",
       "    </tr>\n",
       "  </tbody>\n",
       "</table>\n",
       "</div>"
      ],
      "text/plain": [
       "         listing_id       rooms      area_m2     price_kzt  photos_count\n",
       "count  6.230000e+02  580.000000   622.000000  6.230000e+02         623.0\n",
       "mean   8.923536e+08    2.396552    96.485418  7.000181e+07           0.0\n",
       "std    1.406652e+08    1.068301   132.548779  7.867002e+07           0.0\n",
       "min    6.676849e+08    1.000000     2.400000  5.000000e+05           0.0\n",
       "25%    7.601398e+08    2.000000    47.600000  2.950000e+07           0.0\n",
       "50%    1.001013e+09    2.000000    68.550000  4.200000e+07           0.0\n",
       "75%    1.001828e+09    3.000000   103.217500  8.450000e+07           0.0\n",
       "max    1.002131e+09    6.000000  2160.000000  7.500000e+08           0.0"
      ]
     },
     "execution_count": 172,
     "metadata": {},
     "output_type": "execute_result"
    }
   ],
   "source": [
    "df.describe()"
   ]
  },
  {
   "cell_type": "markdown",
   "id": "e243be37-d4fd-49e8-9741-10d5252e5597",
   "metadata": {},
   "source": [
    "### 1. Подготовка и очистка данных (data cleaning)"
   ]
  },
  {
   "cell_type": "code",
   "execution_count": 155,
   "id": "8bc527a1-cc02-4647-9fad-fea769f2446d",
   "metadata": {},
   "outputs": [
    {
     "data": {
      "text/plain": [
       "rooms            0.069021\n",
       "district         0.035313\n",
       "area_m2          0.001605\n",
       "listing_id       0.000000\n",
       "title            0.000000\n",
       "property_type    0.000000\n",
       "price_kzt        0.000000\n",
       "city             0.000000\n",
       "photos_count     0.000000\n",
       "published_at     0.000000\n",
       "url              0.000000\n",
       "scraped_at       0.000000\n",
       "dtype: float64"
      ]
     },
     "execution_count": 155,
     "metadata": {},
     "output_type": "execute_result"
    }
   ],
   "source": [
    "df.isna().mean().sort_values(ascending = False)"
   ]
  },
  {
   "cell_type": "code",
   "execution_count": 215,
   "id": "6ee37d79-1fc7-453a-8067-c03a3f3d2742",
   "metadata": {},
   "outputs": [],
   "source": [
    "df = df.dropna(subset=['area_m2', 'rooms'])\n",
    "df = df[(df['price_kzt'] != 0) & (df['area_m2'] != 0) & (df['rooms'] != 0)]"
   ]
  },
  {
   "cell_type": "code",
   "execution_count": 217,
   "id": "85d66110-4426-49cb-9abd-121e37d3e7b5",
   "metadata": {},
   "outputs": [
    {
     "data": {
      "text/plain": [
       "district         0.02931\n",
       "listing_id       0.00000\n",
       "title            0.00000\n",
       "property_type    0.00000\n",
       "rooms            0.00000\n",
       "area_m2          0.00000\n",
       "price_kzt        0.00000\n",
       "city             0.00000\n",
       "photos_count     0.00000\n",
       "published_at     0.00000\n",
       "url              0.00000\n",
       "scraped_at       0.00000\n",
       "dtype: float64"
      ]
     },
     "execution_count": 217,
     "metadata": {},
     "output_type": "execute_result"
    }
   ],
   "source": [
    "df.isna().mean().sort_values(ascending = False)"
   ]
  },
  {
   "cell_type": "markdown",
   "id": "91288622-4525-41fc-8151-a29ad783df67",
   "metadata": {},
   "source": [
    "####  Преобразовать"
   ]
  },
  {
   "cell_type": "code",
   "execution_count": 222,
   "id": "54476cd0-e73a-45a5-bf45-46344d9a7b5b",
   "metadata": {},
   "outputs": [],
   "source": [
    "df = df.rename(columns={'published_at': 'datetime'})"
   ]
  },
  {
   "cell_type": "code",
   "execution_count": 228,
   "id": "a36f3a3f-577d-4be1-a031-09eaae132bdd",
   "metadata": {},
   "outputs": [
    {
     "data": {
      "text/plain": [
       "Index(['listing_id', 'title', 'property_type', 'rooms', 'area_m2', 'price_kzt',\n",
       "       'city', 'district', 'photos_count', 'datetime', 'url', 'scraped_at'],\n",
       "      dtype='object')"
      ]
     },
     "execution_count": 228,
     "metadata": {},
     "output_type": "execute_result"
    }
   ],
   "source": [
    "df.columns"
   ]
  },
  {
   "cell_type": "code",
   "execution_count": 230,
   "id": "64bcacac-06a2-414e-8a5b-14bd5b4bfb61",
   "metadata": {},
   "outputs": [
    {
     "data": {
      "text/plain": [
       "0           Алатауский р-н\n",
       "1        Бостандыкский р-н\n",
       "2        Бостандыкский р-н\n",
       "3            Медеуский р-н\n",
       "4        Бостандыкский р-н\n",
       "              ...         \n",
       "575              Туран р-н\n",
       "576    Аль-Фарабийский р-н\n",
       "577        Каратауский р-н\n",
       "578        Каратауский р-н\n",
       "579        Каратауский р-н\n",
       "Name: district, Length: 580, dtype: object"
      ]
     },
     "execution_count": 230,
     "metadata": {},
     "output_type": "execute_result"
    }
   ],
   "source": [
    "df['district']"
   ]
  },
  {
   "cell_type": "code",
   "execution_count": null,
   "id": "0ec675db-872d-4c67-b833-251a8c4f8838",
   "metadata": {},
   "outputs": [],
   "source": []
  }
 ],
 "metadata": {
  "kernelspec": {
   "display_name": "Python [conda env:base] *",
   "language": "python",
   "name": "conda-base-py"
  },
  "language_info": {
   "codemirror_mode": {
    "name": "ipython",
    "version": 3
   },
   "file_extension": ".py",
   "mimetype": "text/x-python",
   "name": "python",
   "nbconvert_exporter": "python",
   "pygments_lexer": "ipython3",
   "version": "3.12.7"
  }
 },
 "nbformat": 4,
 "nbformat_minor": 5
}
