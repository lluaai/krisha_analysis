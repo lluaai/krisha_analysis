{
 "cells": [
  {
   "cell_type": "code",
   "execution_count": 879,
   "id": "a9ede646-1d19-4adf-85ba-8051d6fac63f",
   "metadata": {},
   "outputs": [],
   "source": [
    "import pandas as pd\n",
    "import matplotlib.pyplot as plt\n",
    "import plotly.express as px\n",
    "import seaborn as sns\n",
    "\n",
    "df = pd.read_csv('Krisha_data.csv')"
   ]
  },
  {
   "cell_type": "markdown",
   "id": "1615d54f-9bf3-41b3-8811-48c2aa18afdc",
   "metadata": {},
   "source": [
    "## Знакомство с нашими данными"
   ]
  },
  {
   "cell_type": "code",
   "execution_count": 804,
   "id": "f776d06f-4f6e-42b5-af2f-1c74c98e5a28",
   "metadata": {},
   "outputs": [
    {
     "data": {
      "text/html": [
       "<div>\n",
       "<style scoped>\n",
       "    .dataframe tbody tr th:only-of-type {\n",
       "        vertical-align: middle;\n",
       "    }\n",
       "\n",
       "    .dataframe tbody tr th {\n",
       "        vertical-align: top;\n",
       "    }\n",
       "\n",
       "    .dataframe thead th {\n",
       "        text-align: right;\n",
       "    }\n",
       "</style>\n",
       "<table border=\"1\" class=\"dataframe\">\n",
       "  <thead>\n",
       "    <tr style=\"text-align: right;\">\n",
       "      <th></th>\n",
       "      <th>listing_id</th>\n",
       "      <th>title</th>\n",
       "      <th>property_type</th>\n",
       "      <th>rooms</th>\n",
       "      <th>area_m2</th>\n",
       "      <th>price_kzt</th>\n",
       "      <th>city</th>\n",
       "      <th>district</th>\n",
       "      <th>photos_count</th>\n",
       "      <th>published_at</th>\n",
       "      <th>url</th>\n",
       "      <th>scraped_at</th>\n",
       "    </tr>\n",
       "  </thead>\n",
       "  <tbody>\n",
       "    <tr>\n",
       "      <th>0</th>\n",
       "      <td>1002131078</td>\n",
       "      <td>2-комнатная квартира  72 м²  36 этаж, Жалайыр</td>\n",
       "      <td>Недвижимость</td>\n",
       "      <td>2.0</td>\n",
       "      <td>72.0</td>\n",
       "      <td>36500000.0</td>\n",
       "      <td>Недвижимость В Алматы</td>\n",
       "      <td>Алатауский р-н</td>\n",
       "      <td>0</td>\n",
       "      <td>2025-05-31T00:00:00</td>\n",
       "      <td>https://krisha.kz/a/show/1002131078?srchid=019...</td>\n",
       "      <td>2025-05-31T01:37:44.320585</td>\n",
       "    </tr>\n",
       "    <tr>\n",
       "      <th>1</th>\n",
       "      <td>1002131029</td>\n",
       "      <td>3-комнатная квартира  87.5 м²  416 этаж, Егизб...</td>\n",
       "      <td>Недвижимость</td>\n",
       "      <td>3.0</td>\n",
       "      <td>87.5</td>\n",
       "      <td>68000000.0</td>\n",
       "      <td>Недвижимость В Алматы</td>\n",
       "      <td>Бостандыкский р-н</td>\n",
       "      <td>0</td>\n",
       "      <td>2025-05-31T00:00:00</td>\n",
       "      <td>https://krisha.kz/a/show/1002131029?srchid=019...</td>\n",
       "      <td>2025-05-31T01:37:47.650520</td>\n",
       "    </tr>\n",
       "    <tr>\n",
       "      <th>2</th>\n",
       "      <td>1002130797</td>\n",
       "      <td>3-комнатная квартира  120 м²  12 этаж, мкр Баг...</td>\n",
       "      <td>Недвижимость</td>\n",
       "      <td>3.0</td>\n",
       "      <td>120.0</td>\n",
       "      <td>97000000.0</td>\n",
       "      <td>Недвижимость В Алматы</td>\n",
       "      <td>Бостандыкский р-н</td>\n",
       "      <td>0</td>\n",
       "      <td>2025-05-31T00:00:00</td>\n",
       "      <td>https://krisha.kz/a/show/1002130797?srchid=019...</td>\n",
       "      <td>2025-05-31T01:37:52.281674</td>\n",
       "    </tr>\n",
       "    <tr>\n",
       "      <th>3</th>\n",
       "      <td>761492867</td>\n",
       "      <td>3-комнатная квартира  152.6 м²  44 этаж, Омаро...</td>\n",
       "      <td>Недвижимость</td>\n",
       "      <td>3.0</td>\n",
       "      <td>152.6</td>\n",
       "      <td>84000000.0</td>\n",
       "      <td>Недвижимость В Алматы</td>\n",
       "      <td>Медеуский р-н</td>\n",
       "      <td>0</td>\n",
       "      <td>2025-05-31T00:00:00</td>\n",
       "      <td>https://krisha.kz/a/show/761492867?srchid=0197...</td>\n",
       "      <td>2025-05-31T01:37:55.678862</td>\n",
       "    </tr>\n",
       "    <tr>\n",
       "      <th>4</th>\n",
       "      <td>1001548773</td>\n",
       "      <td>4-комнатная квартира  200 м²  46 этаж, Тимиряз...</td>\n",
       "      <td>Недвижимость</td>\n",
       "      <td>4.0</td>\n",
       "      <td>200.0</td>\n",
       "      <td>240000000.0</td>\n",
       "      <td>Недвижимость В Алматы</td>\n",
       "      <td>Бостандыкский р-н</td>\n",
       "      <td>0</td>\n",
       "      <td>2025-05-31T00:00:00</td>\n",
       "      <td>https://krisha.kz/a/show/1001548773?srchid=019...</td>\n",
       "      <td>2025-05-31T01:37:59.069880</td>\n",
       "    </tr>\n",
       "  </tbody>\n",
       "</table>\n",
       "</div>"
      ],
      "text/plain": [
       "   listing_id                                              title  \\\n",
       "0  1002131078      2-комнатная квартира  72 м²  36 этаж, Жалайыр   \n",
       "1  1002131029  3-комнатная квартира  87.5 м²  416 этаж, Егизб...   \n",
       "2  1002130797  3-комнатная квартира  120 м²  12 этаж, мкр Баг...   \n",
       "3   761492867  3-комнатная квартира  152.6 м²  44 этаж, Омаро...   \n",
       "4  1001548773  4-комнатная квартира  200 м²  46 этаж, Тимиряз...   \n",
       "\n",
       "  property_type  rooms  area_m2    price_kzt                   city  \\\n",
       "0  Недвижимость    2.0     72.0   36500000.0  Недвижимость В Алматы   \n",
       "1  Недвижимость    3.0     87.5   68000000.0  Недвижимость В Алматы   \n",
       "2  Недвижимость    3.0    120.0   97000000.0  Недвижимость В Алматы   \n",
       "3  Недвижимость    3.0    152.6   84000000.0  Недвижимость В Алматы   \n",
       "4  Недвижимость    4.0    200.0  240000000.0  Недвижимость В Алматы   \n",
       "\n",
       "            district  photos_count         published_at  \\\n",
       "0     Алатауский р-н             0  2025-05-31T00:00:00   \n",
       "1  Бостандыкский р-н             0  2025-05-31T00:00:00   \n",
       "2  Бостандыкский р-н             0  2025-05-31T00:00:00   \n",
       "3      Медеуский р-н             0  2025-05-31T00:00:00   \n",
       "4  Бостандыкский р-н             0  2025-05-31T00:00:00   \n",
       "\n",
       "                                                 url  \\\n",
       "0  https://krisha.kz/a/show/1002131078?srchid=019...   \n",
       "1  https://krisha.kz/a/show/1002131029?srchid=019...   \n",
       "2  https://krisha.kz/a/show/1002130797?srchid=019...   \n",
       "3  https://krisha.kz/a/show/761492867?srchid=0197...   \n",
       "4  https://krisha.kz/a/show/1001548773?srchid=019...   \n",
       "\n",
       "                   scraped_at  \n",
       "0  2025-05-31T01:37:44.320585  \n",
       "1  2025-05-31T01:37:47.650520  \n",
       "2  2025-05-31T01:37:52.281674  \n",
       "3  2025-05-31T01:37:55.678862  \n",
       "4  2025-05-31T01:37:59.069880  "
      ]
     },
     "execution_count": 804,
     "metadata": {},
     "output_type": "execute_result"
    }
   ],
   "source": [
    "df.head() "
   ]
  },
  {
   "cell_type": "code",
   "execution_count": 806,
   "id": "549c409e-1caa-4f2c-9cd7-5f3458db6471",
   "metadata": {},
   "outputs": [
    {
     "data": {
      "text/plain": [
       "Index(['listing_id', 'title', 'property_type', 'rooms', 'area_m2', 'price_kzt',\n",
       "       'city', 'district', 'photos_count', 'published_at', 'url',\n",
       "       'scraped_at'],\n",
       "      dtype='object')"
      ]
     },
     "execution_count": 806,
     "metadata": {},
     "output_type": "execute_result"
    }
   ],
   "source": [
    "df.columns"
   ]
  },
  {
   "cell_type": "code",
   "execution_count": 808,
   "id": "302bf105-3b1d-436b-97f5-ff0cfe80c293",
   "metadata": {},
   "outputs": [
    {
     "name": "stdout",
     "output_type": "stream",
     "text": [
      "<class 'pandas.core.frame.DataFrame'>\n",
      "RangeIndex: 623 entries, 0 to 622\n",
      "Data columns (total 12 columns):\n",
      " #   Column         Non-Null Count  Dtype  \n",
      "---  ------         --------------  -----  \n",
      " 0   listing_id     623 non-null    int64  \n",
      " 1   title          623 non-null    object \n",
      " 2   property_type  623 non-null    object \n",
      " 3   rooms          580 non-null    float64\n",
      " 4   area_m2        622 non-null    float64\n",
      " 5   price_kzt      623 non-null    float64\n",
      " 6   city           623 non-null    object \n",
      " 7   district       601 non-null    object \n",
      " 8   photos_count   623 non-null    int64  \n",
      " 9   published_at   623 non-null    object \n",
      " 10  url            623 non-null    object \n",
      " 11  scraped_at     623 non-null    object \n",
      "dtypes: float64(3), int64(2), object(7)\n",
      "memory usage: 58.5+ KB\n"
     ]
    }
   ],
   "source": [
    "df.info()"
   ]
  },
  {
   "cell_type": "code",
   "execution_count": 810,
   "id": "bcc3fdcd-3b7f-493f-b4e0-dfe7cf4f201c",
   "metadata": {},
   "outputs": [
    {
     "data": {
      "text/html": [
       "<div>\n",
       "<style scoped>\n",
       "    .dataframe tbody tr th:only-of-type {\n",
       "        vertical-align: middle;\n",
       "    }\n",
       "\n",
       "    .dataframe tbody tr th {\n",
       "        vertical-align: top;\n",
       "    }\n",
       "\n",
       "    .dataframe thead th {\n",
       "        text-align: right;\n",
       "    }\n",
       "</style>\n",
       "<table border=\"1\" class=\"dataframe\">\n",
       "  <thead>\n",
       "    <tr style=\"text-align: right;\">\n",
       "      <th></th>\n",
       "      <th>listing_id</th>\n",
       "      <th>rooms</th>\n",
       "      <th>area_m2</th>\n",
       "      <th>price_kzt</th>\n",
       "      <th>photos_count</th>\n",
       "    </tr>\n",
       "  </thead>\n",
       "  <tbody>\n",
       "    <tr>\n",
       "      <th>count</th>\n",
       "      <td>6.230000e+02</td>\n",
       "      <td>580.000000</td>\n",
       "      <td>622.000000</td>\n",
       "      <td>6.230000e+02</td>\n",
       "      <td>623.0</td>\n",
       "    </tr>\n",
       "    <tr>\n",
       "      <th>mean</th>\n",
       "      <td>8.923536e+08</td>\n",
       "      <td>2.396552</td>\n",
       "      <td>96.485418</td>\n",
       "      <td>7.000181e+07</td>\n",
       "      <td>0.0</td>\n",
       "    </tr>\n",
       "    <tr>\n",
       "      <th>std</th>\n",
       "      <td>1.406652e+08</td>\n",
       "      <td>1.068301</td>\n",
       "      <td>132.548779</td>\n",
       "      <td>7.867002e+07</td>\n",
       "      <td>0.0</td>\n",
       "    </tr>\n",
       "    <tr>\n",
       "      <th>min</th>\n",
       "      <td>6.676849e+08</td>\n",
       "      <td>1.000000</td>\n",
       "      <td>2.400000</td>\n",
       "      <td>5.000000e+05</td>\n",
       "      <td>0.0</td>\n",
       "    </tr>\n",
       "    <tr>\n",
       "      <th>25%</th>\n",
       "      <td>7.601398e+08</td>\n",
       "      <td>2.000000</td>\n",
       "      <td>47.600000</td>\n",
       "      <td>2.950000e+07</td>\n",
       "      <td>0.0</td>\n",
       "    </tr>\n",
       "    <tr>\n",
       "      <th>50%</th>\n",
       "      <td>1.001013e+09</td>\n",
       "      <td>2.000000</td>\n",
       "      <td>68.550000</td>\n",
       "      <td>4.200000e+07</td>\n",
       "      <td>0.0</td>\n",
       "    </tr>\n",
       "    <tr>\n",
       "      <th>75%</th>\n",
       "      <td>1.001828e+09</td>\n",
       "      <td>3.000000</td>\n",
       "      <td>103.217500</td>\n",
       "      <td>8.450000e+07</td>\n",
       "      <td>0.0</td>\n",
       "    </tr>\n",
       "    <tr>\n",
       "      <th>max</th>\n",
       "      <td>1.002131e+09</td>\n",
       "      <td>6.000000</td>\n",
       "      <td>2160.000000</td>\n",
       "      <td>7.500000e+08</td>\n",
       "      <td>0.0</td>\n",
       "    </tr>\n",
       "  </tbody>\n",
       "</table>\n",
       "</div>"
      ],
      "text/plain": [
       "         listing_id       rooms      area_m2     price_kzt  photos_count\n",
       "count  6.230000e+02  580.000000   622.000000  6.230000e+02         623.0\n",
       "mean   8.923536e+08    2.396552    96.485418  7.000181e+07           0.0\n",
       "std    1.406652e+08    1.068301   132.548779  7.867002e+07           0.0\n",
       "min    6.676849e+08    1.000000     2.400000  5.000000e+05           0.0\n",
       "25%    7.601398e+08    2.000000    47.600000  2.950000e+07           0.0\n",
       "50%    1.001013e+09    2.000000    68.550000  4.200000e+07           0.0\n",
       "75%    1.001828e+09    3.000000   103.217500  8.450000e+07           0.0\n",
       "max    1.002131e+09    6.000000  2160.000000  7.500000e+08           0.0"
      ]
     },
     "execution_count": 810,
     "metadata": {},
     "output_type": "execute_result"
    }
   ],
   "source": [
    "df.describe()"
   ]
  },
  {
   "cell_type": "markdown",
   "id": "e243be37-d4fd-49e8-9741-10d5252e5597",
   "metadata": {},
   "source": [
    "## 1. Подготовка и очистка данных (data cleaning)"
   ]
  },
  {
   "cell_type": "code",
   "execution_count": 813,
   "id": "8bc527a1-cc02-4647-9fad-fea769f2446d",
   "metadata": {},
   "outputs": [
    {
     "data": {
      "text/plain": [
       "rooms            0.069021\n",
       "district         0.035313\n",
       "area_m2          0.001605\n",
       "listing_id       0.000000\n",
       "title            0.000000\n",
       "property_type    0.000000\n",
       "price_kzt        0.000000\n",
       "city             0.000000\n",
       "photos_count     0.000000\n",
       "published_at     0.000000\n",
       "url              0.000000\n",
       "scraped_at       0.000000\n",
       "dtype: float64"
      ]
     },
     "execution_count": 813,
     "metadata": {},
     "output_type": "execute_result"
    }
   ],
   "source": [
    "df.isna().mean().sort_values(ascending = False)"
   ]
  },
  {
   "cell_type": "code",
   "execution_count": 913,
   "id": "6ee37d79-1fc7-453a-8067-c03a3f3d2742",
   "metadata": {},
   "outputs": [],
   "source": [
    "df['rooms'] = pd.to_numeric(df['rooms'], errors='coerce')\n",
    "df = df.dropna(subset=['price_kzt','area_m2', 'rooms'])\n",
    "df = df[(df['price_kzt'] != 0) & (df['area_m2'] != 0) & (df['rooms'] != 0)]"
   ]
  },
  {
   "cell_type": "code",
   "execution_count": 817,
   "id": "85d66110-4426-49cb-9abd-121e37d3e7b5",
   "metadata": {},
   "outputs": [
    {
     "data": {
      "text/plain": [
       "district         0.02931\n",
       "listing_id       0.00000\n",
       "title            0.00000\n",
       "property_type    0.00000\n",
       "rooms            0.00000\n",
       "area_m2          0.00000\n",
       "price_kzt        0.00000\n",
       "city             0.00000\n",
       "photos_count     0.00000\n",
       "published_at     0.00000\n",
       "url              0.00000\n",
       "scraped_at       0.00000\n",
       "dtype: float64"
      ]
     },
     "execution_count": 817,
     "metadata": {},
     "output_type": "execute_result"
    }
   ],
   "source": [
    "df.isna().mean().sort_values(ascending = False)"
   ]
  },
  {
   "cell_type": "markdown",
   "id": "91288622-4525-41fc-8151-a29ad783df67",
   "metadata": {},
   "source": [
    "####  Преобразовать"
   ]
  },
  {
   "cell_type": "code",
   "execution_count": 820,
   "id": "54476cd0-e73a-45a5-bf45-46344d9a7b5b",
   "metadata": {},
   "outputs": [],
   "source": [
    "df = df.rename(columns={'published_at': 'datetime'})\n",
    "# Приведение даты к нужному формату\n",
    "df['datetime'] = pd.to_datetime(df['datetime'])"
   ]
  },
  {
   "cell_type": "code",
   "execution_count": 822,
   "id": "a36f3a3f-577d-4be1-a031-09eaae132bdd",
   "metadata": {},
   "outputs": [
    {
     "data": {
      "text/plain": [
       "Index(['listing_id', 'title', 'property_type', 'rooms', 'area_m2', 'price_kzt',\n",
       "       'city', 'district', 'photos_count', 'datetime', 'url', 'scraped_at'],\n",
       "      dtype='object')"
      ]
     },
     "execution_count": 822,
     "metadata": {},
     "output_type": "execute_result"
    }
   ],
   "source": [
    "df.columns"
   ]
  },
  {
   "cell_type": "code",
   "execution_count": 824,
   "id": "11245447-a95d-4887-b646-133646361579",
   "metadata": {},
   "outputs": [],
   "source": [
    "df['district'] = df['district'].str.strip().str.lower().str.title()"
   ]
  },
  {
   "cell_type": "code",
   "execution_count": 826,
   "id": "6bb00274-ab12-4ed8-9594-e16c46cf44c3",
   "metadata": {},
   "outputs": [],
   "source": [
    "df['district'] = df['district'].apply(\n",
    "    lambda x: 'Байконур Р–Н' if x == 'Р-Н Байконур' else x\n",
    ")"
   ]
  },
  {
   "cell_type": "markdown",
   "id": "59eb7a32-cd67-455a-84d0-640713e84007",
   "metadata": {},
   "source": [
    "#### Добавляем новые поля"
   ]
  },
  {
   "cell_type": "code",
   "execution_count": 829,
   "id": "c7a7e949-5b78-4849-945c-215a1d43be00",
   "metadata": {},
   "outputs": [],
   "source": [
    "df['price_per_m'] = df['price_kzt'] / df['area_m2']\n",
    "df['price_per_m2'] = df['price_per_m'].apply(lambda x: f\"{int(x):,}\".replace(\",\", \" \"))"
   ]
  },
  {
   "cell_type": "code",
   "execution_count": 831,
   "id": "906c0b37-d471-4c2e-b914-68c771300a4b",
   "metadata": {},
   "outputs": [],
   "source": [
    "df['month_published'] = df['datetime'].dt.strftime('%B') # Добавляем новый столбец с месяцем"
   ]
  },
  {
   "cell_type": "code",
   "execution_count": 833,
   "id": "9ab35d79-ecd6-4c23-9f9d-443fe39ad293",
   "metadata": {},
   "outputs": [],
   "source": [
    "df['photo_flag'] = (df['photos_count'] > 0).astype(int)"
   ]
  },
  {
   "cell_type": "markdown",
   "id": "27ff9e4b-5944-491e-ac56-ee6aa413e031",
   "metadata": {},
   "source": [
    "## 2. Исследовательский анализ данных (EDA)"
   ]
  },
  {
   "cell_type": "markdown",
   "id": "04f42a2c-5f8a-47fc-8bd5-ec6c477c9235",
   "metadata": {},
   "source": [
    "### Цель: понять, какие переменные влияют на цену"
   ]
  },
  {
   "cell_type": "code",
   "execution_count": 837,
   "id": "26831c51-afef-4371-95d3-709815c6e54d",
   "metadata": {},
   "outputs": [
    {
     "data": {
      "text/plain": [
       "district\n",
       "Бостандыкский Р-Н      107 889 444\n",
       "Медеуский Р-Н          131 740 928\n",
       "Енбекшинский Р-Н       135 000 000\n",
       "Алматинская Обл.        23 897 937\n",
       "Сарыарка Р-Н            24 268 200\n",
       "Турксибский Р-Н         25 120 840\n",
       "Туран Р-Н               26 019 270\n",
       "Жетысуский Р-Н          27 512 057\n",
       "Алатауский Р-Н          31 592 560\n",
       "Аль-Фарабийский Р-Н     34 131 672\n",
       "Абайский Р-Н            35 482 276\n",
       "Алматы Р-Н              35 485 400\n",
       "Байконур Р–Н            36 425 000\n",
       "Каратауский Р-Н         39 973 333\n",
       "Нура Р-Н                40 627 665\n",
       "Есильский Р-Н           43 864 092\n",
       "Ауэзовский Р-Н          46 646 428\n",
       "Наурызбайский Р-Н       49 099 078\n",
       "Алмалинский Р-Н         54 094 501\n",
       "Name: price_kzt, dtype: object"
      ]
     },
     "execution_count": 837,
     "metadata": {},
     "output_type": "execute_result"
    }
   ],
   "source": [
    "df.groupby('district')['price_kzt'].mean().apply(lambda x: f'{int(x):,}'.replace(',', ' ')).sort_values()"
   ]
  },
  {
   "cell_type": "code",
   "execution_count": 839,
   "id": "2decbf16-0769-4192-a44b-a5573c24c4af",
   "metadata": {},
   "outputs": [
    {
     "data": {
      "text/plain": [
       "rooms\n",
       "4.0    913244.342947\n",
       "5.0    844076.322737\n",
       "3.0    739623.874889\n",
       "2.0    684332.428826\n",
       "1.0    653857.770002\n",
       "6.0    550000.000000\n",
       "Name: price_per_m, dtype: float64"
      ]
     },
     "execution_count": 839,
     "metadata": {},
     "output_type": "execute_result"
    }
   ],
   "source": [
    "df.groupby('rooms')['price_per_m'].mean().sort_values(ascending = False)"
   ]
  },
  {
   "cell_type": "code",
   "execution_count": 887,
   "id": "b8622eb2-a9ab-48a8-b8b5-53bfa55380bd",
   "metadata": {},
   "outputs": [
    {
     "data": {
      "text/html": [
       "<div>\n",
       "<style scoped>\n",
       "    .dataframe tbody tr th:only-of-type {\n",
       "        vertical-align: middle;\n",
       "    }\n",
       "\n",
       "    .dataframe tbody tr th {\n",
       "        vertical-align: top;\n",
       "    }\n",
       "\n",
       "    .dataframe thead th {\n",
       "        text-align: right;\n",
       "    }\n",
       "</style>\n",
       "<table border=\"1\" class=\"dataframe\">\n",
       "  <thead>\n",
       "    <tr style=\"text-align: right;\">\n",
       "      <th></th>\n",
       "      <th>area_m2</th>\n",
       "      <th>price_kzt</th>\n",
       "    </tr>\n",
       "  </thead>\n",
       "  <tbody>\n",
       "    <tr>\n",
       "      <th>area_m2</th>\n",
       "      <td>1.000000</td>\n",
       "      <td>0.800288</td>\n",
       "    </tr>\n",
       "    <tr>\n",
       "      <th>price_kzt</th>\n",
       "      <td>0.800288</td>\n",
       "      <td>1.000000</td>\n",
       "    </tr>\n",
       "  </tbody>\n",
       "</table>\n",
       "</div>"
      ],
      "text/plain": [
       "            area_m2  price_kzt\n",
       "area_m2    1.000000   0.800288\n",
       "price_kzt  0.800288   1.000000"
      ]
     },
     "execution_count": 887,
     "metadata": {},
     "output_type": "execute_result"
    }
   ],
   "source": [
    "df_corr = df[['area_m2', 'price_kzt']].corr()\n",
    "df_corr"
   ]
  },
  {
   "cell_type": "markdown",
   "id": "394c932e-78a0-4bd4-bf98-30fa9a3020ab",
   "metadata": {},
   "source": [
    "#### Cамые дорогие и самые дешёвые квартиры"
   ]
  },
  {
   "cell_type": "code",
   "execution_count": 844,
   "id": "02ae43c9-9a1b-4ba8-a1b1-aaea28830d25",
   "metadata": {},
   "outputs": [
    {
     "data": {
      "text/html": [
       "<div>\n",
       "<style scoped>\n",
       "    .dataframe tbody tr th:only-of-type {\n",
       "        vertical-align: middle;\n",
       "    }\n",
       "\n",
       "    .dataframe tbody tr th {\n",
       "        vertical-align: top;\n",
       "    }\n",
       "\n",
       "    .dataframe thead th {\n",
       "        text-align: right;\n",
       "    }\n",
       "</style>\n",
       "<table border=\"1\" class=\"dataframe\">\n",
       "  <thead>\n",
       "    <tr style=\"text-align: right;\">\n",
       "      <th></th>\n",
       "      <th>listing_id</th>\n",
       "      <th>title</th>\n",
       "      <th>property_type</th>\n",
       "      <th>rooms</th>\n",
       "      <th>area_m2</th>\n",
       "      <th>price_kzt</th>\n",
       "      <th>city</th>\n",
       "      <th>district</th>\n",
       "      <th>photos_count</th>\n",
       "      <th>datetime</th>\n",
       "      <th>url</th>\n",
       "      <th>scraped_at</th>\n",
       "      <th>price_per_m</th>\n",
       "      <th>price_per_m2</th>\n",
       "      <th>month_published</th>\n",
       "      <th>photo_flag</th>\n",
       "    </tr>\n",
       "  </thead>\n",
       "  <tbody>\n",
       "    <tr>\n",
       "      <th>5</th>\n",
       "      <td>697475450</td>\n",
       "      <td>5-комнатная квартира  370 м²  17 этаж, Митина ...</td>\n",
       "      <td>Недвижимость</td>\n",
       "      <td>5.0</td>\n",
       "      <td>370.0</td>\n",
       "      <td>370000000.0</td>\n",
       "      <td>Недвижимость В Алматы</td>\n",
       "      <td>Медеуский Р-Н</td>\n",
       "      <td>0</td>\n",
       "      <td>2025-05-31</td>\n",
       "      <td>https://krisha.kz/a/show/697475450?srchid=0197...</td>\n",
       "      <td>2025-05-31T01:38:02.347335</td>\n",
       "      <td>1000000.0</td>\n",
       "      <td>1 000 000</td>\n",
       "      <td>May</td>\n",
       "      <td>0</td>\n",
       "    </tr>\n",
       "    <tr>\n",
       "      <th>125</th>\n",
       "      <td>697475450</td>\n",
       "      <td>5-комнатная квартира  370 м²  17 этаж, Митина ...</td>\n",
       "      <td>Недвижимость</td>\n",
       "      <td>5.0</td>\n",
       "      <td>370.0</td>\n",
       "      <td>370000000.0</td>\n",
       "      <td>Недвижимость В Алматы</td>\n",
       "      <td>Медеуский Р-Н</td>\n",
       "      <td>0</td>\n",
       "      <td>2025-05-31</td>\n",
       "      <td>https://krisha.kz/a/show/697475450?srchid=0197...</td>\n",
       "      <td>2025-05-31T01:38:02.347335</td>\n",
       "      <td>1000000.0</td>\n",
       "      <td>1 000 000</td>\n",
       "      <td>May</td>\n",
       "      <td>0</td>\n",
       "    </tr>\n",
       "    <tr>\n",
       "      <th>335</th>\n",
       "      <td>697475450</td>\n",
       "      <td>5-комнатная квартира  370 м²  17 этаж, Митина ...</td>\n",
       "      <td>Недвижимость</td>\n",
       "      <td>5.0</td>\n",
       "      <td>370.0</td>\n",
       "      <td>370000000.0</td>\n",
       "      <td>Недвижимость В Алматы</td>\n",
       "      <td>Медеуский Р-Н</td>\n",
       "      <td>0</td>\n",
       "      <td>2025-05-31</td>\n",
       "      <td>https://krisha.kz/a/show/697475450?srchid=0197...</td>\n",
       "      <td>2025-05-31T01:38:02.347335</td>\n",
       "      <td>1000000.0</td>\n",
       "      <td>1 000 000</td>\n",
       "      <td>May</td>\n",
       "      <td>0</td>\n",
       "    </tr>\n",
       "  </tbody>\n",
       "</table>\n",
       "</div>"
      ],
      "text/plain": [
       "     listing_id                                              title  \\\n",
       "5     697475450  5-комнатная квартира  370 м²  17 этаж, Митина ...   \n",
       "125   697475450  5-комнатная квартира  370 м²  17 этаж, Митина ...   \n",
       "335   697475450  5-комнатная квартира  370 м²  17 этаж, Митина ...   \n",
       "\n",
       "    property_type  rooms  area_m2    price_kzt                   city  \\\n",
       "5    Недвижимость    5.0    370.0  370000000.0  Недвижимость В Алматы   \n",
       "125  Недвижимость    5.0    370.0  370000000.0  Недвижимость В Алматы   \n",
       "335  Недвижимость    5.0    370.0  370000000.0  Недвижимость В Алматы   \n",
       "\n",
       "          district  photos_count   datetime  \\\n",
       "5    Медеуский Р-Н             0 2025-05-31   \n",
       "125  Медеуский Р-Н             0 2025-05-31   \n",
       "335  Медеуский Р-Н             0 2025-05-31   \n",
       "\n",
       "                                                   url  \\\n",
       "5    https://krisha.kz/a/show/697475450?srchid=0197...   \n",
       "125  https://krisha.kz/a/show/697475450?srchid=0197...   \n",
       "335  https://krisha.kz/a/show/697475450?srchid=0197...   \n",
       "\n",
       "                     scraped_at  price_per_m price_per_m2 month_published  \\\n",
       "5    2025-05-31T01:38:02.347335    1000000.0    1 000 000             May   \n",
       "125  2025-05-31T01:38:02.347335    1000000.0    1 000 000             May   \n",
       "335  2025-05-31T01:38:02.347335    1000000.0    1 000 000             May   \n",
       "\n",
       "     photo_flag  \n",
       "5             0  \n",
       "125           0  \n",
       "335           0  "
      ]
     },
     "execution_count": 844,
     "metadata": {},
     "output_type": "execute_result"
    }
   ],
   "source": [
    "df.loc[df['price_kzt'] == df['price_kzt'].max()]"
   ]
  },
  {
   "cell_type": "code",
   "execution_count": 846,
   "id": "c4ac28e7-9ce4-4cbf-80e8-c91b1ae6e922",
   "metadata": {},
   "outputs": [
    {
     "data": {
      "text/html": [
       "<div>\n",
       "<style scoped>\n",
       "    .dataframe tbody tr th:only-of-type {\n",
       "        vertical-align: middle;\n",
       "    }\n",
       "\n",
       "    .dataframe tbody tr th {\n",
       "        vertical-align: top;\n",
       "    }\n",
       "\n",
       "    .dataframe thead th {\n",
       "        text-align: right;\n",
       "    }\n",
       "</style>\n",
       "<table border=\"1\" class=\"dataframe\">\n",
       "  <thead>\n",
       "    <tr style=\"text-align: right;\">\n",
       "      <th></th>\n",
       "      <th>listing_id</th>\n",
       "      <th>title</th>\n",
       "      <th>property_type</th>\n",
       "      <th>rooms</th>\n",
       "      <th>area_m2</th>\n",
       "      <th>price_kzt</th>\n",
       "      <th>city</th>\n",
       "      <th>district</th>\n",
       "      <th>photos_count</th>\n",
       "      <th>datetime</th>\n",
       "      <th>url</th>\n",
       "      <th>scraped_at</th>\n",
       "      <th>price_per_m</th>\n",
       "      <th>price_per_m2</th>\n",
       "      <th>month_published</th>\n",
       "      <th>photo_flag</th>\n",
       "    </tr>\n",
       "  </thead>\n",
       "  <tbody>\n",
       "    <tr>\n",
       "      <th>480</th>\n",
       "      <td>675971516</td>\n",
       "      <td>1-комнатная квартира  37.8 м², Н. Тлендиева  у...</td>\n",
       "      <td>Недвижимость</td>\n",
       "      <td>1.0</td>\n",
       "      <td>37.8</td>\n",
       "      <td>10017000.0</td>\n",
       "      <td>Астана</td>\n",
       "      <td>Сарыарка Р-Н</td>\n",
       "      <td>0</td>\n",
       "      <td>2025-05-30</td>\n",
       "      <td>https://krisha.kz/a/show/675971516?srchid=0197...</td>\n",
       "      <td>2025-05-31T02:10:19.265059</td>\n",
       "      <td>265000.0</td>\n",
       "      <td>265 000</td>\n",
       "      <td>May</td>\n",
       "      <td>0</td>\n",
       "    </tr>\n",
       "  </tbody>\n",
       "</table>\n",
       "</div>"
      ],
      "text/plain": [
       "     listing_id                                              title  \\\n",
       "480   675971516  1-комнатная квартира  37.8 м², Н. Тлендиева  у...   \n",
       "\n",
       "    property_type  rooms  area_m2   price_kzt    city      district  \\\n",
       "480  Недвижимость    1.0     37.8  10017000.0  Астана  Сарыарка Р-Н   \n",
       "\n",
       "     photos_count   datetime  \\\n",
       "480             0 2025-05-30   \n",
       "\n",
       "                                                   url  \\\n",
       "480  https://krisha.kz/a/show/675971516?srchid=0197...   \n",
       "\n",
       "                     scraped_at  price_per_m price_per_m2 month_published  \\\n",
       "480  2025-05-31T02:10:19.265059     265000.0      265 000             May   \n",
       "\n",
       "     photo_flag  \n",
       "480           0  "
      ]
     },
     "execution_count": 846,
     "metadata": {},
     "output_type": "execute_result"
    }
   ],
   "source": [
    "df.loc[df['price_kzt'] == df['price_kzt'].min()]"
   ]
  },
  {
   "cell_type": "markdown",
   "id": "88471142-88a9-48f1-bae6-4d834741a84d",
   "metadata": {},
   "source": [
    "#### Районы, имеющие самую высокую цену за м²."
   ]
  },
  {
   "cell_type": "code",
   "execution_count": 849,
   "id": "78d50781-dbea-4688-b461-96b7d36a2591",
   "metadata": {},
   "outputs": [
    {
     "data": {
      "text/plain": [
       "district\n",
       "Наурызбайский Р-Н      996 264\n",
       "Енбекшинский Р-Н       937 500\n",
       "Бостандыкский Р-Н      935 483\n",
       "Аль-Фарабийский Р-Н    930 000\n",
       "Абайский Р-Н           902 857\n",
       "Медеуский Р-Н          882 352\n",
       "Алматы Р-Н             865 051\n",
       "Каратауский Р-Н        860 759\n",
       "Алмалинский Р-Н        855 263\n",
       "Алатауский Р-Н         845 000\n",
       "Жетысуский Р-Н         839 000\n",
       "Ауэзовский Р-Н         838 709\n",
       "Турксибский Р-Н        818 230\n",
       "Нура Р-Н               748 648\n",
       "Есильский Р-Н          736 842\n",
       "Сарыарка Р-Н           568 571\n",
       "Туран Р-Н              506 000\n",
       "Байконур Р–Н           416 666\n",
       "Алматинская Обл.       404 984\n",
       "Name: price_per_m2, dtype: object"
      ]
     },
     "execution_count": 849,
     "metadata": {},
     "output_type": "execute_result"
    }
   ],
   "source": [
    "df.groupby('district')['price_per_m2'].max().sort_values(ascending = False)"
   ]
  },
  {
   "cell_type": "markdown",
   "id": "55da4d0d-afed-441d-b4dd-b4e104c8c8bf",
   "metadata": {},
   "source": [
    "### Графики"
   ]
  },
  {
   "cell_type": "markdown",
   "id": "f3d99822-9f88-4ffb-bb43-46e2ba7d0a96",
   "metadata": {},
   "source": [
    "#### Boxplot"
   ]
  },
  {
   "cell_type": "code",
   "execution_count": 872,
   "id": "dd6db0f3-98be-4b7b-9194-f18a05d6abfe",
   "metadata": {
    "scrolled": true
   },
   "outputs": [
    {
     "data": {
      "application/vnd.plotly.v1+json": {
       "config": {
        "plotlyServerURL": "https://plot.ly"
       },
       "data": [
        {
         "alignmentgroup": "True",
         "hovertemplate": "district=%{x}<br>price_kzt=%{y}<extra></extra>",
         "legendgroup": "",
         "marker": {
          "color": "#636efa"
         },
         "name": "",
         "notched": false,
         "offsetgroup": "",
         "orientation": "v",
         "showlegend": false,
         "type": "box",
         "x": [
          "Алатауский Р-Н",
          "Бостандыкский Р-Н",
          "Бостандыкский Р-Н",
          "Медеуский Р-Н",
          "Бостандыкский Р-Н",
          "Медеуский Р-Н",
          "Бостандыкский Р-Н",
          "Бостандыкский Р-Н",
          "Бостандыкский Р-Н",
          "Бостандыкский Р-Н",
          "Алатауский Р-Н",
          null,
          "Наурызбайский Р-Н",
          "Бостандыкский Р-Н",
          "Бостандыкский Р-Н",
          "Алмалинский Р-Н",
          "Бостандыкский Р-Н",
          "Турксибский Р-Н",
          "Наурызбайский Р-Н",
          "Ауэзовский Р-Н",
          "Бостандыкский Р-Н",
          "Бостандыкский Р-Н",
          "Ауэзовский Р-Н",
          "Ауэзовский Р-Н",
          "Алатауский Р-Н",
          "Наурызбайский Р-Н",
          "Турксибский Р-Н",
          "Наурызбайский Р-Н",
          "Ауэзовский Р-Н",
          "Турксибский Р-Н",
          "Бостандыкский Р-Н",
          "Алмалинский Р-Н",
          "Медеуский Р-Н",
          "Жетысуский Р-Н",
          "Ауэзовский Р-Н",
          "Бостандыкский Р-Н",
          "Алмалинский Р-Н",
          "Наурызбайский Р-Н",
          "Алмалинский Р-Н",
          "Жетысуский Р-Н",
          "Алмалинский Р-Н",
          "Жетысуский Р-Н",
          "Турксибский Р-Н",
          "Бостандыкский Р-Н",
          "Ауэзовский Р-Н",
          "Медеуский Р-Н",
          "Медеуский Р-Н",
          "Медеуский Р-Н",
          "Алмалинский Р-Н",
          "Алмалинский Р-Н",
          "Алмалинский Р-Н",
          "Жетысуский Р-Н",
          "Турксибский Р-Н",
          "Алмалинский Р-Н",
          "Медеуский Р-Н",
          "Алатауский Р-Н",
          "Наурызбайский Р-Н",
          "Бостандыкский Р-Н",
          "Алмалинский Р-Н",
          "Турксибский Р-Н",
          "Медеуский Р-Н",
          "Бостандыкский Р-Н",
          "Наурызбайский Р-Н",
          "Бостандыкский Р-Н",
          "Бостандыкский Р-Н",
          "Бостандыкский Р-Н",
          "Алатауский Р-Н",
          "Ауэзовский Р-Н",
          "Медеуский Р-Н",
          "Ауэзовский Р-Н",
          "Алмалинский Р-Н",
          "Алмалинский Р-Н",
          "Бостандыкский Р-Н",
          "Бостандыкский Р-Н",
          "Ауэзовский Р-Н",
          "Алмалинский Р-Н",
          "Алатауский Р-Н",
          "Бостандыкский Р-Н",
          "Бостандыкский Р-Н",
          "Жетысуский Р-Н",
          "Наурызбайский Р-Н",
          "Бостандыкский Р-Н",
          "Бостандыкский Р-Н",
          null,
          "Медеуский Р-Н",
          "Ауэзовский Р-Н",
          "Алмалинский Р-Н",
          "Ауэзовский Р-Н",
          "Бостандыкский Р-Н",
          "Наурызбайский Р-Н",
          "Алмалинский Р-Н",
          "Бостандыкский Р-Н",
          "Бостандыкский Р-Н",
          "Медеуский Р-Н",
          "Наурызбайский Р-Н",
          "Бостандыкский Р-Н",
          "Алмалинский Р-Н",
          "Турксибский Р-Н",
          "Бостандыкский Р-Н",
          "Алатауский Р-Н",
          "Бостандыкский Р-Н",
          "Ауэзовский Р-Н",
          "Медеуский Р-Н",
          "Бостандыкский Р-Н",
          "Алмалинский Р-Н",
          "Медеуский Р-Н",
          "Наурызбайский Р-Н",
          "Медеуский Р-Н",
          "Бостандыкский Р-Н",
          "Ауэзовский Р-Н",
          "Алатауский Р-Н",
          "Бостандыкский Р-Н",
          "Бостандыкский Р-Н",
          "Бостандыкский Р-Н",
          "Ауэзовский Р-Н",
          "Алматинская Обл.",
          "Алматинская Обл.",
          "Алматинская Обл.",
          "Алматинская Обл.",
          "Алматинская Обл.",
          "Алатауский Р-Н",
          "Бостандыкский Р-Н",
          "Бостандыкский Р-Н",
          "Медеуский Р-Н",
          "Бостандыкский Р-Н",
          "Медеуский Р-Н",
          "Бостандыкский Р-Н",
          "Бостандыкский Р-Н",
          "Бостандыкский Р-Н",
          "Бостандыкский Р-Н",
          "Алатауский Р-Н",
          null,
          "Наурызбайский Р-Н",
          "Бостандыкский Р-Н",
          "Бостандыкский Р-Н",
          "Алмалинский Р-Н",
          "Бостандыкский Р-Н",
          "Турксибский Р-Н",
          "Наурызбайский Р-Н",
          "Ауэзовский Р-Н",
          "Алатауский Р-Н",
          "Бостандыкский Р-Н",
          null,
          "Бостандыкский Р-Н",
          "Бостандыкский Р-Н",
          "Бостандыкский Р-Н",
          "Турксибский Р-Н",
          "Ауэзовский Р-Н",
          "Ауэзовский Р-Н",
          "Алатауский Р-Н",
          "Наурызбайский Р-Н",
          "Турксибский Р-Н",
          "Наурызбайский Р-Н",
          "Ауэзовский Р-Н",
          "Турксибский Р-Н",
          "Бостандыкский Р-Н",
          "Алмалинский Р-Н",
          "Медеуский Р-Н",
          "Жетысуский Р-Н",
          "Ауэзовский Р-Н",
          "Бостандыкский Р-Н",
          "Алмалинский Р-Н",
          "Наурызбайский Р-Н",
          "Алмалинский Р-Н",
          "Жетысуский Р-Н",
          "Медеуский Р-Н",
          "Алмалинский Р-Н",
          "Жетысуский Р-Н",
          "Турксибский Р-Н",
          "Бостандыкский Р-Н",
          "Ауэзовский Р-Н",
          "Медеуский Р-Н",
          "Медеуский Р-Н",
          "Медеуский Р-Н",
          "Алмалинский Р-Н",
          "Алмалинский Р-Н",
          "Алмалинский Р-Н",
          "Жетысуский Р-Н",
          "Турксибский Р-Н",
          "Алатауский Р-Н",
          "Бостандыкский Р-Н",
          null,
          "Бостандыкский Р-Н",
          "Бостандыкский Р-Н",
          "Бостандыкский Р-Н",
          "Турксибский Р-Н",
          "Ауэзовский Р-Н",
          "Ауэзовский Р-Н",
          "Алатауский Р-Н",
          "Наурызбайский Р-Н",
          "Турксибский Р-Н",
          "Наурызбайский Р-Н",
          "Ауэзовский Р-Н",
          "Турксибский Р-Н",
          "Бостандыкский Р-Н",
          "Алмалинский Р-Н",
          "Медеуский Р-Н",
          "Жетысуский Р-Н",
          "Ауэзовский Р-Н",
          "Турксибский Р-Н",
          "Алмалинский Р-Н",
          "Медеуский Р-Н",
          "Алатауский Р-Н",
          "Наурызбайский Р-Н",
          "Бостандыкский Р-Н",
          "Алмалинский Р-Н",
          "Турксибский Р-Н",
          "Медеуский Р-Н",
          "Бостандыкский Р-Н",
          "Наурызбайский Р-Н",
          "Бостандыкский Р-Н",
          "Бостандыкский Р-Н",
          "Бостандыкский Р-Н",
          "Алатауский Р-Н",
          "Ауэзовский Р-Н",
          "Медеуский Р-Н",
          "Алатауский Р-Н",
          "Бостандыкский Р-Н",
          null,
          "Бостандыкский Р-Н",
          "Бостандыкский Р-Н",
          "Бостандыкский Р-Н",
          "Турксибский Р-Н",
          "Ауэзовский Р-Н",
          "Ауэзовский Р-Н",
          "Алатауский Р-Н",
          "Наурызбайский Р-Н",
          "Турксибский Р-Н",
          "Наурызбайский Р-Н",
          "Ауэзовский Р-Н",
          "Турксибский Р-Н",
          "Бостандыкский Р-Н",
          "Алмалинский Р-Н",
          "Медеуский Р-Н",
          "Жетысуский Р-Н",
          "Ауэзовский Р-Н",
          "Ауэзовский Р-Н",
          "Алмалинский Р-Н",
          "Алмалинский Р-Н",
          "Бостандыкский Р-Н",
          "Бостандыкский Р-Н",
          "Ауэзовский Р-Н",
          "Алмалинский Р-Н",
          "Алатауский Р-Н",
          "Бостандыкский Р-Н",
          "Бостандыкский Р-Н",
          "Жетысуский Р-Н",
          "Наурызбайский Р-Н",
          "Бостандыкский Р-Н",
          "Бостандыкский Р-Н",
          null,
          "Медеуский Р-Н",
          "Ауэзовский Р-Н",
          "Алмалинский Р-Н",
          "Ауэзовский Р-Н",
          "Бостандыкский Р-Н",
          "Алатауский Р-Н",
          "Бостандыкский Р-Н",
          null,
          "Бостандыкский Р-Н",
          "Бостандыкский Р-Н",
          "Бостандыкский Р-Н",
          "Турксибский Р-Н",
          "Ауэзовский Р-Н",
          "Ауэзовский Р-Н",
          "Алатауский Р-Н",
          "Наурызбайский Р-Н",
          "Турксибский Р-Н",
          "Наурызбайский Р-Н",
          "Ауэзовский Р-Н",
          "Турксибский Р-Н",
          "Бостандыкский Р-Н",
          "Алмалинский Р-Н",
          "Медеуский Р-Н",
          "Жетысуский Р-Н",
          "Ауэзовский Р-Н",
          "Бостандыкский Р-Н",
          "Наурызбайский Р-Н",
          "Алмалинский Р-Н",
          "Бостандыкский Р-Н",
          "Бостандыкский Р-Н",
          "Медеуский Р-Н",
          "Наурызбайский Р-Н",
          "Бостандыкский Р-Н",
          "Алмалинский Р-Н",
          "Турксибский Р-Н",
          "Бостандыкский Р-Н",
          "Алатауский Р-Н",
          "Бостандыкский Р-Н",
          "Ауэзовский Р-Н",
          "Медеуский Р-Н",
          "Бостандыкский Р-Н",
          "Алмалинский Р-Н",
          "Медеуский Р-Н",
          "Наурызбайский Р-Н",
          "Медеуский Р-Н",
          "Алатауский Р-Н",
          "Бостандыкский Р-Н",
          null,
          "Бостандыкский Р-Н",
          "Бостандыкский Р-Н",
          "Бостандыкский Р-Н",
          "Турксибский Р-Н",
          "Ауэзовский Р-Н",
          "Ауэзовский Р-Н",
          "Алатауский Р-Н",
          "Наурызбайский Р-Н",
          "Турксибский Р-Н",
          "Наурызбайский Р-Н",
          "Ауэзовский Р-Н",
          "Турксибский Р-Н",
          "Бостандыкский Р-Н",
          "Алмалинский Р-Н",
          "Медеуский Р-Н",
          "Жетысуский Р-Н",
          "Ауэзовский Р-Н",
          "Алатауский Р-Н",
          "Бостандыкский Р-Н",
          "Бостандыкский Р-Н",
          "Бостандыкский Р-Н",
          "Алатауский Р-Н",
          "Бостандыкский Р-Н",
          "Бостандыкский Р-Н",
          "Бостандыкский Р-Н",
          "Ауэзовский Р-Н",
          "Алатауский Р-Н",
          "Бостандыкский Р-Н",
          "Бостандыкский Р-Н",
          "Бостандыкский Р-Н",
          "Ауэзовский Р-Н",
          "Алатауский Р-Н",
          "Бостандыкский Р-Н",
          "Бостандыкский Р-Н",
          "Медеуский Р-Н",
          "Бостандыкский Р-Н",
          "Медеуский Р-Н",
          "Бостандыкский Р-Н",
          "Бостандыкский Р-Н",
          "Бостандыкский Р-Н",
          "Бостандыкский Р-Н",
          "Алатауский Р-Н",
          null,
          "Наурызбайский Р-Н",
          "Бостандыкский Р-Н",
          "Алмалинский Р-Н",
          "Бостандыкский Р-Н",
          "Турксибский Р-Н",
          "Наурызбайский Р-Н",
          "Ауэзовский Р-Н",
          "Бостандыкский Р-Н",
          "Бостандыкский Р-Н",
          "Ауэзовский Р-Н",
          "Алатауский Р-Н",
          "Наурызбайский Р-Н",
          "Турксибский Р-Н",
          "Наурызбайский Р-Н",
          "Ауэзовский Р-Н",
          "Турксибский Р-Н",
          "Бостандыкский Р-Н",
          "Алмалинский Р-Н",
          "Медеуский Р-Н",
          "Жетысуский Р-Н",
          "Ауэзовский Р-Н",
          "Бостандыкский Р-Н",
          "Алмалинский Р-Н",
          "Наурызбайский Р-Н",
          "Алмалинский Р-Н",
          "Жетысуский Р-Н",
          "Алмалинский Р-Н",
          "Жетысуский Р-Н",
          "Турксибский Р-Н",
          "Бостандыкский Р-Н",
          "Ауэзовский Р-Н",
          "Медеуский Р-Н",
          "Медеуский Р-Н",
          "Медеуский Р-Н",
          "Алмалинский Р-Н",
          "Алмалинский Р-Н",
          "Алмалинский Р-Н",
          "Жетысуский Р-Н",
          "Турксибский Р-Н",
          "Алмалинский Р-Н",
          "Медеуский Р-Н",
          "Алатауский Р-Н",
          "Наурызбайский Р-Н",
          "Бостандыкский Р-Н",
          "Алмалинский Р-Н",
          "Турксибский Р-Н",
          "Медеуский Р-Н",
          "Бостандыкский Р-Н",
          "Наурызбайский Р-Н",
          "Бостандыкский Р-Н",
          "Бостандыкский Р-Н",
          "Бостандыкский Р-Н",
          "Алатауский Р-Н",
          "Ауэзовский Р-Н",
          "Медеуский Р-Н",
          "Ауэзовский Р-Н",
          "Алмалинский Р-Н",
          "Алмалинский Р-Н",
          "Бостандыкский Р-Н",
          "Бостандыкский Р-Н",
          "Ауэзовский Р-Н",
          "Алмалинский Р-Н",
          "Алатауский Р-Н",
          "Бостандыкский Р-Н",
          "Бостандыкский Р-Н",
          "Жетысуский Р-Н",
          "Наурызбайский Р-Н",
          "Бостандыкский Р-Н",
          "Бостандыкский Р-Н",
          "Медеуский Р-Н",
          "Ауэзовский Р-Н",
          "Алмалинский Р-Н",
          "Ауэзовский Р-Н",
          "Бостандыкский Р-Н",
          "Наурызбайский Р-Н",
          "Алмалинский Р-Н",
          "Бостандыкский Р-Н",
          "Бостандыкский Р-Н",
          "Медеуский Р-Н",
          "Наурызбайский Р-Н",
          "Бостандыкский Р-Н",
          "Алмалинский Р-Н",
          "Турксибский Р-Н",
          "Бостандыкский Р-Н",
          "Алатауский Р-Н",
          "Бостандыкский Р-Н",
          "Ауэзовский Р-Н",
          "Медеуский Р-Н",
          "Бостандыкский Р-Н",
          "Алмалинский Р-Н",
          "Медеуский Р-Н",
          "Наурызбайский Р-Н",
          "Медеуский Р-Н",
          "Бостандыкский Р-Н",
          "Ауэзовский Р-Н",
          "Алматинская Обл.",
          "Алматинская Обл.",
          "Алматинская Обл.",
          "Есильский Р-Н",
          "Есильский Р-Н",
          "Нура Р-Н",
          "Нура Р-Н",
          "Алматы Р-Н",
          "Есильский Р-Н",
          "Сарыарка Р-Н",
          "Есильский Р-Н",
          "Нура Р-Н",
          "Байконур Р–Н",
          "Алматы Р-Н",
          "Алматы Р-Н",
          "Нура Р-Н",
          "Сарыарка Р-Н",
          "Есильский Р-Н",
          "Сарыарка Р-Н",
          "Есильский Р-Н",
          "Алматы Р-Н",
          "Нура Р-Н",
          "Нура Р-Н",
          "Нура Р-Н",
          "Есильский Р-Н",
          "Сарыарка Р-Н",
          "Алматы Р-Н",
          "Алматы Р-Н",
          "Алматы Р-Н",
          "Нура Р-Н",
          "Байконур Р–Н",
          "Есильский Р-Н",
          "Байконур Р–Н",
          "Байконур Р–Н",
          "Нура Р-Н",
          "Алматы Р-Н",
          "Сарыарка Р-Н",
          "Есильский Р-Н",
          "Есильский Р-Н",
          "Есильский Р-Н",
          "Есильский Р-Н",
          "Нура Р-Н",
          "Алматы Р-Н",
          "Сарыарка Р-Н",
          "Сарыарка Р-Н",
          "Нура Р-Н",
          "Алматы Р-Н",
          "Есильский Р-Н",
          "Есильский Р-Н",
          "Есильский Р-Н",
          "Сарыарка Р-Н",
          "Есильский Р-Н",
          "Есильский Р-Н",
          "Нура Р-Н",
          "Сарыарка Р-Н",
          "Нура Р-Н",
          "Нура Р-Н",
          "Нура Р-Н",
          null,
          "Алматы Р-Н",
          "Есильский Р-Н",
          "Нура Р-Н",
          "Сарыарка Р-Н",
          "Нура Р-Н",
          "Алматы Р-Н",
          "Нура Р-Н",
          "Нура Р-Н",
          "Нура Р-Н",
          "Нура Р-Н",
          "Сарыарка Р-Н",
          "Нура Р-Н",
          "Алматы Р-Н",
          "Есильский Р-Н",
          "Алматы Р-Н",
          "Есильский Р-Н",
          "Нура Р-Н",
          "Алматы Р-Н",
          "Есильский Р-Н",
          "Алматы Р-Н",
          "Есильский Р-Н",
          "Есильский Р-Н",
          "Нура Р-Н",
          "Сарыарка Р-Н",
          "Нура Р-Н",
          "Нура Р-Н",
          "Алматы Р-Н",
          "Есильский Р-Н",
          "Абайский Р-Н",
          null,
          "Абайский Р-Н",
          "Каратауский Р-Н",
          "Каратауский Р-Н",
          "Аль-Фарабийский Р-Н",
          "Абайский Р-Н",
          "Туран Р-Н",
          "Каратауский Р-Н",
          "Аль-Фарабийский Р-Н",
          null,
          null,
          "Аль-Фарабийский Р-Н",
          "Аль-Фарабийский Р-Н",
          "Каратауский Р-Н",
          "Абайский Р-Н",
          "Каратауский Р-Н",
          "Абайский Р-Н",
          null,
          "Каратауский Р-Н",
          "Аль-Фарабийский Р-Н",
          "Аль-Фарабийский Р-Н",
          "Каратауский Р-Н",
          "Аль-Фарабийский Р-Н",
          "Абайский Р-Н",
          "Енбекшинский Р-Н",
          "Абайский Р-Н",
          "Аль-Фарабийский Р-Н",
          "Абайский Р-Н",
          "Туран Р-Н",
          "Абайский Р-Н",
          "Каратауский Р-Н",
          "Абайский Р-Н",
          "Абайский Р-Н",
          "Абайский Р-Н",
          "Каратауский Р-Н",
          null,
          "Каратауский Р-Н",
          "Каратауский Р-Н",
          "Каратауский Р-Н",
          "Абайский Р-Н",
          "Аль-Фарабийский Р-Н",
          "Аль-Фарабийский Р-Н",
          "Каратауский Р-Н",
          "Каратауский Р-Н",
          "Туран Р-Н",
          "Туран Р-Н",
          "Абайский Р-Н",
          null,
          "Туран Р-Н",
          "Каратауский Р-Н",
          "Туран Р-Н",
          "Аль-Фарабийский Р-Н",
          "Каратауский Р-Н",
          "Каратауский Р-Н",
          "Каратауский Р-Н"
         ],
         "x0": " ",
         "xaxis": "x",
         "y": [
          36500000,
          68000000,
          97000000,
          84000000,
          240000000,
          370000000,
          155000000,
          159000000,
          31000000,
          120000000,
          25000000,
          35000000,
          26500000,
          130000000,
          130000000,
          53000000,
          140000000,
          29800000,
          59900000,
          130000000,
          110000000,
          95000000,
          31999999,
          33199999,
          27499999,
          19999999,
          17999999,
          64999999,
          25799999,
          21999999,
          58999999,
          32499999,
          96000000,
          15000000,
          54000000,
          165000000,
          41000000,
          38000000,
          62000000,
          30000000,
          40500000,
          38401030,
          44646900,
          151250000,
          39500000,
          110400000,
          173940360,
          240958000,
          97884000,
          97884000,
          84000000,
          37842000,
          29047180,
          19456800,
          66759000,
          25882350,
          35038888,
          228375000,
          32774400,
          25000000,
          42000000,
          33000000,
          28469280,
          152500000,
          193000000,
          45000000,
          29500000,
          14800000,
          150000000,
          25500000,
          39999999,
          56000000,
          61000000,
          60000000,
          93000000,
          85000000,
          29500000,
          110000000,
          80000000,
          33000000,
          80000000,
          32000000,
          30000000,
          65999999,
          148000000,
          39000000,
          42000000,
          25000000,
          73000000,
          48000000,
          37500000,
          55000000,
          58000000,
          28500000,
          51000000,
          224000000,
          57000000,
          11900000,
          85000000,
          38000000,
          66900000,
          35000000,
          75000000,
          70000000,
          69900000,
          32406000,
          105779240,
          285977850,
          260000000,
          85000000,
          36500000,
          68000000,
          97000000,
          260000000,
          85000000,
          20398000,
          20387500,
          26000000,
          26000000,
          26000000,
          36500000,
          68000000,
          97000000,
          84000000,
          240000000,
          370000000,
          155000000,
          159000000,
          31000000,
          120000000,
          25000000,
          35000000,
          26500000,
          130000000,
          130000000,
          53000000,
          140000000,
          29800000,
          59900000,
          130000000,
          36500000,
          68000000,
          35000000,
          97000000,
          110000000,
          95000000,
          29800000,
          31999999,
          33199999,
          27499999,
          19999999,
          17999999,
          64999999,
          25799999,
          21999999,
          58999999,
          32499999,
          96000000,
          15000000,
          54000000,
          165000000,
          41000000,
          38000000,
          62000000,
          30000000,
          96000000,
          40500000,
          38401030,
          44646900,
          151250000,
          39500000,
          110400000,
          173940360,
          240958000,
          97884000,
          97884000,
          84000000,
          37842000,
          29047180,
          36500000,
          68000000,
          35000000,
          97000000,
          110000000,
          95000000,
          29800000,
          31999999,
          33199999,
          27499999,
          19999999,
          17999999,
          64999999,
          25799999,
          21999999,
          58999999,
          32499999,
          96000000,
          15000000,
          54000000,
          29047180,
          19456800,
          66759000,
          25882350,
          35038888,
          228375000,
          32774400,
          25000000,
          42000000,
          33000000,
          28469280,
          152500000,
          193000000,
          45000000,
          29500000,
          14800000,
          150000000,
          36500000,
          68000000,
          35000000,
          97000000,
          110000000,
          95000000,
          29800000,
          31999999,
          33199999,
          27499999,
          19999999,
          17999999,
          64999999,
          25799999,
          21999999,
          58999999,
          32499999,
          96000000,
          15000000,
          54000000,
          25500000,
          39999999,
          56000000,
          61000000,
          60000000,
          93000000,
          85000000,
          29500000,
          110000000,
          80000000,
          33000000,
          80000000,
          32000000,
          30000000,
          65999999,
          148000000,
          39000000,
          42000000,
          25000000,
          73000000,
          36500000,
          68000000,
          35000000,
          97000000,
          110000000,
          95000000,
          29800000,
          31999999,
          33199999,
          27499999,
          19999999,
          17999999,
          64999999,
          25799999,
          21999999,
          58999999,
          32499999,
          96000000,
          15000000,
          54000000,
          73000000,
          48000000,
          37500000,
          55000000,
          58000000,
          28500000,
          51000000,
          224000000,
          57000000,
          11900000,
          85000000,
          38000000,
          66900000,
          35000000,
          75000000,
          70000000,
          69900000,
          32406000,
          105779240,
          285977850,
          36500000,
          68000000,
          35000000,
          97000000,
          110000000,
          95000000,
          29800000,
          31999999,
          33199999,
          27499999,
          19999999,
          17999999,
          64999999,
          25799999,
          21999999,
          58999999,
          32499999,
          96000000,
          15000000,
          54000000,
          36500000,
          68000000,
          97000000,
          260000000,
          36500000,
          68000000,
          97000000,
          260000000,
          85000000,
          36500000,
          68000000,
          97000000,
          260000000,
          85000000,
          36500000,
          68000000,
          97000000,
          84000000,
          240000000,
          370000000,
          155000000,
          159000000,
          31000000,
          120000000,
          25000000,
          35000000,
          26500000,
          130000000,
          53000000,
          140000000,
          29800000,
          59900000,
          130000000,
          110000000,
          95000000,
          31999999,
          27499999,
          19999999,
          17999999,
          64999999,
          25799999,
          21999999,
          58999999,
          32499999,
          96000000,
          15000000,
          54000000,
          165000000,
          41000000,
          38000000,
          62000000,
          30000000,
          40500000,
          38401030,
          44646900,
          151250000,
          39500000,
          110400000,
          173940360,
          240958000,
          97884000,
          97884000,
          84000000,
          37842000,
          29047180,
          19456800,
          66759000,
          25882350,
          35038888,
          228375000,
          32774400,
          25000000,
          42000000,
          33000000,
          28469280,
          152500000,
          193000000,
          45000000,
          29500000,
          14800000,
          150000000,
          25500000,
          39999999,
          56000000,
          61000000,
          60000000,
          93000000,
          85000000,
          29500000,
          110000000,
          80000000,
          33000000,
          80000000,
          32000000,
          30000000,
          148000000,
          39000000,
          42000000,
          25000000,
          73000000,
          48000000,
          37500000,
          55000000,
          58000000,
          28500000,
          51000000,
          224000000,
          57000000,
          11900000,
          85000000,
          38000000,
          66900000,
          35000000,
          75000000,
          70000000,
          69900000,
          32406000,
          105779240,
          285977850,
          260000000,
          85000000,
          20398000,
          26000000,
          26000000,
          45000000,
          25900000,
          33000000,
          58000000,
          42000000,
          18900000,
          19900000,
          26500000,
          110000000,
          49700000,
          34000000,
          24000000,
          47000000,
          21000000,
          24500000,
          45000000,
          39450000,
          19000000,
          25500000,
          19000000,
          35000000,
          41000000,
          19500000,
          19800000,
          18000000,
          22800000,
          27000000,
          29500000,
          11000000,
          16500000,
          50000000,
          41000000,
          16700000,
          34500000,
          37500000,
          38000000,
          175000000,
          97000000,
          28950000,
          50000000,
          10017000,
          35133000,
          50459670,
          14615000,
          48000000,
          38336220,
          35500000,
          14500000,
          23500000,
          32000000,
          83635010,
          14178400,
          45052200,
          32634300,
          38300000,
          65999999,
          28636800,
          50652000,
          34750050,
          18500000,
          48948900,
          165000000,
          60784000,
          38300000,
          38639160,
          32266000,
          40000000,
          29300000,
          10200000,
          21500000,
          67000000,
          70000000,
          27700000,
          12000000,
          45500000,
          25000000,
          54000000,
          24000000,
          22000000,
          18990000,
          19300000,
          29800000,
          34500000,
          30000000,
          21707000,
          111240000,
          27137800,
          17500000,
          62500000,
          18000000,
          79000000,
          28000000,
          36500000,
          141248400,
          114336000,
          59851680,
          16500000,
          13500000,
          34000000,
          37000000,
          63000000,
          23500000,
          19958400,
          23000000,
          19500000,
          37000000,
          21000000,
          13200000,
          45005100,
          135000000,
          29500000,
          30000000,
          40549000,
          17944040,
          35000000,
          30000000,
          41990000,
          19325600,
          21968100,
          68000000,
          35500000,
          29000000,
          26900000,
          38000000,
          25000000,
          33000000,
          40000000,
          33500000,
          80000000,
          17600000,
          45500000,
          50069270,
          70701680,
          30071580,
          44000000,
          17000000,
          13500000,
          31620000,
          60000000,
          21000000
         ],
         "y0": " ",
         "yaxis": "y"
        }
       ],
       "layout": {
        "autosize": true,
        "boxmode": "group",
        "legend": {
         "tracegroupgap": 0
        },
        "template": {
         "data": {
          "bar": [
           {
            "error_x": {
             "color": "#2a3f5f"
            },
            "error_y": {
             "color": "#2a3f5f"
            },
            "marker": {
             "line": {
              "color": "#E5ECF6",
              "width": 0.5
             },
             "pattern": {
              "fillmode": "overlay",
              "size": 10,
              "solidity": 0.2
             }
            },
            "type": "bar"
           }
          ],
          "barpolar": [
           {
            "marker": {
             "line": {
              "color": "#E5ECF6",
              "width": 0.5
             },
             "pattern": {
              "fillmode": "overlay",
              "size": 10,
              "solidity": 0.2
             }
            },
            "type": "barpolar"
           }
          ],
          "carpet": [
           {
            "aaxis": {
             "endlinecolor": "#2a3f5f",
             "gridcolor": "white",
             "linecolor": "white",
             "minorgridcolor": "white",
             "startlinecolor": "#2a3f5f"
            },
            "baxis": {
             "endlinecolor": "#2a3f5f",
             "gridcolor": "white",
             "linecolor": "white",
             "minorgridcolor": "white",
             "startlinecolor": "#2a3f5f"
            },
            "type": "carpet"
           }
          ],
          "choropleth": [
           {
            "colorbar": {
             "outlinewidth": 0,
             "ticks": ""
            },
            "type": "choropleth"
           }
          ],
          "contour": [
           {
            "colorbar": {
             "outlinewidth": 0,
             "ticks": ""
            },
            "colorscale": [
             [
              0,
              "#0d0887"
             ],
             [
              0.1111111111111111,
              "#46039f"
             ],
             [
              0.2222222222222222,
              "#7201a8"
             ],
             [
              0.3333333333333333,
              "#9c179e"
             ],
             [
              0.4444444444444444,
              "#bd3786"
             ],
             [
              0.5555555555555556,
              "#d8576b"
             ],
             [
              0.6666666666666666,
              "#ed7953"
             ],
             [
              0.7777777777777778,
              "#fb9f3a"
             ],
             [
              0.8888888888888888,
              "#fdca26"
             ],
             [
              1,
              "#f0f921"
             ]
            ],
            "type": "contour"
           }
          ],
          "contourcarpet": [
           {
            "colorbar": {
             "outlinewidth": 0,
             "ticks": ""
            },
            "type": "contourcarpet"
           }
          ],
          "heatmap": [
           {
            "colorbar": {
             "outlinewidth": 0,
             "ticks": ""
            },
            "colorscale": [
             [
              0,
              "#0d0887"
             ],
             [
              0.1111111111111111,
              "#46039f"
             ],
             [
              0.2222222222222222,
              "#7201a8"
             ],
             [
              0.3333333333333333,
              "#9c179e"
             ],
             [
              0.4444444444444444,
              "#bd3786"
             ],
             [
              0.5555555555555556,
              "#d8576b"
             ],
             [
              0.6666666666666666,
              "#ed7953"
             ],
             [
              0.7777777777777778,
              "#fb9f3a"
             ],
             [
              0.8888888888888888,
              "#fdca26"
             ],
             [
              1,
              "#f0f921"
             ]
            ],
            "type": "heatmap"
           }
          ],
          "heatmapgl": [
           {
            "colorbar": {
             "outlinewidth": 0,
             "ticks": ""
            },
            "colorscale": [
             [
              0,
              "#0d0887"
             ],
             [
              0.1111111111111111,
              "#46039f"
             ],
             [
              0.2222222222222222,
              "#7201a8"
             ],
             [
              0.3333333333333333,
              "#9c179e"
             ],
             [
              0.4444444444444444,
              "#bd3786"
             ],
             [
              0.5555555555555556,
              "#d8576b"
             ],
             [
              0.6666666666666666,
              "#ed7953"
             ],
             [
              0.7777777777777778,
              "#fb9f3a"
             ],
             [
              0.8888888888888888,
              "#fdca26"
             ],
             [
              1,
              "#f0f921"
             ]
            ],
            "type": "heatmapgl"
           }
          ],
          "histogram": [
           {
            "marker": {
             "pattern": {
              "fillmode": "overlay",
              "size": 10,
              "solidity": 0.2
             }
            },
            "type": "histogram"
           }
          ],
          "histogram2d": [
           {
            "colorbar": {
             "outlinewidth": 0,
             "ticks": ""
            },
            "colorscale": [
             [
              0,
              "#0d0887"
             ],
             [
              0.1111111111111111,
              "#46039f"
             ],
             [
              0.2222222222222222,
              "#7201a8"
             ],
             [
              0.3333333333333333,
              "#9c179e"
             ],
             [
              0.4444444444444444,
              "#bd3786"
             ],
             [
              0.5555555555555556,
              "#d8576b"
             ],
             [
              0.6666666666666666,
              "#ed7953"
             ],
             [
              0.7777777777777778,
              "#fb9f3a"
             ],
             [
              0.8888888888888888,
              "#fdca26"
             ],
             [
              1,
              "#f0f921"
             ]
            ],
            "type": "histogram2d"
           }
          ],
          "histogram2dcontour": [
           {
            "colorbar": {
             "outlinewidth": 0,
             "ticks": ""
            },
            "colorscale": [
             [
              0,
              "#0d0887"
             ],
             [
              0.1111111111111111,
              "#46039f"
             ],
             [
              0.2222222222222222,
              "#7201a8"
             ],
             [
              0.3333333333333333,
              "#9c179e"
             ],
             [
              0.4444444444444444,
              "#bd3786"
             ],
             [
              0.5555555555555556,
              "#d8576b"
             ],
             [
              0.6666666666666666,
              "#ed7953"
             ],
             [
              0.7777777777777778,
              "#fb9f3a"
             ],
             [
              0.8888888888888888,
              "#fdca26"
             ],
             [
              1,
              "#f0f921"
             ]
            ],
            "type": "histogram2dcontour"
           }
          ],
          "mesh3d": [
           {
            "colorbar": {
             "outlinewidth": 0,
             "ticks": ""
            },
            "type": "mesh3d"
           }
          ],
          "parcoords": [
           {
            "line": {
             "colorbar": {
              "outlinewidth": 0,
              "ticks": ""
             }
            },
            "type": "parcoords"
           }
          ],
          "pie": [
           {
            "automargin": true,
            "type": "pie"
           }
          ],
          "scatter": [
           {
            "fillpattern": {
             "fillmode": "overlay",
             "size": 10,
             "solidity": 0.2
            },
            "type": "scatter"
           }
          ],
          "scatter3d": [
           {
            "line": {
             "colorbar": {
              "outlinewidth": 0,
              "ticks": ""
             }
            },
            "marker": {
             "colorbar": {
              "outlinewidth": 0,
              "ticks": ""
             }
            },
            "type": "scatter3d"
           }
          ],
          "scattercarpet": [
           {
            "marker": {
             "colorbar": {
              "outlinewidth": 0,
              "ticks": ""
             }
            },
            "type": "scattercarpet"
           }
          ],
          "scattergeo": [
           {
            "marker": {
             "colorbar": {
              "outlinewidth": 0,
              "ticks": ""
             }
            },
            "type": "scattergeo"
           }
          ],
          "scattergl": [
           {
            "marker": {
             "colorbar": {
              "outlinewidth": 0,
              "ticks": ""
             }
            },
            "type": "scattergl"
           }
          ],
          "scattermapbox": [
           {
            "marker": {
             "colorbar": {
              "outlinewidth": 0,
              "ticks": ""
             }
            },
            "type": "scattermapbox"
           }
          ],
          "scatterpolar": [
           {
            "marker": {
             "colorbar": {
              "outlinewidth": 0,
              "ticks": ""
             }
            },
            "type": "scatterpolar"
           }
          ],
          "scatterpolargl": [
           {
            "marker": {
             "colorbar": {
              "outlinewidth": 0,
              "ticks": ""
             }
            },
            "type": "scatterpolargl"
           }
          ],
          "scatterternary": [
           {
            "marker": {
             "colorbar": {
              "outlinewidth": 0,
              "ticks": ""
             }
            },
            "type": "scatterternary"
           }
          ],
          "surface": [
           {
            "colorbar": {
             "outlinewidth": 0,
             "ticks": ""
            },
            "colorscale": [
             [
              0,
              "#0d0887"
             ],
             [
              0.1111111111111111,
              "#46039f"
             ],
             [
              0.2222222222222222,
              "#7201a8"
             ],
             [
              0.3333333333333333,
              "#9c179e"
             ],
             [
              0.4444444444444444,
              "#bd3786"
             ],
             [
              0.5555555555555556,
              "#d8576b"
             ],
             [
              0.6666666666666666,
              "#ed7953"
             ],
             [
              0.7777777777777778,
              "#fb9f3a"
             ],
             [
              0.8888888888888888,
              "#fdca26"
             ],
             [
              1,
              "#f0f921"
             ]
            ],
            "type": "surface"
           }
          ],
          "table": [
           {
            "cells": {
             "fill": {
              "color": "#EBF0F8"
             },
             "line": {
              "color": "white"
             }
            },
            "header": {
             "fill": {
              "color": "#C8D4E3"
             },
             "line": {
              "color": "white"
             }
            },
            "type": "table"
           }
          ]
         },
         "layout": {
          "annotationdefaults": {
           "arrowcolor": "#2a3f5f",
           "arrowhead": 0,
           "arrowwidth": 1
          },
          "autotypenumbers": "strict",
          "coloraxis": {
           "colorbar": {
            "outlinewidth": 0,
            "ticks": ""
           }
          },
          "colorscale": {
           "diverging": [
            [
             0,
             "#8e0152"
            ],
            [
             0.1,
             "#c51b7d"
            ],
            [
             0.2,
             "#de77ae"
            ],
            [
             0.3,
             "#f1b6da"
            ],
            [
             0.4,
             "#fde0ef"
            ],
            [
             0.5,
             "#f7f7f7"
            ],
            [
             0.6,
             "#e6f5d0"
            ],
            [
             0.7,
             "#b8e186"
            ],
            [
             0.8,
             "#7fbc41"
            ],
            [
             0.9,
             "#4d9221"
            ],
            [
             1,
             "#276419"
            ]
           ],
           "sequential": [
            [
             0,
             "#0d0887"
            ],
            [
             0.1111111111111111,
             "#46039f"
            ],
            [
             0.2222222222222222,
             "#7201a8"
            ],
            [
             0.3333333333333333,
             "#9c179e"
            ],
            [
             0.4444444444444444,
             "#bd3786"
            ],
            [
             0.5555555555555556,
             "#d8576b"
            ],
            [
             0.6666666666666666,
             "#ed7953"
            ],
            [
             0.7777777777777778,
             "#fb9f3a"
            ],
            [
             0.8888888888888888,
             "#fdca26"
            ],
            [
             1,
             "#f0f921"
            ]
           ],
           "sequentialminus": [
            [
             0,
             "#0d0887"
            ],
            [
             0.1111111111111111,
             "#46039f"
            ],
            [
             0.2222222222222222,
             "#7201a8"
            ],
            [
             0.3333333333333333,
             "#9c179e"
            ],
            [
             0.4444444444444444,
             "#bd3786"
            ],
            [
             0.5555555555555556,
             "#d8576b"
            ],
            [
             0.6666666666666666,
             "#ed7953"
            ],
            [
             0.7777777777777778,
             "#fb9f3a"
            ],
            [
             0.8888888888888888,
             "#fdca26"
            ],
            [
             1,
             "#f0f921"
            ]
           ]
          },
          "colorway": [
           "#636efa",
           "#EF553B",
           "#00cc96",
           "#ab63fa",
           "#FFA15A",
           "#19d3f3",
           "#FF6692",
           "#B6E880",
           "#FF97FF",
           "#FECB52"
          ],
          "font": {
           "color": "#2a3f5f"
          },
          "geo": {
           "bgcolor": "white",
           "lakecolor": "white",
           "landcolor": "#E5ECF6",
           "showlakes": true,
           "showland": true,
           "subunitcolor": "white"
          },
          "hoverlabel": {
           "align": "left"
          },
          "hovermode": "closest",
          "mapbox": {
           "style": "light"
          },
          "paper_bgcolor": "white",
          "plot_bgcolor": "#E5ECF6",
          "polar": {
           "angularaxis": {
            "gridcolor": "white",
            "linecolor": "white",
            "ticks": ""
           },
           "bgcolor": "#E5ECF6",
           "radialaxis": {
            "gridcolor": "white",
            "linecolor": "white",
            "ticks": ""
           }
          },
          "scene": {
           "xaxis": {
            "backgroundcolor": "#E5ECF6",
            "gridcolor": "white",
            "gridwidth": 2,
            "linecolor": "white",
            "showbackground": true,
            "ticks": "",
            "zerolinecolor": "white"
           },
           "yaxis": {
            "backgroundcolor": "#E5ECF6",
            "gridcolor": "white",
            "gridwidth": 2,
            "linecolor": "white",
            "showbackground": true,
            "ticks": "",
            "zerolinecolor": "white"
           },
           "zaxis": {
            "backgroundcolor": "#E5ECF6",
            "gridcolor": "white",
            "gridwidth": 2,
            "linecolor": "white",
            "showbackground": true,
            "ticks": "",
            "zerolinecolor": "white"
           }
          },
          "shapedefaults": {
           "line": {
            "color": "#2a3f5f"
           }
          },
          "ternary": {
           "aaxis": {
            "gridcolor": "white",
            "linecolor": "white",
            "ticks": ""
           },
           "baxis": {
            "gridcolor": "white",
            "linecolor": "white",
            "ticks": ""
           },
           "bgcolor": "#E5ECF6",
           "caxis": {
            "gridcolor": "white",
            "linecolor": "white",
            "ticks": ""
           }
          },
          "title": {
           "x": 0.05
          },
          "xaxis": {
           "automargin": true,
           "gridcolor": "white",
           "linecolor": "white",
           "ticks": "",
           "title": {
            "standoff": 15
           },
           "zerolinecolor": "white",
           "zerolinewidth": 2
          },
          "yaxis": {
           "automargin": true,
           "gridcolor": "white",
           "linecolor": "white",
           "ticks": "",
           "title": {
            "standoff": 15
           },
           "zerolinecolor": "white",
           "zerolinewidth": 2
          }
         }
        },
        "title": {
         "text": "Распределение цен по района"
        },
        "xaxis": {
         "anchor": "y",
         "autorange": true,
         "domain": [
          0,
          1
         ],
         "range": [
          -0.5,
          18.5
         ],
         "title": {
          "text": "district"
         },
         "type": "category"
        },
        "yaxis": {
         "anchor": "x",
         "autorange": true,
         "domain": [
          0,
          1
         ],
         "range": [
          -9982055.555555556,
          389999055.5555556
         ],
         "title": {
          "text": "price_kzt"
         },
         "type": "linear"
        }
       }
      },
      "image/png": "[encoded data removed]",
      "text/html": [
       "<div>                            <div id=\"24c113b4-cfd1-4cd2-85c9-2dfc6eb1aee7\" class=\"plotly-graph-div\" style=\"height:525px; width:100%;\"></div>            <script type=\"text/javascript\">                require([\"plotly\"], function(Plotly) {                    window.PLOTLYENV=window.PLOTLYENV || {};                                    if (document.getElementById(\"24c113b4-cfd1-4cd2-85c9-2dfc6eb1aee7\")) {                    Plotly.newPlot(                        \"24c113b4-cfd1-4cd2-85c9-2dfc6eb1aee7\",                        [{\"alignmentgroup\":\"True\",\"hovertemplate\":\"district=%{x}\\u003cbr\\u003eprice_kzt=%{y}\\u003cextra\\u003e\\u003c\\u002fextra\\u003e\",\"legendgroup\":\"\",\"marker\":{\"color\":\"#636efa\"},\"name\":\"\",\"notched\":false,\"offsetgroup\":\"\",\"orientation\":\"v\",\"showlegend\":false,\"x\":[\"\\u0410\\u043b\\u0430\\u0442\\u0430\\u0443\\u0441\\u043a\\u0438\\u0439 \\u0420-\\u041d\",\"\\u0411\\u043e\\u0441\\u0442\\u0430\\u043d\\u0434\\u044b\\u043a\\u0441\\u043a\\u0438\\u0439 \\u0420-\\u041d\",\"\\u0411\\u043e\\u0441\\u0442\\u0430\\u043d\\u0434\\u044b\\u043a\\u0441\\u043a\\u0438\\u0439 \\u0420-\\u041d\",\"\\u041c\\u0435\\u0434\\u0435\\u0443\\u0441\\u043a\\u0438\\u0439 \\u0420-\\u041d\",\"\\u0411\\u043e\\u0441\\u0442\\u0430\\u043d\\u0434\\u044b\\u043a\\u0441\\u043a\\u0438\\u0439 \\u0420-\\u041d\",\"\\u041c\\u0435\\u0434\\u0435\\u0443\\u0441\\u043a\\u0438\\u0439 \\u0420-\\u041d\",\"\\u0411\\u043e\\u0441\\u0442\\u0430\\u043d\\u0434\\u044b\\u043a\\u0441\\u043a\\u0438\\u0439 \\u0420-\\u041d\",\"\\u0411\\u043e\\u0441\\u0442\\u0430\\u043d\\u0434\\u044b\\u043a\\u0441\\u043a\\u0438\\u0439 \\u0420-\\u041d\",\"\\u0411\\u043e\\u0441\\u0442\\u0430\\u043d\\u0434\\u044b\\u043a\\u0441\\u043a\\u0438\\u0439 \\u0420-\\u041d\",\"\\u0411\\u043e\\u0441\\u0442\\u0430\\u043d\\u0434\\u044b\\u043a\\u0441\\u043a\\u0438\\u0439 \\u0420-\\u041d\",\"\\u0410\\u043b\\u0430\\u0442\\u0430\\u0443\\u0441\\u043a\\u0438\\u0439 \\u0420-\\u041d\",null,\"\\u041d\\u0430\\u0443\\u0440\\u044b\\u0437\\u0431\\u0430\\u0439\\u0441\\u043a\\u0438\\u0439 \\u0420-\\u041d\",\"\\u0411\\u043e\\u0441\\u0442\\u0430\\u043d\\u0434\\u044b\\u043a\\u0441\\u043a\\u0438\\u0439 \\u0420-\\u041d\",\"\\u0411\\u043e\\u0441\\u0442\\u0430\\u043d\\u0434\\u044b\\u043a\\u0441\\u043a\\u0438\\u0439 \\u0420-\\u041d\",\"\\u0410\\u043b\\u043c\\u0430\\u043b\\u0438\\u043d\\u0441\\u043a\\u0438\\u0439 \\u0420-\\u041d\",\"\\u0411\\u043e\\u0441\\u0442\\u0430\\u043d\\u0434\\u044b\\u043a\\u0441\\u043a\\u0438\\u0439 \\u0420-\\u041d\",\"\\u0422\\u0443\\u0440\\u043a\\u0441\\u0438\\u0431\\u0441\\u043a\\u0438\\u0439 \\u0420-\\u041d\",\"\\u041d\\u0430\\u0443\\u0440\\u044b\\u0437\\u0431\\u0430\\u0439\\u0441\\u043a\\u0438\\u0439 \\u0420-\\u041d\",\"\\u0410\\u0443\\u044d\\u0437\\u043e\\u0432\\u0441\\u043a\\u0438\\u0439 \\u0420-\\u041d\",\"\\u0411\\u043e\\u0441\\u0442\\u0430\\u043d\\u0434\\u044b\\u043a\\u0441\\u043a\\u0438\\u0439 \\u0420-\\u041d\",\"\\u0411\\u043e\\u0441\\u0442\\u0430\\u043d\\u0434\\u044b\\u043a\\u0441\\u043a\\u0438\\u0439 \\u0420-\\u041d\",\"\\u0410\\u0443\\u044d\\u0437\\u043e\\u0432\\u0441\\u043a\\u0438\\u0439 \\u0420-\\u041d\",\"\\u0410\\u0443\\u044d\\u0437\\u043e\\u0432\\u0441\\u043a\\u0438\\u0439 \\u0420-\\u041d\",\"\\u0410\\u043b\\u0430\\u0442\\u0430\\u0443\\u0441\\u043a\\u0438\\u0439 \\u0420-\\u041d\",\"\\u041d\\u0430\\u0443\\u0440\\u044b\\u0437\\u0431\\u0430\\u0439\\u0441\\u043a\\u0438\\u0439 \\u0420-\\u041d\",\"\\u0422\\u0443\\u0440\\u043a\\u0441\\u0438\\u0431\\u0441\\u043a\\u0438\\u0439 \\u0420-\\u041d\",\"\\u041d\\u0430\\u0443\\u0440\\u044b\\u0437\\u0431\\u0430\\u0439\\u0441\\u043a\\u0438\\u0439 \\u0420-\\u041d\",\"\\u0410\\u0443\\u044d\\u0437\\u043e\\u0432\\u0441\\u043a\\u0438\\u0439 \\u0420-\\u041d\",\"\\u0422\\u0443\\u0440\\u043a\\u0441\\u0438\\u0431\\u0441\\u043a\\u0438\\u0439 \\u0420-\\u041d\",\"\\u0411\\u043e\\u0441\\u0442\\u0430\\u043d\\u0434\\u044b\\u043a\\u0441\\u043a\\u0438\\u0439 \\u0420-\\u041d\",\"\\u0410\\u043b\\u043c\\u0430\\u043b\\u0438\\u043d\\u0441\\u043a\\u0438\\u0439 \\u0420-\\u041d\",\"\\u041c\\u0435\\u0434\\u0435\\u0443\\u0441\\u043a\\u0438\\u0439 \\u0420-\\u041d\",\"\\u0416\\u0435\\u0442\\u044b\\u0441\\u0443\\u0441\\u043a\\u0438\\u0439 \\u0420-\\u041d\",\"\\u0410\\u0443\\u044d\\u0437\\u043e\\u0432\\u0441\\u043a\\u0438\\u0439 \\u0420-\\u041d\",\"\\u0411\\u043e\\u0441\\u0442\\u0430\\u043d\\u0434\\u044b\\u043a\\u0441\\u043a\\u0438\\u0439 \\u0420-\\u041d\",\"\\u0410\\u043b\\u043c\\u0430\\u043b\\u0438\\u043d\\u0441\\u043a\\u0438\\u0439 \\u0420-\\u041d\",\"\\u041d\\u0430\\u0443\\u0440\\u044b\\u0437\\u0431\\u0430\\u0439\\u0441\\u043a\\u0438\\u0439 \\u0420-\\u041d\",\"\\u0410\\u043b\\u043c\\u0430\\u043b\\u0438\\u043d\\u0441\\u043a\\u0438\\u0439 \\u0420-\\u041d\",\"\\u0416\\u0435\\u0442\\u044b\\u0441\\u0443\\u0441\\u043a\\u0438\\u0439 \\u0420-\\u041d\",\"\\u0410\\u043b\\u043c\\u0430\\u043b\\u0438\\u043d\\u0441\\u043a\\u0438\\u0439 \\u0420-\\u041d\",\"\\u0416\\u0435\\u0442\\u044b\\u0441\\u0443\\u0441\\u043a\\u0438\\u0439 \\u0420-\\u041d\",\"\\u0422\\u0443\\u0440\\u043a\\u0441\\u0438\\u0431\\u0441\\u043a\\u0438\\u0439 \\u0420-\\u041d\",\"\\u0411\\u043e\\u0441\\u0442\\u0430\\u043d\\u0434\\u044b\\u043a\\u0441\\u043a\\u0438\\u0439 \\u0420-\\u041d\",\"\\u0410\\u0443\\u044d\\u0437\\u043e\\u0432\\u0441\\u043a\\u0438\\u0439 \\u0420-\\u041d\",\"\\u041c\\u0435\\u0434\\u0435\\u0443\\u0441\\u043a\\u0438\\u0439 \\u0420-\\u041d\",\"\\u041c\\u0435\\u0434\\u0435\\u0443\\u0441\\u043a\\u0438\\u0439 \\u0420-\\u041d\",\"\\u041c\\u0435\\u0434\\u0435\\u0443\\u0441\\u043a\\u0438\\u0439 \\u0420-\\u041d\",\"\\u0410\\u043b\\u043c\\u0430\\u043b\\u0438\\u043d\\u0441\\u043a\\u0438\\u0439 \\u0420-\\u041d\",\"\\u0410\\u043b\\u043c\\u0430\\u043b\\u0438\\u043d\\u0441\\u043a\\u0438\\u0439 \\u0420-\\u041d\",\"\\u0410\\u043b\\u043c\\u0430\\u043b\\u0438\\u043d\\u0441\\u043a\\u0438\\u0439 \\u0420-\\u041d\",\"\\u0416\\u0435\\u0442\\u044b\\u0441\\u0443\\u0441\\u043a\\u0438\\u0439 \\u0420-\\u041d\",\"\\u0422\\u0443\\u0440\\u043a\\u0441\\u0438\\u0431\\u0441\\u043a\\u0438\\u0439 \\u0420-\\u041d\",\"\\u0410\\u043b\\u043c\\u0430\\u043b\\u0438\\u043d\\u0441\\u043a\\u0438\\u0439 \\u0420-\\u041d\",\"\\u041c\\u0435\\u0434\\u0435\\u0443\\u0441\\u043a\\u0438\\u0439 \\u0420-\\u041d\",\"\\u0410\\u043b\\u0430\\u0442\\u0430\\u0443\\u0441\\u043a\\u0438\\u0439 \\u0420-\\u041d\",\"\\u041d\\u0430\\u0443\\u0440\\u044b\\u0437\\u0431\\u0430\\u0439\\u0441\\u043a\\u0438\\u0439 \\u0420-\\u041d\",\"\\u0411\\u043e\\u0441\\u0442\\u0430\\u043d\\u0434\\u044b\\u043a\\u0441\\u043a\\u0438\\u0439 \\u0420-\\u041d\",\"\\u0410\\u043b\\u043c\\u0430\\u043b\\u0438\\u043d\\u0441\\u043a\\u0438\\u0439 \\u0420-\\u041d\",\"\\u0422\\u0443\\u0440\\u043a\\u0441\\u0438\\u0431\\u0441\\u043a\\u0438\\u0439 \\u0420-\\u041d\",\"\\u041c\\u0435\\u0434\\u0435\\u0443\\u0441\\u043a\\u0438\\u0439 \\u0420-\\u041d\",\"\\u0411\\u043e\\u0441\\u0442\\u0430\\u043d\\u0434\\u044b\\u043a\\u0441\\u043a\\u0438\\u0439 \\u0420-\\u041d\",\"\\u041d\\u0430\\u0443\\u0440\\u044b\\u0437\\u0431\\u0430\\u0439\\u0441\\u043a\\u0438\\u0439 \\u0420-\\u041d\",\"\\u0411\\u043e\\u0441\\u0442\\u0430\\u043d\\u0434\\u044b\\u043a\\u0441\\u043a\\u0438\\u0439 \\u0420-\\u041d\",\"\\u0411\\u043e\\u0441\\u0442\\u0430\\u043d\\u0434\\u044b\\u043a\\u0441\\u043a\\u0438\\u0439 \\u0420-\\u041d\",\"\\u0411\\u043e\\u0441\\u0442\\u0430\\u043d\\u0434\\u044b\\u043a\\u0441\\u043a\\u0438\\u0439 \\u0420-\\u041d\",\"\\u0410\\u043b\\u0430\\u0442\\u0430\\u0443\\u0441\\u043a\\u0438\\u0439 \\u0420-\\u041d\",\"\\u0410\\u0443\\u044d\\u0437\\u043e\\u0432\\u0441\\u043a\\u0438\\u0439 \\u0420-\\u041d\",\"\\u041c\\u0435\\u0434\\u0435\\u0443\\u0441\\u043a\\u0438\\u0439 \\u0420-\\u041d\",\"\\u0410\\u0443\\u044d\\u0437\\u043e\\u0432\\u0441\\u043a\\u0438\\u0439 \\u0420-\\u041d\",\"\\u0410\\u043b\\u043c\\u0430\\u043b\\u0438\\u043d\\u0441\\u043a\\u0438\\u0439 \\u0420-\\u041d\",\"\\u0410\\u043b\\u043c\\u0430\\u043b\\u0438\\u043d\\u0441\\u043a\\u0438\\u0439 \\u0420-\\u041d\",\"\\u0411\\u043e\\u0441\\u0442\\u0430\\u043d\\u0434\\u044b\\u043a\\u0441\\u043a\\u0438\\u0439 \\u0420-\\u041d\",\"\\u0411\\u043e\\u0441\\u0442\\u0430\\u043d\\u0434\\u044b\\u043a\\u0441\\u043a\\u0438\\u0439 \\u0420-\\u041d\",\"\\u0410\\u0443\\u044d\\u0437\\u043e\\u0432\\u0441\\u043a\\u0438\\u0439 \\u0420-\\u041d\",\"\\u0410\\u043b\\u043c\\u0430\\u043b\\u0438\\u043d\\u0441\\u043a\\u0438\\u0439 \\u0420-\\u041d\",\"\\u0410\\u043b\\u0430\\u0442\\u0430\\u0443\\u0441\\u043a\\u0438\\u0439 \\u0420-\\u041d\",\"\\u0411\\u043e\\u0441\\u0442\\u0430\\u043d\\u0434\\u044b\\u043a\\u0441\\u043a\\u0438\\u0439 \\u0420-\\u041d\",\"\\u0411\\u043e\\u0441\\u0442\\u0430\\u043d\\u0434\\u044b\\u043a\\u0441\\u043a\\u0438\\u0439 \\u0420-\\u041d\",\"\\u0416\\u0435\\u0442\\u044b\\u0441\\u0443\\u0441\\u043a\\u0438\\u0439 \\u0420-\\u041d\",\"\\u041d\\u0430\\u0443\\u0440\\u044b\\u0437\\u0431\\u0430\\u0439\\u0441\\u043a\\u0438\\u0439 \\u0420-\\u041d\",\"\\u0411\\u043e\\u0441\\u0442\\u0430\\u043d\\u0434\\u044b\\u043a\\u0441\\u043a\\u0438\\u0439 \\u0420-\\u041d\",\"\\u0411\\u043e\\u0441\\u0442\\u0430\\u043d\\u0434\\u044b\\u043a\\u0441\\u043a\\u0438\\u0439 \\u0420-\\u041d\",null,\"\\u041c\\u0435\\u0434\\u0435\\u0443\\u0441\\u043a\\u0438\\u0439 \\u0420-\\u041d\",\"\\u0410\\u0443\\u044d\\u0437\\u043e\\u0432\\u0441\\u043a\\u0438\\u0439 \\u0420-\\u041d\",\"\\u0410\\u043b\\u043c\\u0430\\u043b\\u0438\\u043d\\u0441\\u043a\\u0438\\u0439 \\u0420-\\u041d\",\"\\u0410\\u0443\\u044d\\u0437\\u043e\\u0432\\u0441\\u043a\\u0438\\u0439 \\u0420-\\u041d\",\"\\u0411\\u043e\\u0441\\u0442\\u0430\\u043d\\u0434\\u044b\\u043a\\u0441\\u043a\\u0438\\u0439 \\u0420-\\u041d\",\"\\u041d\\u0430\\u0443\\u0440\\u044b\\u0437\\u0431\\u0430\\u0439\\u0441\\u043a\\u0438\\u0439 \\u0420-\\u041d\",\"\\u0410\\u043b\\u043c\\u0430\\u043b\\u0438\\u043d\\u0441\\u043a\\u0438\\u0439 \\u0420-\\u041d\",\"\\u0411\\u043e\\u0441\\u0442\\u0430\\u043d\\u0434\\u044b\\u043a\\u0441\\u043a\\u0438\\u0439 \\u0420-\\u041d\",\"\\u0411\\u043e\\u0441\\u0442\\u0430\\u043d\\u0434\\u044b\\u043a\\u0441\\u043a\\u0438\\u0439 \\u0420-\\u041d\",\"\\u041c\\u0435\\u0434\\u0435\\u0443\\u0441\\u043a\\u0438\\u0439 \\u0420-\\u041d\",\"\\u041d\\u0430\\u0443\\u0440\\u044b\\u0437\\u0431\\u0430\\u0439\\u0441\\u043a\\u0438\\u0439 \\u0420-\\u041d\",\"\\u0411\\u043e\\u0441\\u0442\\u0430\\u043d\\u0434\\u044b\\u043a\\u0441\\u043a\\u0438\\u0439 \\u0420-\\u041d\",\"\\u0410\\u043b\\u043c\\u0430\\u043b\\u0438\\u043d\\u0441\\u043a\\u0438\\u0439 \\u0420-\\u041d\",\"\\u0422\\u0443\\u0440\\u043a\\u0441\\u0438\\u0431\\u0441\\u043a\\u0438\\u0439 \\u0420-\\u041d\",\"\\u0411\\u043e\\u0441\\u0442\\u0430\\u043d\\u0434\\u044b\\u043a\\u0441\\u043a\\u0438\\u0439 \\u0420-\\u041d\",\"\\u0410\\u043b\\u0430\\u0442\\u0430\\u0443\\u0441\\u043a\\u0438\\u0439 \\u0420-\\u041d\",\"\\u0411\\u043e\\u0441\\u0442\\u0430\\u043d\\u0434\\u044b\\u043a\\u0441\\u043a\\u0438\\u0439 \\u0420-\\u041d\",\"\\u0410\\u0443\\u044d\\u0437\\u043e\\u0432\\u0441\\u043a\\u0438\\u0439 \\u0420-\\u041d\",\"\\u041c\\u0435\\u0434\\u0435\\u0443\\u0441\\u043a\\u0438\\u0439 \\u0420-\\u041d\",\"\\u0411\\u043e\\u0441\\u0442\\u0430\\u043d\\u0434\\u044b\\u043a\\u0441\\u043a\\u0438\\u0439 \\u0420-\\u041d\",\"\\u0410\\u043b\\u043c\\u0430\\u043b\\u0438\\u043d\\u0441\\u043a\\u0438\\u0439 \\u0420-\\u041d\",\"\\u041c\\u0435\\u0434\\u0435\\u0443\\u0441\\u043a\\u0438\\u0439 \\u0420-\\u041d\",\"\\u041d\\u0430\\u0443\\u0440\\u044b\\u0437\\u0431\\u0430\\u0439\\u0441\\u043a\\u0438\\u0439 \\u0420-\\u041d\",\"\\u041c\\u0435\\u0434\\u0435\\u0443\\u0441\\u043a\\u0438\\u0439 \\u0420-\\u041d\",\"\\u0411\\u043e\\u0441\\u0442\\u0430\\u043d\\u0434\\u044b\\u043a\\u0441\\u043a\\u0438\\u0439 \\u0420-\\u041d\",\"\\u0410\\u0443\\u044d\\u0437\\u043e\\u0432\\u0441\\u043a\\u0438\\u0439 \\u0420-\\u041d\",\"\\u0410\\u043b\\u0430\\u0442\\u0430\\u0443\\u0441\\u043a\\u0438\\u0439 \\u0420-\\u041d\",\"\\u0411\\u043e\\u0441\\u0442\\u0430\\u043d\\u0434\\u044b\\u043a\\u0441\\u043a\\u0438\\u0439 \\u0420-\\u041d\",\"\\u0411\\u043e\\u0441\\u0442\\u0430\\u043d\\u0434\\u044b\\u043a\\u0441\\u043a\\u0438\\u0439 \\u0420-\\u041d\",\"\\u0411\\u043e\\u0441\\u0442\\u0430\\u043d\\u0434\\u044b\\u043a\\u0441\\u043a\\u0438\\u0439 \\u0420-\\u041d\",\"\\u0410\\u0443\\u044d\\u0437\\u043e\\u0432\\u0441\\u043a\\u0438\\u0439 \\u0420-\\u041d\",\"\\u0410\\u043b\\u043c\\u0430\\u0442\\u0438\\u043d\\u0441\\u043a\\u0430\\u044f \\u041e\\u0431\\u043b.\",\"\\u0410\\u043b\\u043c\\u0430\\u0442\\u0438\\u043d\\u0441\\u043a\\u0430\\u044f \\u041e\\u0431\\u043b.\",\"\\u0410\\u043b\\u043c\\u0430\\u0442\\u0438\\u043d\\u0441\\u043a\\u0430\\u044f \\u041e\\u0431\\u043b.\",\"\\u0410\\u043b\\u043c\\u0430\\u0442\\u0438\\u043d\\u0441\\u043a\\u0430\\u044f \\u041e\\u0431\\u043b.\",\"\\u0410\\u043b\\u043c\\u0430\\u0442\\u0438\\u043d\\u0441\\u043a\\u0430\\u044f \\u041e\\u0431\\u043b.\",\"\\u0410\\u043b\\u0430\\u0442\\u0430\\u0443\\u0441\\u043a\\u0438\\u0439 \\u0420-\\u041d\",\"\\u0411\\u043e\\u0441\\u0442\\u0430\\u043d\\u0434\\u044b\\u043a\\u0441\\u043a\\u0438\\u0439 \\u0420-\\u041d\",\"\\u0411\\u043e\\u0441\\u0442\\u0430\\u043d\\u0434\\u044b\\u043a\\u0441\\u043a\\u0438\\u0439 \\u0420-\\u041d\",\"\\u041c\\u0435\\u0434\\u0435\\u0443\\u0441\\u043a\\u0438\\u0439 \\u0420-\\u041d\",\"\\u0411\\u043e\\u0441\\u0442\\u0430\\u043d\\u0434\\u044b\\u043a\\u0441\\u043a\\u0438\\u0439 \\u0420-\\u041d\",\"\\u041c\\u0435\\u0434\\u0435\\u0443\\u0441\\u043a\\u0438\\u0439 \\u0420-\\u041d\",\"\\u0411\\u043e\\u0441\\u0442\\u0430\\u043d\\u0434\\u044b\\u043a\\u0441\\u043a\\u0438\\u0439 \\u0420-\\u041d\",\"\\u0411\\u043e\\u0441\\u0442\\u0430\\u043d\\u0434\\u044b\\u043a\\u0441\\u043a\\u0438\\u0439 \\u0420-\\u041d\",\"\\u0411\\u043e\\u0441\\u0442\\u0430\\u043d\\u0434\\u044b\\u043a\\u0441\\u043a\\u0438\\u0439 \\u0420-\\u041d\",\"\\u0411\\u043e\\u0441\\u0442\\u0430\\u043d\\u0434\\u044b\\u043a\\u0441\\u043a\\u0438\\u0439 \\u0420-\\u041d\",\"\\u0410\\u043b\\u0430\\u0442\\u0430\\u0443\\u0441\\u043a\\u0438\\u0439 \\u0420-\\u041d\",null,\"\\u041d\\u0430\\u0443\\u0440\\u044b\\u0437\\u0431\\u0430\\u0439\\u0441\\u043a\\u0438\\u0439 \\u0420-\\u041d\",\"\\u0411\\u043e\\u0441\\u0442\\u0430\\u043d\\u0434\\u044b\\u043a\\u0441\\u043a\\u0438\\u0439 \\u0420-\\u041d\",\"\\u0411\\u043e\\u0441\\u0442\\u0430\\u043d\\u0434\\u044b\\u043a\\u0441\\u043a\\u0438\\u0439 \\u0420-\\u041d\",\"\\u0410\\u043b\\u043c\\u0430\\u043b\\u0438\\u043d\\u0441\\u043a\\u0438\\u0439 \\u0420-\\u041d\",\"\\u0411\\u043e\\u0441\\u0442\\u0430\\u043d\\u0434\\u044b\\u043a\\u0441\\u043a\\u0438\\u0439 \\u0420-\\u041d\",\"\\u0422\\u0443\\u0440\\u043a\\u0441\\u0438\\u0431\\u0441\\u043a\\u0438\\u0439 \\u0420-\\u041d\",\"\\u041d\\u0430\\u0443\\u0440\\u044b\\u0437\\u0431\\u0430\\u0439\\u0441\\u043a\\u0438\\u0439 \\u0420-\\u041d\",\"\\u0410\\u0443\\u044d\\u0437\\u043e\\u0432\\u0441\\u043a\\u0438\\u0439 \\u0420-\\u041d\",\"\\u0410\\u043b\\u0430\\u0442\\u0430\\u0443\\u0441\\u043a\\u0438\\u0439 \\u0420-\\u041d\",\"\\u0411\\u043e\\u0441\\u0442\\u0430\\u043d\\u0434\\u044b\\u043a\\u0441\\u043a\\u0438\\u0439 \\u0420-\\u041d\",null,\"\\u0411\\u043e\\u0441\\u0442\\u0430\\u043d\\u0434\\u044b\\u043a\\u0441\\u043a\\u0438\\u0439 \\u0420-\\u041d\",\"\\u0411\\u043e\\u0441\\u0442\\u0430\\u043d\\u0434\\u044b\\u043a\\u0441\\u043a\\u0438\\u0439 \\u0420-\\u041d\",\"\\u0411\\u043e\\u0441\\u0442\\u0430\\u043d\\u0434\\u044b\\u043a\\u0441\\u043a\\u0438\\u0439 \\u0420-\\u041d\",\"\\u0422\\u0443\\u0440\\u043a\\u0441\\u0438\\u0431\\u0441\\u043a\\u0438\\u0439 \\u0420-\\u041d\",\"\\u0410\\u0443\\u044d\\u0437\\u043e\\u0432\\u0441\\u043a\\u0438\\u0439 \\u0420-\\u041d\",\"\\u0410\\u0443\\u044d\\u0437\\u043e\\u0432\\u0441\\u043a\\u0438\\u0439 \\u0420-\\u041d\",\"\\u0410\\u043b\\u0430\\u0442\\u0430\\u0443\\u0441\\u043a\\u0438\\u0439 \\u0420-\\u041d\",\"\\u041d\\u0430\\u0443\\u0440\\u044b\\u0437\\u0431\\u0430\\u0439\\u0441\\u043a\\u0438\\u0439 \\u0420-\\u041d\",\"\\u0422\\u0443\\u0440\\u043a\\u0441\\u0438\\u0431\\u0441\\u043a\\u0438\\u0439 \\u0420-\\u041d\",\"\\u041d\\u0430\\u0443\\u0440\\u044b\\u0437\\u0431\\u0430\\u0439\\u0441\\u043a\\u0438\\u0439 \\u0420-\\u041d\",\"\\u0410\\u0443\\u044d\\u0437\\u043e\\u0432\\u0441\\u043a\\u0438\\u0439 \\u0420-\\u041d\",\"\\u0422\\u0443\\u0440\\u043a\\u0441\\u0438\\u0431\\u0441\\u043a\\u0438\\u0439 \\u0420-\\u041d\",\"\\u0411\\u043e\\u0441\\u0442\\u0430\\u043d\\u0434\\u044b\\u043a\\u0441\\u043a\\u0438\\u0439 \\u0420-\\u041d\",\"\\u0410\\u043b\\u043c\\u0430\\u043b\\u0438\\u043d\\u0441\\u043a\\u0438\\u0439 \\u0420-\\u041d\",\"\\u041c\\u0435\\u0434\\u0435\\u0443\\u0441\\u043a\\u0438\\u0439 \\u0420-\\u041d\",\"\\u0416\\u0435\\u0442\\u044b\\u0441\\u0443\\u0441\\u043a\\u0438\\u0439 \\u0420-\\u041d\",\"\\u0410\\u0443\\u044d\\u0437\\u043e\\u0432\\u0441\\u043a\\u0438\\u0439 \\u0420-\\u041d\",\"\\u0411\\u043e\\u0441\\u0442\\u0430\\u043d\\u0434\\u044b\\u043a\\u0441\\u043a\\u0438\\u0439 \\u0420-\\u041d\",\"\\u0410\\u043b\\u043c\\u0430\\u043b\\u0438\\u043d\\u0441\\u043a\\u0438\\u0439 \\u0420-\\u041d\",\"\\u041d\\u0430\\u0443\\u0440\\u044b\\u0437\\u0431\\u0430\\u0439\\u0441\\u043a\\u0438\\u0439 \\u0420-\\u041d\",\"\\u0410\\u043b\\u043c\\u0430\\u043b\\u0438\\u043d\\u0441\\u043a\\u0438\\u0439 \\u0420-\\u041d\",\"\\u0416\\u0435\\u0442\\u044b\\u0441\\u0443\\u0441\\u043a\\u0438\\u0439 \\u0420-\\u041d\",\"\\u041c\\u0435\\u0434\\u0435\\u0443\\u0441\\u043a\\u0438\\u0439 \\u0420-\\u041d\",\"\\u0410\\u043b\\u043c\\u0430\\u043b\\u0438\\u043d\\u0441\\u043a\\u0438\\u0439 \\u0420-\\u041d\",\"\\u0416\\u0435\\u0442\\u044b\\u0441\\u0443\\u0441\\u043a\\u0438\\u0439 \\u0420-\\u041d\",\"\\u0422\\u0443\\u0440\\u043a\\u0441\\u0438\\u0431\\u0441\\u043a\\u0438\\u0439 \\u0420-\\u041d\",\"\\u0411\\u043e\\u0441\\u0442\\u0430\\u043d\\u0434\\u044b\\u043a\\u0441\\u043a\\u0438\\u0439 \\u0420-\\u041d\",\"\\u0410\\u0443\\u044d\\u0437\\u043e\\u0432\\u0441\\u043a\\u0438\\u0439 \\u0420-\\u041d\",\"\\u041c\\u0435\\u0434\\u0435\\u0443\\u0441\\u043a\\u0438\\u0439 \\u0420-\\u041d\",\"\\u041c\\u0435\\u0434\\u0435\\u0443\\u0441\\u043a\\u0438\\u0439 \\u0420-\\u041d\",\"\\u041c\\u0435\\u0434\\u0435\\u0443\\u0441\\u043a\\u0438\\u0439 \\u0420-\\u041d\",\"\\u0410\\u043b\\u043c\\u0430\\u043b\\u0438\\u043d\\u0441\\u043a\\u0438\\u0439 \\u0420-\\u041d\",\"\\u0410\\u043b\\u043c\\u0430\\u043b\\u0438\\u043d\\u0441\\u043a\\u0438\\u0439 \\u0420-\\u041d\",\"\\u0410\\u043b\\u043c\\u0430\\u043b\\u0438\\u043d\\u0441\\u043a\\u0438\\u0439 \\u0420-\\u041d\",\"\\u0416\\u0435\\u0442\\u044b\\u0441\\u0443\\u0441\\u043a\\u0438\\u0439 \\u0420-\\u041d\",\"\\u0422\\u0443\\u0440\\u043a\\u0441\\u0438\\u0431\\u0441\\u043a\\u0438\\u0439 \\u0420-\\u041d\",\"\\u0410\\u043b\\u0430\\u0442\\u0430\\u0443\\u0441\\u043a\\u0438\\u0439 \\u0420-\\u041d\",\"\\u0411\\u043e\\u0441\\u0442\\u0430\\u043d\\u0434\\u044b\\u043a\\u0441\\u043a\\u0438\\u0439 \\u0420-\\u041d\",null,\"\\u0411\\u043e\\u0441\\u0442\\u0430\\u043d\\u0434\\u044b\\u043a\\u0441\\u043a\\u0438\\u0439 \\u0420-\\u041d\",\"\\u0411\\u043e\\u0441\\u0442\\u0430\\u043d\\u0434\\u044b\\u043a\\u0441\\u043a\\u0438\\u0439 \\u0420-\\u041d\",\"\\u0411\\u043e\\u0441\\u0442\\u0430\\u043d\\u0434\\u044b\\u043a\\u0441\\u043a\\u0438\\u0439 \\u0420-\\u041d\",\"\\u0422\\u0443\\u0440\\u043a\\u0441\\u0438\\u0431\\u0441\\u043a\\u0438\\u0439 \\u0420-\\u041d\",\"\\u0410\\u0443\\u044d\\u0437\\u043e\\u0432\\u0441\\u043a\\u0438\\u0439 \\u0420-\\u041d\",\"\\u0410\\u0443\\u044d\\u0437\\u043e\\u0432\\u0441\\u043a\\u0438\\u0439 \\u0420-\\u041d\",\"\\u0410\\u043b\\u0430\\u0442\\u0430\\u0443\\u0441\\u043a\\u0438\\u0439 \\u0420-\\u041d\",\"\\u041d\\u0430\\u0443\\u0440\\u044b\\u0437\\u0431\\u0430\\u0439\\u0441\\u043a\\u0438\\u0439 \\u0420-\\u041d\",\"\\u0422\\u0443\\u0440\\u043a\\u0441\\u0438\\u0431\\u0441\\u043a\\u0438\\u0439 \\u0420-\\u041d\",\"\\u041d\\u0430\\u0443\\u0440\\u044b\\u0437\\u0431\\u0430\\u0439\\u0441\\u043a\\u0438\\u0439 \\u0420-\\u041d\",\"\\u0410\\u0443\\u044d\\u0437\\u043e\\u0432\\u0441\\u043a\\u0438\\u0439 \\u0420-\\u041d\",\"\\u0422\\u0443\\u0440\\u043a\\u0441\\u0438\\u0431\\u0441\\u043a\\u0438\\u0439 \\u0420-\\u041d\",\"\\u0411\\u043e\\u0441\\u0442\\u0430\\u043d\\u0434\\u044b\\u043a\\u0441\\u043a\\u0438\\u0439 \\u0420-\\u041d\",\"\\u0410\\u043b\\u043c\\u0430\\u043b\\u0438\\u043d\\u0441\\u043a\\u0438\\u0439 \\u0420-\\u041d\",\"\\u041c\\u0435\\u0434\\u0435\\u0443\\u0441\\u043a\\u0438\\u0439 \\u0420-\\u041d\",\"\\u0416\\u0435\\u0442\\u044b\\u0441\\u0443\\u0441\\u043a\\u0438\\u0439 \\u0420-\\u041d\",\"\\u0410\\u0443\\u044d\\u0437\\u043e\\u0432\\u0441\\u043a\\u0438\\u0439 \\u0420-\\u041d\",\"\\u0422\\u0443\\u0440\\u043a\\u0441\\u0438\\u0431\\u0441\\u043a\\u0438\\u0439 \\u0420-\\u041d\",\"\\u0410\\u043b\\u043c\\u0430\\u043b\\u0438\\u043d\\u0441\\u043a\\u0438\\u0439 \\u0420-\\u041d\",\"\\u041c\\u0435\\u0434\\u0435\\u0443\\u0441\\u043a\\u0438\\u0439 \\u0420-\\u041d\",\"\\u0410\\u043b\\u0430\\u0442\\u0430\\u0443\\u0441\\u043a\\u0438\\u0439 \\u0420-\\u041d\",\"\\u041d\\u0430\\u0443\\u0440\\u044b\\u0437\\u0431\\u0430\\u0439\\u0441\\u043a\\u0438\\u0439 \\u0420-\\u041d\",\"\\u0411\\u043e\\u0441\\u0442\\u0430\\u043d\\u0434\\u044b\\u043a\\u0441\\u043a\\u0438\\u0439 \\u0420-\\u041d\",\"\\u0410\\u043b\\u043c\\u0430\\u043b\\u0438\\u043d\\u0441\\u043a\\u0438\\u0439 \\u0420-\\u041d\",\"\\u0422\\u0443\\u0440\\u043a\\u0441\\u0438\\u0431\\u0441\\u043a\\u0438\\u0439 \\u0420-\\u041d\",\"\\u041c\\u0435\\u0434\\u0435\\u0443\\u0441\\u043a\\u0438\\u0439 \\u0420-\\u041d\",\"\\u0411\\u043e\\u0441\\u0442\\u0430\\u043d\\u0434\\u044b\\u043a\\u0441\\u043a\\u0438\\u0439 \\u0420-\\u041d\",\"\\u041d\\u0430\\u0443\\u0440\\u044b\\u0437\\u0431\\u0430\\u0439\\u0441\\u043a\\u0438\\u0439 \\u0420-\\u041d\",\"\\u0411\\u043e\\u0441\\u0442\\u0430\\u043d\\u0434\\u044b\\u043a\\u0441\\u043a\\u0438\\u0439 \\u0420-\\u041d\",\"\\u0411\\u043e\\u0441\\u0442\\u0430\\u043d\\u0434\\u044b\\u043a\\u0441\\u043a\\u0438\\u0439 \\u0420-\\u041d\",\"\\u0411\\u043e\\u0441\\u0442\\u0430\\u043d\\u0434\\u044b\\u043a\\u0441\\u043a\\u0438\\u0439 \\u0420-\\u041d\",\"\\u0410\\u043b\\u0430\\u0442\\u0430\\u0443\\u0441\\u043a\\u0438\\u0439 \\u0420-\\u041d\",\"\\u0410\\u0443\\u044d\\u0437\\u043e\\u0432\\u0441\\u043a\\u0438\\u0439 \\u0420-\\u041d\",\"\\u041c\\u0435\\u0434\\u0435\\u0443\\u0441\\u043a\\u0438\\u0439 \\u0420-\\u041d\",\"\\u0410\\u043b\\u0430\\u0442\\u0430\\u0443\\u0441\\u043a\\u0438\\u0439 \\u0420-\\u041d\",\"\\u0411\\u043e\\u0441\\u0442\\u0430\\u043d\\u0434\\u044b\\u043a\\u0441\\u043a\\u0438\\u0439 \\u0420-\\u041d\",null,\"\\u0411\\u043e\\u0441\\u0442\\u0430\\u043d\\u0434\\u044b\\u043a\\u0441\\u043a\\u0438\\u0439 \\u0420-\\u041d\",\"\\u0411\\u043e\\u0441\\u0442\\u0430\\u043d\\u0434\\u044b\\u043a\\u0441\\u043a\\u0438\\u0439 \\u0420-\\u041d\",\"\\u0411\\u043e\\u0441\\u0442\\u0430\\u043d\\u0434\\u044b\\u043a\\u0441\\u043a\\u0438\\u0439 \\u0420-\\u041d\",\"\\u0422\\u0443\\u0440\\u043a\\u0441\\u0438\\u0431\\u0441\\u043a\\u0438\\u0439 \\u0420-\\u041d\",\"\\u0410\\u0443\\u044d\\u0437\\u043e\\u0432\\u0441\\u043a\\u0438\\u0439 \\u0420-\\u041d\",\"\\u0410\\u0443\\u044d\\u0437\\u043e\\u0432\\u0441\\u043a\\u0438\\u0439 \\u0420-\\u041d\",\"\\u0410\\u043b\\u0430\\u0442\\u0430\\u0443\\u0441\\u043a\\u0438\\u0439 \\u0420-\\u041d\",\"\\u041d\\u0430\\u0443\\u0440\\u044b\\u0437\\u0431\\u0430\\u0439\\u0441\\u043a\\u0438\\u0439 \\u0420-\\u041d\",\"\\u0422\\u0443\\u0440\\u043a\\u0441\\u0438\\u0431\\u0441\\u043a\\u0438\\u0439 \\u0420-\\u041d\",\"\\u041d\\u0430\\u0443\\u0440\\u044b\\u0437\\u0431\\u0430\\u0439\\u0441\\u043a\\u0438\\u0439 \\u0420-\\u041d\",\"\\u0410\\u0443\\u044d\\u0437\\u043e\\u0432\\u0441\\u043a\\u0438\\u0439 \\u0420-\\u041d\",\"\\u0422\\u0443\\u0440\\u043a\\u0441\\u0438\\u0431\\u0441\\u043a\\u0438\\u0439 \\u0420-\\u041d\",\"\\u0411\\u043e\\u0441\\u0442\\u0430\\u043d\\u0434\\u044b\\u043a\\u0441\\u043a\\u0438\\u0439 \\u0420-\\u041d\",\"\\u0410\\u043b\\u043c\\u0430\\u043b\\u0438\\u043d\\u0441\\u043a\\u0438\\u0439 \\u0420-\\u041d\",\"\\u041c\\u0435\\u0434\\u0435\\u0443\\u0441\\u043a\\u0438\\u0439 \\u0420-\\u041d\",\"\\u0416\\u0435\\u0442\\u044b\\u0441\\u0443\\u0441\\u043a\\u0438\\u0439 \\u0420-\\u041d\",\"\\u0410\\u0443\\u044d\\u0437\\u043e\\u0432\\u0441\\u043a\\u0438\\u0439 \\u0420-\\u041d\",\"\\u0410\\u0443\\u044d\\u0437\\u043e\\u0432\\u0441\\u043a\\u0438\\u0439 \\u0420-\\u041d\",\"\\u0410\\u043b\\u043c\\u0430\\u043b\\u0438\\u043d\\u0441\\u043a\\u0438\\u0439 \\u0420-\\u041d\",\"\\u0410\\u043b\\u043c\\u0430\\u043b\\u0438\\u043d\\u0441\\u043a\\u0438\\u0439 \\u0420-\\u041d\",\"\\u0411\\u043e\\u0441\\u0442\\u0430\\u043d\\u0434\\u044b\\u043a\\u0441\\u043a\\u0438\\u0439 \\u0420-\\u041d\",\"\\u0411\\u043e\\u0441\\u0442\\u0430\\u043d\\u0434\\u044b\\u043a\\u0441\\u043a\\u0438\\u0439 \\u0420-\\u041d\",\"\\u0410\\u0443\\u044d\\u0437\\u043e\\u0432\\u0441\\u043a\\u0438\\u0439 \\u0420-\\u041d\",\"\\u0410\\u043b\\u043c\\u0430\\u043b\\u0438\\u043d\\u0441\\u043a\\u0438\\u0439 \\u0420-\\u041d\",\"\\u0410\\u043b\\u0430\\u0442\\u0430\\u0443\\u0441\\u043a\\u0438\\u0439 \\u0420-\\u041d\",\"\\u0411\\u043e\\u0441\\u0442\\u0430\\u043d\\u0434\\u044b\\u043a\\u0441\\u043a\\u0438\\u0439 \\u0420-\\u041d\",\"\\u0411\\u043e\\u0441\\u0442\\u0430\\u043d\\u0434\\u044b\\u043a\\u0441\\u043a\\u0438\\u0439 \\u0420-\\u041d\",\"\\u0416\\u0435\\u0442\\u044b\\u0441\\u0443\\u0441\\u043a\\u0438\\u0439 \\u0420-\\u041d\",\"\\u041d\\u0430\\u0443\\u0440\\u044b\\u0437\\u0431\\u0430\\u0439\\u0441\\u043a\\u0438\\u0439 \\u0420-\\u041d\",\"\\u0411\\u043e\\u0441\\u0442\\u0430\\u043d\\u0434\\u044b\\u043a\\u0441\\u043a\\u0438\\u0439 \\u0420-\\u041d\",\"\\u0411\\u043e\\u0441\\u0442\\u0430\\u043d\\u0434\\u044b\\u043a\\u0441\\u043a\\u0438\\u0439 \\u0420-\\u041d\",null,\"\\u041c\\u0435\\u0434\\u0435\\u0443\\u0441\\u043a\\u0438\\u0439 \\u0420-\\u041d\",\"\\u0410\\u0443\\u044d\\u0437\\u043e\\u0432\\u0441\\u043a\\u0438\\u0439 \\u0420-\\u041d\",\"\\u0410\\u043b\\u043c\\u0430\\u043b\\u0438\\u043d\\u0441\\u043a\\u0438\\u0439 \\u0420-\\u041d\",\"\\u0410\\u0443\\u044d\\u0437\\u043e\\u0432\\u0441\\u043a\\u0438\\u0439 \\u0420-\\u041d\",\"\\u0411\\u043e\\u0441\\u0442\\u0430\\u043d\\u0434\\u044b\\u043a\\u0441\\u043a\\u0438\\u0439 \\u0420-\\u041d\",\"\\u0410\\u043b\\u0430\\u0442\\u0430\\u0443\\u0441\\u043a\\u0438\\u0439 \\u0420-\\u041d\",\"\\u0411\\u043e\\u0441\\u0442\\u0430\\u043d\\u0434\\u044b\\u043a\\u0441\\u043a\\u0438\\u0439 \\u0420-\\u041d\",null,\"\\u0411\\u043e\\u0441\\u0442\\u0430\\u043d\\u0434\\u044b\\u043a\\u0441\\u043a\\u0438\\u0439 \\u0420-\\u041d\",\"\\u0411\\u043e\\u0441\\u0442\\u0430\\u043d\\u0434\\u044b\\u043a\\u0441\\u043a\\u0438\\u0439 \\u0420-\\u041d\",\"\\u0411\\u043e\\u0441\\u0442\\u0430\\u043d\\u0434\\u044b\\u043a\\u0441\\u043a\\u0438\\u0439 \\u0420-\\u041d\",\"\\u0422\\u0443\\u0440\\u043a\\u0441\\u0438\\u0431\\u0441\\u043a\\u0438\\u0439 \\u0420-\\u041d\",\"\\u0410\\u0443\\u044d\\u0437\\u043e\\u0432\\u0441\\u043a\\u0438\\u0439 \\u0420-\\u041d\",\"\\u0410\\u0443\\u044d\\u0437\\u043e\\u0432\\u0441\\u043a\\u0438\\u0439 \\u0420-\\u041d\",\"\\u0410\\u043b\\u0430\\u0442\\u0430\\u0443\\u0441\\u043a\\u0438\\u0439 \\u0420-\\u041d\",\"\\u041d\\u0430\\u0443\\u0440\\u044b\\u0437\\u0431\\u0430\\u0439\\u0441\\u043a\\u0438\\u0439 \\u0420-\\u041d\",\"\\u0422\\u0443\\u0440\\u043a\\u0441\\u0438\\u0431\\u0441\\u043a\\u0438\\u0439 \\u0420-\\u041d\",\"\\u041d\\u0430\\u0443\\u0440\\u044b\\u0437\\u0431\\u0430\\u0439\\u0441\\u043a\\u0438\\u0439 \\u0420-\\u041d\",\"\\u0410\\u0443\\u044d\\u0437\\u043e\\u0432\\u0441\\u043a\\u0438\\u0439 \\u0420-\\u041d\",\"\\u0422\\u0443\\u0440\\u043a\\u0441\\u0438\\u0431\\u0441\\u043a\\u0438\\u0439 \\u0420-\\u041d\",\"\\u0411\\u043e\\u0441\\u0442\\u0430\\u043d\\u0434\\u044b\\u043a\\u0441\\u043a\\u0438\\u0439 \\u0420-\\u041d\",\"\\u0410\\u043b\\u043c\\u0430\\u043b\\u0438\\u043d\\u0441\\u043a\\u0438\\u0439 \\u0420-\\u041d\",\"\\u041c\\u0435\\u0434\\u0435\\u0443\\u0441\\u043a\\u0438\\u0439 \\u0420-\\u041d\",\"\\u0416\\u0435\\u0442\\u044b\\u0441\\u0443\\u0441\\u043a\\u0438\\u0439 \\u0420-\\u041d\",\"\\u0410\\u0443\\u044d\\u0437\\u043e\\u0432\\u0441\\u043a\\u0438\\u0439 \\u0420-\\u041d\",\"\\u0411\\u043e\\u0441\\u0442\\u0430\\u043d\\u0434\\u044b\\u043a\\u0441\\u043a\\u0438\\u0439 \\u0420-\\u041d\",\"\\u041d\\u0430\\u0443\\u0440\\u044b\\u0437\\u0431\\u0430\\u0439\\u0441\\u043a\\u0438\\u0439 \\u0420-\\u041d\",\"\\u0410\\u043b\\u043c\\u0430\\u043b\\u0438\\u043d\\u0441\\u043a\\u0438\\u0439 \\u0420-\\u041d\",\"\\u0411\\u043e\\u0441\\u0442\\u0430\\u043d\\u0434\\u044b\\u043a\\u0441\\u043a\\u0438\\u0439 \\u0420-\\u041d\",\"\\u0411\\u043e\\u0441\\u0442\\u0430\\u043d\\u0434\\u044b\\u043a\\u0441\\u043a\\u0438\\u0439 \\u0420-\\u041d\",\"\\u041c\\u0435\\u0434\\u0435\\u0443\\u0441\\u043a\\u0438\\u0439 \\u0420-\\u041d\",\"\\u041d\\u0430\\u0443\\u0440\\u044b\\u0437\\u0431\\u0430\\u0439\\u0441\\u043a\\u0438\\u0439 \\u0420-\\u041d\",\"\\u0411\\u043e\\u0441\\u0442\\u0430\\u043d\\u0434\\u044b\\u043a\\u0441\\u043a\\u0438\\u0439 \\u0420-\\u041d\",\"\\u0410\\u043b\\u043c\\u0430\\u043b\\u0438\\u043d\\u0441\\u043a\\u0438\\u0439 \\u0420-\\u041d\",\"\\u0422\\u0443\\u0440\\u043a\\u0441\\u0438\\u0431\\u0441\\u043a\\u0438\\u0439 \\u0420-\\u041d\",\"\\u0411\\u043e\\u0441\\u0442\\u0430\\u043d\\u0434\\u044b\\u043a\\u0441\\u043a\\u0438\\u0439 \\u0420-\\u041d\",\"\\u0410\\u043b\\u0430\\u0442\\u0430\\u0443\\u0441\\u043a\\u0438\\u0439 \\u0420-\\u041d\",\"\\u0411\\u043e\\u0441\\u0442\\u0430\\u043d\\u0434\\u044b\\u043a\\u0441\\u043a\\u0438\\u0439 \\u0420-\\u041d\",\"\\u0410\\u0443\\u044d\\u0437\\u043e\\u0432\\u0441\\u043a\\u0438\\u0439 \\u0420-\\u041d\",\"\\u041c\\u0435\\u0434\\u0435\\u0443\\u0441\\u043a\\u0438\\u0439 \\u0420-\\u041d\",\"\\u0411\\u043e\\u0441\\u0442\\u0430\\u043d\\u0434\\u044b\\u043a\\u0441\\u043a\\u0438\\u0439 \\u0420-\\u041d\",\"\\u0410\\u043b\\u043c\\u0430\\u043b\\u0438\\u043d\\u0441\\u043a\\u0438\\u0439 \\u0420-\\u041d\",\"\\u041c\\u0435\\u0434\\u0435\\u0443\\u0441\\u043a\\u0438\\u0439 \\u0420-\\u041d\",\"\\u041d\\u0430\\u0443\\u0440\\u044b\\u0437\\u0431\\u0430\\u0439\\u0441\\u043a\\u0438\\u0439 \\u0420-\\u041d\",\"\\u041c\\u0435\\u0434\\u0435\\u0443\\u0441\\u043a\\u0438\\u0439 \\u0420-\\u041d\",\"\\u0410\\u043b\\u0430\\u0442\\u0430\\u0443\\u0441\\u043a\\u0438\\u0439 \\u0420-\\u041d\",\"\\u0411\\u043e\\u0441\\u0442\\u0430\\u043d\\u0434\\u044b\\u043a\\u0441\\u043a\\u0438\\u0439 \\u0420-\\u041d\",null,\"\\u0411\\u043e\\u0441\\u0442\\u0430\\u043d\\u0434\\u044b\\u043a\\u0441\\u043a\\u0438\\u0439 \\u0420-\\u041d\",\"\\u0411\\u043e\\u0441\\u0442\\u0430\\u043d\\u0434\\u044b\\u043a\\u0441\\u043a\\u0438\\u0439 \\u0420-\\u041d\",\"\\u0411\\u043e\\u0441\\u0442\\u0430\\u043d\\u0434\\u044b\\u043a\\u0441\\u043a\\u0438\\u0439 \\u0420-\\u041d\",\"\\u0422\\u0443\\u0440\\u043a\\u0441\\u0438\\u0431\\u0441\\u043a\\u0438\\u0439 \\u0420-\\u041d\",\"\\u0410\\u0443\\u044d\\u0437\\u043e\\u0432\\u0441\\u043a\\u0438\\u0439 \\u0420-\\u041d\",\"\\u0410\\u0443\\u044d\\u0437\\u043e\\u0432\\u0441\\u043a\\u0438\\u0439 \\u0420-\\u041d\",\"\\u0410\\u043b\\u0430\\u0442\\u0430\\u0443\\u0441\\u043a\\u0438\\u0439 \\u0420-\\u041d\",\"\\u041d\\u0430\\u0443\\u0440\\u044b\\u0437\\u0431\\u0430\\u0439\\u0441\\u043a\\u0438\\u0439 \\u0420-\\u041d\",\"\\u0422\\u0443\\u0440\\u043a\\u0441\\u0438\\u0431\\u0441\\u043a\\u0438\\u0439 \\u0420-\\u041d\",\"\\u041d\\u0430\\u0443\\u0440\\u044b\\u0437\\u0431\\u0430\\u0439\\u0441\\u043a\\u0438\\u0439 \\u0420-\\u041d\",\"\\u0410\\u0443\\u044d\\u0437\\u043e\\u0432\\u0441\\u043a\\u0438\\u0439 \\u0420-\\u041d\",\"\\u0422\\u0443\\u0440\\u043a\\u0441\\u0438\\u0431\\u0441\\u043a\\u0438\\u0439 \\u0420-\\u041d\",\"\\u0411\\u043e\\u0441\\u0442\\u0430\\u043d\\u0434\\u044b\\u043a\\u0441\\u043a\\u0438\\u0439 \\u0420-\\u041d\",\"\\u0410\\u043b\\u043c\\u0430\\u043b\\u0438\\u043d\\u0441\\u043a\\u0438\\u0439 \\u0420-\\u041d\",\"\\u041c\\u0435\\u0434\\u0435\\u0443\\u0441\\u043a\\u0438\\u0439 \\u0420-\\u041d\",\"\\u0416\\u0435\\u0442\\u044b\\u0441\\u0443\\u0441\\u043a\\u0438\\u0439 \\u0420-\\u041d\",\"\\u0410\\u0443\\u044d\\u0437\\u043e\\u0432\\u0441\\u043a\\u0438\\u0439 \\u0420-\\u041d\",\"\\u0410\\u043b\\u0430\\u0442\\u0430\\u0443\\u0441\\u043a\\u0438\\u0439 \\u0420-\\u041d\",\"\\u0411\\u043e\\u0441\\u0442\\u0430\\u043d\\u0434\\u044b\\u043a\\u0441\\u043a\\u0438\\u0439 \\u0420-\\u041d\",\"\\u0411\\u043e\\u0441\\u0442\\u0430\\u043d\\u0434\\u044b\\u043a\\u0441\\u043a\\u0438\\u0439 \\u0420-\\u041d\",\"\\u0411\\u043e\\u0441\\u0442\\u0430\\u043d\\u0434\\u044b\\u043a\\u0441\\u043a\\u0438\\u0439 \\u0420-\\u041d\",\"\\u0410\\u043b\\u0430\\u0442\\u0430\\u0443\\u0441\\u043a\\u0438\\u0439 \\u0420-\\u041d\",\"\\u0411\\u043e\\u0441\\u0442\\u0430\\u043d\\u0434\\u044b\\u043a\\u0441\\u043a\\u0438\\u0439 \\u0420-\\u041d\",\"\\u0411\\u043e\\u0441\\u0442\\u0430\\u043d\\u0434\\u044b\\u043a\\u0441\\u043a\\u0438\\u0439 \\u0420-\\u041d\",\"\\u0411\\u043e\\u0441\\u0442\\u0430\\u043d\\u0434\\u044b\\u043a\\u0441\\u043a\\u0438\\u0439 \\u0420-\\u041d\",\"\\u0410\\u0443\\u044d\\u0437\\u043e\\u0432\\u0441\\u043a\\u0438\\u0439 \\u0420-\\u041d\",\"\\u0410\\u043b\\u0430\\u0442\\u0430\\u0443\\u0441\\u043a\\u0438\\u0439 \\u0420-\\u041d\",\"\\u0411\\u043e\\u0441\\u0442\\u0430\\u043d\\u0434\\u044b\\u043a\\u0441\\u043a\\u0438\\u0439 \\u0420-\\u041d\",\"\\u0411\\u043e\\u0441\\u0442\\u0430\\u043d\\u0434\\u044b\\u043a\\u0441\\u043a\\u0438\\u0439 \\u0420-\\u041d\",\"\\u0411\\u043e\\u0441\\u0442\\u0430\\u043d\\u0434\\u044b\\u043a\\u0441\\u043a\\u0438\\u0439 \\u0420-\\u041d\",\"\\u0410\\u0443\\u044d\\u0437\\u043e\\u0432\\u0441\\u043a\\u0438\\u0439 \\u0420-\\u041d\",\"\\u0410\\u043b\\u0430\\u0442\\u0430\\u0443\\u0441\\u043a\\u0438\\u0439 \\u0420-\\u041d\",\"\\u0411\\u043e\\u0441\\u0442\\u0430\\u043d\\u0434\\u044b\\u043a\\u0441\\u043a\\u0438\\u0439 \\u0420-\\u041d\",\"\\u0411\\u043e\\u0441\\u0442\\u0430\\u043d\\u0434\\u044b\\u043a\\u0441\\u043a\\u0438\\u0439 \\u0420-\\u041d\",\"\\u041c\\u0435\\u0434\\u0435\\u0443\\u0441\\u043a\\u0438\\u0439 \\u0420-\\u041d\",\"\\u0411\\u043e\\u0441\\u0442\\u0430\\u043d\\u0434\\u044b\\u043a\\u0441\\u043a\\u0438\\u0439 \\u0420-\\u041d\",\"\\u041c\\u0435\\u0434\\u0435\\u0443\\u0441\\u043a\\u0438\\u0439 \\u0420-\\u041d\",\"\\u0411\\u043e\\u0441\\u0442\\u0430\\u043d\\u0434\\u044b\\u043a\\u0441\\u043a\\u0438\\u0439 \\u0420-\\u041d\",\"\\u0411\\u043e\\u0441\\u0442\\u0430\\u043d\\u0434\\u044b\\u043a\\u0441\\u043a\\u0438\\u0439 \\u0420-\\u041d\",\"\\u0411\\u043e\\u0441\\u0442\\u0430\\u043d\\u0434\\u044b\\u043a\\u0441\\u043a\\u0438\\u0439 \\u0420-\\u041d\",\"\\u0411\\u043e\\u0441\\u0442\\u0430\\u043d\\u0434\\u044b\\u043a\\u0441\\u043a\\u0438\\u0439 \\u0420-\\u041d\",\"\\u0410\\u043b\\u0430\\u0442\\u0430\\u0443\\u0441\\u043a\\u0438\\u0439 \\u0420-\\u041d\",null,\"\\u041d\\u0430\\u0443\\u0440\\u044b\\u0437\\u0431\\u0430\\u0439\\u0441\\u043a\\u0438\\u0439 \\u0420-\\u041d\",\"\\u0411\\u043e\\u0441\\u0442\\u0430\\u043d\\u0434\\u044b\\u043a\\u0441\\u043a\\u0438\\u0439 \\u0420-\\u041d\",\"\\u0410\\u043b\\u043c\\u0430\\u043b\\u0438\\u043d\\u0441\\u043a\\u0438\\u0439 \\u0420-\\u041d\",\"\\u0411\\u043e\\u0441\\u0442\\u0430\\u043d\\u0434\\u044b\\u043a\\u0441\\u043a\\u0438\\u0439 \\u0420-\\u041d\",\"\\u0422\\u0443\\u0440\\u043a\\u0441\\u0438\\u0431\\u0441\\u043a\\u0438\\u0439 \\u0420-\\u041d\",\"\\u041d\\u0430\\u0443\\u0440\\u044b\\u0437\\u0431\\u0430\\u0439\\u0441\\u043a\\u0438\\u0439 \\u0420-\\u041d\",\"\\u0410\\u0443\\u044d\\u0437\\u043e\\u0432\\u0441\\u043a\\u0438\\u0439 \\u0420-\\u041d\",\"\\u0411\\u043e\\u0441\\u0442\\u0430\\u043d\\u0434\\u044b\\u043a\\u0441\\u043a\\u0438\\u0439 \\u0420-\\u041d\",\"\\u0411\\u043e\\u0441\\u0442\\u0430\\u043d\\u0434\\u044b\\u043a\\u0441\\u043a\\u0438\\u0439 \\u0420-\\u041d\",\"\\u0410\\u0443\\u044d\\u0437\\u043e\\u0432\\u0441\\u043a\\u0438\\u0439 \\u0420-\\u041d\",\"\\u0410\\u043b\\u0430\\u0442\\u0430\\u0443\\u0441\\u043a\\u0438\\u0439 \\u0420-\\u041d\",\"\\u041d\\u0430\\u0443\\u0440\\u044b\\u0437\\u0431\\u0430\\u0439\\u0441\\u043a\\u0438\\u0439 \\u0420-\\u041d\",\"\\u0422\\u0443\\u0440\\u043a\\u0441\\u0438\\u0431\\u0441\\u043a\\u0438\\u0439 \\u0420-\\u041d\",\"\\u041d\\u0430\\u0443\\u0440\\u044b\\u0437\\u0431\\u0430\\u0439\\u0441\\u043a\\u0438\\u0439 \\u0420-\\u041d\",\"\\u0410\\u0443\\u044d\\u0437\\u043e\\u0432\\u0441\\u043a\\u0438\\u0439 \\u0420-\\u041d\",\"\\u0422\\u0443\\u0440\\u043a\\u0441\\u0438\\u0431\\u0441\\u043a\\u0438\\u0439 \\u0420-\\u041d\",\"\\u0411\\u043e\\u0441\\u0442\\u0430\\u043d\\u0434\\u044b\\u043a\\u0441\\u043a\\u0438\\u0439 \\u0420-\\u041d\",\"\\u0410\\u043b\\u043c\\u0430\\u043b\\u0438\\u043d\\u0441\\u043a\\u0438\\u0439 \\u0420-\\u041d\",\"\\u041c\\u0435\\u0434\\u0435\\u0443\\u0441\\u043a\\u0438\\u0439 \\u0420-\\u041d\",\"\\u0416\\u0435\\u0442\\u044b\\u0441\\u0443\\u0441\\u043a\\u0438\\u0439 \\u0420-\\u041d\",\"\\u0410\\u0443\\u044d\\u0437\\u043e\\u0432\\u0441\\u043a\\u0438\\u0439 \\u0420-\\u041d\",\"\\u0411\\u043e\\u0441\\u0442\\u0430\\u043d\\u0434\\u044b\\u043a\\u0441\\u043a\\u0438\\u0439 \\u0420-\\u041d\",\"\\u0410\\u043b\\u043c\\u0430\\u043b\\u0438\\u043d\\u0441\\u043a\\u0438\\u0439 \\u0420-\\u041d\",\"\\u041d\\u0430\\u0443\\u0440\\u044b\\u0437\\u0431\\u0430\\u0439\\u0441\\u043a\\u0438\\u0439 \\u0420-\\u041d\",\"\\u0410\\u043b\\u043c\\u0430\\u043b\\u0438\\u043d\\u0441\\u043a\\u0438\\u0439 \\u0420-\\u041d\",\"\\u0416\\u0435\\u0442\\u044b\\u0441\\u0443\\u0441\\u043a\\u0438\\u0439 \\u0420-\\u041d\",\"\\u0410\\u043b\\u043c\\u0430\\u043b\\u0438\\u043d\\u0441\\u043a\\u0438\\u0439 \\u0420-\\u041d\",\"\\u0416\\u0435\\u0442\\u044b\\u0441\\u0443\\u0441\\u043a\\u0438\\u0439 \\u0420-\\u041d\",\"\\u0422\\u0443\\u0440\\u043a\\u0441\\u0438\\u0431\\u0441\\u043a\\u0438\\u0439 \\u0420-\\u041d\",\"\\u0411\\u043e\\u0441\\u0442\\u0430\\u043d\\u0434\\u044b\\u043a\\u0441\\u043a\\u0438\\u0439 \\u0420-\\u041d\",\"\\u0410\\u0443\\u044d\\u0437\\u043e\\u0432\\u0441\\u043a\\u0438\\u0439 \\u0420-\\u041d\",\"\\u041c\\u0435\\u0434\\u0435\\u0443\\u0441\\u043a\\u0438\\u0439 \\u0420-\\u041d\",\"\\u041c\\u0435\\u0434\\u0435\\u0443\\u0441\\u043a\\u0438\\u0439 \\u0420-\\u041d\",\"\\u041c\\u0435\\u0434\\u0435\\u0443\\u0441\\u043a\\u0438\\u0439 \\u0420-\\u041d\",\"\\u0410\\u043b\\u043c\\u0430\\u043b\\u0438\\u043d\\u0441\\u043a\\u0438\\u0439 \\u0420-\\u041d\",\"\\u0410\\u043b\\u043c\\u0430\\u043b\\u0438\\u043d\\u0441\\u043a\\u0438\\u0439 \\u0420-\\u041d\",\"\\u0410\\u043b\\u043c\\u0430\\u043b\\u0438\\u043d\\u0441\\u043a\\u0438\\u0439 \\u0420-\\u041d\",\"\\u0416\\u0435\\u0442\\u044b\\u0441\\u0443\\u0441\\u043a\\u0438\\u0439 \\u0420-\\u041d\",\"\\u0422\\u0443\\u0440\\u043a\\u0441\\u0438\\u0431\\u0441\\u043a\\u0438\\u0439 \\u0420-\\u041d\",\"\\u0410\\u043b\\u043c\\u0430\\u043b\\u0438\\u043d\\u0441\\u043a\\u0438\\u0439 \\u0420-\\u041d\",\"\\u041c\\u0435\\u0434\\u0435\\u0443\\u0441\\u043a\\u0438\\u0439 \\u0420-\\u041d\",\"\\u0410\\u043b\\u0430\\u0442\\u0430\\u0443\\u0441\\u043a\\u0438\\u0439 \\u0420-\\u041d\",\"\\u041d\\u0430\\u0443\\u0440\\u044b\\u0437\\u0431\\u0430\\u0439\\u0441\\u043a\\u0438\\u0439 \\u0420-\\u041d\",\"\\u0411\\u043e\\u0441\\u0442\\u0430\\u043d\\u0434\\u044b\\u043a\\u0441\\u043a\\u0438\\u0439 \\u0420-\\u041d\",\"\\u0410\\u043b\\u043c\\u0430\\u043b\\u0438\\u043d\\u0441\\u043a\\u0438\\u0439 \\u0420-\\u041d\",\"\\u0422\\u0443\\u0440\\u043a\\u0441\\u0438\\u0431\\u0441\\u043a\\u0438\\u0439 \\u0420-\\u041d\",\"\\u041c\\u0435\\u0434\\u0435\\u0443\\u0441\\u043a\\u0438\\u0439 \\u0420-\\u041d\",\"\\u0411\\u043e\\u0441\\u0442\\u0430\\u043d\\u0434\\u044b\\u043a\\u0441\\u043a\\u0438\\u0439 \\u0420-\\u041d\",\"\\u041d\\u0430\\u0443\\u0440\\u044b\\u0437\\u0431\\u0430\\u0439\\u0441\\u043a\\u0438\\u0439 \\u0420-\\u041d\",\"\\u0411\\u043e\\u0441\\u0442\\u0430\\u043d\\u0434\\u044b\\u043a\\u0441\\u043a\\u0438\\u0439 \\u0420-\\u041d\",\"\\u0411\\u043e\\u0441\\u0442\\u0430\\u043d\\u0434\\u044b\\u043a\\u0441\\u043a\\u0438\\u0439 \\u0420-\\u041d\",\"\\u0411\\u043e\\u0441\\u0442\\u0430\\u043d\\u0434\\u044b\\u043a\\u0441\\u043a\\u0438\\u0439 \\u0420-\\u041d\",\"\\u0410\\u043b\\u0430\\u0442\\u0430\\u0443\\u0441\\u043a\\u0438\\u0439 \\u0420-\\u041d\",\"\\u0410\\u0443\\u044d\\u0437\\u043e\\u0432\\u0441\\u043a\\u0438\\u0439 \\u0420-\\u041d\",\"\\u041c\\u0435\\u0434\\u0435\\u0443\\u0441\\u043a\\u0438\\u0439 \\u0420-\\u041d\",\"\\u0410\\u0443\\u044d\\u0437\\u043e\\u0432\\u0441\\u043a\\u0438\\u0439 \\u0420-\\u041d\",\"\\u0410\\u043b\\u043c\\u0430\\u043b\\u0438\\u043d\\u0441\\u043a\\u0438\\u0439 \\u0420-\\u041d\",\"\\u0410\\u043b\\u043c\\u0430\\u043b\\u0438\\u043d\\u0441\\u043a\\u0438\\u0439 \\u0420-\\u041d\",\"\\u0411\\u043e\\u0441\\u0442\\u0430\\u043d\\u0434\\u044b\\u043a\\u0441\\u043a\\u0438\\u0439 \\u0420-\\u041d\",\"\\u0411\\u043e\\u0441\\u0442\\u0430\\u043d\\u0434\\u044b\\u043a\\u0441\\u043a\\u0438\\u0439 \\u0420-\\u041d\",\"\\u0410\\u0443\\u044d\\u0437\\u043e\\u0432\\u0441\\u043a\\u0438\\u0439 \\u0420-\\u041d\",\"\\u0410\\u043b\\u043c\\u0430\\u043b\\u0438\\u043d\\u0441\\u043a\\u0438\\u0439 \\u0420-\\u041d\",\"\\u0410\\u043b\\u0430\\u0442\\u0430\\u0443\\u0441\\u043a\\u0438\\u0439 \\u0420-\\u041d\",\"\\u0411\\u043e\\u0441\\u0442\\u0430\\u043d\\u0434\\u044b\\u043a\\u0441\\u043a\\u0438\\u0439 \\u0420-\\u041d\",\"\\u0411\\u043e\\u0441\\u0442\\u0430\\u043d\\u0434\\u044b\\u043a\\u0441\\u043a\\u0438\\u0439 \\u0420-\\u041d\",\"\\u0416\\u0435\\u0442\\u044b\\u0441\\u0443\\u0441\\u043a\\u0438\\u0439 \\u0420-\\u041d\",\"\\u041d\\u0430\\u0443\\u0440\\u044b\\u0437\\u0431\\u0430\\u0439\\u0441\\u043a\\u0438\\u0439 \\u0420-\\u041d\",\"\\u0411\\u043e\\u0441\\u0442\\u0430\\u043d\\u0434\\u044b\\u043a\\u0441\\u043a\\u0438\\u0439 \\u0420-\\u041d\",\"\\u0411\\u043e\\u0441\\u0442\\u0430\\u043d\\u0434\\u044b\\u043a\\u0441\\u043a\\u0438\\u0439 \\u0420-\\u041d\",\"\\u041c\\u0435\\u0434\\u0435\\u0443\\u0441\\u043a\\u0438\\u0439 \\u0420-\\u041d\",\"\\u0410\\u0443\\u044d\\u0437\\u043e\\u0432\\u0441\\u043a\\u0438\\u0439 \\u0420-\\u041d\",\"\\u0410\\u043b\\u043c\\u0430\\u043b\\u0438\\u043d\\u0441\\u043a\\u0438\\u0439 \\u0420-\\u041d\",\"\\u0410\\u0443\\u044d\\u0437\\u043e\\u0432\\u0441\\u043a\\u0438\\u0439 \\u0420-\\u041d\",\"\\u0411\\u043e\\u0441\\u0442\\u0430\\u043d\\u0434\\u044b\\u043a\\u0441\\u043a\\u0438\\u0439 \\u0420-\\u041d\",\"\\u041d\\u0430\\u0443\\u0440\\u044b\\u0437\\u0431\\u0430\\u0439\\u0441\\u043a\\u0438\\u0439 \\u0420-\\u041d\",\"\\u0410\\u043b\\u043c\\u0430\\u043b\\u0438\\u043d\\u0441\\u043a\\u0438\\u0439 \\u0420-\\u041d\",\"\\u0411\\u043e\\u0441\\u0442\\u0430\\u043d\\u0434\\u044b\\u043a\\u0441\\u043a\\u0438\\u0439 \\u0420-\\u041d\",\"\\u0411\\u043e\\u0441\\u0442\\u0430\\u043d\\u0434\\u044b\\u043a\\u0441\\u043a\\u0438\\u0439 \\u0420-\\u041d\",\"\\u041c\\u0435\\u0434\\u0435\\u0443\\u0441\\u043a\\u0438\\u0439 \\u0420-\\u041d\",\"\\u041d\\u0430\\u0443\\u0440\\u044b\\u0437\\u0431\\u0430\\u0439\\u0441\\u043a\\u0438\\u0439 \\u0420-\\u041d\",\"\\u0411\\u043e\\u0441\\u0442\\u0430\\u043d\\u0434\\u044b\\u043a\\u0441\\u043a\\u0438\\u0439 \\u0420-\\u041d\",\"\\u0410\\u043b\\u043c\\u0430\\u043b\\u0438\\u043d\\u0441\\u043a\\u0438\\u0439 \\u0420-\\u041d\",\"\\u0422\\u0443\\u0440\\u043a\\u0441\\u0438\\u0431\\u0441\\u043a\\u0438\\u0439 \\u0420-\\u041d\",\"\\u0411\\u043e\\u0441\\u0442\\u0430\\u043d\\u0434\\u044b\\u043a\\u0441\\u043a\\u0438\\u0439 \\u0420-\\u041d\",\"\\u0410\\u043b\\u0430\\u0442\\u0430\\u0443\\u0441\\u043a\\u0438\\u0439 \\u0420-\\u041d\",\"\\u0411\\u043e\\u0441\\u0442\\u0430\\u043d\\u0434\\u044b\\u043a\\u0441\\u043a\\u0438\\u0439 \\u0420-\\u041d\",\"\\u0410\\u0443\\u044d\\u0437\\u043e\\u0432\\u0441\\u043a\\u0438\\u0439 \\u0420-\\u041d\",\"\\u041c\\u0435\\u0434\\u0435\\u0443\\u0441\\u043a\\u0438\\u0439 \\u0420-\\u041d\",\"\\u0411\\u043e\\u0441\\u0442\\u0430\\u043d\\u0434\\u044b\\u043a\\u0441\\u043a\\u0438\\u0439 \\u0420-\\u041d\",\"\\u0410\\u043b\\u043c\\u0430\\u043b\\u0438\\u043d\\u0441\\u043a\\u0438\\u0439 \\u0420-\\u041d\",\"\\u041c\\u0435\\u0434\\u0435\\u0443\\u0441\\u043a\\u0438\\u0439 \\u0420-\\u041d\",\"\\u041d\\u0430\\u0443\\u0440\\u044b\\u0437\\u0431\\u0430\\u0439\\u0441\\u043a\\u0438\\u0439 \\u0420-\\u041d\",\"\\u041c\\u0435\\u0434\\u0435\\u0443\\u0441\\u043a\\u0438\\u0439 \\u0420-\\u041d\",\"\\u0411\\u043e\\u0441\\u0442\\u0430\\u043d\\u0434\\u044b\\u043a\\u0441\\u043a\\u0438\\u0439 \\u0420-\\u041d\",\"\\u0410\\u0443\\u044d\\u0437\\u043e\\u0432\\u0441\\u043a\\u0438\\u0439 \\u0420-\\u041d\",\"\\u0410\\u043b\\u043c\\u0430\\u0442\\u0438\\u043d\\u0441\\u043a\\u0430\\u044f \\u041e\\u0431\\u043b.\",\"\\u0410\\u043b\\u043c\\u0430\\u0442\\u0438\\u043d\\u0441\\u043a\\u0430\\u044f \\u041e\\u0431\\u043b.\",\"\\u0410\\u043b\\u043c\\u0430\\u0442\\u0438\\u043d\\u0441\\u043a\\u0430\\u044f \\u041e\\u0431\\u043b.\",\"\\u0415\\u0441\\u0438\\u043b\\u044c\\u0441\\u043a\\u0438\\u0439 \\u0420-\\u041d\",\"\\u0415\\u0441\\u0438\\u043b\\u044c\\u0441\\u043a\\u0438\\u0439 \\u0420-\\u041d\",\"\\u041d\\u0443\\u0440\\u0430 \\u0420-\\u041d\",\"\\u041d\\u0443\\u0440\\u0430 \\u0420-\\u041d\",\"\\u0410\\u043b\\u043c\\u0430\\u0442\\u044b \\u0420-\\u041d\",\"\\u0415\\u0441\\u0438\\u043b\\u044c\\u0441\\u043a\\u0438\\u0439 \\u0420-\\u041d\",\"\\u0421\\u0430\\u0440\\u044b\\u0430\\u0440\\u043a\\u0430 \\u0420-\\u041d\",\"\\u0415\\u0441\\u0438\\u043b\\u044c\\u0441\\u043a\\u0438\\u0439 \\u0420-\\u041d\",\"\\u041d\\u0443\\u0440\\u0430 \\u0420-\\u041d\",\"\\u0411\\u0430\\u0439\\u043a\\u043e\\u043d\\u0443\\u0440 \\u0420\\u2013\\u041d\",\"\\u0410\\u043b\\u043c\\u0430\\u0442\\u044b \\u0420-\\u041d\",\"\\u0410\\u043b\\u043c\\u0430\\u0442\\u044b \\u0420-\\u041d\",\"\\u041d\\u0443\\u0440\\u0430 \\u0420-\\u041d\",\"\\u0421\\u0430\\u0440\\u044b\\u0430\\u0440\\u043a\\u0430 \\u0420-\\u041d\",\"\\u0415\\u0441\\u0438\\u043b\\u044c\\u0441\\u043a\\u0438\\u0439 \\u0420-\\u041d\",\"\\u0421\\u0430\\u0440\\u044b\\u0430\\u0440\\u043a\\u0430 \\u0420-\\u041d\",\"\\u0415\\u0441\\u0438\\u043b\\u044c\\u0441\\u043a\\u0438\\u0439 \\u0420-\\u041d\",\"\\u0410\\u043b\\u043c\\u0430\\u0442\\u044b \\u0420-\\u041d\",\"\\u041d\\u0443\\u0440\\u0430 \\u0420-\\u041d\",\"\\u041d\\u0443\\u0440\\u0430 \\u0420-\\u041d\",\"\\u041d\\u0443\\u0440\\u0430 \\u0420-\\u041d\",\"\\u0415\\u0441\\u0438\\u043b\\u044c\\u0441\\u043a\\u0438\\u0439 \\u0420-\\u041d\",\"\\u0421\\u0430\\u0440\\u044b\\u0430\\u0440\\u043a\\u0430 \\u0420-\\u041d\",\"\\u0410\\u043b\\u043c\\u0430\\u0442\\u044b \\u0420-\\u041d\",\"\\u0410\\u043b\\u043c\\u0430\\u0442\\u044b \\u0420-\\u041d\",\"\\u0410\\u043b\\u043c\\u0430\\u0442\\u044b \\u0420-\\u041d\",\"\\u041d\\u0443\\u0440\\u0430 \\u0420-\\u041d\",\"\\u0411\\u0430\\u0439\\u043a\\u043e\\u043d\\u0443\\u0440 \\u0420\\u2013\\u041d\",\"\\u0415\\u0441\\u0438\\u043b\\u044c\\u0441\\u043a\\u0438\\u0439 \\u0420-\\u041d\",\"\\u0411\\u0430\\u0439\\u043a\\u043e\\u043d\\u0443\\u0440 \\u0420\\u2013\\u041d\",\"\\u0411\\u0430\\u0439\\u043a\\u043e\\u043d\\u0443\\u0440 \\u0420\\u2013\\u041d\",\"\\u041d\\u0443\\u0440\\u0430 \\u0420-\\u041d\",\"\\u0410\\u043b\\u043c\\u0430\\u0442\\u044b \\u0420-\\u041d\",\"\\u0421\\u0430\\u0440\\u044b\\u0430\\u0440\\u043a\\u0430 \\u0420-\\u041d\",\"\\u0415\\u0441\\u0438\\u043b\\u044c\\u0441\\u043a\\u0438\\u0439 \\u0420-\\u041d\",\"\\u0415\\u0441\\u0438\\u043b\\u044c\\u0441\\u043a\\u0438\\u0439 \\u0420-\\u041d\",\"\\u0415\\u0441\\u0438\\u043b\\u044c\\u0441\\u043a\\u0438\\u0439 \\u0420-\\u041d\",\"\\u0415\\u0441\\u0438\\u043b\\u044c\\u0441\\u043a\\u0438\\u0439 \\u0420-\\u041d\",\"\\u041d\\u0443\\u0440\\u0430 \\u0420-\\u041d\",\"\\u0410\\u043b\\u043c\\u0430\\u0442\\u044b \\u0420-\\u041d\",\"\\u0421\\u0430\\u0440\\u044b\\u0430\\u0440\\u043a\\u0430 \\u0420-\\u041d\",\"\\u0421\\u0430\\u0440\\u044b\\u0430\\u0440\\u043a\\u0430 \\u0420-\\u041d\",\"\\u041d\\u0443\\u0440\\u0430 \\u0420-\\u041d\",\"\\u0410\\u043b\\u043c\\u0430\\u0442\\u044b \\u0420-\\u041d\",\"\\u0415\\u0441\\u0438\\u043b\\u044c\\u0441\\u043a\\u0438\\u0439 \\u0420-\\u041d\",\"\\u0415\\u0441\\u0438\\u043b\\u044c\\u0441\\u043a\\u0438\\u0439 \\u0420-\\u041d\",\"\\u0415\\u0441\\u0438\\u043b\\u044c\\u0441\\u043a\\u0438\\u0439 \\u0420-\\u041d\",\"\\u0421\\u0430\\u0440\\u044b\\u0430\\u0440\\u043a\\u0430 \\u0420-\\u041d\",\"\\u0415\\u0441\\u0438\\u043b\\u044c\\u0441\\u043a\\u0438\\u0439 \\u0420-\\u041d\",\"\\u0415\\u0441\\u0438\\u043b\\u044c\\u0441\\u043a\\u0438\\u0439 \\u0420-\\u041d\",\"\\u041d\\u0443\\u0440\\u0430 \\u0420-\\u041d\",\"\\u0421\\u0430\\u0440\\u044b\\u0430\\u0440\\u043a\\u0430 \\u0420-\\u041d\",\"\\u041d\\u0443\\u0440\\u0430 \\u0420-\\u041d\",\"\\u041d\\u0443\\u0440\\u0430 \\u0420-\\u041d\",\"\\u041d\\u0443\\u0440\\u0430 \\u0420-\\u041d\",null,\"\\u0410\\u043b\\u043c\\u0430\\u0442\\u044b \\u0420-\\u041d\",\"\\u0415\\u0441\\u0438\\u043b\\u044c\\u0441\\u043a\\u0438\\u0439 \\u0420-\\u041d\",\"\\u041d\\u0443\\u0440\\u0430 \\u0420-\\u041d\",\"\\u0421\\u0430\\u0440\\u044b\\u0430\\u0440\\u043a\\u0430 \\u0420-\\u041d\",\"\\u041d\\u0443\\u0440\\u0430 \\u0420-\\u041d\",\"\\u0410\\u043b\\u043c\\u0430\\u0442\\u044b \\u0420-\\u041d\",\"\\u041d\\u0443\\u0440\\u0430 \\u0420-\\u041d\",\"\\u041d\\u0443\\u0440\\u0430 \\u0420-\\u041d\",\"\\u041d\\u0443\\u0440\\u0430 \\u0420-\\u041d\",\"\\u041d\\u0443\\u0440\\u0430 \\u0420-\\u041d\",\"\\u0421\\u0430\\u0440\\u044b\\u0430\\u0440\\u043a\\u0430 \\u0420-\\u041d\",\"\\u041d\\u0443\\u0440\\u0430 \\u0420-\\u041d\",\"\\u0410\\u043b\\u043c\\u0430\\u0442\\u044b \\u0420-\\u041d\",\"\\u0415\\u0441\\u0438\\u043b\\u044c\\u0441\\u043a\\u0438\\u0439 \\u0420-\\u041d\",\"\\u0410\\u043b\\u043c\\u0430\\u0442\\u044b \\u0420-\\u041d\",\"\\u0415\\u0441\\u0438\\u043b\\u044c\\u0441\\u043a\\u0438\\u0439 \\u0420-\\u041d\",\"\\u041d\\u0443\\u0440\\u0430 \\u0420-\\u041d\",\"\\u0410\\u043b\\u043c\\u0430\\u0442\\u044b \\u0420-\\u041d\",\"\\u0415\\u0441\\u0438\\u043b\\u044c\\u0441\\u043a\\u0438\\u0439 \\u0420-\\u041d\",\"\\u0410\\u043b\\u043c\\u0430\\u0442\\u044b \\u0420-\\u041d\",\"\\u0415\\u0441\\u0438\\u043b\\u044c\\u0441\\u043a\\u0438\\u0439 \\u0420-\\u041d\",\"\\u0415\\u0441\\u0438\\u043b\\u044c\\u0441\\u043a\\u0438\\u0439 \\u0420-\\u041d\",\"\\u041d\\u0443\\u0440\\u0430 \\u0420-\\u041d\",\"\\u0421\\u0430\\u0440\\u044b\\u0430\\u0440\\u043a\\u0430 \\u0420-\\u041d\",\"\\u041d\\u0443\\u0440\\u0430 \\u0420-\\u041d\",\"\\u041d\\u0443\\u0440\\u0430 \\u0420-\\u041d\",\"\\u0410\\u043b\\u043c\\u0430\\u0442\\u044b \\u0420-\\u041d\",\"\\u0415\\u0441\\u0438\\u043b\\u044c\\u0441\\u043a\\u0438\\u0439 \\u0420-\\u041d\",\"\\u0410\\u0431\\u0430\\u0439\\u0441\\u043a\\u0438\\u0439 \\u0420-\\u041d\",null,\"\\u0410\\u0431\\u0430\\u0439\\u0441\\u043a\\u0438\\u0439 \\u0420-\\u041d\",\"\\u041a\\u0430\\u0440\\u0430\\u0442\\u0430\\u0443\\u0441\\u043a\\u0438\\u0439 \\u0420-\\u041d\",\"\\u041a\\u0430\\u0440\\u0430\\u0442\\u0430\\u0443\\u0441\\u043a\\u0438\\u0439 \\u0420-\\u041d\",\"\\u0410\\u043b\\u044c-\\u0424\\u0430\\u0440\\u0430\\u0431\\u0438\\u0439\\u0441\\u043a\\u0438\\u0439 \\u0420-\\u041d\",\"\\u0410\\u0431\\u0430\\u0439\\u0441\\u043a\\u0438\\u0439 \\u0420-\\u041d\",\"\\u0422\\u0443\\u0440\\u0430\\u043d \\u0420-\\u041d\",\"\\u041a\\u0430\\u0440\\u0430\\u0442\\u0430\\u0443\\u0441\\u043a\\u0438\\u0439 \\u0420-\\u041d\",\"\\u0410\\u043b\\u044c-\\u0424\\u0430\\u0440\\u0430\\u0431\\u0438\\u0439\\u0441\\u043a\\u0438\\u0439 \\u0420-\\u041d\",null,null,\"\\u0410\\u043b\\u044c-\\u0424\\u0430\\u0440\\u0430\\u0431\\u0438\\u0439\\u0441\\u043a\\u0438\\u0439 \\u0420-\\u041d\",\"\\u0410\\u043b\\u044c-\\u0424\\u0430\\u0440\\u0430\\u0431\\u0438\\u0439\\u0441\\u043a\\u0438\\u0439 \\u0420-\\u041d\",\"\\u041a\\u0430\\u0440\\u0430\\u0442\\u0430\\u0443\\u0441\\u043a\\u0438\\u0439 \\u0420-\\u041d\",\"\\u0410\\u0431\\u0430\\u0439\\u0441\\u043a\\u0438\\u0439 \\u0420-\\u041d\",\"\\u041a\\u0430\\u0440\\u0430\\u0442\\u0430\\u0443\\u0441\\u043a\\u0438\\u0439 \\u0420-\\u041d\",\"\\u0410\\u0431\\u0430\\u0439\\u0441\\u043a\\u0438\\u0439 \\u0420-\\u041d\",null,\"\\u041a\\u0430\\u0440\\u0430\\u0442\\u0430\\u0443\\u0441\\u043a\\u0438\\u0439 \\u0420-\\u041d\",\"\\u0410\\u043b\\u044c-\\u0424\\u0430\\u0440\\u0430\\u0431\\u0438\\u0439\\u0441\\u043a\\u0438\\u0439 \\u0420-\\u041d\",\"\\u0410\\u043b\\u044c-\\u0424\\u0430\\u0440\\u0430\\u0431\\u0438\\u0439\\u0441\\u043a\\u0438\\u0439 \\u0420-\\u041d\",\"\\u041a\\u0430\\u0440\\u0430\\u0442\\u0430\\u0443\\u0441\\u043a\\u0438\\u0439 \\u0420-\\u041d\",\"\\u0410\\u043b\\u044c-\\u0424\\u0430\\u0440\\u0430\\u0431\\u0438\\u0439\\u0441\\u043a\\u0438\\u0439 \\u0420-\\u041d\",\"\\u0410\\u0431\\u0430\\u0439\\u0441\\u043a\\u0438\\u0439 \\u0420-\\u041d\",\"\\u0415\\u043d\\u0431\\u0435\\u043a\\u0448\\u0438\\u043d\\u0441\\u043a\\u0438\\u0439 \\u0420-\\u041d\",\"\\u0410\\u0431\\u0430\\u0439\\u0441\\u043a\\u0438\\u0439 \\u0420-\\u041d\",\"\\u0410\\u043b\\u044c-\\u0424\\u0430\\u0440\\u0430\\u0431\\u0438\\u0439\\u0441\\u043a\\u0438\\u0439 \\u0420-\\u041d\",\"\\u0410\\u0431\\u0430\\u0439\\u0441\\u043a\\u0438\\u0439 \\u0420-\\u041d\",\"\\u0422\\u0443\\u0440\\u0430\\u043d \\u0420-\\u041d\",\"\\u0410\\u0431\\u0430\\u0439\\u0441\\u043a\\u0438\\u0439 \\u0420-\\u041d\",\"\\u041a\\u0430\\u0440\\u0430\\u0442\\u0430\\u0443\\u0441\\u043a\\u0438\\u0439 \\u0420-\\u041d\",\"\\u0410\\u0431\\u0430\\u0439\\u0441\\u043a\\u0438\\u0439 \\u0420-\\u041d\",\"\\u0410\\u0431\\u0430\\u0439\\u0441\\u043a\\u0438\\u0439 \\u0420-\\u041d\",\"\\u0410\\u0431\\u0430\\u0439\\u0441\\u043a\\u0438\\u0439 \\u0420-\\u041d\",\"\\u041a\\u0430\\u0440\\u0430\\u0442\\u0430\\u0443\\u0441\\u043a\\u0438\\u0439 \\u0420-\\u041d\",null,\"\\u041a\\u0430\\u0440\\u0430\\u0442\\u0430\\u0443\\u0441\\u043a\\u0438\\u0439 \\u0420-\\u041d\",\"\\u041a\\u0430\\u0440\\u0430\\u0442\\u0430\\u0443\\u0441\\u043a\\u0438\\u0439 \\u0420-\\u041d\",\"\\u041a\\u0430\\u0440\\u0430\\u0442\\u0430\\u0443\\u0441\\u043a\\u0438\\u0439 \\u0420-\\u041d\",\"\\u0410\\u0431\\u0430\\u0439\\u0441\\u043a\\u0438\\u0439 \\u0420-\\u041d\",\"\\u0410\\u043b\\u044c-\\u0424\\u0430\\u0440\\u0430\\u0431\\u0438\\u0439\\u0441\\u043a\\u0438\\u0439 \\u0420-\\u041d\",\"\\u0410\\u043b\\u044c-\\u0424\\u0430\\u0440\\u0430\\u0431\\u0438\\u0439\\u0441\\u043a\\u0438\\u0439 \\u0420-\\u041d\",\"\\u041a\\u0430\\u0440\\u0430\\u0442\\u0430\\u0443\\u0441\\u043a\\u0438\\u0439 \\u0420-\\u041d\",\"\\u041a\\u0430\\u0440\\u0430\\u0442\\u0430\\u0443\\u0441\\u043a\\u0438\\u0439 \\u0420-\\u041d\",\"\\u0422\\u0443\\u0440\\u0430\\u043d \\u0420-\\u041d\",\"\\u0422\\u0443\\u0440\\u0430\\u043d \\u0420-\\u041d\",\"\\u0410\\u0431\\u0430\\u0439\\u0441\\u043a\\u0438\\u0439 \\u0420-\\u041d\",null,\"\\u0422\\u0443\\u0440\\u0430\\u043d \\u0420-\\u041d\",\"\\u041a\\u0430\\u0440\\u0430\\u0442\\u0430\\u0443\\u0441\\u043a\\u0438\\u0439 \\u0420-\\u041d\",\"\\u0422\\u0443\\u0440\\u0430\\u043d \\u0420-\\u041d\",\"\\u0410\\u043b\\u044c-\\u0424\\u0430\\u0440\\u0430\\u0431\\u0438\\u0439\\u0441\\u043a\\u0438\\u0439 \\u0420-\\u041d\",\"\\u041a\\u0430\\u0440\\u0430\\u0442\\u0430\\u0443\\u0441\\u043a\\u0438\\u0439 \\u0420-\\u041d\",\"\\u041a\\u0430\\u0440\\u0430\\u0442\\u0430\\u0443\\u0441\\u043a\\u0438\\u0439 \\u0420-\\u041d\",\"\\u041a\\u0430\\u0440\\u0430\\u0442\\u0430\\u0443\\u0441\\u043a\\u0438\\u0439 \\u0420-\\u041d\"],\"x0\":\" \",\"xaxis\":\"x\",\"y\":[36500000.0,68000000.0,97000000.0,84000000.0,240000000.0,370000000.0,155000000.0,159000000.0,31000000.0,120000000.0,25000000.0,35000000.0,26500000.0,130000000.0,130000000.0,53000000.0,140000000.0,29800000.0,59900000.0,130000000.0,110000000.0,95000000.0,31999999.0,33199999.0,27499999.0,19999999.0,17999999.0,64999999.0,25799999.0,21999999.0,58999999.0,32499999.0,96000000.0,15000000.0,54000000.0,165000000.0,41000000.0,38000000.0,62000000.0,30000000.0,40500000.0,38401030.0,44646900.0,151250000.0,39500000.0,110400000.0,173940360.0,240958000.0,97884000.0,97884000.0,84000000.0,37842000.0,29047180.0,19456800.0,66759000.0,25882350.0,35038888.0,228375000.0,32774400.0,25000000.0,42000000.0,33000000.0,28469280.0,152500000.0,193000000.0,45000000.0,29500000.0,14800000.0,150000000.0,25500000.0,39999999.0,56000000.0,61000000.0,60000000.0,93000000.0,85000000.0,29500000.0,110000000.0,80000000.0,33000000.0,80000000.0,32000000.0,30000000.0,65999999.0,148000000.0,39000000.0,42000000.0,25000000.0,73000000.0,48000000.0,37500000.0,55000000.0,58000000.0,28500000.0,51000000.0,224000000.0,57000000.0,11900000.0,85000000.0,38000000.0,66900000.0,35000000.0,75000000.0,70000000.0,69900000.0,32406000.0,105779240.0,285977850.0,260000000.0,85000000.0,36500000.0,68000000.0,97000000.0,260000000.0,85000000.0,20398000.0,20387500.0,26000000.0,26000000.0,26000000.0,36500000.0,68000000.0,97000000.0,84000000.0,240000000.0,370000000.0,155000000.0,159000000.0,31000000.0,120000000.0,25000000.0,35000000.0,26500000.0,130000000.0,130000000.0,53000000.0,140000000.0,29800000.0,59900000.0,130000000.0,36500000.0,68000000.0,35000000.0,97000000.0,110000000.0,95000000.0,29800000.0,31999999.0,33199999.0,27499999.0,19999999.0,17999999.0,64999999.0,25799999.0,21999999.0,58999999.0,32499999.0,96000000.0,15000000.0,54000000.0,165000000.0,41000000.0,38000000.0,62000000.0,30000000.0,96000000.0,40500000.0,38401030.0,44646900.0,151250000.0,39500000.0,110400000.0,173940360.0,240958000.0,97884000.0,97884000.0,84000000.0,37842000.0,29047180.0,36500000.0,68000000.0,35000000.0,97000000.0,110000000.0,95000000.0,29800000.0,31999999.0,33199999.0,27499999.0,19999999.0,17999999.0,64999999.0,25799999.0,21999999.0,58999999.0,32499999.0,96000000.0,15000000.0,54000000.0,29047180.0,19456800.0,66759000.0,25882350.0,35038888.0,228375000.0,32774400.0,25000000.0,42000000.0,33000000.0,28469280.0,152500000.0,193000000.0,45000000.0,29500000.0,14800000.0,150000000.0,36500000.0,68000000.0,35000000.0,97000000.0,110000000.0,95000000.0,29800000.0,31999999.0,33199999.0,27499999.0,19999999.0,17999999.0,64999999.0,25799999.0,21999999.0,58999999.0,32499999.0,96000000.0,15000000.0,54000000.0,25500000.0,39999999.0,56000000.0,61000000.0,60000000.0,93000000.0,85000000.0,29500000.0,110000000.0,80000000.0,33000000.0,80000000.0,32000000.0,30000000.0,65999999.0,148000000.0,39000000.0,42000000.0,25000000.0,73000000.0,36500000.0,68000000.0,35000000.0,97000000.0,110000000.0,95000000.0,29800000.0,31999999.0,33199999.0,27499999.0,19999999.0,17999999.0,64999999.0,25799999.0,21999999.0,58999999.0,32499999.0,96000000.0,15000000.0,54000000.0,73000000.0,48000000.0,37500000.0,55000000.0,58000000.0,28500000.0,51000000.0,224000000.0,57000000.0,11900000.0,85000000.0,38000000.0,66900000.0,35000000.0,75000000.0,70000000.0,69900000.0,32406000.0,105779240.0,285977850.0,36500000.0,68000000.0,35000000.0,97000000.0,110000000.0,95000000.0,29800000.0,31999999.0,33199999.0,27499999.0,19999999.0,17999999.0,64999999.0,25799999.0,21999999.0,58999999.0,32499999.0,96000000.0,15000000.0,54000000.0,36500000.0,68000000.0,97000000.0,260000000.0,36500000.0,68000000.0,97000000.0,260000000.0,85000000.0,36500000.0,68000000.0,97000000.0,260000000.0,85000000.0,36500000.0,68000000.0,97000000.0,84000000.0,240000000.0,370000000.0,155000000.0,159000000.0,31000000.0,120000000.0,25000000.0,35000000.0,26500000.0,130000000.0,53000000.0,140000000.0,29800000.0,59900000.0,130000000.0,110000000.0,95000000.0,31999999.0,27499999.0,19999999.0,17999999.0,64999999.0,25799999.0,21999999.0,58999999.0,32499999.0,96000000.0,15000000.0,54000000.0,165000000.0,41000000.0,38000000.0,62000000.0,30000000.0,40500000.0,38401030.0,44646900.0,151250000.0,39500000.0,110400000.0,173940360.0,240958000.0,97884000.0,97884000.0,84000000.0,37842000.0,29047180.0,19456800.0,66759000.0,25882350.0,35038888.0,228375000.0,32774400.0,25000000.0,42000000.0,33000000.0,28469280.0,152500000.0,193000000.0,45000000.0,29500000.0,14800000.0,150000000.0,25500000.0,39999999.0,56000000.0,61000000.0,60000000.0,93000000.0,85000000.0,29500000.0,110000000.0,80000000.0,33000000.0,80000000.0,32000000.0,30000000.0,148000000.0,39000000.0,42000000.0,25000000.0,73000000.0,48000000.0,37500000.0,55000000.0,58000000.0,28500000.0,51000000.0,224000000.0,57000000.0,11900000.0,85000000.0,38000000.0,66900000.0,35000000.0,75000000.0,70000000.0,69900000.0,32406000.0,105779240.0,285977850.0,260000000.0,85000000.0,20398000.0,26000000.0,26000000.0,45000000.0,25900000.0,33000000.0,58000000.0,42000000.0,18900000.0,19900000.0,26500000.0,110000000.0,49700000.0,34000000.0,24000000.0,47000000.0,21000000.0,24500000.0,45000000.0,39450000.0,19000000.0,25500000.0,19000000.0,35000000.0,41000000.0,19500000.0,19800000.0,18000000.0,22800000.0,27000000.0,29500000.0,11000000.0,16500000.0,50000000.0,41000000.0,16700000.0,34500000.0,37500000.0,38000000.0,175000000.0,97000000.0,28950000.0,50000000.0,10017000.0,35133000.0,50459670.0,14615000.0,48000000.0,38336220.0,35500000.0,14500000.0,23500000.0,32000000.0,83635010.0,14178400.0,45052200.0,32634300.0,38300000.0,65999999.0,28636800.0,50652000.0,34750050.0,18500000.0,48948900.0,165000000.0,60784000.0,38300000.0,38639160.0,32266000.0,40000000.0,29300000.0,10200000.0,21500000.0,67000000.0,70000000.0,27700000.0,12000000.0,45500000.0,25000000.0,54000000.0,24000000.0,22000000.0,18990000.0,19300000.0,29800000.0,34500000.0,30000000.0,21707000.0,111240000.0,27137800.0,17500000.0,62500000.0,18000000.0,79000000.0,28000000.0,36500000.0,141248400.0,114336000.0,59851680.0,16500000.0,13500000.0,34000000.0,37000000.0,63000000.0,23500000.0,19958400.0,23000000.0,19500000.0,37000000.0,21000000.0,13200000.0,45005100.0,135000000.0,29500000.0,30000000.0,40549000.0,17944040.0,35000000.0,30000000.0,41990000.0,19325600.0,21968100.0,68000000.0,35500000.0,29000000.0,26900000.0,38000000.0,25000000.0,33000000.0,40000000.0,33500000.0,80000000.0,17600000.0,45500000.0,50069270.0,70701680.0,30071580.0,44000000.0,17000000.0,13500000.0,31620000.0,60000000.0,21000000.0],\"y0\":\" \",\"yaxis\":\"y\",\"type\":\"box\"}],                        {\"template\":{\"data\":{\"histogram2dcontour\":[{\"type\":\"histogram2dcontour\",\"colorbar\":{\"outlinewidth\":0,\"ticks\":\"\"},\"colorscale\":[[0.0,\"#0d0887\"],[0.1111111111111111,\"#46039f\"],[0.2222222222222222,\"#7201a8\"],[0.3333333333333333,\"#9c179e\"],[0.4444444444444444,\"#bd3786\"],[0.5555555555555556,\"#d8576b\"],[0.6666666666666666,\"#ed7953\"],[0.7777777777777778,\"#fb9f3a\"],[0.8888888888888888,\"#fdca26\"],[1.0,\"#f0f921\"]]}],\"choropleth\":[{\"type\":\"choropleth\",\"colorbar\":{\"outlinewidth\":0,\"ticks\":\"\"}}],\"histogram2d\":[{\"type\":\"histogram2d\",\"colorbar\":{\"outlinewidth\":0,\"ticks\":\"\"},\"colorscale\":[[0.0,\"#0d0887\"],[0.1111111111111111,\"#46039f\"],[0.2222222222222222,\"#7201a8\"],[0.3333333333333333,\"#9c179e\"],[0.4444444444444444,\"#bd3786\"],[0.5555555555555556,\"#d8576b\"],[0.6666666666666666,\"#ed7953\"],[0.7777777777777778,\"#fb9f3a\"],[0.8888888888888888,\"#fdca26\"],[1.0,\"#f0f921\"]]}],\"heatmap\":[{\"type\":\"heatmap\",\"colorbar\":{\"outlinewidth\":0,\"ticks\":\"\"},\"colorscale\":[[0.0,\"#0d0887\"],[0.1111111111111111,\"#46039f\"],[0.2222222222222222,\"#7201a8\"],[0.3333333333333333,\"#9c179e\"],[0.4444444444444444,\"#bd3786\"],[0.5555555555555556,\"#d8576b\"],[0.6666666666666666,\"#ed7953\"],[0.7777777777777778,\"#fb9f3a\"],[0.8888888888888888,\"#fdca26\"],[1.0,\"#f0f921\"]]}],\"heatmapgl\":[{\"type\":\"heatmapgl\",\"colorbar\":{\"outlinewidth\":0,\"ticks\":\"\"},\"colorscale\":[[0.0,\"#0d0887\"],[0.1111111111111111,\"#46039f\"],[0.2222222222222222,\"#7201a8\"],[0.3333333333333333,\"#9c179e\"],[0.4444444444444444,\"#bd3786\"],[0.5555555555555556,\"#d8576b\"],[0.6666666666666666,\"#ed7953\"],[0.7777777777777778,\"#fb9f3a\"],[0.8888888888888888,\"#fdca26\"],[1.0,\"#f0f921\"]]}],\"contourcarpet\":[{\"type\":\"contourcarpet\",\"colorbar\":{\"outlinewidth\":0,\"ticks\":\"\"}}],\"contour\":[{\"type\":\"contour\",\"colorbar\":{\"outlinewidth\":0,\"ticks\":\"\"},\"colorscale\":[[0.0,\"#0d0887\"],[0.1111111111111111,\"#46039f\"],[0.2222222222222222,\"#7201a8\"],[0.3333333333333333,\"#9c179e\"],[0.4444444444444444,\"#bd3786\"],[0.5555555555555556,\"#d8576b\"],[0.6666666666666666,\"#ed7953\"],[0.7777777777777778,\"#fb9f3a\"],[0.8888888888888888,\"#fdca26\"],[1.0,\"#f0f921\"]]}],\"surface\":[{\"type\":\"surface\",\"colorbar\":{\"outlinewidth\":0,\"ticks\":\"\"},\"colorscale\":[[0.0,\"#0d0887\"],[0.1111111111111111,\"#46039f\"],[0.2222222222222222,\"#7201a8\"],[0.3333333333333333,\"#9c179e\"],[0.4444444444444444,\"#bd3786\"],[0.5555555555555556,\"#d8576b\"],[0.6666666666666666,\"#ed7953\"],[0.7777777777777778,\"#fb9f3a\"],[0.8888888888888888,\"#fdca26\"],[1.0,\"#f0f921\"]]}],\"mesh3d\":[{\"type\":\"mesh3d\",\"colorbar\":{\"outlinewidth\":0,\"ticks\":\"\"}}],\"scatter\":[{\"fillpattern\":{\"fillmode\":\"overlay\",\"size\":10,\"solidity\":0.2},\"type\":\"scatter\"}],\"parcoords\":[{\"type\":\"parcoords\",\"line\":{\"colorbar\":{\"outlinewidth\":0,\"ticks\":\"\"}}}],\"scatterpolargl\":[{\"type\":\"scatterpolargl\",\"marker\":{\"colorbar\":{\"outlinewidth\":0,\"ticks\":\"\"}}}],\"bar\":[{\"error_x\":{\"color\":\"#2a3f5f\"},\"error_y\":{\"color\":\"#2a3f5f\"},\"marker\":{\"line\":{\"color\":\"#E5ECF6\",\"width\":0.5},\"pattern\":{\"fillmode\":\"overlay\",\"size\":10,\"solidity\":0.2}},\"type\":\"bar\"}],\"scattergeo\":[{\"type\":\"scattergeo\",\"marker\":{\"colorbar\":{\"outlinewidth\":0,\"ticks\":\"\"}}}],\"scatterpolar\":[{\"type\":\"scatterpolar\",\"marker\":{\"colorbar\":{\"outlinewidth\":0,\"ticks\":\"\"}}}],\"histogram\":[{\"marker\":{\"pattern\":{\"fillmode\":\"overlay\",\"size\":10,\"solidity\":0.2}},\"type\":\"histogram\"}],\"scattergl\":[{\"type\":\"scattergl\",\"marker\":{\"colorbar\":{\"outlinewidth\":0,\"ticks\":\"\"}}}],\"scatter3d\":[{\"type\":\"scatter3d\",\"line\":{\"colorbar\":{\"outlinewidth\":0,\"ticks\":\"\"}},\"marker\":{\"colorbar\":{\"outlinewidth\":0,\"ticks\":\"\"}}}],\"scattermapbox\":[{\"type\":\"scattermapbox\",\"marker\":{\"colorbar\":{\"outlinewidth\":0,\"ticks\":\"\"}}}],\"scatterternary\":[{\"type\":\"scatterternary\",\"marker\":{\"colorbar\":{\"outlinewidth\":0,\"ticks\":\"\"}}}],\"scattercarpet\":[{\"type\":\"scattercarpet\",\"marker\":{\"colorbar\":{\"outlinewidth\":0,\"ticks\":\"\"}}}],\"carpet\":[{\"aaxis\":{\"endlinecolor\":\"#2a3f5f\",\"gridcolor\":\"white\",\"linecolor\":\"white\",\"minorgridcolor\":\"white\",\"startlinecolor\":\"#2a3f5f\"},\"baxis\":{\"endlinecolor\":\"#2a3f5f\",\"gridcolor\":\"white\",\"linecolor\":\"white\",\"minorgridcolor\":\"white\",\"startlinecolor\":\"#2a3f5f\"},\"type\":\"carpet\"}],\"table\":[{\"cells\":{\"fill\":{\"color\":\"#EBF0F8\"},\"line\":{\"color\":\"white\"}},\"header\":{\"fill\":{\"color\":\"#C8D4E3\"},\"line\":{\"color\":\"white\"}},\"type\":\"table\"}],\"barpolar\":[{\"marker\":{\"line\":{\"color\":\"#E5ECF6\",\"width\":0.5},\"pattern\":{\"fillmode\":\"overlay\",\"size\":10,\"solidity\":0.2}},\"type\":\"barpolar\"}],\"pie\":[{\"automargin\":true,\"type\":\"pie\"}]},\"layout\":{\"autotypenumbers\":\"strict\",\"colorway\":[\"#636efa\",\"#EF553B\",\"#00cc96\",\"#ab63fa\",\"#FFA15A\",\"#19d3f3\",\"#FF6692\",\"#B6E880\",\"#FF97FF\",\"#FECB52\"],\"font\":{\"color\":\"#2a3f5f\"},\"hovermode\":\"closest\",\"hoverlabel\":{\"align\":\"left\"},\"paper_bgcolor\":\"white\",\"plot_bgcolor\":\"#E5ECF6\",\"polar\":{\"bgcolor\":\"#E5ECF6\",\"angularaxis\":{\"gridcolor\":\"white\",\"linecolor\":\"white\",\"ticks\":\"\"},\"radialaxis\":{\"gridcolor\":\"white\",\"linecolor\":\"white\",\"ticks\":\"\"}},\"ternary\":{\"bgcolor\":\"#E5ECF6\",\"aaxis\":{\"gridcolor\":\"white\",\"linecolor\":\"white\",\"ticks\":\"\"},\"baxis\":{\"gridcolor\":\"white\",\"linecolor\":\"white\",\"ticks\":\"\"},\"caxis\":{\"gridcolor\":\"white\",\"linecolor\":\"white\",\"ticks\":\"\"}},\"coloraxis\":{\"colorbar\":{\"outlinewidth\":0,\"ticks\":\"\"}},\"colorscale\":{\"sequential\":[[0.0,\"#0d0887\"],[0.1111111111111111,\"#46039f\"],[0.2222222222222222,\"#7201a8\"],[0.3333333333333333,\"#9c179e\"],[0.4444444444444444,\"#bd3786\"],[0.5555555555555556,\"#d8576b\"],[0.6666666666666666,\"#ed7953\"],[0.7777777777777778,\"#fb9f3a\"],[0.8888888888888888,\"#fdca26\"],[1.0,\"#f0f921\"]],\"sequentialminus\":[[0.0,\"#0d0887\"],[0.1111111111111111,\"#46039f\"],[0.2222222222222222,\"#7201a8\"],[0.3333333333333333,\"#9c179e\"],[0.4444444444444444,\"#bd3786\"],[0.5555555555555556,\"#d8576b\"],[0.6666666666666666,\"#ed7953\"],[0.7777777777777778,\"#fb9f3a\"],[0.8888888888888888,\"#fdca26\"],[1.0,\"#f0f921\"]],\"diverging\":[[0,\"#8e0152\"],[0.1,\"#c51b7d\"],[0.2,\"#de77ae\"],[0.3,\"#f1b6da\"],[0.4,\"#fde0ef\"],[0.5,\"#f7f7f7\"],[0.6,\"#e6f5d0\"],[0.7,\"#b8e186\"],[0.8,\"#7fbc41\"],[0.9,\"#4d9221\"],[1,\"#276419\"]]},\"xaxis\":{\"gridcolor\":\"white\",\"linecolor\":\"white\",\"ticks\":\"\",\"title\":{\"standoff\":15},\"zerolinecolor\":\"white\",\"automargin\":true,\"zerolinewidth\":2},\"yaxis\":{\"gridcolor\":\"white\",\"linecolor\":\"white\",\"ticks\":\"\",\"title\":{\"standoff\":15},\"zerolinecolor\":\"white\",\"automargin\":true,\"zerolinewidth\":2},\"scene\":{\"xaxis\":{\"backgroundcolor\":\"#E5ECF6\",\"gridcolor\":\"white\",\"linecolor\":\"white\",\"showbackground\":true,\"ticks\":\"\",\"zerolinecolor\":\"white\",\"gridwidth\":2},\"yaxis\":{\"backgroundcolor\":\"#E5ECF6\",\"gridcolor\":\"white\",\"linecolor\":\"white\",\"showbackground\":true,\"ticks\":\"\",\"zerolinecolor\":\"white\",\"gridwidth\":2},\"zaxis\":{\"backgroundcolor\":\"#E5ECF6\",\"gridcolor\":\"white\",\"linecolor\":\"white\",\"showbackground\":true,\"ticks\":\"\",\"zerolinecolor\":\"white\",\"gridwidth\":2}},\"shapedefaults\":{\"line\":{\"color\":\"#2a3f5f\"}},\"annotationdefaults\":{\"arrowcolor\":\"#2a3f5f\",\"arrowhead\":0,\"arrowwidth\":1},\"geo\":{\"bgcolor\":\"white\",\"landcolor\":\"#E5ECF6\",\"subunitcolor\":\"white\",\"showland\":true,\"showlakes\":true,\"lakecolor\":\"white\"},\"title\":{\"x\":0.05},\"mapbox\":{\"style\":\"light\"}}},\"xaxis\":{\"anchor\":\"y\",\"domain\":[0.0,1.0],\"title\":{\"text\":\"district\"}},\"yaxis\":{\"anchor\":\"x\",\"domain\":[0.0,1.0],\"title\":{\"text\":\"price_kzt\"}},\"legend\":{\"tracegroupgap\":0},\"title\":{\"text\":\"\\u0420\\u0430\\u0441\\u043f\\u0440\\u0435\\u0434\\u0435\\u043b\\u0435\\u043d\\u0438\\u0435 \\u0446\\u0435\\u043d \\u043f\\u043e \\u0440\\u0430\\u0439\\u043e\\u043d\\u0430\"},\"boxmode\":\"group\"},                        {\"responsive\": true}                    ).then(function(){\n",
       "                            \n",
       "var gd = document.getElementById('24c113b4-cfd1-4cd2-85c9-2dfc6eb1aee7');\n",
       "var x = new MutationObserver(function (mutations, observer) {{\n",
       "        var display = window.getComputedStyle(gd).display;\n",
       "        if (!display || display === 'none') {{\n",
       "            console.log([gd, 'removed!']);\n",
       "            Plotly.purge(gd);\n",
       "            observer.disconnect();\n",
       "        }}\n",
       "}});\n",
       "\n",
       "// Listen for the removal of the full notebook cells\n",
       "var notebookContainer = gd.closest('#notebook-container');\n",
       "if (notebookContainer) {{\n",
       "    x.observe(notebookContainer, {childList: true});\n",
       "}}\n",
       "\n",
       "// Listen for the clearing of the current output cell\n",
       "var outputEl = gd.closest('.output');\n",
       "if (outputEl) {{\n",
       "    x.observe(outputEl, {childList: true});\n",
       "}}\n",
       "\n",
       "                        })                };                });            </script>        </div>"
      ]
     },
     "metadata": {},
     "output_type": "display_data"
    }
   ],
   "source": [
    "px.box(df, x = 'district', y = 'price_kzt', title = 'Распределение цен по района')"
   ]
  },
  {
   "cell_type": "markdown",
   "id": "bc64deec-f639-42f2-80d7-c0fb5265bb55",
   "metadata": {},
   "source": [
    "#### Barplot"
   ]
  },
  {
   "cell_type": "code",
   "execution_count": 866,
   "id": "c95b53ad-cd0b-4b8a-b598-31d869bb2f2c",
   "metadata": {},
   "outputs": [],
   "source": [
    "df_mean = df.groupby('district')['price_kzt'].mean().sort_values().reset_index()\n",
    "df_mean['price_kzt'] = df_mean['price_kzt'].apply(lambda x: f\"{int(x):,}\".replace(\",\", \" \"))"
   ]
  },
  {
   "cell_type": "code",
   "execution_count": 868,
   "id": "80e74280-3fd0-4595-b124-c6566270b374",
   "metadata": {},
   "outputs": [
    {
     "data": {
      "application/vnd.plotly.v1+json": {
       "config": {
        "plotlyServerURL": "https://plot.ly"
       },
       "data": [
        {
         "alignmentgroup": "True",
         "hovertemplate": "district=%{x}<br>price_kzt=%{y}<extra></extra>",
         "legendgroup": "Алматинская Обл.",
         "marker": {
          "color": "#636efa",
          "pattern": {
           "shape": ""
          }
         },
         "name": "Алматинская Обл.",
         "offsetgroup": "Алматинская Обл.",
         "orientation": "v",
         "showlegend": true,
         "textposition": "auto",
         "type": "bar",
         "x": [
          "Алматинская Обл."
         ],
         "xaxis": "x",
         "y": [
          "23 897 937"
         ],
         "yaxis": "y"
        },
        {
         "alignmentgroup": "True",
         "hovertemplate": "district=%{x}<br>price_kzt=%{y}<extra></extra>",
         "legendgroup": "Сарыарка Р-Н",
         "marker": {
          "color": "#EF553B",
          "pattern": {
           "shape": ""
          }
         },
         "name": "Сарыарка Р-Н",
         "offsetgroup": "Сарыарка Р-Н",
         "orientation": "v",
         "showlegend": true,
         "textposition": "auto",
         "type": "bar",
         "x": [
          "Сарыарка Р-Н"
         ],
         "xaxis": "x",
         "y": [
          "24 268 200"
         ],
         "yaxis": "y"
        },
        {
         "alignmentgroup": "True",
         "hovertemplate": "district=%{x}<br>price_kzt=%{y}<extra></extra>",
         "legendgroup": "Турксибский Р-Н",
         "marker": {
          "color": "#00cc96",
          "pattern": {
           "shape": ""
          }
         },
         "name": "Турксибский Р-Н",
         "offsetgroup": "Турксибский Р-Н",
         "orientation": "v",
         "showlegend": true,
         "textposition": "auto",
         "type": "bar",
         "visible": true,
         "x": [
          "Турксибский Р-Н"
         ],
         "xaxis": "x",
         "y": [
          "25 120 840"
         ],
         "yaxis": "y"
        },
        {
         "alignmentgroup": "True",
         "hovertemplate": "district=%{x}<br>price_kzt=%{y}<extra></extra>",
         "legendgroup": "Туран Р-Н",
         "marker": {
          "color": "#ab63fa",
          "pattern": {
           "shape": ""
          }
         },
         "name": "Туран Р-Н",
         "offsetgroup": "Туран Р-Н",
         "orientation": "v",
         "showlegend": true,
         "textposition": "auto",
         "type": "bar",
         "visible": true,
         "x": [
          "Туран Р-Н"
         ],
         "xaxis": "x",
         "y": [
          "26 019 270"
         ],
         "yaxis": "y"
        },
        {
         "alignmentgroup": "True",
         "hovertemplate": "district=%{x}<br>price_kzt=%{y}<extra></extra>",
         "legendgroup": "Жетысуский Р-Н",
         "marker": {
          "color": "#FFA15A",
          "pattern": {
           "shape": ""
          }
         },
         "name": "Жетысуский Р-Н",
         "offsetgroup": "Жетысуский Р-Н",
         "orientation": "v",
         "showlegend": true,
         "textposition": "auto",
         "type": "bar",
         "x": [
          "Жетысуский Р-Н"
         ],
         "xaxis": "x",
         "y": [
          "27 512 057"
         ],
         "yaxis": "y"
        },
        {
         "alignmentgroup": "True",
         "hovertemplate": "district=%{x}<br>price_kzt=%{y}<extra></extra>",
         "legendgroup": "Алатауский Р-Н",
         "marker": {
          "color": "#19d3f3",
          "pattern": {
           "shape": ""
          }
         },
         "name": "Алатауский Р-Н",
         "offsetgroup": "Алатауский Р-Н",
         "orientation": "v",
         "showlegend": true,
         "textposition": "auto",
         "type": "bar",
         "visible": true,
         "x": [
          "Алатауский Р-Н"
         ],
         "xaxis": "x",
         "y": [
          "31 592 560"
         ],
         "yaxis": "y"
        },
        {
         "alignmentgroup": "True",
         "hovertemplate": "district=%{x}<br>price_kzt=%{y}<extra></extra>",
         "legendgroup": "Аль-Фарабийский Р-Н",
         "marker": {
          "color": "#FF6692",
          "pattern": {
           "shape": ""
          }
         },
         "name": "Аль-Фарабийский Р-Н",
         "offsetgroup": "Аль-Фарабийский Р-Н",
         "orientation": "v",
         "showlegend": true,
         "textposition": "auto",
         "type": "bar",
         "x": [
          "Аль-Фарабийский Р-Н"
         ],
         "xaxis": "x",
         "y": [
          "34 131 672"
         ],
         "yaxis": "y"
        },
        {
         "alignmentgroup": "True",
         "hovertemplate": "district=%{x}<br>price_kzt=%{y}<extra></extra>",
         "legendgroup": "Абайский Р-Н",
         "marker": {
          "color": "#B6E880",
          "pattern": {
           "shape": ""
          }
         },
         "name": "Абайский Р-Н",
         "offsetgroup": "Абайский Р-Н",
         "orientation": "v",
         "showlegend": true,
         "textposition": "auto",
         "type": "bar",
         "x": [
          "Абайский Р-Н"
         ],
         "xaxis": "x",
         "y": [
          "35 482 276"
         ],
         "yaxis": "y"
        },
        {
         "alignmentgroup": "True",
         "hovertemplate": "district=%{x}<br>price_kzt=%{y}<extra></extra>",
         "legendgroup": "Алматы Р-Н",
         "marker": {
          "color": "#FF97FF",
          "pattern": {
           "shape": ""
          }
         },
         "name": "Алматы Р-Н",
         "offsetgroup": "Алматы Р-Н",
         "orientation": "v",
         "showlegend": true,
         "textposition": "auto",
         "type": "bar",
         "x": [
          "Алматы Р-Н"
         ],
         "xaxis": "x",
         "y": [
          "35 485 400"
         ],
         "yaxis": "y"
        },
        {
         "alignmentgroup": "True",
         "hovertemplate": "district=%{x}<br>price_kzt=%{y}<extra></extra>",
         "legendgroup": "Байконур Р–Н",
         "marker": {
          "color": "#FECB52",
          "pattern": {
           "shape": ""
          }
         },
         "name": "Байконур Р–Н",
         "offsetgroup": "Байконур Р–Н",
         "orientation": "v",
         "showlegend": true,
         "textposition": "auto",
         "type": "bar",
         "x": [
          "Байконур Р–Н"
         ],
         "xaxis": "x",
         "y": [
          "36 425 000"
         ],
         "yaxis": "y"
        },
        {
         "alignmentgroup": "True",
         "hovertemplate": "district=%{x}<br>price_kzt=%{y}<extra></extra>",
         "legendgroup": "Каратауский Р-Н",
         "marker": {
          "color": "#636efa",
          "pattern": {
           "shape": ""
          }
         },
         "name": "Каратауский Р-Н",
         "offsetgroup": "Каратауский Р-Н",
         "orientation": "v",
         "showlegend": true,
         "textposition": "auto",
         "type": "bar",
         "x": [
          "Каратауский Р-Н"
         ],
         "xaxis": "x",
         "y": [
          "39 973 333"
         ],
         "yaxis": "y"
        },
        {
         "alignmentgroup": "True",
         "hovertemplate": "district=%{x}<br>price_kzt=%{y}<extra></extra>",
         "legendgroup": "Нура Р-Н",
         "marker": {
          "color": "#EF553B",
          "pattern": {
           "shape": ""
          }
         },
         "name": "Нура Р-Н",
         "offsetgroup": "Нура Р-Н",
         "orientation": "v",
         "showlegend": true,
         "textposition": "auto",
         "type": "bar",
         "x": [
          "Нура Р-Н"
         ],
         "xaxis": "x",
         "y": [
          "40 627 665"
         ],
         "yaxis": "y"
        },
        {
         "alignmentgroup": "True",
         "hovertemplate": "district=%{x}<br>price_kzt=%{y}<extra></extra>",
         "legendgroup": "Есильский Р-Н",
         "marker": {
          "color": "#00cc96",
          "pattern": {
           "shape": ""
          }
         },
         "name": "Есильский Р-Н",
         "offsetgroup": "Есильский Р-Н",
         "orientation": "v",
         "showlegend": true,
         "textposition": "auto",
         "type": "bar",
         "x": [
          "Есильский Р-Н"
         ],
         "xaxis": "x",
         "y": [
          "43 864 092"
         ],
         "yaxis": "y"
        },
        {
         "alignmentgroup": "True",
         "hovertemplate": "district=%{x}<br>price_kzt=%{y}<extra></extra>",
         "legendgroup": "Ауэзовский Р-Н",
         "marker": {
          "color": "#ab63fa",
          "pattern": {
           "shape": ""
          }
         },
         "name": "Ауэзовский Р-Н",
         "offsetgroup": "Ауэзовский Р-Н",
         "orientation": "v",
         "showlegend": true,
         "textposition": "auto",
         "type": "bar",
         "x": [
          "Ауэзовский Р-Н"
         ],
         "xaxis": "x",
         "y": [
          "46 646 428"
         ],
         "yaxis": "y"
        },
        {
         "alignmentgroup": "True",
         "hovertemplate": "district=%{x}<br>price_kzt=%{y}<extra></extra>",
         "legendgroup": "Наурызбайский Р-Н",
         "marker": {
          "color": "#FFA15A",
          "pattern": {
           "shape": ""
          }
         },
         "name": "Наурызбайский Р-Н",
         "offsetgroup": "Наурызбайский Р-Н",
         "orientation": "v",
         "showlegend": true,
         "textposition": "auto",
         "type": "bar",
         "x": [
          "Наурызбайский Р-Н"
         ],
         "xaxis": "x",
         "y": [
          "49 099 078"
         ],
         "yaxis": "y"
        },
        {
         "alignmentgroup": "True",
         "hovertemplate": "district=%{x}<br>price_kzt=%{y}<extra></extra>",
         "legendgroup": "Алмалинский Р-Н",
         "marker": {
          "color": "#19d3f3",
          "pattern": {
           "shape": ""
          }
         },
         "name": "Алмалинский Р-Н",
         "offsetgroup": "Алмалинский Р-Н",
         "orientation": "v",
         "showlegend": true,
         "textposition": "auto",
         "type": "bar",
         "x": [
          "Алмалинский Р-Н"
         ],
         "xaxis": "x",
         "y": [
          "54 094 501"
         ],
         "yaxis": "y"
        },
        {
         "alignmentgroup": "True",
         "hovertemplate": "district=%{x}<br>price_kzt=%{y}<extra></extra>",
         "legendgroup": "Бостандыкский Р-Н",
         "marker": {
          "color": "#FF6692",
          "pattern": {
           "shape": ""
          }
         },
         "name": "Бостандыкский Р-Н",
         "offsetgroup": "Бостандыкский Р-Н",
         "orientation": "v",
         "showlegend": true,
         "textposition": "auto",
         "type": "bar",
         "x": [
          "Бостандыкский Р-Н"
         ],
         "xaxis": "x",
         "y": [
          "107 889 444"
         ],
         "yaxis": "y"
        },
        {
         "alignmentgroup": "True",
         "hovertemplate": "district=%{x}<br>price_kzt=%{y}<extra></extra>",
         "legendgroup": "Медеуский Р-Н",
         "marker": {
          "color": "#B6E880",
          "pattern": {
           "shape": ""
          }
         },
         "name": "Медеуский Р-Н",
         "offsetgroup": "Медеуский Р-Н",
         "orientation": "v",
         "showlegend": true,
         "textposition": "auto",
         "type": "bar",
         "x": [
          "Медеуский Р-Н"
         ],
         "xaxis": "x",
         "y": [
          "131 740 928"
         ],
         "yaxis": "y"
        },
        {
         "alignmentgroup": "True",
         "hovertemplate": "district=%{x}<br>price_kzt=%{y}<extra></extra>",
         "legendgroup": "Енбекшинский Р-Н",
         "marker": {
          "color": "#FF97FF",
          "pattern": {
           "shape": ""
          }
         },
         "name": "Енбекшинский Р-Н",
         "offsetgroup": "Енбекшинский Р-Н",
         "orientation": "v",
         "showlegend": true,
         "textposition": "auto",
         "type": "bar",
         "x": [
          "Енбекшинский Р-Н"
         ],
         "xaxis": "x",
         "y": [
          "135 000 000"
         ],
         "yaxis": "y"
        }
       ],
       "layout": {
        "autosize": true,
        "barmode": "relative",
        "legend": {
         "title": {
          "text": "district"
         },
         "tracegroupgap": 0
        },
        "template": {
         "data": {
          "bar": [
           {
            "error_x": {
             "color": "#2a3f5f"
            },
            "error_y": {
             "color": "#2a3f5f"
            },
            "marker": {
             "line": {
              "color": "#E5ECF6",
              "width": 0.5
             },
             "pattern": {
              "fillmode": "overlay",
              "size": 10,
              "solidity": 0.2
             }
            },
            "type": "bar"
           }
          ],
          "barpolar": [
           {
            "marker": {
             "line": {
              "color": "#E5ECF6",
              "width": 0.5
             },
             "pattern": {
              "fillmode": "overlay",
              "size": 10,
              "solidity": 0.2
             }
            },
            "type": "barpolar"
           }
          ],
          "carpet": [
           {
            "aaxis": {
             "endlinecolor": "#2a3f5f",
             "gridcolor": "white",
             "linecolor": "white",
             "minorgridcolor": "white",
             "startlinecolor": "#2a3f5f"
            },
            "baxis": {
             "endlinecolor": "#2a3f5f",
             "gridcolor": "white",
             "linecolor": "white",
             "minorgridcolor": "white",
             "startlinecolor": "#2a3f5f"
            },
            "type": "carpet"
           }
          ],
          "choropleth": [
           {
            "colorbar": {
             "outlinewidth": 0,
             "ticks": ""
            },
            "type": "choropleth"
           }
          ],
          "contour": [
           {
            "colorbar": {
             "outlinewidth": 0,
             "ticks": ""
            },
            "colorscale": [
             [
              0,
              "#0d0887"
             ],
             [
              0.1111111111111111,
              "#46039f"
             ],
             [
              0.2222222222222222,
              "#7201a8"
             ],
             [
              0.3333333333333333,
              "#9c179e"
             ],
             [
              0.4444444444444444,
              "#bd3786"
             ],
             [
              0.5555555555555556,
              "#d8576b"
             ],
             [
              0.6666666666666666,
              "#ed7953"
             ],
             [
              0.7777777777777778,
              "#fb9f3a"
             ],
             [
              0.8888888888888888,
              "#fdca26"
             ],
             [
              1,
              "#f0f921"
             ]
            ],
            "type": "contour"
           }
          ],
          "contourcarpet": [
           {
            "colorbar": {
             "outlinewidth": 0,
             "ticks": ""
            },
            "type": "contourcarpet"
           }
          ],
          "heatmap": [
           {
            "colorbar": {
             "outlinewidth": 0,
             "ticks": ""
            },
            "colorscale": [
             [
              0,
              "#0d0887"
             ],
             [
              0.1111111111111111,
              "#46039f"
             ],
             [
              0.2222222222222222,
              "#7201a8"
             ],
             [
              0.3333333333333333,
              "#9c179e"
             ],
             [
              0.4444444444444444,
              "#bd3786"
             ],
             [
              0.5555555555555556,
              "#d8576b"
             ],
             [
              0.6666666666666666,
              "#ed7953"
             ],
             [
              0.7777777777777778,
              "#fb9f3a"
             ],
             [
              0.8888888888888888,
              "#fdca26"
             ],
             [
              1,
              "#f0f921"
             ]
            ],
            "type": "heatmap"
           }
          ],
          "heatmapgl": [
           {
            "colorbar": {
             "outlinewidth": 0,
             "ticks": ""
            },
            "colorscale": [
             [
              0,
              "#0d0887"
             ],
             [
              0.1111111111111111,
              "#46039f"
             ],
             [
              0.2222222222222222,
              "#7201a8"
             ],
             [
              0.3333333333333333,
              "#9c179e"
             ],
             [
              0.4444444444444444,
              "#bd3786"
             ],
             [
              0.5555555555555556,
              "#d8576b"
             ],
             [
              0.6666666666666666,
              "#ed7953"
             ],
             [
              0.7777777777777778,
              "#fb9f3a"
             ],
             [
              0.8888888888888888,
              "#fdca26"
             ],
             [
              1,
              "#f0f921"
             ]
            ],
            "type": "heatmapgl"
           }
          ],
          "histogram": [
           {
            "marker": {
             "pattern": {
              "fillmode": "overlay",
              "size": 10,
              "solidity": 0.2
             }
            },
            "type": "histogram"
           }
          ],
          "histogram2d": [
           {
            "colorbar": {
             "outlinewidth": 0,
             "ticks": ""
            },
            "colorscale": [
             [
              0,
              "#0d0887"
             ],
             [
              0.1111111111111111,
              "#46039f"
             ],
             [
              0.2222222222222222,
              "#7201a8"
             ],
             [
              0.3333333333333333,
              "#9c179e"
             ],
             [
              0.4444444444444444,
              "#bd3786"
             ],
             [
              0.5555555555555556,
              "#d8576b"
             ],
             [
              0.6666666666666666,
              "#ed7953"
             ],
             [
              0.7777777777777778,
              "#fb9f3a"
             ],
             [
              0.8888888888888888,
              "#fdca26"
             ],
             [
              1,
              "#f0f921"
             ]
            ],
            "type": "histogram2d"
           }
          ],
          "histogram2dcontour": [
           {
            "colorbar": {
             "outlinewidth": 0,
             "ticks": ""
            },
            "colorscale": [
             [
              0,
              "#0d0887"
             ],
             [
              0.1111111111111111,
              "#46039f"
             ],
             [
              0.2222222222222222,
              "#7201a8"
             ],
             [
              0.3333333333333333,
              "#9c179e"
             ],
             [
              0.4444444444444444,
              "#bd3786"
             ],
             [
              0.5555555555555556,
              "#d8576b"
             ],
             [
              0.6666666666666666,
              "#ed7953"
             ],
             [
              0.7777777777777778,
              "#fb9f3a"
             ],
             [
              0.8888888888888888,
              "#fdca26"
             ],
             [
              1,
              "#f0f921"
             ]
            ],
            "type": "histogram2dcontour"
           }
          ],
          "mesh3d": [
           {
            "colorbar": {
             "outlinewidth": 0,
             "ticks": ""
            },
            "type": "mesh3d"
           }
          ],
          "parcoords": [
           {
            "line": {
             "colorbar": {
              "outlinewidth": 0,
              "ticks": ""
             }
            },
            "type": "parcoords"
           }
          ],
          "pie": [
           {
            "automargin": true,
            "type": "pie"
           }
          ],
          "scatter": [
           {
            "fillpattern": {
             "fillmode": "overlay",
             "size": 10,
             "solidity": 0.2
            },
            "type": "scatter"
           }
          ],
          "scatter3d": [
           {
            "line": {
             "colorbar": {
              "outlinewidth": 0,
              "ticks": ""
             }
            },
            "marker": {
             "colorbar": {
              "outlinewidth": 0,
              "ticks": ""
             }
            },
            "type": "scatter3d"
           }
          ],
          "scattercarpet": [
           {
            "marker": {
             "colorbar": {
              "outlinewidth": 0,
              "ticks": ""
             }
            },
            "type": "scattercarpet"
           }
          ],
          "scattergeo": [
           {
            "marker": {
             "colorbar": {
              "outlinewidth": 0,
              "ticks": ""
             }
            },
            "type": "scattergeo"
           }
          ],
          "scattergl": [
           {
            "marker": {
             "colorbar": {
              "outlinewidth": 0,
              "ticks": ""
             }
            },
            "type": "scattergl"
           }
          ],
          "scattermapbox": [
           {
            "marker": {
             "colorbar": {
              "outlinewidth": 0,
              "ticks": ""
             }
            },
            "type": "scattermapbox"
           }
          ],
          "scatterpolar": [
           {
            "marker": {
             "colorbar": {
              "outlinewidth": 0,
              "ticks": ""
             }
            },
            "type": "scatterpolar"
           }
          ],
          "scatterpolargl": [
           {
            "marker": {
             "colorbar": {
              "outlinewidth": 0,
              "ticks": ""
             }
            },
            "type": "scatterpolargl"
           }
          ],
          "scatterternary": [
           {
            "marker": {
             "colorbar": {
              "outlinewidth": 0,
              "ticks": ""
             }
            },
            "type": "scatterternary"
           }
          ],
          "surface": [
           {
            "colorbar": {
             "outlinewidth": 0,
             "ticks": ""
            },
            "colorscale": [
             [
              0,
              "#0d0887"
             ],
             [
              0.1111111111111111,
              "#46039f"
             ],
             [
              0.2222222222222222,
              "#7201a8"
             ],
             [
              0.3333333333333333,
              "#9c179e"
             ],
             [
              0.4444444444444444,
              "#bd3786"
             ],
             [
              0.5555555555555556,
              "#d8576b"
             ],
             [
              0.6666666666666666,
              "#ed7953"
             ],
             [
              0.7777777777777778,
              "#fb9f3a"
             ],
             [
              0.8888888888888888,
              "#fdca26"
             ],
             [
              1,
              "#f0f921"
             ]
            ],
            "type": "surface"
           }
          ],
          "table": [
           {
            "cells": {
             "fill": {
              "color": "#EBF0F8"
             },
             "line": {
              "color": "white"
             }
            },
            "header": {
             "fill": {
              "color": "#C8D4E3"
             },
             "line": {
              "color": "white"
             }
            },
            "type": "table"
           }
          ]
         },
         "layout": {
          "annotationdefaults": {
           "arrowcolor": "#2a3f5f",
           "arrowhead": 0,
           "arrowwidth": 1
          },
          "autotypenumbers": "strict",
          "coloraxis": {
           "colorbar": {
            "outlinewidth": 0,
            "ticks": ""
           }
          },
          "colorscale": {
           "diverging": [
            [
             0,
             "#8e0152"
            ],
            [
             0.1,
             "#c51b7d"
            ],
            [
             0.2,
             "#de77ae"
            ],
            [
             0.3,
             "#f1b6da"
            ],
            [
             0.4,
             "#fde0ef"
            ],
            [
             0.5,
             "#f7f7f7"
            ],
            [
             0.6,
             "#e6f5d0"
            ],
            [
             0.7,
             "#b8e186"
            ],
            [
             0.8,
             "#7fbc41"
            ],
            [
             0.9,
             "#4d9221"
            ],
            [
             1,
             "#276419"
            ]
           ],
           "sequential": [
            [
             0,
             "#0d0887"
            ],
            [
             0.1111111111111111,
             "#46039f"
            ],
            [
             0.2222222222222222,
             "#7201a8"
            ],
            [
             0.3333333333333333,
             "#9c179e"
            ],
            [
             0.4444444444444444,
             "#bd3786"
            ],
            [
             0.5555555555555556,
             "#d8576b"
            ],
            [
             0.6666666666666666,
             "#ed7953"
            ],
            [
             0.7777777777777778,
             "#fb9f3a"
            ],
            [
             0.8888888888888888,
             "#fdca26"
            ],
            [
             1,
             "#f0f921"
            ]
           ],
           "sequentialminus": [
            [
             0,
             "#0d0887"
            ],
            [
             0.1111111111111111,
             "#46039f"
            ],
            [
             0.2222222222222222,
             "#7201a8"
            ],
            [
             0.3333333333333333,
             "#9c179e"
            ],
            [
             0.4444444444444444,
             "#bd3786"
            ],
            [
             0.5555555555555556,
             "#d8576b"
            ],
            [
             0.6666666666666666,
             "#ed7953"
            ],
            [
             0.7777777777777778,
             "#fb9f3a"
            ],
            [
             0.8888888888888888,
             "#fdca26"
            ],
            [
             1,
             "#f0f921"
            ]
           ]
          },
          "colorway": [
           "#636efa",
           "#EF553B",
           "#00cc96",
           "#ab63fa",
           "#FFA15A",
           "#19d3f3",
           "#FF6692",
           "#B6E880",
           "#FF97FF",
           "#FECB52"
          ],
          "font": {
           "color": "#2a3f5f"
          },
          "geo": {
           "bgcolor": "white",
           "lakecolor": "white",
           "landcolor": "#E5ECF6",
           "showlakes": true,
           "showland": true,
           "subunitcolor": "white"
          },
          "hoverlabel": {
           "align": "left"
          },
          "hovermode": "closest",
          "mapbox": {
           "style": "light"
          },
          "paper_bgcolor": "white",
          "plot_bgcolor": "#E5ECF6",
          "polar": {
           "angularaxis": {
            "gridcolor": "white",
            "linecolor": "white",
            "ticks": ""
           },
           "bgcolor": "#E5ECF6",
           "radialaxis": {
            "gridcolor": "white",
            "linecolor": "white",
            "ticks": ""
           }
          },
          "scene": {
           "xaxis": {
            "backgroundcolor": "#E5ECF6",
            "gridcolor": "white",
            "gridwidth": 2,
            "linecolor": "white",
            "showbackground": true,
            "ticks": "",
            "zerolinecolor": "white"
           },
           "yaxis": {
            "backgroundcolor": "#E5ECF6",
            "gridcolor": "white",
            "gridwidth": 2,
            "linecolor": "white",
            "showbackground": true,
            "ticks": "",
            "zerolinecolor": "white"
           },
           "zaxis": {
            "backgroundcolor": "#E5ECF6",
            "gridcolor": "white",
            "gridwidth": 2,
            "linecolor": "white",
            "showbackground": true,
            "ticks": "",
            "zerolinecolor": "white"
           }
          },
          "shapedefaults": {
           "line": {
            "color": "#2a3f5f"
           }
          },
          "ternary": {
           "aaxis": {
            "gridcolor": "white",
            "linecolor": "white",
            "ticks": ""
           },
           "baxis": {
            "gridcolor": "white",
            "linecolor": "white",
            "ticks": ""
           },
           "bgcolor": "#E5ECF6",
           "caxis": {
            "gridcolor": "white",
            "linecolor": "white",
            "ticks": ""
           }
          },
          "title": {
           "x": 0.05
          },
          "xaxis": {
           "automargin": true,
           "gridcolor": "white",
           "linecolor": "white",
           "ticks": "",
           "title": {
            "standoff": 15
           },
           "zerolinecolor": "white",
           "zerolinewidth": 2
          },
          "yaxis": {
           "automargin": true,
           "gridcolor": "white",
           "linecolor": "white",
           "ticks": "",
           "title": {
            "standoff": 15
           },
           "zerolinecolor": "white",
           "zerolinewidth": 2
          }
         }
        },
        "title": {
         "text": "Cредняя цена по районам"
        },
        "xaxis": {
         "anchor": "y",
         "autorange": true,
         "categoryarray": [
          "Алматинская Обл.",
          "Сарыарка Р-Н",
          "Турксибский Р-Н",
          "Туран Р-Н",
          "Жетысуский Р-Н",
          "Алатауский Р-Н",
          "Аль-Фарабийский Р-Н",
          "Абайский Р-Н",
          "Алматы Р-Н",
          "Байконур Р–Н",
          "Каратауский Р-Н",
          "Нура Р-Н",
          "Есильский Р-Н",
          "Ауэзовский Р-Н",
          "Наурызбайский Р-Н",
          "Алмалинский Р-Н",
          "Бостандыкский Р-Н",
          "Медеуский Р-Н",
          "Енбекшинский Р-Н"
         ],
         "categoryorder": "array",
         "domain": [
          0,
          1
         ],
         "range": [
          -0.5,
          18.5
         ],
         "title": {
          "text": "district"
         },
         "type": "category"
        },
        "yaxis": {
         "anchor": "x",
         "autorange": true,
         "domain": [
          0,
          1
         ],
         "range": [
          -1,
          19
         ],
         "title": {
          "text": "price_kzt"
         },
         "type": "category"
        }
       }
      },
      "image/png": "[encoded data removed]",
      "text/html": [
       "<div>                            <div id=\"00f096de-6392-4663-b286-a437826821d1\" class=\"plotly-graph-div\" style=\"height:525px; width:100%;\"></div>            <script type=\"text/javascript\">                require([\"plotly\"], function(Plotly) {                    window.PLOTLYENV=window.PLOTLYENV || {};                                    if (document.getElementById(\"00f096de-6392-4663-b286-a437826821d1\")) {                    Plotly.newPlot(                        \"00f096de-6392-4663-b286-a437826821d1\",                        [{\"alignmentgroup\":\"True\",\"hovertemplate\":\"district=%{x}\\u003cbr\\u003eprice_kzt=%{y}\\u003cextra\\u003e\\u003c\\u002fextra\\u003e\",\"legendgroup\":\"\\u0410\\u043b\\u043c\\u0430\\u0442\\u0438\\u043d\\u0441\\u043a\\u0430\\u044f \\u041e\\u0431\\u043b.\",\"marker\":{\"color\":\"#636efa\",\"pattern\":{\"shape\":\"\"}},\"name\":\"\\u0410\\u043b\\u043c\\u0430\\u0442\\u0438\\u043d\\u0441\\u043a\\u0430\\u044f \\u041e\\u0431\\u043b.\",\"offsetgroup\":\"\\u0410\\u043b\\u043c\\u0430\\u0442\\u0438\\u043d\\u0441\\u043a\\u0430\\u044f \\u041e\\u0431\\u043b.\",\"orientation\":\"v\",\"showlegend\":true,\"textposition\":\"auto\",\"x\":[\"\\u0410\\u043b\\u043c\\u0430\\u0442\\u0438\\u043d\\u0441\\u043a\\u0430\\u044f \\u041e\\u0431\\u043b.\"],\"xaxis\":\"x\",\"y\":[\"23 897 937\"],\"yaxis\":\"y\",\"type\":\"bar\"},{\"alignmentgroup\":\"True\",\"hovertemplate\":\"district=%{x}\\u003cbr\\u003eprice_kzt=%{y}\\u003cextra\\u003e\\u003c\\u002fextra\\u003e\",\"legendgroup\":\"\\u0421\\u0430\\u0440\\u044b\\u0430\\u0440\\u043a\\u0430 \\u0420-\\u041d\",\"marker\":{\"color\":\"#EF553B\",\"pattern\":{\"shape\":\"\"}},\"name\":\"\\u0421\\u0430\\u0440\\u044b\\u0430\\u0440\\u043a\\u0430 \\u0420-\\u041d\",\"offsetgroup\":\"\\u0421\\u0430\\u0440\\u044b\\u0430\\u0440\\u043a\\u0430 \\u0420-\\u041d\",\"orientation\":\"v\",\"showlegend\":true,\"textposition\":\"auto\",\"x\":[\"\\u0421\\u0430\\u0440\\u044b\\u0430\\u0440\\u043a\\u0430 \\u0420-\\u041d\"],\"xaxis\":\"x\",\"y\":[\"24 268 200\"],\"yaxis\":\"y\",\"type\":\"bar\"},{\"alignmentgroup\":\"True\",\"hovertemplate\":\"district=%{x}\\u003cbr\\u003eprice_kzt=%{y}\\u003cextra\\u003e\\u003c\\u002fextra\\u003e\",\"legendgroup\":\"\\u0422\\u0443\\u0440\\u043a\\u0441\\u0438\\u0431\\u0441\\u043a\\u0438\\u0439 \\u0420-\\u041d\",\"marker\":{\"color\":\"#00cc96\",\"pattern\":{\"shape\":\"\"}},\"name\":\"\\u0422\\u0443\\u0440\\u043a\\u0441\\u0438\\u0431\\u0441\\u043a\\u0438\\u0439 \\u0420-\\u041d\",\"offsetgroup\":\"\\u0422\\u0443\\u0440\\u043a\\u0441\\u0438\\u0431\\u0441\\u043a\\u0438\\u0439 \\u0420-\\u041d\",\"orientation\":\"v\",\"showlegend\":true,\"textposition\":\"auto\",\"x\":[\"\\u0422\\u0443\\u0440\\u043a\\u0441\\u0438\\u0431\\u0441\\u043a\\u0438\\u0439 \\u0420-\\u041d\"],\"xaxis\":\"x\",\"y\":[\"25 120 840\"],\"yaxis\":\"y\",\"type\":\"bar\"},{\"alignmentgroup\":\"True\",\"hovertemplate\":\"district=%{x}\\u003cbr\\u003eprice_kzt=%{y}\\u003cextra\\u003e\\u003c\\u002fextra\\u003e\",\"legendgroup\":\"\\u0422\\u0443\\u0440\\u0430\\u043d \\u0420-\\u041d\",\"marker\":{\"color\":\"#ab63fa\",\"pattern\":{\"shape\":\"\"}},\"name\":\"\\u0422\\u0443\\u0440\\u0430\\u043d \\u0420-\\u041d\",\"offsetgroup\":\"\\u0422\\u0443\\u0440\\u0430\\u043d \\u0420-\\u041d\",\"orientation\":\"v\",\"showlegend\":true,\"textposition\":\"auto\",\"x\":[\"\\u0422\\u0443\\u0440\\u0430\\u043d \\u0420-\\u041d\"],\"xaxis\":\"x\",\"y\":[\"26 019 270\"],\"yaxis\":\"y\",\"type\":\"bar\"},{\"alignmentgroup\":\"True\",\"hovertemplate\":\"district=%{x}\\u003cbr\\u003eprice_kzt=%{y}\\u003cextra\\u003e\\u003c\\u002fextra\\u003e\",\"legendgroup\":\"\\u0416\\u0435\\u0442\\u044b\\u0441\\u0443\\u0441\\u043a\\u0438\\u0439 \\u0420-\\u041d\",\"marker\":{\"color\":\"#FFA15A\",\"pattern\":{\"shape\":\"\"}},\"name\":\"\\u0416\\u0435\\u0442\\u044b\\u0441\\u0443\\u0441\\u043a\\u0438\\u0439 \\u0420-\\u041d\",\"offsetgroup\":\"\\u0416\\u0435\\u0442\\u044b\\u0441\\u0443\\u0441\\u043a\\u0438\\u0439 \\u0420-\\u041d\",\"orientation\":\"v\",\"showlegend\":true,\"textposition\":\"auto\",\"x\":[\"\\u0416\\u0435\\u0442\\u044b\\u0441\\u0443\\u0441\\u043a\\u0438\\u0439 \\u0420-\\u041d\"],\"xaxis\":\"x\",\"y\":[\"27 512 057\"],\"yaxis\":\"y\",\"type\":\"bar\"},{\"alignmentgroup\":\"True\",\"hovertemplate\":\"district=%{x}\\u003cbr\\u003eprice_kzt=%{y}\\u003cextra\\u003e\\u003c\\u002fextra\\u003e\",\"legendgroup\":\"\\u0410\\u043b\\u0430\\u0442\\u0430\\u0443\\u0441\\u043a\\u0438\\u0439 \\u0420-\\u041d\",\"marker\":{\"color\":\"#19d3f3\",\"pattern\":{\"shape\":\"\"}},\"name\":\"\\u0410\\u043b\\u0430\\u0442\\u0430\\u0443\\u0441\\u043a\\u0438\\u0439 \\u0420-\\u041d\",\"offsetgroup\":\"\\u0410\\u043b\\u0430\\u0442\\u0430\\u0443\\u0441\\u043a\\u0438\\u0439 \\u0420-\\u041d\",\"orientation\":\"v\",\"showlegend\":true,\"textposition\":\"auto\",\"x\":[\"\\u0410\\u043b\\u0430\\u0442\\u0430\\u0443\\u0441\\u043a\\u0438\\u0439 \\u0420-\\u041d\"],\"xaxis\":\"x\",\"y\":[\"31 592 560\"],\"yaxis\":\"y\",\"type\":\"bar\"},{\"alignmentgroup\":\"True\",\"hovertemplate\":\"district=%{x}\\u003cbr\\u003eprice_kzt=%{y}\\u003cextra\\u003e\\u003c\\u002fextra\\u003e\",\"legendgroup\":\"\\u0410\\u043b\\u044c-\\u0424\\u0430\\u0440\\u0430\\u0431\\u0438\\u0439\\u0441\\u043a\\u0438\\u0439 \\u0420-\\u041d\",\"marker\":{\"color\":\"#FF6692\",\"pattern\":{\"shape\":\"\"}},\"name\":\"\\u0410\\u043b\\u044c-\\u0424\\u0430\\u0440\\u0430\\u0431\\u0438\\u0439\\u0441\\u043a\\u0438\\u0439 \\u0420-\\u041d\",\"offsetgroup\":\"\\u0410\\u043b\\u044c-\\u0424\\u0430\\u0440\\u0430\\u0431\\u0438\\u0439\\u0441\\u043a\\u0438\\u0439 \\u0420-\\u041d\",\"orientation\":\"v\",\"showlegend\":true,\"textposition\":\"auto\",\"x\":[\"\\u0410\\u043b\\u044c-\\u0424\\u0430\\u0440\\u0430\\u0431\\u0438\\u0439\\u0441\\u043a\\u0438\\u0439 \\u0420-\\u041d\"],\"xaxis\":\"x\",\"y\":[\"34 131 672\"],\"yaxis\":\"y\",\"type\":\"bar\"},{\"alignmentgroup\":\"True\",\"hovertemplate\":\"district=%{x}\\u003cbr\\u003eprice_kzt=%{y}\\u003cextra\\u003e\\u003c\\u002fextra\\u003e\",\"legendgroup\":\"\\u0410\\u0431\\u0430\\u0439\\u0441\\u043a\\u0438\\u0439 \\u0420-\\u041d\",\"marker\":{\"color\":\"#B6E880\",\"pattern\":{\"shape\":\"\"}},\"name\":\"\\u0410\\u0431\\u0430\\u0439\\u0441\\u043a\\u0438\\u0439 \\u0420-\\u041d\",\"offsetgroup\":\"\\u0410\\u0431\\u0430\\u0439\\u0441\\u043a\\u0438\\u0439 \\u0420-\\u041d\",\"orientation\":\"v\",\"showlegend\":true,\"textposition\":\"auto\",\"x\":[\"\\u0410\\u0431\\u0430\\u0439\\u0441\\u043a\\u0438\\u0439 \\u0420-\\u041d\"],\"xaxis\":\"x\",\"y\":[\"35 482 276\"],\"yaxis\":\"y\",\"type\":\"bar\"},{\"alignmentgroup\":\"True\",\"hovertemplate\":\"district=%{x}\\u003cbr\\u003eprice_kzt=%{y}\\u003cextra\\u003e\\u003c\\u002fextra\\u003e\",\"legendgroup\":\"\\u0410\\u043b\\u043c\\u0430\\u0442\\u044b \\u0420-\\u041d\",\"marker\":{\"color\":\"#FF97FF\",\"pattern\":{\"shape\":\"\"}},\"name\":\"\\u0410\\u043b\\u043c\\u0430\\u0442\\u044b \\u0420-\\u041d\",\"offsetgroup\":\"\\u0410\\u043b\\u043c\\u0430\\u0442\\u044b \\u0420-\\u041d\",\"orientation\":\"v\",\"showlegend\":true,\"textposition\":\"auto\",\"x\":[\"\\u0410\\u043b\\u043c\\u0430\\u0442\\u044b \\u0420-\\u041d\"],\"xaxis\":\"x\",\"y\":[\"35 485 400\"],\"yaxis\":\"y\",\"type\":\"bar\"},{\"alignmentgroup\":\"True\",\"hovertemplate\":\"district=%{x}\\u003cbr\\u003eprice_kzt=%{y}\\u003cextra\\u003e\\u003c\\u002fextra\\u003e\",\"legendgroup\":\"\\u0411\\u0430\\u0439\\u043a\\u043e\\u043d\\u0443\\u0440 \\u0420\\u2013\\u041d\",\"marker\":{\"color\":\"#FECB52\",\"pattern\":{\"shape\":\"\"}},\"name\":\"\\u0411\\u0430\\u0439\\u043a\\u043e\\u043d\\u0443\\u0440 \\u0420\\u2013\\u041d\",\"offsetgroup\":\"\\u0411\\u0430\\u0439\\u043a\\u043e\\u043d\\u0443\\u0440 \\u0420\\u2013\\u041d\",\"orientation\":\"v\",\"showlegend\":true,\"textposition\":\"auto\",\"x\":[\"\\u0411\\u0430\\u0439\\u043a\\u043e\\u043d\\u0443\\u0440 \\u0420\\u2013\\u041d\"],\"xaxis\":\"x\",\"y\":[\"36 425 000\"],\"yaxis\":\"y\",\"type\":\"bar\"},{\"alignmentgroup\":\"True\",\"hovertemplate\":\"district=%{x}\\u003cbr\\u003eprice_kzt=%{y}\\u003cextra\\u003e\\u003c\\u002fextra\\u003e\",\"legendgroup\":\"\\u041a\\u0430\\u0440\\u0430\\u0442\\u0430\\u0443\\u0441\\u043a\\u0438\\u0439 \\u0420-\\u041d\",\"marker\":{\"color\":\"#636efa\",\"pattern\":{\"shape\":\"\"}},\"name\":\"\\u041a\\u0430\\u0440\\u0430\\u0442\\u0430\\u0443\\u0441\\u043a\\u0438\\u0439 \\u0420-\\u041d\",\"offsetgroup\":\"\\u041a\\u0430\\u0440\\u0430\\u0442\\u0430\\u0443\\u0441\\u043a\\u0438\\u0439 \\u0420-\\u041d\",\"orientation\":\"v\",\"showlegend\":true,\"textposition\":\"auto\",\"x\":[\"\\u041a\\u0430\\u0440\\u0430\\u0442\\u0430\\u0443\\u0441\\u043a\\u0438\\u0439 \\u0420-\\u041d\"],\"xaxis\":\"x\",\"y\":[\"39 973 333\"],\"yaxis\":\"y\",\"type\":\"bar\"},{\"alignmentgroup\":\"True\",\"hovertemplate\":\"district=%{x}\\u003cbr\\u003eprice_kzt=%{y}\\u003cextra\\u003e\\u003c\\u002fextra\\u003e\",\"legendgroup\":\"\\u041d\\u0443\\u0440\\u0430 \\u0420-\\u041d\",\"marker\":{\"color\":\"#EF553B\",\"pattern\":{\"shape\":\"\"}},\"name\":\"\\u041d\\u0443\\u0440\\u0430 \\u0420-\\u041d\",\"offsetgroup\":\"\\u041d\\u0443\\u0440\\u0430 \\u0420-\\u041d\",\"orientation\":\"v\",\"showlegend\":true,\"textposition\":\"auto\",\"x\":[\"\\u041d\\u0443\\u0440\\u0430 \\u0420-\\u041d\"],\"xaxis\":\"x\",\"y\":[\"40 627 665\"],\"yaxis\":\"y\",\"type\":\"bar\"},{\"alignmentgroup\":\"True\",\"hovertemplate\":\"district=%{x}\\u003cbr\\u003eprice_kzt=%{y}\\u003cextra\\u003e\\u003c\\u002fextra\\u003e\",\"legendgroup\":\"\\u0415\\u0441\\u0438\\u043b\\u044c\\u0441\\u043a\\u0438\\u0439 \\u0420-\\u041d\",\"marker\":{\"color\":\"#00cc96\",\"pattern\":{\"shape\":\"\"}},\"name\":\"\\u0415\\u0441\\u0438\\u043b\\u044c\\u0441\\u043a\\u0438\\u0439 \\u0420-\\u041d\",\"offsetgroup\":\"\\u0415\\u0441\\u0438\\u043b\\u044c\\u0441\\u043a\\u0438\\u0439 \\u0420-\\u041d\",\"orientation\":\"v\",\"showlegend\":true,\"textposition\":\"auto\",\"x\":[\"\\u0415\\u0441\\u0438\\u043b\\u044c\\u0441\\u043a\\u0438\\u0439 \\u0420-\\u041d\"],\"xaxis\":\"x\",\"y\":[\"43 864 092\"],\"yaxis\":\"y\",\"type\":\"bar\"},{\"alignmentgroup\":\"True\",\"hovertemplate\":\"district=%{x}\\u003cbr\\u003eprice_kzt=%{y}\\u003cextra\\u003e\\u003c\\u002fextra\\u003e\",\"legendgroup\":\"\\u0410\\u0443\\u044d\\u0437\\u043e\\u0432\\u0441\\u043a\\u0438\\u0439 \\u0420-\\u041d\",\"marker\":{\"color\":\"#ab63fa\",\"pattern\":{\"shape\":\"\"}},\"name\":\"\\u0410\\u0443\\u044d\\u0437\\u043e\\u0432\\u0441\\u043a\\u0438\\u0439 \\u0420-\\u041d\",\"offsetgroup\":\"\\u0410\\u0443\\u044d\\u0437\\u043e\\u0432\\u0441\\u043a\\u0438\\u0439 \\u0420-\\u041d\",\"orientation\":\"v\",\"showlegend\":true,\"textposition\":\"auto\",\"x\":[\"\\u0410\\u0443\\u044d\\u0437\\u043e\\u0432\\u0441\\u043a\\u0438\\u0439 \\u0420-\\u041d\"],\"xaxis\":\"x\",\"y\":[\"46 646 428\"],\"yaxis\":\"y\",\"type\":\"bar\"},{\"alignmentgroup\":\"True\",\"hovertemplate\":\"district=%{x}\\u003cbr\\u003eprice_kzt=%{y}\\u003cextra\\u003e\\u003c\\u002fextra\\u003e\",\"legendgroup\":\"\\u041d\\u0430\\u0443\\u0440\\u044b\\u0437\\u0431\\u0430\\u0439\\u0441\\u043a\\u0438\\u0439 \\u0420-\\u041d\",\"marker\":{\"color\":\"#FFA15A\",\"pattern\":{\"shape\":\"\"}},\"name\":\"\\u041d\\u0430\\u0443\\u0440\\u044b\\u0437\\u0431\\u0430\\u0439\\u0441\\u043a\\u0438\\u0439 \\u0420-\\u041d\",\"offsetgroup\":\"\\u041d\\u0430\\u0443\\u0440\\u044b\\u0437\\u0431\\u0430\\u0439\\u0441\\u043a\\u0438\\u0439 \\u0420-\\u041d\",\"orientation\":\"v\",\"showlegend\":true,\"textposition\":\"auto\",\"x\":[\"\\u041d\\u0430\\u0443\\u0440\\u044b\\u0437\\u0431\\u0430\\u0439\\u0441\\u043a\\u0438\\u0439 \\u0420-\\u041d\"],\"xaxis\":\"x\",\"y\":[\"49 099 078\"],\"yaxis\":\"y\",\"type\":\"bar\"},{\"alignmentgroup\":\"True\",\"hovertemplate\":\"district=%{x}\\u003cbr\\u003eprice_kzt=%{y}\\u003cextra\\u003e\\u003c\\u002fextra\\u003e\",\"legendgroup\":\"\\u0410\\u043b\\u043c\\u0430\\u043b\\u0438\\u043d\\u0441\\u043a\\u0438\\u0439 \\u0420-\\u041d\",\"marker\":{\"color\":\"#19d3f3\",\"pattern\":{\"shape\":\"\"}},\"name\":\"\\u0410\\u043b\\u043c\\u0430\\u043b\\u0438\\u043d\\u0441\\u043a\\u0438\\u0439 \\u0420-\\u041d\",\"offsetgroup\":\"\\u0410\\u043b\\u043c\\u0430\\u043b\\u0438\\u043d\\u0441\\u043a\\u0438\\u0439 \\u0420-\\u041d\",\"orientation\":\"v\",\"showlegend\":true,\"textposition\":\"auto\",\"x\":[\"\\u0410\\u043b\\u043c\\u0430\\u043b\\u0438\\u043d\\u0441\\u043a\\u0438\\u0439 \\u0420-\\u041d\"],\"xaxis\":\"x\",\"y\":[\"54 094 501\"],\"yaxis\":\"y\",\"type\":\"bar\"},{\"alignmentgroup\":\"True\",\"hovertemplate\":\"district=%{x}\\u003cbr\\u003eprice_kzt=%{y}\\u003cextra\\u003e\\u003c\\u002fextra\\u003e\",\"legendgroup\":\"\\u0411\\u043e\\u0441\\u0442\\u0430\\u043d\\u0434\\u044b\\u043a\\u0441\\u043a\\u0438\\u0439 \\u0420-\\u041d\",\"marker\":{\"color\":\"#FF6692\",\"pattern\":{\"shape\":\"\"}},\"name\":\"\\u0411\\u043e\\u0441\\u0442\\u0430\\u043d\\u0434\\u044b\\u043a\\u0441\\u043a\\u0438\\u0439 \\u0420-\\u041d\",\"offsetgroup\":\"\\u0411\\u043e\\u0441\\u0442\\u0430\\u043d\\u0434\\u044b\\u043a\\u0441\\u043a\\u0438\\u0439 \\u0420-\\u041d\",\"orientation\":\"v\",\"showlegend\":true,\"textposition\":\"auto\",\"x\":[\"\\u0411\\u043e\\u0441\\u0442\\u0430\\u043d\\u0434\\u044b\\u043a\\u0441\\u043a\\u0438\\u0439 \\u0420-\\u041d\"],\"xaxis\":\"x\",\"y\":[\"107 889 444\"],\"yaxis\":\"y\",\"type\":\"bar\"},{\"alignmentgroup\":\"True\",\"hovertemplate\":\"district=%{x}\\u003cbr\\u003eprice_kzt=%{y}\\u003cextra\\u003e\\u003c\\u002fextra\\u003e\",\"legendgroup\":\"\\u041c\\u0435\\u0434\\u0435\\u0443\\u0441\\u043a\\u0438\\u0439 \\u0420-\\u041d\",\"marker\":{\"color\":\"#B6E880\",\"pattern\":{\"shape\":\"\"}},\"name\":\"\\u041c\\u0435\\u0434\\u0435\\u0443\\u0441\\u043a\\u0438\\u0439 \\u0420-\\u041d\",\"offsetgroup\":\"\\u041c\\u0435\\u0434\\u0435\\u0443\\u0441\\u043a\\u0438\\u0439 \\u0420-\\u041d\",\"orientation\":\"v\",\"showlegend\":true,\"textposition\":\"auto\",\"x\":[\"\\u041c\\u0435\\u0434\\u0435\\u0443\\u0441\\u043a\\u0438\\u0439 \\u0420-\\u041d\"],\"xaxis\":\"x\",\"y\":[\"131 740 928\"],\"yaxis\":\"y\",\"type\":\"bar\"},{\"alignmentgroup\":\"True\",\"hovertemplate\":\"district=%{x}\\u003cbr\\u003eprice_kzt=%{y}\\u003cextra\\u003e\\u003c\\u002fextra\\u003e\",\"legendgroup\":\"\\u0415\\u043d\\u0431\\u0435\\u043a\\u0448\\u0438\\u043d\\u0441\\u043a\\u0438\\u0439 \\u0420-\\u041d\",\"marker\":{\"color\":\"#FF97FF\",\"pattern\":{\"shape\":\"\"}},\"name\":\"\\u0415\\u043d\\u0431\\u0435\\u043a\\u0448\\u0438\\u043d\\u0441\\u043a\\u0438\\u0439 \\u0420-\\u041d\",\"offsetgroup\":\"\\u0415\\u043d\\u0431\\u0435\\u043a\\u0448\\u0438\\u043d\\u0441\\u043a\\u0438\\u0439 \\u0420-\\u041d\",\"orientation\":\"v\",\"showlegend\":true,\"textposition\":\"auto\",\"x\":[\"\\u0415\\u043d\\u0431\\u0435\\u043a\\u0448\\u0438\\u043d\\u0441\\u043a\\u0438\\u0439 \\u0420-\\u041d\"],\"xaxis\":\"x\",\"y\":[\"135 000 000\"],\"yaxis\":\"y\",\"type\":\"bar\"}],                        {\"template\":{\"data\":{\"histogram2dcontour\":[{\"type\":\"histogram2dcontour\",\"colorbar\":{\"outlinewidth\":0,\"ticks\":\"\"},\"colorscale\":[[0.0,\"#0d0887\"],[0.1111111111111111,\"#46039f\"],[0.2222222222222222,\"#7201a8\"],[0.3333333333333333,\"#9c179e\"],[0.4444444444444444,\"#bd3786\"],[0.5555555555555556,\"#d8576b\"],[0.6666666666666666,\"#ed7953\"],[0.7777777777777778,\"#fb9f3a\"],[0.8888888888888888,\"#fdca26\"],[1.0,\"#f0f921\"]]}],\"choropleth\":[{\"type\":\"choropleth\",\"colorbar\":{\"outlinewidth\":0,\"ticks\":\"\"}}],\"histogram2d\":[{\"type\":\"histogram2d\",\"colorbar\":{\"outlinewidth\":0,\"ticks\":\"\"},\"colorscale\":[[0.0,\"#0d0887\"],[0.1111111111111111,\"#46039f\"],[0.2222222222222222,\"#7201a8\"],[0.3333333333333333,\"#9c179e\"],[0.4444444444444444,\"#bd3786\"],[0.5555555555555556,\"#d8576b\"],[0.6666666666666666,\"#ed7953\"],[0.7777777777777778,\"#fb9f3a\"],[0.8888888888888888,\"#fdca26\"],[1.0,\"#f0f921\"]]}],\"heatmap\":[{\"type\":\"heatmap\",\"colorbar\":{\"outlinewidth\":0,\"ticks\":\"\"},\"colorscale\":[[0.0,\"#0d0887\"],[0.1111111111111111,\"#46039f\"],[0.2222222222222222,\"#7201a8\"],[0.3333333333333333,\"#9c179e\"],[0.4444444444444444,\"#bd3786\"],[0.5555555555555556,\"#d8576b\"],[0.6666666666666666,\"#ed7953\"],[0.7777777777777778,\"#fb9f3a\"],[0.8888888888888888,\"#fdca26\"],[1.0,\"#f0f921\"]]}],\"heatmapgl\":[{\"type\":\"heatmapgl\",\"colorbar\":{\"outlinewidth\":0,\"ticks\":\"\"},\"colorscale\":[[0.0,\"#0d0887\"],[0.1111111111111111,\"#46039f\"],[0.2222222222222222,\"#7201a8\"],[0.3333333333333333,\"#9c179e\"],[0.4444444444444444,\"#bd3786\"],[0.5555555555555556,\"#d8576b\"],[0.6666666666666666,\"#ed7953\"],[0.7777777777777778,\"#fb9f3a\"],[0.8888888888888888,\"#fdca26\"],[1.0,\"#f0f921\"]]}],\"contourcarpet\":[{\"type\":\"contourcarpet\",\"colorbar\":{\"outlinewidth\":0,\"ticks\":\"\"}}],\"contour\":[{\"type\":\"contour\",\"colorbar\":{\"outlinewidth\":0,\"ticks\":\"\"},\"colorscale\":[[0.0,\"#0d0887\"],[0.1111111111111111,\"#46039f\"],[0.2222222222222222,\"#7201a8\"],[0.3333333333333333,\"#9c179e\"],[0.4444444444444444,\"#bd3786\"],[0.5555555555555556,\"#d8576b\"],[0.6666666666666666,\"#ed7953\"],[0.7777777777777778,\"#fb9f3a\"],[0.8888888888888888,\"#fdca26\"],[1.0,\"#f0f921\"]]}],\"surface\":[{\"type\":\"surface\",\"colorbar\":{\"outlinewidth\":0,\"ticks\":\"\"},\"colorscale\":[[0.0,\"#0d0887\"],[0.1111111111111111,\"#46039f\"],[0.2222222222222222,\"#7201a8\"],[0.3333333333333333,\"#9c179e\"],[0.4444444444444444,\"#bd3786\"],[0.5555555555555556,\"#d8576b\"],[0.6666666666666666,\"#ed7953\"],[0.7777777777777778,\"#fb9f3a\"],[0.8888888888888888,\"#fdca26\"],[1.0,\"#f0f921\"]]}],\"mesh3d\":[{\"type\":\"mesh3d\",\"colorbar\":{\"outlinewidth\":0,\"ticks\":\"\"}}],\"scatter\":[{\"fillpattern\":{\"fillmode\":\"overlay\",\"size\":10,\"solidity\":0.2},\"type\":\"scatter\"}],\"parcoords\":[{\"type\":\"parcoords\",\"line\":{\"colorbar\":{\"outlinewidth\":0,\"ticks\":\"\"}}}],\"scatterpolargl\":[{\"type\":\"scatterpolargl\",\"marker\":{\"colorbar\":{\"outlinewidth\":0,\"ticks\":\"\"}}}],\"bar\":[{\"error_x\":{\"color\":\"#2a3f5f\"},\"error_y\":{\"color\":\"#2a3f5f\"},\"marker\":{\"line\":{\"color\":\"#E5ECF6\",\"width\":0.5},\"pattern\":{\"fillmode\":\"overlay\",\"size\":10,\"solidity\":0.2}},\"type\":\"bar\"}],\"scattergeo\":[{\"type\":\"scattergeo\",\"marker\":{\"colorbar\":{\"outlinewidth\":0,\"ticks\":\"\"}}}],\"scatterpolar\":[{\"type\":\"scatterpolar\",\"marker\":{\"colorbar\":{\"outlinewidth\":0,\"ticks\":\"\"}}}],\"histogram\":[{\"marker\":{\"pattern\":{\"fillmode\":\"overlay\",\"size\":10,\"solidity\":0.2}},\"type\":\"histogram\"}],\"scattergl\":[{\"type\":\"scattergl\",\"marker\":{\"colorbar\":{\"outlinewidth\":0,\"ticks\":\"\"}}}],\"scatter3d\":[{\"type\":\"scatter3d\",\"line\":{\"colorbar\":{\"outlinewidth\":0,\"ticks\":\"\"}},\"marker\":{\"colorbar\":{\"outlinewidth\":0,\"ticks\":\"\"}}}],\"scattermapbox\":[{\"type\":\"scattermapbox\",\"marker\":{\"colorbar\":{\"outlinewidth\":0,\"ticks\":\"\"}}}],\"scatterternary\":[{\"type\":\"scatterternary\",\"marker\":{\"colorbar\":{\"outlinewidth\":0,\"ticks\":\"\"}}}],\"scattercarpet\":[{\"type\":\"scattercarpet\",\"marker\":{\"colorbar\":{\"outlinewidth\":0,\"ticks\":\"\"}}}],\"carpet\":[{\"aaxis\":{\"endlinecolor\":\"#2a3f5f\",\"gridcolor\":\"white\",\"linecolor\":\"white\",\"minorgridcolor\":\"white\",\"startlinecolor\":\"#2a3f5f\"},\"baxis\":{\"endlinecolor\":\"#2a3f5f\",\"gridcolor\":\"white\",\"linecolor\":\"white\",\"minorgridcolor\":\"white\",\"startlinecolor\":\"#2a3f5f\"},\"type\":\"carpet\"}],\"table\":[{\"cells\":{\"fill\":{\"color\":\"#EBF0F8\"},\"line\":{\"color\":\"white\"}},\"header\":{\"fill\":{\"color\":\"#C8D4E3\"},\"line\":{\"color\":\"white\"}},\"type\":\"table\"}],\"barpolar\":[{\"marker\":{\"line\":{\"color\":\"#E5ECF6\",\"width\":0.5},\"pattern\":{\"fillmode\":\"overlay\",\"size\":10,\"solidity\":0.2}},\"type\":\"barpolar\"}],\"pie\":[{\"automargin\":true,\"type\":\"pie\"}]},\"layout\":{\"autotypenumbers\":\"strict\",\"colorway\":[\"#636efa\",\"#EF553B\",\"#00cc96\",\"#ab63fa\",\"#FFA15A\",\"#19d3f3\",\"#FF6692\",\"#B6E880\",\"#FF97FF\",\"#FECB52\"],\"font\":{\"color\":\"#2a3f5f\"},\"hovermode\":\"closest\",\"hoverlabel\":{\"align\":\"left\"},\"paper_bgcolor\":\"white\",\"plot_bgcolor\":\"#E5ECF6\",\"polar\":{\"bgcolor\":\"#E5ECF6\",\"angularaxis\":{\"gridcolor\":\"white\",\"linecolor\":\"white\",\"ticks\":\"\"},\"radialaxis\":{\"gridcolor\":\"white\",\"linecolor\":\"white\",\"ticks\":\"\"}},\"ternary\":{\"bgcolor\":\"#E5ECF6\",\"aaxis\":{\"gridcolor\":\"white\",\"linecolor\":\"white\",\"ticks\":\"\"},\"baxis\":{\"gridcolor\":\"white\",\"linecolor\":\"white\",\"ticks\":\"\"},\"caxis\":{\"gridcolor\":\"white\",\"linecolor\":\"white\",\"ticks\":\"\"}},\"coloraxis\":{\"colorbar\":{\"outlinewidth\":0,\"ticks\":\"\"}},\"colorscale\":{\"sequential\":[[0.0,\"#0d0887\"],[0.1111111111111111,\"#46039f\"],[0.2222222222222222,\"#7201a8\"],[0.3333333333333333,\"#9c179e\"],[0.4444444444444444,\"#bd3786\"],[0.5555555555555556,\"#d8576b\"],[0.6666666666666666,\"#ed7953\"],[0.7777777777777778,\"#fb9f3a\"],[0.8888888888888888,\"#fdca26\"],[1.0,\"#f0f921\"]],\"sequentialminus\":[[0.0,\"#0d0887\"],[0.1111111111111111,\"#46039f\"],[0.2222222222222222,\"#7201a8\"],[0.3333333333333333,\"#9c179e\"],[0.4444444444444444,\"#bd3786\"],[0.5555555555555556,\"#d8576b\"],[0.6666666666666666,\"#ed7953\"],[0.7777777777777778,\"#fb9f3a\"],[0.8888888888888888,\"#fdca26\"],[1.0,\"#f0f921\"]],\"diverging\":[[0,\"#8e0152\"],[0.1,\"#c51b7d\"],[0.2,\"#de77ae\"],[0.3,\"#f1b6da\"],[0.4,\"#fde0ef\"],[0.5,\"#f7f7f7\"],[0.6,\"#e6f5d0\"],[0.7,\"#b8e186\"],[0.8,\"#7fbc41\"],[0.9,\"#4d9221\"],[1,\"#276419\"]]},\"xaxis\":{\"gridcolor\":\"white\",\"linecolor\":\"white\",\"ticks\":\"\",\"title\":{\"standoff\":15},\"zerolinecolor\":\"white\",\"automargin\":true,\"zerolinewidth\":2},\"yaxis\":{\"gridcolor\":\"white\",\"linecolor\":\"white\",\"ticks\":\"\",\"title\":{\"standoff\":15},\"zerolinecolor\":\"white\",\"automargin\":true,\"zerolinewidth\":2},\"scene\":{\"xaxis\":{\"backgroundcolor\":\"#E5ECF6\",\"gridcolor\":\"white\",\"linecolor\":\"white\",\"showbackground\":true,\"ticks\":\"\",\"zerolinecolor\":\"white\",\"gridwidth\":2},\"yaxis\":{\"backgroundcolor\":\"#E5ECF6\",\"gridcolor\":\"white\",\"linecolor\":\"white\",\"showbackground\":true,\"ticks\":\"\",\"zerolinecolor\":\"white\",\"gridwidth\":2},\"zaxis\":{\"backgroundcolor\":\"#E5ECF6\",\"gridcolor\":\"white\",\"linecolor\":\"white\",\"showbackground\":true,\"ticks\":\"\",\"zerolinecolor\":\"white\",\"gridwidth\":2}},\"shapedefaults\":{\"line\":{\"color\":\"#2a3f5f\"}},\"annotationdefaults\":{\"arrowcolor\":\"#2a3f5f\",\"arrowhead\":0,\"arrowwidth\":1},\"geo\":{\"bgcolor\":\"white\",\"landcolor\":\"#E5ECF6\",\"subunitcolor\":\"white\",\"showland\":true,\"showlakes\":true,\"lakecolor\":\"white\"},\"title\":{\"x\":0.05},\"mapbox\":{\"style\":\"light\"}}},\"xaxis\":{\"anchor\":\"y\",\"domain\":[0.0,1.0],\"title\":{\"text\":\"district\"},\"categoryorder\":\"array\",\"categoryarray\":[\"\\u0410\\u043b\\u043c\\u0430\\u0442\\u0438\\u043d\\u0441\\u043a\\u0430\\u044f \\u041e\\u0431\\u043b.\",\"\\u0421\\u0430\\u0440\\u044b\\u0430\\u0440\\u043a\\u0430 \\u0420-\\u041d\",\"\\u0422\\u0443\\u0440\\u043a\\u0441\\u0438\\u0431\\u0441\\u043a\\u0438\\u0439 \\u0420-\\u041d\",\"\\u0422\\u0443\\u0440\\u0430\\u043d \\u0420-\\u041d\",\"\\u0416\\u0435\\u0442\\u044b\\u0441\\u0443\\u0441\\u043a\\u0438\\u0439 \\u0420-\\u041d\",\"\\u0410\\u043b\\u0430\\u0442\\u0430\\u0443\\u0441\\u043a\\u0438\\u0439 \\u0420-\\u041d\",\"\\u0410\\u043b\\u044c-\\u0424\\u0430\\u0440\\u0430\\u0431\\u0438\\u0439\\u0441\\u043a\\u0438\\u0439 \\u0420-\\u041d\",\"\\u0410\\u0431\\u0430\\u0439\\u0441\\u043a\\u0438\\u0439 \\u0420-\\u041d\",\"\\u0410\\u043b\\u043c\\u0430\\u0442\\u044b \\u0420-\\u041d\",\"\\u0411\\u0430\\u0439\\u043a\\u043e\\u043d\\u0443\\u0440 \\u0420\\u2013\\u041d\",\"\\u041a\\u0430\\u0440\\u0430\\u0442\\u0430\\u0443\\u0441\\u043a\\u0438\\u0439 \\u0420-\\u041d\",\"\\u041d\\u0443\\u0440\\u0430 \\u0420-\\u041d\",\"\\u0415\\u0441\\u0438\\u043b\\u044c\\u0441\\u043a\\u0438\\u0439 \\u0420-\\u041d\",\"\\u0410\\u0443\\u044d\\u0437\\u043e\\u0432\\u0441\\u043a\\u0438\\u0439 \\u0420-\\u041d\",\"\\u041d\\u0430\\u0443\\u0440\\u044b\\u0437\\u0431\\u0430\\u0439\\u0441\\u043a\\u0438\\u0439 \\u0420-\\u041d\",\"\\u0410\\u043b\\u043c\\u0430\\u043b\\u0438\\u043d\\u0441\\u043a\\u0438\\u0439 \\u0420-\\u041d\",\"\\u0411\\u043e\\u0441\\u0442\\u0430\\u043d\\u0434\\u044b\\u043a\\u0441\\u043a\\u0438\\u0439 \\u0420-\\u041d\",\"\\u041c\\u0435\\u0434\\u0435\\u0443\\u0441\\u043a\\u0438\\u0439 \\u0420-\\u041d\",\"\\u0415\\u043d\\u0431\\u0435\\u043a\\u0448\\u0438\\u043d\\u0441\\u043a\\u0438\\u0439 \\u0420-\\u041d\"]},\"yaxis\":{\"anchor\":\"x\",\"domain\":[0.0,1.0],\"title\":{\"text\":\"price_kzt\"}},\"legend\":{\"title\":{\"text\":\"district\"},\"tracegroupgap\":0},\"title\":{\"text\":\"C\\u0440\\u0435\\u0434\\u043d\\u044f\\u044f \\u0446\\u0435\\u043d\\u0430 \\u043f\\u043e \\u0440\\u0430\\u0439\\u043e\\u043d\\u0430\\u043c\"},\"barmode\":\"relative\"},                        {\"responsive\": true}                    ).then(function(){\n",
       "                            \n",
       "var gd = document.getElementById('00f096de-6392-4663-b286-a437826821d1');\n",
       "var x = new MutationObserver(function (mutations, observer) {{\n",
       "        var display = window.getComputedStyle(gd).display;\n",
       "        if (!display || display === 'none') {{\n",
       "            console.log([gd, 'removed!']);\n",
       "            Plotly.purge(gd);\n",
       "            observer.disconnect();\n",
       "        }}\n",
       "}});\n",
       "\n",
       "// Listen for the removal of the full notebook cells\n",
       "var notebookContainer = gd.closest('#notebook-container');\n",
       "if (notebookContainer) {{\n",
       "    x.observe(notebookContainer, {childList: true});\n",
       "}}\n",
       "\n",
       "// Listen for the clearing of the current output cell\n",
       "var outputEl = gd.closest('.output');\n",
       "if (outputEl) {{\n",
       "    x.observe(outputEl, {childList: true});\n",
       "}}\n",
       "\n",
       "                        })                };                });            </script>        </div>"
      ]
     },
     "metadata": {},
     "output_type": "display_data"
    }
   ],
   "source": [
    "px.bar(df_mean, x='district', y = 'price_kzt', title = 'Cредняя цена по районам', color = 'district')"
   ]
  },
  {
   "cell_type": "markdown",
   "id": "ee9ec9e4-ded6-4163-9244-6db871af2e38",
   "metadata": {},
   "source": [
    "#### Heatmap"
   ]
  },
  {
   "cell_type": "code",
   "execution_count": 889,
   "id": "074195c4-101c-40b9-9693-479686aeb8d3",
   "metadata": {},
   "outputs": [
    {
     "data": {
      "image/png": "[encoded data removed]",
      "text/plain": [
       "<Figure size 640x480 with 2 Axes>"
      ]
     },
     "metadata": {},
     "output_type": "display_data"
    }
   ],
   "source": [
    "sns.heatmap(df_corr, annot = True, cmap='coolwarm')\n",
    "plt.show()"
   ]
  },
  {
   "cell_type": "markdown",
   "id": "c1251326-0caa-47ea-80df-526063566951",
   "metadata": {},
   "source": [
    "#### Scatter plot"
   ]
  },
  {
   "cell_type": "code",
   "execution_count": 896,
   "id": "f0f987f6-67ee-4368-9306-4bdb810f3706",
   "metadata": {},
   "outputs": [
    {
     "data": {
      "application/vnd.plotly.v1+json": {
       "config": {
        "plotlyServerURL": "https://plot.ly"
       },
       "data": [
        {
         "hovertemplate": "district=Алатауский р-н<br>area_m2=%{x}<br>price_kzt=%{y}<extra></extra>",
         "legendgroup": "Алатауский р-н",
         "marker": {
          "color": "#636efa",
          "symbol": "circle"
         },
         "mode": "markers",
         "name": "Алатауский р-н",
         "orientation": "v",
         "showlegend": true,
         "type": "scatter",
         "x": [
          72,
          41.3,
          59,
          30.63,
          56,
          67,
          54,
          72,
          72,
          41.3,
          72,
          59,
          72,
          59,
          30.63,
          56,
          72,
          59,
          67,
          72,
          59,
          54,
          72,
          59,
          72,
          72,
          72,
          72,
          41.3,
          59,
          30.63,
          56,
          67,
          54,
          null,
          750
         ],
         "xaxis": "x",
         "y": [
          36500000,
          25000000,
          27499999,
          25882350,
          29500000,
          29500000,
          38000000,
          36500000,
          36500000,
          25000000,
          36500000,
          27499999,
          36500000,
          27499999,
          25882350,
          29500000,
          36500000,
          27499999,
          29500000,
          36500000,
          27499999,
          38000000,
          36500000,
          27499999,
          36500000,
          36500000,
          36500000,
          36500000,
          25000000,
          27499999,
          25882350,
          29500000,
          29500000,
          38000000,
          20731500,
          250000000
         ],
         "yaxis": "y"
        },
        {
         "hovertemplate": "district=Бостандыкский р-н<br>area_m2=%{x}<br>price_kzt=%{y}<extra></extra>",
         "legendgroup": "Бостандыкский р-н",
         "marker": {
          "color": "#EF553B",
          "symbol": "circle"
         },
         "mode": "markers",
         "name": "Бостандыкский р-н",
         "orientation": "v",
         "showlegend": true,
         "type": "scatter",
         "x": [
          87.5,
          120,
          200,
          244.7,
          137,
          41.2,
          119.33,
          125,
          125,
          92,
          89,
          109,
          67,
          210,
          275,
          182.7,
          46,
          250,
          154.4,
          39,
          91.4,
          70,
          110,
          103,
          40,
          40,
          80,
          53,
          62,
          224,
          120,
          62.7,
          75,
          202,
          87.5,
          120,
          202,
          87.5,
          120,
          200,
          244.7,
          137,
          41.2,
          119.33,
          125,
          125,
          92,
          87.5,
          120,
          89,
          109,
          67,
          210,
          275,
          87.5,
          120,
          89,
          109,
          67,
          182.7,
          46,
          250,
          154.4,
          39,
          87.5,
          120,
          89,
          109,
          67,
          91.4,
          70,
          110,
          103,
          40,
          40,
          80,
          87.5,
          120,
          89,
          109,
          67,
          80,
          53,
          62,
          224,
          120,
          62.7,
          75,
          87.5,
          120,
          89,
          109,
          67,
          87.5,
          120,
          202,
          87.5,
          120,
          202,
          87.5,
          120,
          202,
          87.5,
          120,
          200,
          244.7,
          137,
          41.2,
          119.33,
          125,
          92,
          89,
          109,
          67,
          210,
          275,
          182.7,
          46,
          250,
          154.4,
          39,
          91.4,
          70,
          110,
          103,
          40,
          40,
          80,
          53,
          62,
          224,
          120,
          62.7,
          75,
          202,
          64,
          44.9,
          49.2
         ],
         "xaxis": "x",
         "y": [
          68000000,
          97000000,
          240000000,
          155000000,
          159000000,
          31000000,
          120000000,
          130000000,
          130000000,
          140000000,
          110000000,
          95000000,
          58999999,
          165000000,
          151250000,
          228375000,
          33000000,
          152500000,
          193000000,
          45000000,
          61000000,
          60000000,
          110000000,
          80000000,
          32000000,
          30000000,
          73000000,
          55000000,
          58000000,
          224000000,
          85000000,
          66900000,
          70000000,
          260000000,
          68000000,
          97000000,
          260000000,
          68000000,
          97000000,
          240000000,
          155000000,
          159000000,
          31000000,
          120000000,
          130000000,
          130000000,
          140000000,
          68000000,
          97000000,
          110000000,
          95000000,
          58999999,
          165000000,
          151250000,
          68000000,
          97000000,
          110000000,
          95000000,
          58999999,
          228375000,
          33000000,
          152500000,
          193000000,
          45000000,
          68000000,
          97000000,
          110000000,
          95000000,
          58999999,
          61000000,
          60000000,
          110000000,
          80000000,
          32000000,
          30000000,
          73000000,
          68000000,
          97000000,
          110000000,
          95000000,
          58999999,
          73000000,
          55000000,
          58000000,
          224000000,
          85000000,
          66900000,
          70000000,
          68000000,
          97000000,
          110000000,
          95000000,
          58999999,
          68000000,
          97000000,
          260000000,
          68000000,
          97000000,
          260000000,
          68000000,
          97000000,
          260000000,
          68000000,
          97000000,
          240000000,
          155000000,
          159000000,
          31000000,
          120000000,
          130000000,
          140000000,
          110000000,
          95000000,
          58999999,
          165000000,
          151250000,
          228375000,
          33000000,
          152500000,
          193000000,
          45000000,
          61000000,
          60000000,
          110000000,
          80000000,
          32000000,
          30000000,
          73000000,
          55000000,
          58000000,
          224000000,
          85000000,
          66900000,
          70000000,
          260000000,
          75000000,
          62000000,
          34500000
         ],
         "yaxis": "y"
        },
        {
         "hovertemplate": "district=Медеуский р-н<br>area_m2=%{x}<br>price_kzt=%{y}<extra></extra>",
         "legendgroup": "Медеуский р-н",
         "marker": {
          "color": "#00cc96",
          "symbol": "circle"
         },
         "mode": "markers",
         "name": "Медеуский р-н",
         "orientation": "v",
         "showlegend": true,
         "type": "scatter",
         "x": [
          152.6,
          370,
          96,
          96,
          103.29,
          149.2,
          78.54,
          34.5,
          180.8,
          175,
          52,
          85,
          49.1,
          174.91,
          152.6,
          370,
          96,
          96,
          96,
          103.29,
          149.2,
          96,
          78.54,
          34.5,
          180.8,
          96,
          175,
          96,
          52,
          85,
          49.1,
          174.91,
          96,
          152.6,
          370,
          96,
          96,
          103.29,
          149.2,
          78.54,
          34.5,
          180.8,
          175,
          52,
          85,
          49.1,
          174.91,
          215,
          73.8,
          80.4,
          740
         ],
         "xaxis": "x",
         "y": [
          84000000,
          370000000,
          96000000,
          110400000,
          173940360,
          240958000,
          66759000,
          42000000,
          150000000,
          148000000,
          28500000,
          75000000,
          32406000,
          285977850,
          84000000,
          370000000,
          96000000,
          96000000,
          110400000,
          173940360,
          240958000,
          96000000,
          66759000,
          42000000,
          150000000,
          96000000,
          148000000,
          96000000,
          28500000,
          75000000,
          32406000,
          285977850,
          96000000,
          84000000,
          370000000,
          96000000,
          110400000,
          173940360,
          240958000,
          66759000,
          42000000,
          150000000,
          148000000,
          28500000,
          75000000,
          32406000,
          285977850,
          140000000,
          97000000,
          72000000,
          740000000
         ],
         "yaxis": "y"
        },
        {
         "hovertemplate": "district=Наурызбайский р-н<br>area_m2=%{x}<br>price_kzt=%{y}<extra></extra>",
         "legendgroup": "Наурызбайский р-н",
         "marker": {
          "color": "#FFA15A",
          "symbol": "circle"
         },
         "mode": "markers",
         "name": "Наурызбайский р-н",
         "orientation": "v",
         "showlegend": true,
         "type": "scatter",
         "x": [
          47,
          100,
          31,
          63,
          60.6,
          37.79,
          31.08,
          80.3,
          96,
          84,
          130.27,
          47,
          100,
          31,
          63,
          60.6,
          31,
          63,
          37.79,
          31.08,
          31,
          63,
          80.3,
          31,
          63,
          96,
          84,
          130.27,
          31,
          63,
          47,
          100,
          31,
          63,
          60.6,
          37.79,
          31.08,
          80.3,
          96,
          84,
          130.27,
          5,
          200,
          360
         ],
         "xaxis": "x",
         "y": [
          26500000,
          59900000,
          19999999,
          64999999,
          38000000,
          35038888,
          28469280,
          80000000,
          48000000,
          51000000,
          105779240,
          26500000,
          59900000,
          19999999,
          64999999,
          38000000,
          19999999,
          64999999,
          35038888,
          28469280,
          19999999,
          64999999,
          80000000,
          19999999,
          64999999,
          48000000,
          51000000,
          105779240,
          19999999,
          64999999,
          26500000,
          59900000,
          19999999,
          64999999,
          38000000,
          35038888,
          28469280,
          80000000,
          48000000,
          51000000,
          105779240,
          695000,
          240000000,
          140000000
         ],
         "yaxis": "y"
        },
        {
         "hovertemplate": "district=Алмалинский р-н<br>area_m2=%{x}<br>price_kzt=%{y}<extra></extra>",
         "legendgroup": "Алмалинский р-н",
         "marker": {
          "color": "#19d3f3",
          "symbol": "circle"
         },
         "mode": "markers",
         "name": "Алмалинский р-н",
         "orientation": "v",
         "showlegend": true,
         "type": "scatter",
         "x": [
          75,
          38,
          72.1,
          74,
          67,
          81.57,
          81.57,
          100,
          29.04,
          51.21,
          64,
          115,
          110,
          57,
          66.5,
          80,
          91.3,
          75,
          38,
          72.1,
          74,
          67,
          81.57,
          81.57,
          100,
          38,
          29.04,
          51.21,
          38,
          64,
          115,
          110,
          57,
          38,
          66.5,
          80,
          91.3,
          38,
          75,
          38,
          72.1,
          74,
          67,
          81.57,
          81.57,
          100,
          29.04,
          51.21,
          64,
          115,
          110,
          57,
          66.5,
          80,
          91.3,
          40,
          65.5,
          70,
          766
         ],
         "xaxis": "x",
         "y": [
          53000000,
          32499999,
          41000000,
          62000000,
          40500000,
          97884000,
          97884000,
          84000000,
          19456800,
          32774400,
          39999999,
          56000000,
          85000000,
          42000000,
          37500000,
          57000000,
          69900000,
          53000000,
          32499999,
          41000000,
          62000000,
          40500000,
          97884000,
          97884000,
          84000000,
          32499999,
          19456800,
          32774400,
          32499999,
          39999999,
          56000000,
          85000000,
          42000000,
          32499999,
          37500000,
          57000000,
          69900000,
          32499999,
          53000000,
          32499999,
          41000000,
          62000000,
          40500000,
          97884000,
          97884000,
          84000000,
          19456800,
          32774400,
          39999999,
          56000000,
          85000000,
          42000000,
          37500000,
          57000000,
          69900000,
          60000000,
          68000000,
          52500000,
          720000000
         ],
         "yaxis": "y"
        },
        {
         "hovertemplate": "district=Турксибский р-н<br>area_m2=%{x}<br>price_kzt=%{y}<extra></extra>",
         "legendgroup": "Турксибский р-н",
         "marker": {
          "color": "#FF6692",
          "symbol": "circle"
         },
         "mode": "markers",
         "name": "Турксибский р-н",
         "orientation": "v",
         "showlegend": true,
         "type": "scatter",
         "x": [
          56.3,
          34.5,
          47.2,
          103.88,
          35.5,
          50,
          16,
          56.3,
          56.3,
          34.5,
          47.2,
          103.88,
          35.5,
          56.3,
          34.5,
          47.2,
          35.5,
          50,
          56.3,
          34.5,
          47.2,
          56.3,
          34.5,
          47.2,
          16,
          56.3,
          34.5,
          47.2,
          56.3,
          34.5,
          47.2,
          103.88,
          35.5,
          50,
          16,
          120.12
         ],
         "xaxis": "x",
         "y": [
          29800000,
          17999999,
          21999999,
          44646900,
          29047180,
          25000000,
          11900000,
          29800000,
          29800000,
          17999999,
          21999999,
          44646900,
          29047180,
          29800000,
          17999999,
          21999999,
          29047180,
          25000000,
          29800000,
          17999999,
          21999999,
          29800000,
          17999999,
          21999999,
          11900000,
          29800000,
          17999999,
          21999999,
          29800000,
          17999999,
          21999999,
          44646900,
          29047180,
          25000000,
          11900000,
          58800000
         ],
         "yaxis": "y"
        },
        {
         "hovertemplate": "district=Ауэзовский р-н<br>area_m2=%{x}<br>price_kzt=%{y}<extra></extra>",
         "legendgroup": "Ауэзовский р-н",
         "marker": {
          "color": "#B6E880",
          "symbol": "circle"
         },
         "mode": "markers",
         "name": "Ауэзовский р-н",
         "orientation": "v",
         "showlegend": true,
         "type": "scatter",
         "x": [
          155,
          52,
          52,
          46,
          80,
          56,
          21,
          41.1,
          130,
          57.7,
          31,
          61.1,
          114.7,
          114.7,
          155,
          52,
          52,
          46,
          80,
          56,
          52,
          52,
          46,
          80,
          21,
          52,
          52,
          46,
          80,
          41.1,
          130,
          57.7,
          31,
          52,
          52,
          46,
          80,
          61.1,
          52,
          52,
          46,
          80,
          114.7,
          114.7,
          155,
          52,
          46,
          80,
          56,
          21,
          41.1,
          130,
          57.7,
          31,
          61.1,
          114.7,
          55,
          41
         ],
         "xaxis": "x",
         "y": [
          130000000,
          31999999,
          33199999,
          25799999,
          54000000,
          39500000,
          14800000,
          25500000,
          93000000,
          39000000,
          25000000,
          35000000,
          85000000,
          85000000,
          130000000,
          31999999,
          33199999,
          25799999,
          54000000,
          39500000,
          31999999,
          33199999,
          25799999,
          54000000,
          14800000,
          31999999,
          33199999,
          25799999,
          54000000,
          25500000,
          93000000,
          39000000,
          25000000,
          31999999,
          33199999,
          25799999,
          54000000,
          35000000,
          31999999,
          33199999,
          25799999,
          54000000,
          85000000,
          85000000,
          130000000,
          31999999,
          25799999,
          54000000,
          39500000,
          14800000,
          25500000,
          93000000,
          39000000,
          25000000,
          35000000,
          85000000,
          48000000,
          54000000
         ],
         "yaxis": "y"
        },
        {
         "hovertemplate": "district=Жетысуский р-н<br>area_m2=%{x}<br>price_kzt=%{y}<extra></extra>",
         "legendgroup": "Жетысуский р-н",
         "marker": {
          "color": "#FF97FF",
          "symbol": "circle"
         },
         "mode": "markers",
         "name": "Жетысуский р-н",
         "orientation": "v",
         "showlegend": true,
         "type": "scatter",
         "x": [
          30,
          42,
          45.77,
          47.6,
          53.3,
          30,
          42,
          45.77,
          47.6,
          30,
          30,
          53.3,
          30,
          30,
          30,
          42,
          45.77,
          47.6,
          53.3,
          174
         ],
         "xaxis": "x",
         "y": [
          15000000,
          30000000,
          38401030,
          37842000,
          33000000,
          15000000,
          30000000,
          38401030,
          37842000,
          15000000,
          15000000,
          33000000,
          15000000,
          15000000,
          15000000,
          30000000,
          38401030,
          37842000,
          33000000,
          25000000
         ],
         "yaxis": "y"
        },
        {
         "hovertemplate": "district=Алматинская обл.<br>area_m2=%{x}<br>price_kzt=%{y}<extra></extra>",
         "legendgroup": "Алматинская обл.",
         "marker": {
          "color": "#FECB52",
          "symbol": "circle"
         },
         "mode": "markers",
         "name": "Алматинская обл.",
         "orientation": "v",
         "showlegend": true,
         "type": "scatter",
         "x": [
          58.28,
          58.25,
          64.2,
          65.5,
          65.5,
          58.28,
          64.2,
          65.5
         ],
         "xaxis": "x",
         "y": [
          20398000,
          20387500,
          26000000,
          26000000,
          26000000,
          20398000,
          26000000,
          26000000
         ],
         "yaxis": "y"
        },
        {
         "hovertemplate": "district=Есильский р-н<br>area_m2=%{x}<br>price_kzt=%{y}<extra></extra>",
         "legendgroup": "Есильский р-н",
         "marker": {
          "color": "#636efa",
          "symbol": "circle"
         },
         "mode": "markers",
         "name": "Есильский р-н",
         "orientation": "v",
         "showlegend": true,
         "type": "scatter",
         "x": [
          96,
          42,
          34,
          58,
          37,
          78,
          62.1,
          31,
          61.8,
          85,
          165,
          146,
          95,
          99.06,
          60,
          37.5,
          80,
          120,
          36.3,
          95,
          87,
          77.7,
          35,
          44,
          122,
          18.4,
          154,
          43,
          3.8
         ],
         "xaxis": "x",
         "y": [
          45000000,
          25900000,
          18900000,
          26500000,
          24500000,
          39450000,
          41000000,
          11000000,
          37500000,
          38000000,
          175000000,
          97000000,
          48000000,
          38336220,
          35500000,
          23500000,
          32000000,
          50652000,
          21500000,
          70000000,
          45500000,
          54000000,
          24000000,
          30000000,
          96000000,
          15000000,
          55000000,
          52000000,
          700000
         ],
         "yaxis": "y"
        },
        {
         "hovertemplate": "district=Нура р-н<br>area_m2=%{x}<br>price_kzt=%{y}<extra></extra>",
         "legendgroup": "Нура р-н",
         "marker": {
          "color": "#EF553B",
          "symbol": "circle"
         },
         "mode": "markers",
         "name": "Нура р-н",
         "orientation": "v",
         "showlegend": true,
         "type": "scatter",
         "x": [
          55,
          93.7,
          265,
          65,
          36,
          40,
          68.6,
          42,
          84,
          78.9,
          111.39,
          130.07,
          72.9,
          60.1,
          79.6,
          84.55,
          114.1,
          92.8,
          81.5,
          72.63,
          44.2,
          44,
          37,
          48,
          34.45,
          62.9,
          765
         ],
         "xaxis": "x",
         "y": [
          33000000,
          58000000,
          110000000,
          47000000,
          25500000,
          19000000,
          35000000,
          27000000,
          41000000,
          28950000,
          50459670,
          83635010,
          45052200,
          32634300,
          38300000,
          34750050,
          48948900,
          60784000,
          38300000,
          38639160,
          32266000,
          29300000,
          27700000,
          22000000,
          19300000,
          29800000,
          415000000
         ],
         "yaxis": "y"
        },
        {
         "hovertemplate": "district=Алматы р-н<br>area_m2=%{x}<br>price_kzt=%{y}<extra></extra>",
         "legendgroup": "Алматы р-н",
         "marker": {
          "color": "#00cc96",
          "symbol": "circle"
         },
         "mode": "markers",
         "name": "Алматы р-н",
         "orientation": "v",
         "showlegend": true,
         "type": "scatter",
         "x": [
          85.2,
          67,
          52,
          43,
          40,
          40,
          59,
          40,
          57.8,
          37,
          75.36,
          300,
          20,
          79,
          18,
          39,
          96,
          202,
          2.4,
          21.2,
          123,
          36,
          121.5,
          1100
         ],
         "xaxis": "x",
         "y": [
          42000000,
          34000000,
          24000000,
          19000000,
          19800000,
          18000000,
          22800000,
          16700000,
          50000000,
          14615000,
          28636800,
          165000000,
          10200000,
          67000000,
          12000000,
          25000000,
          34500000,
          160000000,
          500000,
          15000000,
          116000000,
          5500000,
          63000000,
          220000000
         ],
         "yaxis": "y"
        },
        {
         "hovertemplate": "district=Сарыарка р-н<br>area_m2=%{x}<br>price_kzt=%{y}<extra></extra>",
         "legendgroup": "Сарыарка р-н",
         "marker": {
          "color": "#ab63fa",
          "symbol": "circle"
         },
         "mode": "markers",
         "name": "Сарыарка р-н",
         "orientation": "v",
         "showlegend": true,
         "type": "scatter",
         "x": [
          35,
          43,
          105.5,
          42,
          106,
          37.8,
          71.7,
          36,
          38.32,
          48,
          96,
          52.4,
          1115,
          150,
          460
         ],
         "xaxis": "x",
         "y": [
          19900000,
          21000000,
          45000000,
          19500000,
          34500000,
          10017000,
          35133000,
          14500000,
          14178400,
          18500000,
          40000000,
          18990000,
          400000000,
          114000000,
          65000000
         ],
         "yaxis": "y"
        },
        {
         "hovertemplate": "district=р-н Байконур<br>area_m2=%{x}<br>price_kzt=%{y}<extra></extra>",
         "legendgroup": "р-н Байконур",
         "marker": {
          "color": "#FFA15A",
          "symbol": "circle"
         },
         "mode": "markers",
         "name": "р-н Байконур",
         "orientation": "v",
         "showlegend": true,
         "type": "scatter",
         "x": [
          150,
          78,
          48,
          120,
          314,
          24
         ],
         "xaxis": "x",
         "y": [
          49700000,
          29500000,
          16500000,
          50000000,
          105000000,
          1900000
         ],
         "yaxis": "y"
        },
        {
         "hovertemplate": "district=Абайский р-н<br>area_m2=%{x}<br>price_kzt=%{y}<extra></extra>",
         "legendgroup": "Абайский р-н",
         "marker": {
          "color": "#19d3f3",
          "symbol": "circle"
         },
         "mode": "markers",
         "name": "Абайский р-н",
         "orientation": "v",
         "showlegend": true,
         "type": "scatter",
         "x": [
          62.02,
          57.74,
          87.5,
          84,
          37,
          103.46,
          86,
          88.15,
          67,
          80.75,
          39.44,
          66.57,
          41,
          116.17
         ],
         "xaxis": "x",
         "y": [
          21707000,
          27137800,
          79000000,
          37000000,
          23500000,
          45005100,
          29500000,
          40549000,
          35000000,
          41990000,
          19325600,
          21968100,
          25000000,
          50069270
         ],
         "yaxis": "y"
        },
        {
         "hovertemplate": "district=Каратауский р-н<br>area_m2=%{x}<br>price_kzt=%{y}<extra></extra>",
         "legendgroup": "Каратауский р-н",
         "marker": {
          "color": "#FF6692",
          "symbol": "circle"
         },
         "mode": "markers",
         "name": "Каратауский р-н",
         "orientation": "v",
         "showlegend": true,
         "type": "scatter",
         "x": [
          42.4,
          95.1,
          65,
          83,
          78.2,
          45,
          39.42,
          55.8,
          79,
          64,
          60,
          60,
          50,
          114,
          68.5,
          71,
          94,
          43
         ],
         "xaxis": "x",
         "y": [
          17500000,
          62500000,
          36500000,
          34000000,
          63000000,
          23000000,
          21000000,
          30000000,
          68000000,
          29000000,
          26900000,
          38000000,
          33500000,
          80000000,
          44000000,
          31620000,
          60000000,
          21000000
         ],
         "yaxis": "y"
        },
        {
         "hovertemplate": "district=Аль-Фарабийский р-н<br>area_m2=%{x}<br>price_kzt=%{y}<extra></extra>",
         "legendgroup": "Аль-Фарабийский р-н",
         "marker": {
          "color": "#B6E880",
          "symbol": "circle"
         },
         "mode": "markers",
         "name": "Аль-Фарабийский р-н",
         "orientation": "v",
         "showlegend": true,
         "type": "scatter",
         "x": [
          39,
          151.88,
          44,
          28,
          42,
          72,
          33,
          82,
          100,
          68,
          28
         ],
         "xaxis": "x",
         "y": [
          18000000,
          141248400,
          16500000,
          13500000,
          19500000,
          37000000,
          13200000,
          30000000,
          33000000,
          40000000,
          13500000
         ],
         "yaxis": "y"
        },
        {
         "hovertemplate": "district=Туран р-н<br>area_m2=%{x}<br>price_kzt=%{y}<extra></extra>",
         "legendgroup": "Туран р-н",
         "marker": {
          "color": "#FF97FF",
          "symbol": "circle"
         },
         "mode": "markers",
         "name": "Туран р-н",
         "orientation": "v",
         "showlegend": true,
         "type": "scatter",
         "x": [
          70,
          35.96,
          60,
          130,
          59.43,
          57
         ],
         "xaxis": "x",
         "y": [
          28000000,
          17944040,
          17600000,
          45500000,
          30071580,
          17000000
         ],
         "yaxis": "y"
        },
        {
         "hovertemplate": "district=Енбекшинский р-н<br>area_m2=%{x}<br>price_kzt=%{y}<extra></extra>",
         "legendgroup": "Енбекшинский р-н",
         "marker": {
          "color": "#FECB52",
          "symbol": "circle"
         },
         "mode": "markers",
         "name": "Енбекшинский р-н",
         "orientation": "v",
         "showlegend": true,
         "type": "scatter",
         "x": [
          144
         ],
         "xaxis": "x",
         "y": [
          135000000
         ],
         "yaxis": "y"
        }
       ],
       "layout": {
        "autosize": true,
        "legend": {
         "title": {
          "text": "district"
         },
         "tracegroupgap": 0
        },
        "margin": {
         "t": 60
        },
        "template": {
         "data": {
          "bar": [
           {
            "error_x": {
             "color": "#2a3f5f"
            },
            "error_y": {
             "color": "#2a3f5f"
            },
            "marker": {
             "line": {
              "color": "#E5ECF6",
              "width": 0.5
             },
             "pattern": {
              "fillmode": "overlay",
              "size": 10,
              "solidity": 0.2
             }
            },
            "type": "bar"
           }
          ],
          "barpolar": [
           {
            "marker": {
             "line": {
              "color": "#E5ECF6",
              "width": 0.5
             },
             "pattern": {
              "fillmode": "overlay",
              "size": 10,
              "solidity": 0.2
             }
            },
            "type": "barpolar"
           }
          ],
          "carpet": [
           {
            "aaxis": {
             "endlinecolor": "#2a3f5f",
             "gridcolor": "white",
             "linecolor": "white",
             "minorgridcolor": "white",
             "startlinecolor": "#2a3f5f"
            },
            "baxis": {
             "endlinecolor": "#2a3f5f",
             "gridcolor": "white",
             "linecolor": "white",
             "minorgridcolor": "white",
             "startlinecolor": "#2a3f5f"
            },
            "type": "carpet"
           }
          ],
          "choropleth": [
           {
            "colorbar": {
             "outlinewidth": 0,
             "ticks": ""
            },
            "type": "choropleth"
           }
          ],
          "contour": [
           {
            "colorbar": {
             "outlinewidth": 0,
             "ticks": ""
            },
            "colorscale": [
             [
              0,
              "#0d0887"
             ],
             [
              0.1111111111111111,
              "#46039f"
             ],
             [
              0.2222222222222222,
              "#7201a8"
             ],
             [
              0.3333333333333333,
              "#9c179e"
             ],
             [
              0.4444444444444444,
              "#bd3786"
             ],
             [
              0.5555555555555556,
              "#d8576b"
             ],
             [
              0.6666666666666666,
              "#ed7953"
             ],
             [
              0.7777777777777778,
              "#fb9f3a"
             ],
             [
              0.8888888888888888,
              "#fdca26"
             ],
             [
              1,
              "#f0f921"
             ]
            ],
            "type": "contour"
           }
          ],
          "contourcarpet": [
           {
            "colorbar": {
             "outlinewidth": 0,
             "ticks": ""
            },
            "type": "contourcarpet"
           }
          ],
          "heatmap": [
           {
            "colorbar": {
             "outlinewidth": 0,
             "ticks": ""
            },
            "colorscale": [
             [
              0,
              "#0d0887"
             ],
             [
              0.1111111111111111,
              "#46039f"
             ],
             [
              0.2222222222222222,
              "#7201a8"
             ],
             [
              0.3333333333333333,
              "#9c179e"
             ],
             [
              0.4444444444444444,
              "#bd3786"
             ],
             [
              0.5555555555555556,
              "#d8576b"
             ],
             [
              0.6666666666666666,
              "#ed7953"
             ],
             [
              0.7777777777777778,
              "#fb9f3a"
             ],
             [
              0.8888888888888888,
              "#fdca26"
             ],
             [
              1,
              "#f0f921"
             ]
            ],
            "type": "heatmap"
           }
          ],
          "heatmapgl": [
           {
            "colorbar": {
             "outlinewidth": 0,
             "ticks": ""
            },
            "colorscale": [
             [
              0,
              "#0d0887"
             ],
             [
              0.1111111111111111,
              "#46039f"
             ],
             [
              0.2222222222222222,
              "#7201a8"
             ],
             [
              0.3333333333333333,
              "#9c179e"
             ],
             [
              0.4444444444444444,
              "#bd3786"
             ],
             [
              0.5555555555555556,
              "#d8576b"
             ],
             [
              0.6666666666666666,
              "#ed7953"
             ],
             [
              0.7777777777777778,
              "#fb9f3a"
             ],
             [
              0.8888888888888888,
              "#fdca26"
             ],
             [
              1,
              "#f0f921"
             ]
            ],
            "type": "heatmapgl"
           }
          ],
          "histogram": [
           {
            "marker": {
             "pattern": {
              "fillmode": "overlay",
              "size": 10,
              "solidity": 0.2
             }
            },
            "type": "histogram"
           }
          ],
          "histogram2d": [
           {
            "colorbar": {
             "outlinewidth": 0,
             "ticks": ""
            },
            "colorscale": [
             [
              0,
              "#0d0887"
             ],
             [
              0.1111111111111111,
              "#46039f"
             ],
             [
              0.2222222222222222,
              "#7201a8"
             ],
             [
              0.3333333333333333,
              "#9c179e"
             ],
             [
              0.4444444444444444,
              "#bd3786"
             ],
             [
              0.5555555555555556,
              "#d8576b"
             ],
             [
              0.6666666666666666,
              "#ed7953"
             ],
             [
              0.7777777777777778,
              "#fb9f3a"
             ],
             [
              0.8888888888888888,
              "#fdca26"
             ],
             [
              1,
              "#f0f921"
             ]
            ],
            "type": "histogram2d"
           }
          ],
          "histogram2dcontour": [
           {
            "colorbar": {
             "outlinewidth": 0,
             "ticks": ""
            },
            "colorscale": [
             [
              0,
              "#0d0887"
             ],
             [
              0.1111111111111111,
              "#46039f"
             ],
             [
              0.2222222222222222,
              "#7201a8"
             ],
             [
              0.3333333333333333,
              "#9c179e"
             ],
             [
              0.4444444444444444,
              "#bd3786"
             ],
             [
              0.5555555555555556,
              "#d8576b"
             ],
             [
              0.6666666666666666,
              "#ed7953"
             ],
             [
              0.7777777777777778,
              "#fb9f3a"
             ],
             [
              0.8888888888888888,
              "#fdca26"
             ],
             [
              1,
              "#f0f921"
             ]
            ],
            "type": "histogram2dcontour"
           }
          ],
          "mesh3d": [
           {
            "colorbar": {
             "outlinewidth": 0,
             "ticks": ""
            },
            "type": "mesh3d"
           }
          ],
          "parcoords": [
           {
            "line": {
             "colorbar": {
              "outlinewidth": 0,
              "ticks": ""
             }
            },
            "type": "parcoords"
           }
          ],
          "pie": [
           {
            "automargin": true,
            "type": "pie"
           }
          ],
          "scatter": [
           {
            "fillpattern": {
             "fillmode": "overlay",
             "size": 10,
             "solidity": 0.2
            },
            "type": "scatter"
           }
          ],
          "scatter3d": [
           {
            "line": {
             "colorbar": {
              "outlinewidth": 0,
              "ticks": ""
             }
            },
            "marker": {
             "colorbar": {
              "outlinewidth": 0,
              "ticks": ""
             }
            },
            "type": "scatter3d"
           }
          ],
          "scattercarpet": [
           {
            "marker": {
             "colorbar": {
              "outlinewidth": 0,
              "ticks": ""
             }
            },
            "type": "scattercarpet"
           }
          ],
          "scattergeo": [
           {
            "marker": {
             "colorbar": {
              "outlinewidth": 0,
              "ticks": ""
             }
            },
            "type": "scattergeo"
           }
          ],
          "scattergl": [
           {
            "marker": {
             "colorbar": {
              "outlinewidth": 0,
              "ticks": ""
             }
            },
            "type": "scattergl"
           }
          ],
          "scattermapbox": [
           {
            "marker": {
             "colorbar": {
              "outlinewidth": 0,
              "ticks": ""
             }
            },
            "type": "scattermapbox"
           }
          ],
          "scatterpolar": [
           {
            "marker": {
             "colorbar": {
              "outlinewidth": 0,
              "ticks": ""
             }
            },
            "type": "scatterpolar"
           }
          ],
          "scatterpolargl": [
           {
            "marker": {
             "colorbar": {
              "outlinewidth": 0,
              "ticks": ""
             }
            },
            "type": "scatterpolargl"
           }
          ],
          "scatterternary": [
           {
            "marker": {
             "colorbar": {
              "outlinewidth": 0,
              "ticks": ""
             }
            },
            "type": "scatterternary"
           }
          ],
          "surface": [
           {
            "colorbar": {
             "outlinewidth": 0,
             "ticks": ""
            },
            "colorscale": [
             [
              0,
              "#0d0887"
             ],
             [
              0.1111111111111111,
              "#46039f"
             ],
             [
              0.2222222222222222,
              "#7201a8"
             ],
             [
              0.3333333333333333,
              "#9c179e"
             ],
             [
              0.4444444444444444,
              "#bd3786"
             ],
             [
              0.5555555555555556,
              "#d8576b"
             ],
             [
              0.6666666666666666,
              "#ed7953"
             ],
             [
              0.7777777777777778,
              "#fb9f3a"
             ],
             [
              0.8888888888888888,
              "#fdca26"
             ],
             [
              1,
              "#f0f921"
             ]
            ],
            "type": "surface"
           }
          ],
          "table": [
           {
            "cells": {
             "fill": {
              "color": "#EBF0F8"
             },
             "line": {
              "color": "white"
             }
            },
            "header": {
             "fill": {
              "color": "#C8D4E3"
             },
             "line": {
              "color": "white"
             }
            },
            "type": "table"
           }
          ]
         },
         "layout": {
          "annotationdefaults": {
           "arrowcolor": "#2a3f5f",
           "arrowhead": 0,
           "arrowwidth": 1
          },
          "autotypenumbers": "strict",
          "coloraxis": {
           "colorbar": {
            "outlinewidth": 0,
            "ticks": ""
           }
          },
          "colorscale": {
           "diverging": [
            [
             0,
             "#8e0152"
            ],
            [
             0.1,
             "#c51b7d"
            ],
            [
             0.2,
             "#de77ae"
            ],
            [
             0.3,
             "#f1b6da"
            ],
            [
             0.4,
             "#fde0ef"
            ],
            [
             0.5,
             "#f7f7f7"
            ],
            [
             0.6,
             "#e6f5d0"
            ],
            [
             0.7,
             "#b8e186"
            ],
            [
             0.8,
             "#7fbc41"
            ],
            [
             0.9,
             "#4d9221"
            ],
            [
             1,
             "#276419"
            ]
           ],
           "sequential": [
            [
             0,
             "#0d0887"
            ],
            [
             0.1111111111111111,
             "#46039f"
            ],
            [
             0.2222222222222222,
             "#7201a8"
            ],
            [
             0.3333333333333333,
             "#9c179e"
            ],
            [
             0.4444444444444444,
             "#bd3786"
            ],
            [
             0.5555555555555556,
             "#d8576b"
            ],
            [
             0.6666666666666666,
             "#ed7953"
            ],
            [
             0.7777777777777778,
             "#fb9f3a"
            ],
            [
             0.8888888888888888,
             "#fdca26"
            ],
            [
             1,
             "#f0f921"
            ]
           ],
           "sequentialminus": [
            [
             0,
             "#0d0887"
            ],
            [
             0.1111111111111111,
             "#46039f"
            ],
            [
             0.2222222222222222,
             "#7201a8"
            ],
            [
             0.3333333333333333,
             "#9c179e"
            ],
            [
             0.4444444444444444,
             "#bd3786"
            ],
            [
             0.5555555555555556,
             "#d8576b"
            ],
            [
             0.6666666666666666,
             "#ed7953"
            ],
            [
             0.7777777777777778,
             "#fb9f3a"
            ],
            [
             0.8888888888888888,
             "#fdca26"
            ],
            [
             1,
             "#f0f921"
            ]
           ]
          },
          "colorway": [
           "#636efa",
           "#EF553B",
           "#00cc96",
           "#ab63fa",
           "#FFA15A",
           "#19d3f3",
           "#FF6692",
           "#B6E880",
           "#FF97FF",
           "#FECB52"
          ],
          "font": {
           "color": "#2a3f5f"
          },
          "geo": {
           "bgcolor": "white",
           "lakecolor": "white",
           "landcolor": "#E5ECF6",
           "showlakes": true,
           "showland": true,
           "subunitcolor": "white"
          },
          "hoverlabel": {
           "align": "left"
          },
          "hovermode": "closest",
          "mapbox": {
           "style": "light"
          },
          "paper_bgcolor": "white",
          "plot_bgcolor": "#E5ECF6",
          "polar": {
           "angularaxis": {
            "gridcolor": "white",
            "linecolor": "white",
            "ticks": ""
           },
           "bgcolor": "#E5ECF6",
           "radialaxis": {
            "gridcolor": "white",
            "linecolor": "white",
            "ticks": ""
           }
          },
          "scene": {
           "xaxis": {
            "backgroundcolor": "#E5ECF6",
            "gridcolor": "white",
            "gridwidth": 2,
            "linecolor": "white",
            "showbackground": true,
            "ticks": "",
            "zerolinecolor": "white"
           },
           "yaxis": {
            "backgroundcolor": "#E5ECF6",
            "gridcolor": "white",
            "gridwidth": 2,
            "linecolor": "white",
            "showbackground": true,
            "ticks": "",
            "zerolinecolor": "white"
           },
           "zaxis": {
            "backgroundcolor": "#E5ECF6",
            "gridcolor": "white",
            "gridwidth": 2,
            "linecolor": "white",
            "showbackground": true,
            "ticks": "",
            "zerolinecolor": "white"
           }
          },
          "shapedefaults": {
           "line": {
            "color": "#2a3f5f"
           }
          },
          "ternary": {
           "aaxis": {
            "gridcolor": "white",
            "linecolor": "white",
            "ticks": ""
           },
           "baxis": {
            "gridcolor": "white",
            "linecolor": "white",
            "ticks": ""
           },
           "bgcolor": "#E5ECF6",
           "caxis": {
            "gridcolor": "white",
            "linecolor": "white",
            "ticks": ""
           }
          },
          "title": {
           "x": 0.05
          },
          "xaxis": {
           "automargin": true,
           "gridcolor": "white",
           "linecolor": "white",
           "ticks": "",
           "title": {
            "standoff": 15
           },
           "zerolinecolor": "white",
           "zerolinewidth": 2
          },
          "yaxis": {
           "automargin": true,
           "gridcolor": "white",
           "linecolor": "white",
           "ticks": "",
           "title": {
            "standoff": 15
           },
           "zerolinecolor": "white",
           "zerolinewidth": 2
          }
         }
        },
        "xaxis": {
         "anchor": "y",
         "autorange": true,
         "domain": [
          0,
          1
         ],
         "range": [
          -65.79655647382918,
          1183.196556473829
         ],
         "title": {
          "text": "area_m2"
         },
         "type": "linear"
        },
        "yaxis": {
         "anchor": "x",
         "autorange": true,
         "domain": [
          0,
          1
         ],
         "range": [
          -56757874.01574803,
          797257874.015748
         ],
         "title": {
          "text": "price_kzt"
         },
         "type": "linear"
        }
       }
      },
      "image/png": "[encoded data removed]",
      "text/html": [
       "<div>                            <div id=\"7e6aa8d3-4d13-41cb-95e8-fe7b85561b93\" class=\"plotly-graph-div\" style=\"height:525px; width:100%;\"></div>            <script type=\"text/javascript\">                require([\"plotly\"], function(Plotly) {                    window.PLOTLYENV=window.PLOTLYENV || {};                                    if (document.getElementById(\"7e6aa8d3-4d13-41cb-95e8-fe7b85561b93\")) {                    Plotly.newPlot(                        \"7e6aa8d3-4d13-41cb-95e8-fe7b85561b93\",                        [{\"hovertemplate\":\"district=\\u0410\\u043b\\u0430\\u0442\\u0430\\u0443\\u0441\\u043a\\u0438\\u0439 \\u0440-\\u043d\\u003cbr\\u003earea_m2=%{x}\\u003cbr\\u003eprice_kzt=%{y}\\u003cextra\\u003e\\u003c\\u002fextra\\u003e\",\"legendgroup\":\"\\u0410\\u043b\\u0430\\u0442\\u0430\\u0443\\u0441\\u043a\\u0438\\u0439 \\u0440-\\u043d\",\"marker\":{\"color\":\"#636efa\",\"symbol\":\"circle\"},\"mode\":\"markers\",\"name\":\"\\u0410\\u043b\\u0430\\u0442\\u0430\\u0443\\u0441\\u043a\\u0438\\u0439 \\u0440-\\u043d\",\"orientation\":\"v\",\"showlegend\":true,\"x\":[72.0,41.3,59.0,30.63,56.0,67.0,54.0,72.0,72.0,41.3,72.0,59.0,72.0,59.0,30.63,56.0,72.0,59.0,67.0,72.0,59.0,54.0,72.0,59.0,72.0,72.0,72.0,72.0,41.3,59.0,30.63,56.0,67.0,54.0,null,750.0],\"xaxis\":\"x\",\"y\":[36500000.0,25000000.0,27499999.0,25882350.0,29500000.0,29500000.0,38000000.0,36500000.0,36500000.0,25000000.0,36500000.0,27499999.0,36500000.0,27499999.0,25882350.0,29500000.0,36500000.0,27499999.0,29500000.0,36500000.0,27499999.0,38000000.0,36500000.0,27499999.0,36500000.0,36500000.0,36500000.0,36500000.0,25000000.0,27499999.0,25882350.0,29500000.0,29500000.0,38000000.0,20731500.0,250000000.0],\"yaxis\":\"y\",\"type\":\"scatter\"},{\"hovertemplate\":\"district=\\u0411\\u043e\\u0441\\u0442\\u0430\\u043d\\u0434\\u044b\\u043a\\u0441\\u043a\\u0438\\u0439 \\u0440-\\u043d\\u003cbr\\u003earea_m2=%{x}\\u003cbr\\u003eprice_kzt=%{y}\\u003cextra\\u003e\\u003c\\u002fextra\\u003e\",\"legendgroup\":\"\\u0411\\u043e\\u0441\\u0442\\u0430\\u043d\\u0434\\u044b\\u043a\\u0441\\u043a\\u0438\\u0439 \\u0440-\\u043d\",\"marker\":{\"color\":\"#EF553B\",\"symbol\":\"circle\"},\"mode\":\"markers\",\"name\":\"\\u0411\\u043e\\u0441\\u0442\\u0430\\u043d\\u0434\\u044b\\u043a\\u0441\\u043a\\u0438\\u0439 \\u0440-\\u043d\",\"orientation\":\"v\",\"showlegend\":true,\"x\":[87.5,120.0,200.0,244.7,137.0,41.2,119.33,125.0,125.0,92.0,89.0,109.0,67.0,210.0,275.0,182.7,46.0,250.0,154.4,39.0,91.4,70.0,110.0,103.0,40.0,40.0,80.0,53.0,62.0,224.0,120.0,62.7,75.0,202.0,87.5,120.0,202.0,87.5,120.0,200.0,244.7,137.0,41.2,119.33,125.0,125.0,92.0,87.5,120.0,89.0,109.0,67.0,210.0,275.0,87.5,120.0,89.0,109.0,67.0,182.7,46.0,250.0,154.4,39.0,87.5,120.0,89.0,109.0,67.0,91.4,70.0,110.0,103.0,40.0,40.0,80.0,87.5,120.0,89.0,109.0,67.0,80.0,53.0,62.0,224.0,120.0,62.7,75.0,87.5,120.0,89.0,109.0,67.0,87.5,120.0,202.0,87.5,120.0,202.0,87.5,120.0,202.0,87.5,120.0,200.0,244.7,137.0,41.2,119.33,125.0,92.0,89.0,109.0,67.0,210.0,275.0,182.7,46.0,250.0,154.4,39.0,91.4,70.0,110.0,103.0,40.0,40.0,80.0,53.0,62.0,224.0,120.0,62.7,75.0,202.0,64.0,44.9,49.2],\"xaxis\":\"x\",\"y\":[68000000.0,97000000.0,240000000.0,155000000.0,159000000.0,31000000.0,120000000.0,130000000.0,130000000.0,140000000.0,110000000.0,95000000.0,58999999.0,165000000.0,151250000.0,228375000.0,33000000.0,152500000.0,193000000.0,45000000.0,61000000.0,60000000.0,110000000.0,80000000.0,32000000.0,30000000.0,73000000.0,55000000.0,58000000.0,224000000.0,85000000.0,66900000.0,70000000.0,260000000.0,68000000.0,97000000.0,260000000.0,68000000.0,97000000.0,240000000.0,155000000.0,159000000.0,31000000.0,120000000.0,130000000.0,130000000.0,140000000.0,68000000.0,97000000.0,110000000.0,95000000.0,58999999.0,165000000.0,151250000.0,68000000.0,97000000.0,110000000.0,95000000.0,58999999.0,228375000.0,33000000.0,152500000.0,193000000.0,45000000.0,68000000.0,97000000.0,110000000.0,95000000.0,58999999.0,61000000.0,60000000.0,110000000.0,80000000.0,32000000.0,30000000.0,73000000.0,68000000.0,97000000.0,110000000.0,95000000.0,58999999.0,73000000.0,55000000.0,58000000.0,224000000.0,85000000.0,66900000.0,70000000.0,68000000.0,97000000.0,110000000.0,95000000.0,58999999.0,68000000.0,97000000.0,260000000.0,68000000.0,97000000.0,260000000.0,68000000.0,97000000.0,260000000.0,68000000.0,97000000.0,240000000.0,155000000.0,159000000.0,31000000.0,120000000.0,130000000.0,140000000.0,110000000.0,95000000.0,58999999.0,165000000.0,151250000.0,228375000.0,33000000.0,152500000.0,193000000.0,45000000.0,61000000.0,60000000.0,110000000.0,80000000.0,32000000.0,30000000.0,73000000.0,55000000.0,58000000.0,224000000.0,85000000.0,66900000.0,70000000.0,260000000.0,75000000.0,62000000.0,34500000.0],\"yaxis\":\"y\",\"type\":\"scatter\"},{\"hovertemplate\":\"district=\\u041c\\u0435\\u0434\\u0435\\u0443\\u0441\\u043a\\u0438\\u0439 \\u0440-\\u043d\\u003cbr\\u003earea_m2=%{x}\\u003cbr\\u003eprice_kzt=%{y}\\u003cextra\\u003e\\u003c\\u002fextra\\u003e\",\"legendgroup\":\"\\u041c\\u0435\\u0434\\u0435\\u0443\\u0441\\u043a\\u0438\\u0439 \\u0440-\\u043d\",\"marker\":{\"color\":\"#00cc96\",\"symbol\":\"circle\"},\"mode\":\"markers\",\"name\":\"\\u041c\\u0435\\u0434\\u0435\\u0443\\u0441\\u043a\\u0438\\u0439 \\u0440-\\u043d\",\"orientation\":\"v\",\"showlegend\":true,\"x\":[152.6,370.0,96.0,96.0,103.29,149.2,78.54,34.5,180.8,175.0,52.0,85.0,49.1,174.91,152.6,370.0,96.0,96.0,96.0,103.29,149.2,96.0,78.54,34.5,180.8,96.0,175.0,96.0,52.0,85.0,49.1,174.91,96.0,152.6,370.0,96.0,96.0,103.29,149.2,78.54,34.5,180.8,175.0,52.0,85.0,49.1,174.91,215.0,73.8,80.4,740.0],\"xaxis\":\"x\",\"y\":[84000000.0,370000000.0,96000000.0,110400000.0,173940360.0,240958000.0,66759000.0,42000000.0,150000000.0,148000000.0,28500000.0,75000000.0,32406000.0,285977850.0,84000000.0,370000000.0,96000000.0,96000000.0,110400000.0,173940360.0,240958000.0,96000000.0,66759000.0,42000000.0,150000000.0,96000000.0,148000000.0,96000000.0,28500000.0,75000000.0,32406000.0,285977850.0,96000000.0,84000000.0,370000000.0,96000000.0,110400000.0,173940360.0,240958000.0,66759000.0,42000000.0,150000000.0,148000000.0,28500000.0,75000000.0,32406000.0,285977850.0,140000000.0,97000000.0,72000000.0,740000000.0],\"yaxis\":\"y\",\"type\":\"scatter\"},{\"hovertemplate\":\"district=\\u041d\\u0430\\u0443\\u0440\\u044b\\u0437\\u0431\\u0430\\u0439\\u0441\\u043a\\u0438\\u0439 \\u0440-\\u043d\\u003cbr\\u003earea_m2=%{x}\\u003cbr\\u003eprice_kzt=%{y}\\u003cextra\\u003e\\u003c\\u002fextra\\u003e\",\"legendgroup\":\"\\u041d\\u0430\\u0443\\u0440\\u044b\\u0437\\u0431\\u0430\\u0439\\u0441\\u043a\\u0438\\u0439 \\u0440-\\u043d\",\"marker\":{\"color\":\"#FFA15A\",\"symbol\":\"circle\"},\"mode\":\"markers\",\"name\":\"\\u041d\\u0430\\u0443\\u0440\\u044b\\u0437\\u0431\\u0430\\u0439\\u0441\\u043a\\u0438\\u0439 \\u0440-\\u043d\",\"orientation\":\"v\",\"showlegend\":true,\"x\":[47.0,100.0,31.0,63.0,60.6,37.79,31.08,80.3,96.0,84.0,130.27,47.0,100.0,31.0,63.0,60.6,31.0,63.0,37.79,31.08,31.0,63.0,80.3,31.0,63.0,96.0,84.0,130.27,31.0,63.0,47.0,100.0,31.0,63.0,60.6,37.79,31.08,80.3,96.0,84.0,130.27,5.0,200.0,360.0],\"xaxis\":\"x\",\"y\":[26500000.0,59900000.0,19999999.0,64999999.0,38000000.0,35038888.0,28469280.0,80000000.0,48000000.0,51000000.0,105779240.0,26500000.0,59900000.0,19999999.0,64999999.0,38000000.0,19999999.0,64999999.0,35038888.0,28469280.0,19999999.0,64999999.0,80000000.0,19999999.0,64999999.0,48000000.0,51000000.0,105779240.0,19999999.0,64999999.0,26500000.0,59900000.0,19999999.0,64999999.0,38000000.0,35038888.0,28469280.0,80000000.0,48000000.0,51000000.0,105779240.0,695000.0,240000000.0,140000000.0],\"yaxis\":\"y\",\"type\":\"scatter\"},{\"hovertemplate\":\"district=\\u0410\\u043b\\u043c\\u0430\\u043b\\u0438\\u043d\\u0441\\u043a\\u0438\\u0439 \\u0440-\\u043d\\u003cbr\\u003earea_m2=%{x}\\u003cbr\\u003eprice_kzt=%{y}\\u003cextra\\u003e\\u003c\\u002fextra\\u003e\",\"legendgroup\":\"\\u0410\\u043b\\u043c\\u0430\\u043b\\u0438\\u043d\\u0441\\u043a\\u0438\\u0439 \\u0440-\\u043d\",\"marker\":{\"color\":\"#19d3f3\",\"symbol\":\"circle\"},\"mode\":\"markers\",\"name\":\"\\u0410\\u043b\\u043c\\u0430\\u043b\\u0438\\u043d\\u0441\\u043a\\u0438\\u0439 \\u0440-\\u043d\",\"orientation\":\"v\",\"showlegend\":true,\"x\":[75.0,38.0,72.1,74.0,67.0,81.57,81.57,100.0,29.04,51.21,64.0,115.0,110.0,57.0,66.5,80.0,91.3,75.0,38.0,72.1,74.0,67.0,81.57,81.57,100.0,38.0,29.04,51.21,38.0,64.0,115.0,110.0,57.0,38.0,66.5,80.0,91.3,38.0,75.0,38.0,72.1,74.0,67.0,81.57,81.57,100.0,29.04,51.21,64.0,115.0,110.0,57.0,66.5,80.0,91.3,40.0,65.5,70.0,766.0],\"xaxis\":\"x\",\"y\":[53000000.0,32499999.0,41000000.0,62000000.0,40500000.0,97884000.0,97884000.0,84000000.0,19456800.0,32774400.0,39999999.0,56000000.0,85000000.0,42000000.0,37500000.0,57000000.0,69900000.0,53000000.0,32499999.0,41000000.0,62000000.0,40500000.0,97884000.0,97884000.0,84000000.0,32499999.0,19456800.0,32774400.0,32499999.0,39999999.0,56000000.0,85000000.0,42000000.0,32499999.0,37500000.0,57000000.0,69900000.0,32499999.0,53000000.0,32499999.0,41000000.0,62000000.0,40500000.0,97884000.0,97884000.0,84000000.0,19456800.0,32774400.0,39999999.0,56000000.0,85000000.0,42000000.0,37500000.0,57000000.0,69900000.0,60000000.0,68000000.0,52500000.0,720000000.0],\"yaxis\":\"y\",\"type\":\"scatter\"},{\"hovertemplate\":\"district=\\u0422\\u0443\\u0440\\u043a\\u0441\\u0438\\u0431\\u0441\\u043a\\u0438\\u0439 \\u0440-\\u043d\\u003cbr\\u003earea_m2=%{x}\\u003cbr\\u003eprice_kzt=%{y}\\u003cextra\\u003e\\u003c\\u002fextra\\u003e\",\"legendgroup\":\"\\u0422\\u0443\\u0440\\u043a\\u0441\\u0438\\u0431\\u0441\\u043a\\u0438\\u0439 \\u0440-\\u043d\",\"marker\":{\"color\":\"#FF6692\",\"symbol\":\"circle\"},\"mode\":\"markers\",\"name\":\"\\u0422\\u0443\\u0440\\u043a\\u0441\\u0438\\u0431\\u0441\\u043a\\u0438\\u0439 \\u0440-\\u043d\",\"orientation\":\"v\",\"showlegend\":true,\"x\":[56.3,34.5,47.2,103.88,35.5,50.0,16.0,56.3,56.3,34.5,47.2,103.88,35.5,56.3,34.5,47.2,35.5,50.0,56.3,34.5,47.2,56.3,34.5,47.2,16.0,56.3,34.5,47.2,56.3,34.5,47.2,103.88,35.5,50.0,16.0,120.12],\"xaxis\":\"x\",\"y\":[29800000.0,17999999.0,21999999.0,44646900.0,29047180.0,25000000.0,11900000.0,29800000.0,29800000.0,17999999.0,21999999.0,44646900.0,29047180.0,29800000.0,17999999.0,21999999.0,29047180.0,25000000.0,29800000.0,17999999.0,21999999.0,29800000.0,17999999.0,21999999.0,11900000.0,29800000.0,17999999.0,21999999.0,29800000.0,17999999.0,21999999.0,44646900.0,29047180.0,25000000.0,11900000.0,58800000.0],\"yaxis\":\"y\",\"type\":\"scatter\"},{\"hovertemplate\":\"district=\\u0410\\u0443\\u044d\\u0437\\u043e\\u0432\\u0441\\u043a\\u0438\\u0439 \\u0440-\\u043d\\u003cbr\\u003earea_m2=%{x}\\u003cbr\\u003eprice_kzt=%{y}\\u003cextra\\u003e\\u003c\\u002fextra\\u003e\",\"legendgroup\":\"\\u0410\\u0443\\u044d\\u0437\\u043e\\u0432\\u0441\\u043a\\u0438\\u0439 \\u0440-\\u043d\",\"marker\":{\"color\":\"#B6E880\",\"symbol\":\"circle\"},\"mode\":\"markers\",\"name\":\"\\u0410\\u0443\\u044d\\u0437\\u043e\\u0432\\u0441\\u043a\\u0438\\u0439 \\u0440-\\u043d\",\"orientation\":\"v\",\"showlegend\":true,\"x\":[155.0,52.0,52.0,46.0,80.0,56.0,21.0,41.1,130.0,57.7,31.0,61.1,114.7,114.7,155.0,52.0,52.0,46.0,80.0,56.0,52.0,52.0,46.0,80.0,21.0,52.0,52.0,46.0,80.0,41.1,130.0,57.7,31.0,52.0,52.0,46.0,80.0,61.1,52.0,52.0,46.0,80.0,114.7,114.7,155.0,52.0,46.0,80.0,56.0,21.0,41.1,130.0,57.7,31.0,61.1,114.7,55.0,41.0],\"xaxis\":\"x\",\"y\":[130000000.0,31999999.0,33199999.0,25799999.0,54000000.0,39500000.0,14800000.0,25500000.0,93000000.0,39000000.0,25000000.0,35000000.0,85000000.0,85000000.0,130000000.0,31999999.0,33199999.0,25799999.0,54000000.0,39500000.0,31999999.0,33199999.0,25799999.0,54000000.0,14800000.0,31999999.0,33199999.0,25799999.0,54000000.0,25500000.0,93000000.0,39000000.0,25000000.0,31999999.0,33199999.0,25799999.0,54000000.0,35000000.0,31999999.0,33199999.0,25799999.0,54000000.0,85000000.0,85000000.0,130000000.0,31999999.0,25799999.0,54000000.0,39500000.0,14800000.0,25500000.0,93000000.0,39000000.0,25000000.0,35000000.0,85000000.0,48000000.0,54000000.0],\"yaxis\":\"y\",\"type\":\"scatter\"},{\"hovertemplate\":\"district=\\u0416\\u0435\\u0442\\u044b\\u0441\\u0443\\u0441\\u043a\\u0438\\u0439 \\u0440-\\u043d\\u003cbr\\u003earea_m2=%{x}\\u003cbr\\u003eprice_kzt=%{y}\\u003cextra\\u003e\\u003c\\u002fextra\\u003e\",\"legendgroup\":\"\\u0416\\u0435\\u0442\\u044b\\u0441\\u0443\\u0441\\u043a\\u0438\\u0439 \\u0440-\\u043d\",\"marker\":{\"color\":\"#FF97FF\",\"symbol\":\"circle\"},\"mode\":\"markers\",\"name\":\"\\u0416\\u0435\\u0442\\u044b\\u0441\\u0443\\u0441\\u043a\\u0438\\u0439 \\u0440-\\u043d\",\"orientation\":\"v\",\"showlegend\":true,\"x\":[30.0,42.0,45.77,47.6,53.3,30.0,42.0,45.77,47.6,30.0,30.0,53.3,30.0,30.0,30.0,42.0,45.77,47.6,53.3,174.0],\"xaxis\":\"x\",\"y\":[15000000.0,30000000.0,38401030.0,37842000.0,33000000.0,15000000.0,30000000.0,38401030.0,37842000.0,15000000.0,15000000.0,33000000.0,15000000.0,15000000.0,15000000.0,30000000.0,38401030.0,37842000.0,33000000.0,25000000.0],\"yaxis\":\"y\",\"type\":\"scatter\"},{\"hovertemplate\":\"district=\\u0410\\u043b\\u043c\\u0430\\u0442\\u0438\\u043d\\u0441\\u043a\\u0430\\u044f \\u043e\\u0431\\u043b.\\u003cbr\\u003earea_m2=%{x}\\u003cbr\\u003eprice_kzt=%{y}\\u003cextra\\u003e\\u003c\\u002fextra\\u003e\",\"legendgroup\":\"\\u0410\\u043b\\u043c\\u0430\\u0442\\u0438\\u043d\\u0441\\u043a\\u0430\\u044f \\u043e\\u0431\\u043b.\",\"marker\":{\"color\":\"#FECB52\",\"symbol\":\"circle\"},\"mode\":\"markers\",\"name\":\"\\u0410\\u043b\\u043c\\u0430\\u0442\\u0438\\u043d\\u0441\\u043a\\u0430\\u044f \\u043e\\u0431\\u043b.\",\"orientation\":\"v\",\"showlegend\":true,\"x\":[58.28,58.25,64.2,65.5,65.5,58.28,64.2,65.5],\"xaxis\":\"x\",\"y\":[20398000.0,20387500.0,26000000.0,26000000.0,26000000.0,20398000.0,26000000.0,26000000.0],\"yaxis\":\"y\",\"type\":\"scatter\"},{\"hovertemplate\":\"district=\\u0415\\u0441\\u0438\\u043b\\u044c\\u0441\\u043a\\u0438\\u0439 \\u0440-\\u043d\\u003cbr\\u003earea_m2=%{x}\\u003cbr\\u003eprice_kzt=%{y}\\u003cextra\\u003e\\u003c\\u002fextra\\u003e\",\"legendgroup\":\"\\u0415\\u0441\\u0438\\u043b\\u044c\\u0441\\u043a\\u0438\\u0439 \\u0440-\\u043d\",\"marker\":{\"color\":\"#636efa\",\"symbol\":\"circle\"},\"mode\":\"markers\",\"name\":\"\\u0415\\u0441\\u0438\\u043b\\u044c\\u0441\\u043a\\u0438\\u0439 \\u0440-\\u043d\",\"orientation\":\"v\",\"showlegend\":true,\"x\":[96.0,42.0,34.0,58.0,37.0,78.0,62.1,31.0,61.8,85.0,165.0,146.0,95.0,99.06,60.0,37.5,80.0,120.0,36.3,95.0,87.0,77.7,35.0,44.0,122.0,18.4,154.0,43.0,3.8],\"xaxis\":\"x\",\"y\":[45000000.0,25900000.0,18900000.0,26500000.0,24500000.0,39450000.0,41000000.0,11000000.0,37500000.0,38000000.0,175000000.0,97000000.0,48000000.0,38336220.0,35500000.0,23500000.0,32000000.0,50652000.0,21500000.0,70000000.0,45500000.0,54000000.0,24000000.0,30000000.0,96000000.0,15000000.0,55000000.0,52000000.0,700000.0],\"yaxis\":\"y\",\"type\":\"scatter\"},{\"hovertemplate\":\"district=\\u041d\\u0443\\u0440\\u0430 \\u0440-\\u043d\\u003cbr\\u003earea_m2=%{x}\\u003cbr\\u003eprice_kzt=%{y}\\u003cextra\\u003e\\u003c\\u002fextra\\u003e\",\"legendgroup\":\"\\u041d\\u0443\\u0440\\u0430 \\u0440-\\u043d\",\"marker\":{\"color\":\"#EF553B\",\"symbol\":\"circle\"},\"mode\":\"markers\",\"name\":\"\\u041d\\u0443\\u0440\\u0430 \\u0440-\\u043d\",\"orientation\":\"v\",\"showlegend\":true,\"x\":[55.0,93.7,265.0,65.0,36.0,40.0,68.6,42.0,84.0,78.9,111.39,130.07,72.9,60.1,79.6,84.55,114.1,92.8,81.5,72.63,44.2,44.0,37.0,48.0,34.45,62.9,765.0],\"xaxis\":\"x\",\"y\":[33000000.0,58000000.0,110000000.0,47000000.0,25500000.0,19000000.0,35000000.0,27000000.0,41000000.0,28950000.0,50459670.0,83635010.0,45052200.0,32634300.0,38300000.0,34750050.0,48948900.0,60784000.0,38300000.0,38639160.0,32266000.0,29300000.0,27700000.0,22000000.0,19300000.0,29800000.0,415000000.0],\"yaxis\":\"y\",\"type\":\"scatter\"},{\"hovertemplate\":\"district=\\u0410\\u043b\\u043c\\u0430\\u0442\\u044b \\u0440-\\u043d\\u003cbr\\u003earea_m2=%{x}\\u003cbr\\u003eprice_kzt=%{y}\\u003cextra\\u003e\\u003c\\u002fextra\\u003e\",\"legendgroup\":\"\\u0410\\u043b\\u043c\\u0430\\u0442\\u044b \\u0440-\\u043d\",\"marker\":{\"color\":\"#00cc96\",\"symbol\":\"circle\"},\"mode\":\"markers\",\"name\":\"\\u0410\\u043b\\u043c\\u0430\\u0442\\u044b \\u0440-\\u043d\",\"orientation\":\"v\",\"showlegend\":true,\"x\":[85.2,67.0,52.0,43.0,40.0,40.0,59.0,40.0,57.8,37.0,75.36,300.0,20.0,79.0,18.0,39.0,96.0,202.0,2.4,21.2,123.0,36.0,121.5,1100.0],\"xaxis\":\"x\",\"y\":[42000000.0,34000000.0,24000000.0,19000000.0,19800000.0,18000000.0,22800000.0,16700000.0,50000000.0,14615000.0,28636800.0,165000000.0,10200000.0,67000000.0,12000000.0,25000000.0,34500000.0,160000000.0,500000.0,15000000.0,116000000.0,5500000.0,63000000.0,220000000.0],\"yaxis\":\"y\",\"type\":\"scatter\"},{\"hovertemplate\":\"district=\\u0421\\u0430\\u0440\\u044b\\u0430\\u0440\\u043a\\u0430 \\u0440-\\u043d\\u003cbr\\u003earea_m2=%{x}\\u003cbr\\u003eprice_kzt=%{y}\\u003cextra\\u003e\\u003c\\u002fextra\\u003e\",\"legendgroup\":\"\\u0421\\u0430\\u0440\\u044b\\u0430\\u0440\\u043a\\u0430 \\u0440-\\u043d\",\"marker\":{\"color\":\"#ab63fa\",\"symbol\":\"circle\"},\"mode\":\"markers\",\"name\":\"\\u0421\\u0430\\u0440\\u044b\\u0430\\u0440\\u043a\\u0430 \\u0440-\\u043d\",\"orientation\":\"v\",\"showlegend\":true,\"x\":[35.0,43.0,105.5,42.0,106.0,37.8,71.7,36.0,38.32,48.0,96.0,52.4,1115.0,150.0,460.0],\"xaxis\":\"x\",\"y\":[19900000.0,21000000.0,45000000.0,19500000.0,34500000.0,10017000.0,35133000.0,14500000.0,14178400.0,18500000.0,40000000.0,18990000.0,400000000.0,114000000.0,65000000.0],\"yaxis\":\"y\",\"type\":\"scatter\"},{\"hovertemplate\":\"district=\\u0440-\\u043d \\u0411\\u0430\\u0439\\u043a\\u043e\\u043d\\u0443\\u0440\\u003cbr\\u003earea_m2=%{x}\\u003cbr\\u003eprice_kzt=%{y}\\u003cextra\\u003e\\u003c\\u002fextra\\u003e\",\"legendgroup\":\"\\u0440-\\u043d \\u0411\\u0430\\u0439\\u043a\\u043e\\u043d\\u0443\\u0440\",\"marker\":{\"color\":\"#FFA15A\",\"symbol\":\"circle\"},\"mode\":\"markers\",\"name\":\"\\u0440-\\u043d \\u0411\\u0430\\u0439\\u043a\\u043e\\u043d\\u0443\\u0440\",\"orientation\":\"v\",\"showlegend\":true,\"x\":[150.0,78.0,48.0,120.0,314.0,24.0],\"xaxis\":\"x\",\"y\":[49700000.0,29500000.0,16500000.0,50000000.0,105000000.0,1900000.0],\"yaxis\":\"y\",\"type\":\"scatter\"},{\"hovertemplate\":\"district=\\u0410\\u0431\\u0430\\u0439\\u0441\\u043a\\u0438\\u0439 \\u0440-\\u043d\\u003cbr\\u003earea_m2=%{x}\\u003cbr\\u003eprice_kzt=%{y}\\u003cextra\\u003e\\u003c\\u002fextra\\u003e\",\"legendgroup\":\"\\u0410\\u0431\\u0430\\u0439\\u0441\\u043a\\u0438\\u0439 \\u0440-\\u043d\",\"marker\":{\"color\":\"#19d3f3\",\"symbol\":\"circle\"},\"mode\":\"markers\",\"name\":\"\\u0410\\u0431\\u0430\\u0439\\u0441\\u043a\\u0438\\u0439 \\u0440-\\u043d\",\"orientation\":\"v\",\"showlegend\":true,\"x\":[62.02,57.74,87.5,84.0,37.0,103.46,86.0,88.15,67.0,80.75,39.44,66.57,41.0,116.17],\"xaxis\":\"x\",\"y\":[21707000.0,27137800.0,79000000.0,37000000.0,23500000.0,45005100.0,29500000.0,40549000.0,35000000.0,41990000.0,19325600.0,21968100.0,25000000.0,50069270.0],\"yaxis\":\"y\",\"type\":\"scatter\"},{\"hovertemplate\":\"district=\\u041a\\u0430\\u0440\\u0430\\u0442\\u0430\\u0443\\u0441\\u043a\\u0438\\u0439 \\u0440-\\u043d\\u003cbr\\u003earea_m2=%{x}\\u003cbr\\u003eprice_kzt=%{y}\\u003cextra\\u003e\\u003c\\u002fextra\\u003e\",\"legendgroup\":\"\\u041a\\u0430\\u0440\\u0430\\u0442\\u0430\\u0443\\u0441\\u043a\\u0438\\u0439 \\u0440-\\u043d\",\"marker\":{\"color\":\"#FF6692\",\"symbol\":\"circle\"},\"mode\":\"markers\",\"name\":\"\\u041a\\u0430\\u0440\\u0430\\u0442\\u0430\\u0443\\u0441\\u043a\\u0438\\u0439 \\u0440-\\u043d\",\"orientation\":\"v\",\"showlegend\":true,\"x\":[42.4,95.1,65.0,83.0,78.2,45.0,39.42,55.8,79.0,64.0,60.0,60.0,50.0,114.0,68.5,71.0,94.0,43.0],\"xaxis\":\"x\",\"y\":[17500000.0,62500000.0,36500000.0,34000000.0,63000000.0,23000000.0,21000000.0,30000000.0,68000000.0,29000000.0,26900000.0,38000000.0,33500000.0,80000000.0,44000000.0,31620000.0,60000000.0,21000000.0],\"yaxis\":\"y\",\"type\":\"scatter\"},{\"hovertemplate\":\"district=\\u0410\\u043b\\u044c-\\u0424\\u0430\\u0440\\u0430\\u0431\\u0438\\u0439\\u0441\\u043a\\u0438\\u0439 \\u0440-\\u043d\\u003cbr\\u003earea_m2=%{x}\\u003cbr\\u003eprice_kzt=%{y}\\u003cextra\\u003e\\u003c\\u002fextra\\u003e\",\"legendgroup\":\"\\u0410\\u043b\\u044c-\\u0424\\u0430\\u0440\\u0430\\u0431\\u0438\\u0439\\u0441\\u043a\\u0438\\u0439 \\u0440-\\u043d\",\"marker\":{\"color\":\"#B6E880\",\"symbol\":\"circle\"},\"mode\":\"markers\",\"name\":\"\\u0410\\u043b\\u044c-\\u0424\\u0430\\u0440\\u0430\\u0431\\u0438\\u0439\\u0441\\u043a\\u0438\\u0439 \\u0440-\\u043d\",\"orientation\":\"v\",\"showlegend\":true,\"x\":[39.0,151.88,44.0,28.0,42.0,72.0,33.0,82.0,100.0,68.0,28.0],\"xaxis\":\"x\",\"y\":[18000000.0,141248400.0,16500000.0,13500000.0,19500000.0,37000000.0,13200000.0,30000000.0,33000000.0,40000000.0,13500000.0],\"yaxis\":\"y\",\"type\":\"scatter\"},{\"hovertemplate\":\"district=\\u0422\\u0443\\u0440\\u0430\\u043d \\u0440-\\u043d\\u003cbr\\u003earea_m2=%{x}\\u003cbr\\u003eprice_kzt=%{y}\\u003cextra\\u003e\\u003c\\u002fextra\\u003e\",\"legendgroup\":\"\\u0422\\u0443\\u0440\\u0430\\u043d \\u0440-\\u043d\",\"marker\":{\"color\":\"#FF97FF\",\"symbol\":\"circle\"},\"mode\":\"markers\",\"name\":\"\\u0422\\u0443\\u0440\\u0430\\u043d \\u0440-\\u043d\",\"orientation\":\"v\",\"showlegend\":true,\"x\":[70.0,35.96,60.0,130.0,59.43,57.0],\"xaxis\":\"x\",\"y\":[28000000.0,17944040.0,17600000.0,45500000.0,30071580.0,17000000.0],\"yaxis\":\"y\",\"type\":\"scatter\"},{\"hovertemplate\":\"district=\\u0415\\u043d\\u0431\\u0435\\u043a\\u0448\\u0438\\u043d\\u0441\\u043a\\u0438\\u0439 \\u0440-\\u043d\\u003cbr\\u003earea_m2=%{x}\\u003cbr\\u003eprice_kzt=%{y}\\u003cextra\\u003e\\u003c\\u002fextra\\u003e\",\"legendgroup\":\"\\u0415\\u043d\\u0431\\u0435\\u043a\\u0448\\u0438\\u043d\\u0441\\u043a\\u0438\\u0439 \\u0440-\\u043d\",\"marker\":{\"color\":\"#FECB52\",\"symbol\":\"circle\"},\"mode\":\"markers\",\"name\":\"\\u0415\\u043d\\u0431\\u0435\\u043a\\u0448\\u0438\\u043d\\u0441\\u043a\\u0438\\u0439 \\u0440-\\u043d\",\"orientation\":\"v\",\"showlegend\":true,\"x\":[144.0],\"xaxis\":\"x\",\"y\":[135000000.0],\"yaxis\":\"y\",\"type\":\"scatter\"}],                        {\"template\":{\"data\":{\"histogram2dcontour\":[{\"type\":\"histogram2dcontour\",\"colorbar\":{\"outlinewidth\":0,\"ticks\":\"\"},\"colorscale\":[[0.0,\"#0d0887\"],[0.1111111111111111,\"#46039f\"],[0.2222222222222222,\"#7201a8\"],[0.3333333333333333,\"#9c179e\"],[0.4444444444444444,\"#bd3786\"],[0.5555555555555556,\"#d8576b\"],[0.6666666666666666,\"#ed7953\"],[0.7777777777777778,\"#fb9f3a\"],[0.8888888888888888,\"#fdca26\"],[1.0,\"#f0f921\"]]}],\"choropleth\":[{\"type\":\"choropleth\",\"colorbar\":{\"outlinewidth\":0,\"ticks\":\"\"}}],\"histogram2d\":[{\"type\":\"histogram2d\",\"colorbar\":{\"outlinewidth\":0,\"ticks\":\"\"},\"colorscale\":[[0.0,\"#0d0887\"],[0.1111111111111111,\"#46039f\"],[0.2222222222222222,\"#7201a8\"],[0.3333333333333333,\"#9c179e\"],[0.4444444444444444,\"#bd3786\"],[0.5555555555555556,\"#d8576b\"],[0.6666666666666666,\"#ed7953\"],[0.7777777777777778,\"#fb9f3a\"],[0.8888888888888888,\"#fdca26\"],[1.0,\"#f0f921\"]]}],\"heatmap\":[{\"type\":\"heatmap\",\"colorbar\":{\"outlinewidth\":0,\"ticks\":\"\"},\"colorscale\":[[0.0,\"#0d0887\"],[0.1111111111111111,\"#46039f\"],[0.2222222222222222,\"#7201a8\"],[0.3333333333333333,\"#9c179e\"],[0.4444444444444444,\"#bd3786\"],[0.5555555555555556,\"#d8576b\"],[0.6666666666666666,\"#ed7953\"],[0.7777777777777778,\"#fb9f3a\"],[0.8888888888888888,\"#fdca26\"],[1.0,\"#f0f921\"]]}],\"heatmapgl\":[{\"type\":\"heatmapgl\",\"colorbar\":{\"outlinewidth\":0,\"ticks\":\"\"},\"colorscale\":[[0.0,\"#0d0887\"],[0.1111111111111111,\"#46039f\"],[0.2222222222222222,\"#7201a8\"],[0.3333333333333333,\"#9c179e\"],[0.4444444444444444,\"#bd3786\"],[0.5555555555555556,\"#d8576b\"],[0.6666666666666666,\"#ed7953\"],[0.7777777777777778,\"#fb9f3a\"],[0.8888888888888888,\"#fdca26\"],[1.0,\"#f0f921\"]]}],\"contourcarpet\":[{\"type\":\"contourcarpet\",\"colorbar\":{\"outlinewidth\":0,\"ticks\":\"\"}}],\"contour\":[{\"type\":\"contour\",\"colorbar\":{\"outlinewidth\":0,\"ticks\":\"\"},\"colorscale\":[[0.0,\"#0d0887\"],[0.1111111111111111,\"#46039f\"],[0.2222222222222222,\"#7201a8\"],[0.3333333333333333,\"#9c179e\"],[0.4444444444444444,\"#bd3786\"],[0.5555555555555556,\"#d8576b\"],[0.6666666666666666,\"#ed7953\"],[0.7777777777777778,\"#fb9f3a\"],[0.8888888888888888,\"#fdca26\"],[1.0,\"#f0f921\"]]}],\"surface\":[{\"type\":\"surface\",\"colorbar\":{\"outlinewidth\":0,\"ticks\":\"\"},\"colorscale\":[[0.0,\"#0d0887\"],[0.1111111111111111,\"#46039f\"],[0.2222222222222222,\"#7201a8\"],[0.3333333333333333,\"#9c179e\"],[0.4444444444444444,\"#bd3786\"],[0.5555555555555556,\"#d8576b\"],[0.6666666666666666,\"#ed7953\"],[0.7777777777777778,\"#fb9f3a\"],[0.8888888888888888,\"#fdca26\"],[1.0,\"#f0f921\"]]}],\"mesh3d\":[{\"type\":\"mesh3d\",\"colorbar\":{\"outlinewidth\":0,\"ticks\":\"\"}}],\"scatter\":[{\"fillpattern\":{\"fillmode\":\"overlay\",\"size\":10,\"solidity\":0.2},\"type\":\"scatter\"}],\"parcoords\":[{\"type\":\"parcoords\",\"line\":{\"colorbar\":{\"outlinewidth\":0,\"ticks\":\"\"}}}],\"scatterpolargl\":[{\"type\":\"scatterpolargl\",\"marker\":{\"colorbar\":{\"outlinewidth\":0,\"ticks\":\"\"}}}],\"bar\":[{\"error_x\":{\"color\":\"#2a3f5f\"},\"error_y\":{\"color\":\"#2a3f5f\"},\"marker\":{\"line\":{\"color\":\"#E5ECF6\",\"width\":0.5},\"pattern\":{\"fillmode\":\"overlay\",\"size\":10,\"solidity\":0.2}},\"type\":\"bar\"}],\"scattergeo\":[{\"type\":\"scattergeo\",\"marker\":{\"colorbar\":{\"outlinewidth\":0,\"ticks\":\"\"}}}],\"scatterpolar\":[{\"type\":\"scatterpolar\",\"marker\":{\"colorbar\":{\"outlinewidth\":0,\"ticks\":\"\"}}}],\"histogram\":[{\"marker\":{\"pattern\":{\"fillmode\":\"overlay\",\"size\":10,\"solidity\":0.2}},\"type\":\"histogram\"}],\"scattergl\":[{\"type\":\"scattergl\",\"marker\":{\"colorbar\":{\"outlinewidth\":0,\"ticks\":\"\"}}}],\"scatter3d\":[{\"type\":\"scatter3d\",\"line\":{\"colorbar\":{\"outlinewidth\":0,\"ticks\":\"\"}},\"marker\":{\"colorbar\":{\"outlinewidth\":0,\"ticks\":\"\"}}}],\"scattermapbox\":[{\"type\":\"scattermapbox\",\"marker\":{\"colorbar\":{\"outlinewidth\":0,\"ticks\":\"\"}}}],\"scatterternary\":[{\"type\":\"scatterternary\",\"marker\":{\"colorbar\":{\"outlinewidth\":0,\"ticks\":\"\"}}}],\"scattercarpet\":[{\"type\":\"scattercarpet\",\"marker\":{\"colorbar\":{\"outlinewidth\":0,\"ticks\":\"\"}}}],\"carpet\":[{\"aaxis\":{\"endlinecolor\":\"#2a3f5f\",\"gridcolor\":\"white\",\"linecolor\":\"white\",\"minorgridcolor\":\"white\",\"startlinecolor\":\"#2a3f5f\"},\"baxis\":{\"endlinecolor\":\"#2a3f5f\",\"gridcolor\":\"white\",\"linecolor\":\"white\",\"minorgridcolor\":\"white\",\"startlinecolor\":\"#2a3f5f\"},\"type\":\"carpet\"}],\"table\":[{\"cells\":{\"fill\":{\"color\":\"#EBF0F8\"},\"line\":{\"color\":\"white\"}},\"header\":{\"fill\":{\"color\":\"#C8D4E3\"},\"line\":{\"color\":\"white\"}},\"type\":\"table\"}],\"barpolar\":[{\"marker\":{\"line\":{\"color\":\"#E5ECF6\",\"width\":0.5},\"pattern\":{\"fillmode\":\"overlay\",\"size\":10,\"solidity\":0.2}},\"type\":\"barpolar\"}],\"pie\":[{\"automargin\":true,\"type\":\"pie\"}]},\"layout\":{\"autotypenumbers\":\"strict\",\"colorway\":[\"#636efa\",\"#EF553B\",\"#00cc96\",\"#ab63fa\",\"#FFA15A\",\"#19d3f3\",\"#FF6692\",\"#B6E880\",\"#FF97FF\",\"#FECB52\"],\"font\":{\"color\":\"#2a3f5f\"},\"hovermode\":\"closest\",\"hoverlabel\":{\"align\":\"left\"},\"paper_bgcolor\":\"white\",\"plot_bgcolor\":\"#E5ECF6\",\"polar\":{\"bgcolor\":\"#E5ECF6\",\"angularaxis\":{\"gridcolor\":\"white\",\"linecolor\":\"white\",\"ticks\":\"\"},\"radialaxis\":{\"gridcolor\":\"white\",\"linecolor\":\"white\",\"ticks\":\"\"}},\"ternary\":{\"bgcolor\":\"#E5ECF6\",\"aaxis\":{\"gridcolor\":\"white\",\"linecolor\":\"white\",\"ticks\":\"\"},\"baxis\":{\"gridcolor\":\"white\",\"linecolor\":\"white\",\"ticks\":\"\"},\"caxis\":{\"gridcolor\":\"white\",\"linecolor\":\"white\",\"ticks\":\"\"}},\"coloraxis\":{\"colorbar\":{\"outlinewidth\":0,\"ticks\":\"\"}},\"colorscale\":{\"sequential\":[[0.0,\"#0d0887\"],[0.1111111111111111,\"#46039f\"],[0.2222222222222222,\"#7201a8\"],[0.3333333333333333,\"#9c179e\"],[0.4444444444444444,\"#bd3786\"],[0.5555555555555556,\"#d8576b\"],[0.6666666666666666,\"#ed7953\"],[0.7777777777777778,\"#fb9f3a\"],[0.8888888888888888,\"#fdca26\"],[1.0,\"#f0f921\"]],\"sequentialminus\":[[0.0,\"#0d0887\"],[0.1111111111111111,\"#46039f\"],[0.2222222222222222,\"#7201a8\"],[0.3333333333333333,\"#9c179e\"],[0.4444444444444444,\"#bd3786\"],[0.5555555555555556,\"#d8576b\"],[0.6666666666666666,\"#ed7953\"],[0.7777777777777778,\"#fb9f3a\"],[0.8888888888888888,\"#fdca26\"],[1.0,\"#f0f921\"]],\"diverging\":[[0,\"#8e0152\"],[0.1,\"#c51b7d\"],[0.2,\"#de77ae\"],[0.3,\"#f1b6da\"],[0.4,\"#fde0ef\"],[0.5,\"#f7f7f7\"],[0.6,\"#e6f5d0\"],[0.7,\"#b8e186\"],[0.8,\"#7fbc41\"],[0.9,\"#4d9221\"],[1,\"#276419\"]]},\"xaxis\":{\"gridcolor\":\"white\",\"linecolor\":\"white\",\"ticks\":\"\",\"title\":{\"standoff\":15},\"zerolinecolor\":\"white\",\"automargin\":true,\"zerolinewidth\":2},\"yaxis\":{\"gridcolor\":\"white\",\"linecolor\":\"white\",\"ticks\":\"\",\"title\":{\"standoff\":15},\"zerolinecolor\":\"white\",\"automargin\":true,\"zerolinewidth\":2},\"scene\":{\"xaxis\":{\"backgroundcolor\":\"#E5ECF6\",\"gridcolor\":\"white\",\"linecolor\":\"white\",\"showbackground\":true,\"ticks\":\"\",\"zerolinecolor\":\"white\",\"gridwidth\":2},\"yaxis\":{\"backgroundcolor\":\"#E5ECF6\",\"gridcolor\":\"white\",\"linecolor\":\"white\",\"showbackground\":true,\"ticks\":\"\",\"zerolinecolor\":\"white\",\"gridwidth\":2},\"zaxis\":{\"backgroundcolor\":\"#E5ECF6\",\"gridcolor\":\"white\",\"linecolor\":\"white\",\"showbackground\":true,\"ticks\":\"\",\"zerolinecolor\":\"white\",\"gridwidth\":2}},\"shapedefaults\":{\"line\":{\"color\":\"#2a3f5f\"}},\"annotationdefaults\":{\"arrowcolor\":\"#2a3f5f\",\"arrowhead\":0,\"arrowwidth\":1},\"geo\":{\"bgcolor\":\"white\",\"landcolor\":\"#E5ECF6\",\"subunitcolor\":\"white\",\"showland\":true,\"showlakes\":true,\"lakecolor\":\"white\"},\"title\":{\"x\":0.05},\"mapbox\":{\"style\":\"light\"}}},\"xaxis\":{\"anchor\":\"y\",\"domain\":[0.0,1.0],\"title\":{\"text\":\"area_m2\"}},\"yaxis\":{\"anchor\":\"x\",\"domain\":[0.0,1.0],\"title\":{\"text\":\"price_kzt\"}},\"legend\":{\"title\":{\"text\":\"district\"},\"tracegroupgap\":0},\"margin\":{\"t\":60}},                        {\"responsive\": true}                    ).then(function(){\n",
       "                            \n",
       "var gd = document.getElementById('7e6aa8d3-4d13-41cb-95e8-fe7b85561b93');\n",
       "var x = new MutationObserver(function (mutations, observer) {{\n",
       "        var display = window.getComputedStyle(gd).display;\n",
       "        if (!display || display === 'none') {{\n",
       "            console.log([gd, 'removed!']);\n",
       "            Plotly.purge(gd);\n",
       "            observer.disconnect();\n",
       "        }}\n",
       "}});\n",
       "\n",
       "// Listen for the removal of the full notebook cells\n",
       "var notebookContainer = gd.closest('#notebook-container');\n",
       "if (notebookContainer) {{\n",
       "    x.observe(notebookContainer, {childList: true});\n",
       "}}\n",
       "\n",
       "// Listen for the clearing of the current output cell\n",
       "var outputEl = gd.closest('.output');\n",
       "if (outputEl) {{\n",
       "    x.observe(outputEl, {childList: true});\n",
       "}}\n",
       "\n",
       "                        })                };                });            </script>        </div>"
      ]
     },
     "metadata": {},
     "output_type": "display_data"
    }
   ],
   "source": [
    "px.scatter(df, x = 'area_m2', y = 'price_kzt', color = 'district')"
   ]
  },
  {
   "cell_type": "markdown",
   "id": "b0c88156-f975-4d2f-8cb2-8c493b2e579b",
   "metadata": {},
   "source": [
    "#### Pie char"
   ]
  },
  {
   "cell_type": "code",
   "execution_count": 917,
   "id": "99e22766-85de-49ee-a0cf-d0b5dec87d67",
   "metadata": {},
   "outputs": [
    {
     "data": {
      "application/vnd.plotly.v1+json": {
       "config": {
        "plotlyServerURL": "https://plot.ly"
       },
       "data": [
        {
         "domain": {
          "x": [
           0,
           1
          ],
          "y": [
           0,
           1
          ]
         },
         "hovertemplate": "rooms=%{label}<extra></extra>",
         "labels": [
          2,
          3,
          3,
          3,
          4,
          5,
          5,
          4,
          1,
          3,
          1,
          2,
          1,
          3,
          3,
          4,
          3,
          3,
          3,
          4,
          2,
          3,
          2,
          2,
          3,
          1,
          1,
          2,
          1,
          2,
          2,
          1,
          4,
          1,
          2,
          4,
          2,
          2,
          3,
          2,
          2,
          2,
          3,
          5,
          2,
          3,
          3,
          4,
          2,
          3,
          3,
          1,
          1,
          1,
          2,
          1,
          1,
          4,
          2,
          2,
          1,
          2,
          1,
          4,
          4,
          2,
          2,
          1,
          4,
          1,
          2,
          4,
          2,
          2,
          3,
          2,
          2,
          3,
          3,
          2,
          3,
          2,
          2,
          2,
          5,
          3,
          3,
          1,
          2,
          3,
          3,
          1,
          2,
          1,
          3,
          3,
          3,
          1,
          3,
          2,
          2,
          2,
          4,
          2,
          3,
          1,
          4,
          4,
          5,
          3,
          2,
          3,
          3,
          5,
          3,
          2,
          2,
          2,
          2,
          2,
          2,
          3,
          3,
          3,
          4,
          5,
          5,
          4,
          1,
          3,
          1,
          2,
          1,
          3,
          3,
          4,
          3,
          3,
          3,
          4,
          2,
          3,
          2,
          3,
          2,
          3,
          3,
          2,
          2,
          3,
          1,
          1,
          2,
          1,
          2,
          2,
          1,
          4,
          1,
          2,
          4,
          2,
          2,
          3,
          2,
          4,
          2,
          2,
          3,
          5,
          2,
          3,
          3,
          4,
          2,
          3,
          3,
          1,
          1,
          2,
          3,
          2,
          3,
          2,
          3,
          3,
          2,
          2,
          3,
          1,
          1,
          2,
          1,
          2,
          2,
          1,
          4,
          1,
          2,
          1,
          1,
          2,
          1,
          1,
          4,
          2,
          2,
          1,
          2,
          1,
          4,
          4,
          2,
          2,
          1,
          4,
          2,
          3,
          2,
          3,
          2,
          3,
          3,
          2,
          2,
          3,
          1,
          1,
          2,
          1,
          2,
          2,
          1,
          4,
          1,
          2,
          1,
          2,
          4,
          2,
          2,
          3,
          2,
          2,
          3,
          3,
          2,
          3,
          2,
          2,
          2,
          5,
          3,
          3,
          1,
          2,
          2,
          3,
          2,
          3,
          2,
          3,
          3,
          2,
          2,
          3,
          1,
          1,
          2,
          1,
          2,
          2,
          1,
          4,
          1,
          2,
          2,
          3,
          3,
          1,
          2,
          1,
          3,
          3,
          3,
          1,
          3,
          2,
          2,
          2,
          4,
          2,
          3,
          1,
          4,
          4,
          2,
          3,
          2,
          3,
          2,
          3,
          3,
          2,
          2,
          3,
          1,
          1,
          2,
          1,
          2,
          2,
          1,
          4,
          1,
          2,
          2,
          3,
          3,
          5,
          2,
          3,
          3,
          5,
          3,
          2,
          3,
          3,
          5,
          3,
          2,
          3,
          3,
          3,
          4,
          5,
          5,
          4,
          1,
          3,
          1,
          2,
          1,
          3,
          4,
          3,
          3,
          3,
          4,
          2,
          3,
          2,
          3,
          1,
          1,
          2,
          1,
          2,
          2,
          1,
          4,
          1,
          2,
          4,
          2,
          2,
          3,
          2,
          2,
          2,
          3,
          5,
          2,
          3,
          3,
          4,
          2,
          3,
          3,
          1,
          1,
          1,
          2,
          1,
          1,
          4,
          2,
          2,
          1,
          2,
          1,
          4,
          4,
          2,
          2,
          1,
          4,
          1,
          2,
          4,
          2,
          2,
          3,
          2,
          2,
          3,
          3,
          2,
          3,
          2,
          2,
          5,
          3,
          3,
          1,
          2,
          3,
          3,
          1,
          2,
          1,
          3,
          3,
          3,
          1,
          3,
          2,
          2,
          2,
          4,
          2,
          3,
          1,
          4,
          4,
          5,
          3,
          2,
          2,
          2,
          3,
          2,
          2,
          3,
          3,
          1,
          1,
          2,
          5,
          3,
          2,
          2,
          2,
          2,
          1,
          3,
          3,
          1,
          1,
          1,
          2,
          2,
          1,
          1,
          1,
          2,
          2,
          2,
          1,
          2,
          3,
          3,
          1,
          3,
          2,
          3,
          4,
          5,
          2,
          2,
          1,
          2,
          4,
          1,
          3,
          4,
          2,
          1,
          1,
          2,
          4,
          1,
          2,
          2,
          3,
          2,
          2,
          4,
          3,
          2,
          4,
          6,
          3,
          3,
          2,
          1,
          3,
          2,
          1,
          1,
          2,
          3,
          2,
          1,
          3,
          1,
          2,
          2,
          1,
          2,
          1,
          2,
          3,
          1,
          2,
          4,
          1,
          1,
          3,
          1,
          3,
          3,
          2,
          4,
          4,
          3,
          2,
          1,
          3,
          3,
          2,
          1,
          2,
          1,
          2,
          2,
          1,
          1,
          4,
          4,
          3,
          4,
          3,
          1,
          2,
          2,
          3,
          1,
          2,
          2,
          4,
          2,
          2,
          2,
          1,
          5,
          2,
          1,
          3,
          2,
          5,
          4,
          2,
          2,
          2,
          3,
          1,
          3,
          3,
          1
         ],
         "legendgroup": "",
         "name": "",
         "showlegend": true,
         "type": "pie"
        }
       ],
       "layout": {
        "autosize": true,
        "legend": {
         "tracegroupgap": 0
        },
        "template": {
         "data": {
          "bar": [
           {
            "error_x": {
             "color": "#2a3f5f"
            },
            "error_y": {
             "color": "#2a3f5f"
            },
            "marker": {
             "line": {
              "color": "#E5ECF6",
              "width": 0.5
             },
             "pattern": {
              "fillmode": "overlay",
              "size": 10,
              "solidity": 0.2
             }
            },
            "type": "bar"
           }
          ],
          "barpolar": [
           {
            "marker": {
             "line": {
              "color": "#E5ECF6",
              "width": 0.5
             },
             "pattern": {
              "fillmode": "overlay",
              "size": 10,
              "solidity": 0.2
             }
            },
            "type": "barpolar"
           }
          ],
          "carpet": [
           {
            "aaxis": {
             "endlinecolor": "#2a3f5f",
             "gridcolor": "white",
             "linecolor": "white",
             "minorgridcolor": "white",
             "startlinecolor": "#2a3f5f"
            },
            "baxis": {
             "endlinecolor": "#2a3f5f",
             "gridcolor": "white",
             "linecolor": "white",
             "minorgridcolor": "white",
             "startlinecolor": "#2a3f5f"
            },
            "type": "carpet"
           }
          ],
          "choropleth": [
           {
            "colorbar": {
             "outlinewidth": 0,
             "ticks": ""
            },
            "type": "choropleth"
           }
          ],
          "contour": [
           {
            "colorbar": {
             "outlinewidth": 0,
             "ticks": ""
            },
            "colorscale": [
             [
              0,
              "#0d0887"
             ],
             [
              0.1111111111111111,
              "#46039f"
             ],
             [
              0.2222222222222222,
              "#7201a8"
             ],
             [
              0.3333333333333333,
              "#9c179e"
             ],
             [
              0.4444444444444444,
              "#bd3786"
             ],
             [
              0.5555555555555556,
              "#d8576b"
             ],
             [
              0.6666666666666666,
              "#ed7953"
             ],
             [
              0.7777777777777778,
              "#fb9f3a"
             ],
             [
              0.8888888888888888,
              "#fdca26"
             ],
             [
              1,
              "#f0f921"
             ]
            ],
            "type": "contour"
           }
          ],
          "contourcarpet": [
           {
            "colorbar": {
             "outlinewidth": 0,
             "ticks": ""
            },
            "type": "contourcarpet"
           }
          ],
          "heatmap": [
           {
            "colorbar": {
             "outlinewidth": 0,
             "ticks": ""
            },
            "colorscale": [
             [
              0,
              "#0d0887"
             ],
             [
              0.1111111111111111,
              "#46039f"
             ],
             [
              0.2222222222222222,
              "#7201a8"
             ],
             [
              0.3333333333333333,
              "#9c179e"
             ],
             [
              0.4444444444444444,
              "#bd3786"
             ],
             [
              0.5555555555555556,
              "#d8576b"
             ],
             [
              0.6666666666666666,
              "#ed7953"
             ],
             [
              0.7777777777777778,
              "#fb9f3a"
             ],
             [
              0.8888888888888888,
              "#fdca26"
             ],
             [
              1,
              "#f0f921"
             ]
            ],
            "type": "heatmap"
           }
          ],
          "heatmapgl": [
           {
            "colorbar": {
             "outlinewidth": 0,
             "ticks": ""
            },
            "colorscale": [
             [
              0,
              "#0d0887"
             ],
             [
              0.1111111111111111,
              "#46039f"
             ],
             [
              0.2222222222222222,
              "#7201a8"
             ],
             [
              0.3333333333333333,
              "#9c179e"
             ],
             [
              0.4444444444444444,
              "#bd3786"
             ],
             [
              0.5555555555555556,
              "#d8576b"
             ],
             [
              0.6666666666666666,
              "#ed7953"
             ],
             [
              0.7777777777777778,
              "#fb9f3a"
             ],
             [
              0.8888888888888888,
              "#fdca26"
             ],
             [
              1,
              "#f0f921"
             ]
            ],
            "type": "heatmapgl"
           }
          ],
          "histogram": [
           {
            "marker": {
             "pattern": {
              "fillmode": "overlay",
              "size": 10,
              "solidity": 0.2
             }
            },
            "type": "histogram"
           }
          ],
          "histogram2d": [
           {
            "colorbar": {
             "outlinewidth": 0,
             "ticks": ""
            },
            "colorscale": [
             [
              0,
              "#0d0887"
             ],
             [
              0.1111111111111111,
              "#46039f"
             ],
             [
              0.2222222222222222,
              "#7201a8"
             ],
             [
              0.3333333333333333,
              "#9c179e"
             ],
             [
              0.4444444444444444,
              "#bd3786"
             ],
             [
              0.5555555555555556,
              "#d8576b"
             ],
             [
              0.6666666666666666,
              "#ed7953"
             ],
             [
              0.7777777777777778,
              "#fb9f3a"
             ],
             [
              0.8888888888888888,
              "#fdca26"
             ],
             [
              1,
              "#f0f921"
             ]
            ],
            "type": "histogram2d"
           }
          ],
          "histogram2dcontour": [
           {
            "colorbar": {
             "outlinewidth": 0,
             "ticks": ""
            },
            "colorscale": [
             [
              0,
              "#0d0887"
             ],
             [
              0.1111111111111111,
              "#46039f"
             ],
             [
              0.2222222222222222,
              "#7201a8"
             ],
             [
              0.3333333333333333,
              "#9c179e"
             ],
             [
              0.4444444444444444,
              "#bd3786"
             ],
             [
              0.5555555555555556,
              "#d8576b"
             ],
             [
              0.6666666666666666,
              "#ed7953"
             ],
             [
              0.7777777777777778,
              "#fb9f3a"
             ],
             [
              0.8888888888888888,
              "#fdca26"
             ],
             [
              1,
              "#f0f921"
             ]
            ],
            "type": "histogram2dcontour"
           }
          ],
          "mesh3d": [
           {
            "colorbar": {
             "outlinewidth": 0,
             "ticks": ""
            },
            "type": "mesh3d"
           }
          ],
          "parcoords": [
           {
            "line": {
             "colorbar": {
              "outlinewidth": 0,
              "ticks": ""
             }
            },
            "type": "parcoords"
           }
          ],
          "pie": [
           {
            "automargin": true,
            "type": "pie"
           }
          ],
          "scatter": [
           {
            "fillpattern": {
             "fillmode": "overlay",
             "size": 10,
             "solidity": 0.2
            },
            "type": "scatter"
           }
          ],
          "scatter3d": [
           {
            "line": {
             "colorbar": {
              "outlinewidth": 0,
              "ticks": ""
             }
            },
            "marker": {
             "colorbar": {
              "outlinewidth": 0,
              "ticks": ""
             }
            },
            "type": "scatter3d"
           }
          ],
          "scattercarpet": [
           {
            "marker": {
             "colorbar": {
              "outlinewidth": 0,
              "ticks": ""
             }
            },
            "type": "scattercarpet"
           }
          ],
          "scattergeo": [
           {
            "marker": {
             "colorbar": {
              "outlinewidth": 0,
              "ticks": ""
             }
            },
            "type": "scattergeo"
           }
          ],
          "scattergl": [
           {
            "marker": {
             "colorbar": {
              "outlinewidth": 0,
              "ticks": ""
             }
            },
            "type": "scattergl"
           }
          ],
          "scattermapbox": [
           {
            "marker": {
             "colorbar": {
              "outlinewidth": 0,
              "ticks": ""
             }
            },
            "type": "scattermapbox"
           }
          ],
          "scatterpolar": [
           {
            "marker": {
             "colorbar": {
              "outlinewidth": 0,
              "ticks": ""
             }
            },
            "type": "scatterpolar"
           }
          ],
          "scatterpolargl": [
           {
            "marker": {
             "colorbar": {
              "outlinewidth": 0,
              "ticks": ""
             }
            },
            "type": "scatterpolargl"
           }
          ],
          "scatterternary": [
           {
            "marker": {
             "colorbar": {
              "outlinewidth": 0,
              "ticks": ""
             }
            },
            "type": "scatterternary"
           }
          ],
          "surface": [
           {
            "colorbar": {
             "outlinewidth": 0,
             "ticks": ""
            },
            "colorscale": [
             [
              0,
              "#0d0887"
             ],
             [
              0.1111111111111111,
              "#46039f"
             ],
             [
              0.2222222222222222,
              "#7201a8"
             ],
             [
              0.3333333333333333,
              "#9c179e"
             ],
             [
              0.4444444444444444,
              "#bd3786"
             ],
             [
              0.5555555555555556,
              "#d8576b"
             ],
             [
              0.6666666666666666,
              "#ed7953"
             ],
             [
              0.7777777777777778,
              "#fb9f3a"
             ],
             [
              0.8888888888888888,
              "#fdca26"
             ],
             [
              1,
              "#f0f921"
             ]
            ],
            "type": "surface"
           }
          ],
          "table": [
           {
            "cells": {
             "fill": {
              "color": "#EBF0F8"
             },
             "line": {
              "color": "white"
             }
            },
            "header": {
             "fill": {
              "color": "#C8D4E3"
             },
             "line": {
              "color": "white"
             }
            },
            "type": "table"
           }
          ]
         },
         "layout": {
          "annotationdefaults": {
           "arrowcolor": "#2a3f5f",
           "arrowhead": 0,
           "arrowwidth": 1
          },
          "autotypenumbers": "strict",
          "coloraxis": {
           "colorbar": {
            "outlinewidth": 0,
            "ticks": ""
           }
          },
          "colorscale": {
           "diverging": [
            [
             0,
             "#8e0152"
            ],
            [
             0.1,
             "#c51b7d"
            ],
            [
             0.2,
             "#de77ae"
            ],
            [
             0.3,
             "#f1b6da"
            ],
            [
             0.4,
             "#fde0ef"
            ],
            [
             0.5,
             "#f7f7f7"
            ],
            [
             0.6,
             "#e6f5d0"
            ],
            [
             0.7,
             "#b8e186"
            ],
            [
             0.8,
             "#7fbc41"
            ],
            [
             0.9,
             "#4d9221"
            ],
            [
             1,
             "#276419"
            ]
           ],
           "sequential": [
            [
             0,
             "#0d0887"
            ],
            [
             0.1111111111111111,
             "#46039f"
            ],
            [
             0.2222222222222222,
             "#7201a8"
            ],
            [
             0.3333333333333333,
             "#9c179e"
            ],
            [
             0.4444444444444444,
             "#bd3786"
            ],
            [
             0.5555555555555556,
             "#d8576b"
            ],
            [
             0.6666666666666666,
             "#ed7953"
            ],
            [
             0.7777777777777778,
             "#fb9f3a"
            ],
            [
             0.8888888888888888,
             "#fdca26"
            ],
            [
             1,
             "#f0f921"
            ]
           ],
           "sequentialminus": [
            [
             0,
             "#0d0887"
            ],
            [
             0.1111111111111111,
             "#46039f"
            ],
            [
             0.2222222222222222,
             "#7201a8"
            ],
            [
             0.3333333333333333,
             "#9c179e"
            ],
            [
             0.4444444444444444,
             "#bd3786"
            ],
            [
             0.5555555555555556,
             "#d8576b"
            ],
            [
             0.6666666666666666,
             "#ed7953"
            ],
            [
             0.7777777777777778,
             "#fb9f3a"
            ],
            [
             0.8888888888888888,
             "#fdca26"
            ],
            [
             1,
             "#f0f921"
            ]
           ]
          },
          "colorway": [
           "#636efa",
           "#EF553B",
           "#00cc96",
           "#ab63fa",
           "#FFA15A",
           "#19d3f3",
           "#FF6692",
           "#B6E880",
           "#FF97FF",
           "#FECB52"
          ],
          "font": {
           "color": "#2a3f5f"
          },
          "geo": {
           "bgcolor": "white",
           "lakecolor": "white",
           "landcolor": "#E5ECF6",
           "showlakes": true,
           "showland": true,
           "subunitcolor": "white"
          },
          "hoverlabel": {
           "align": "left"
          },
          "hovermode": "closest",
          "mapbox": {
           "style": "light"
          },
          "paper_bgcolor": "white",
          "plot_bgcolor": "#E5ECF6",
          "polar": {
           "angularaxis": {
            "gridcolor": "white",
            "linecolor": "white",
            "ticks": ""
           },
           "bgcolor": "#E5ECF6",
           "radialaxis": {
            "gridcolor": "white",
            "linecolor": "white",
            "ticks": ""
           }
          },
          "scene": {
           "xaxis": {
            "backgroundcolor": "#E5ECF6",
            "gridcolor": "white",
            "gridwidth": 2,
            "linecolor": "white",
            "showbackground": true,
            "ticks": "",
            "zerolinecolor": "white"
           },
           "yaxis": {
            "backgroundcolor": "#E5ECF6",
            "gridcolor": "white",
            "gridwidth": 2,
            "linecolor": "white",
            "showbackground": true,
            "ticks": "",
            "zerolinecolor": "white"
           },
           "zaxis": {
            "backgroundcolor": "#E5ECF6",
            "gridcolor": "white",
            "gridwidth": 2,
            "linecolor": "white",
            "showbackground": true,
            "ticks": "",
            "zerolinecolor": "white"
           }
          },
          "shapedefaults": {
           "line": {
            "color": "#2a3f5f"
           }
          },
          "ternary": {
           "aaxis": {
            "gridcolor": "white",
            "linecolor": "white",
            "ticks": ""
           },
           "baxis": {
            "gridcolor": "white",
            "linecolor": "white",
            "ticks": ""
           },
           "bgcolor": "#E5ECF6",
           "caxis": {
            "gridcolor": "white",
            "linecolor": "white",
            "ticks": ""
           }
          },
          "title": {
           "x": 0.05
          },
          "xaxis": {
           "automargin": true,
           "gridcolor": "white",
           "linecolor": "white",
           "ticks": "",
           "title": {
            "standoff": 15
           },
           "zerolinecolor": "white",
           "zerolinewidth": 2
          },
          "yaxis": {
           "automargin": true,
           "gridcolor": "white",
           "linecolor": "white",
           "ticks": "",
           "title": {
            "standoff": 15
           },
           "zerolinecolor": "white",
           "zerolinewidth": 2
          }
         }
        },
        "title": {
         "text": "Доля квартир по количеству комнат "
        }
       }
      },
      "image/png": "[encoded data removed]",
      "text/html": [
       "<div>                            <div id=\"4abe4f68-064f-4ef8-b43f-f12761a93018\" class=\"plotly-graph-div\" style=\"height:525px; width:100%;\"></div>            <script type=\"text/javascript\">                require([\"plotly\"], function(Plotly) {                    window.PLOTLYENV=window.PLOTLYENV || {};                                    if (document.getElementById(\"4abe4f68-064f-4ef8-b43f-f12761a93018\")) {                    Plotly.newPlot(                        \"4abe4f68-064f-4ef8-b43f-f12761a93018\",                        [{\"domain\":{\"x\":[0.0,1.0],\"y\":[0.0,1.0]},\"hovertemplate\":\"rooms=%{label}\\u003cextra\\u003e\\u003c\\u002fextra\\u003e\",\"labels\":[2.0,3.0,3.0,3.0,4.0,5.0,5.0,4.0,1.0,3.0,1.0,2.0,1.0,3.0,3.0,4.0,3.0,3.0,3.0,4.0,2.0,3.0,2.0,2.0,3.0,1.0,1.0,2.0,1.0,2.0,2.0,1.0,4.0,1.0,2.0,4.0,2.0,2.0,3.0,2.0,2.0,2.0,3.0,5.0,2.0,3.0,3.0,4.0,2.0,3.0,3.0,1.0,1.0,1.0,2.0,1.0,1.0,4.0,2.0,2.0,1.0,2.0,1.0,4.0,4.0,2.0,2.0,1.0,4.0,1.0,2.0,4.0,2.0,2.0,3.0,2.0,2.0,3.0,3.0,2.0,3.0,2.0,2.0,2.0,5.0,3.0,3.0,1.0,2.0,3.0,3.0,1.0,2.0,1.0,3.0,3.0,3.0,1.0,3.0,2.0,2.0,2.0,4.0,2.0,3.0,1.0,4.0,4.0,5.0,3.0,2.0,3.0,3.0,5.0,3.0,2.0,2.0,2.0,2.0,2.0,2.0,3.0,3.0,3.0,4.0,5.0,5.0,4.0,1.0,3.0,1.0,2.0,1.0,3.0,3.0,4.0,3.0,3.0,3.0,4.0,2.0,3.0,2.0,3.0,2.0,3.0,3.0,2.0,2.0,3.0,1.0,1.0,2.0,1.0,2.0,2.0,1.0,4.0,1.0,2.0,4.0,2.0,2.0,3.0,2.0,4.0,2.0,2.0,3.0,5.0,2.0,3.0,3.0,4.0,2.0,3.0,3.0,1.0,1.0,2.0,3.0,2.0,3.0,2.0,3.0,3.0,2.0,2.0,3.0,1.0,1.0,2.0,1.0,2.0,2.0,1.0,4.0,1.0,2.0,1.0,1.0,2.0,1.0,1.0,4.0,2.0,2.0,1.0,2.0,1.0,4.0,4.0,2.0,2.0,1.0,4.0,2.0,3.0,2.0,3.0,2.0,3.0,3.0,2.0,2.0,3.0,1.0,1.0,2.0,1.0,2.0,2.0,1.0,4.0,1.0,2.0,1.0,2.0,4.0,2.0,2.0,3.0,2.0,2.0,3.0,3.0,2.0,3.0,2.0,2.0,2.0,5.0,3.0,3.0,1.0,2.0,2.0,3.0,2.0,3.0,2.0,3.0,3.0,2.0,2.0,3.0,1.0,1.0,2.0,1.0,2.0,2.0,1.0,4.0,1.0,2.0,2.0,3.0,3.0,1.0,2.0,1.0,3.0,3.0,3.0,1.0,3.0,2.0,2.0,2.0,4.0,2.0,3.0,1.0,4.0,4.0,2.0,3.0,2.0,3.0,2.0,3.0,3.0,2.0,2.0,3.0,1.0,1.0,2.0,1.0,2.0,2.0,1.0,4.0,1.0,2.0,2.0,3.0,3.0,5.0,2.0,3.0,3.0,5.0,3.0,2.0,3.0,3.0,5.0,3.0,2.0,3.0,3.0,3.0,4.0,5.0,5.0,4.0,1.0,3.0,1.0,2.0,1.0,3.0,4.0,3.0,3.0,3.0,4.0,2.0,3.0,2.0,3.0,1.0,1.0,2.0,1.0,2.0,2.0,1.0,4.0,1.0,2.0,4.0,2.0,2.0,3.0,2.0,2.0,2.0,3.0,5.0,2.0,3.0,3.0,4.0,2.0,3.0,3.0,1.0,1.0,1.0,2.0,1.0,1.0,4.0,2.0,2.0,1.0,2.0,1.0,4.0,4.0,2.0,2.0,1.0,4.0,1.0,2.0,4.0,2.0,2.0,3.0,2.0,2.0,3.0,3.0,2.0,3.0,2.0,2.0,5.0,3.0,3.0,1.0,2.0,3.0,3.0,1.0,2.0,1.0,3.0,3.0,3.0,1.0,3.0,2.0,2.0,2.0,4.0,2.0,3.0,1.0,4.0,4.0,5.0,3.0,2.0,2.0,2.0,3.0,2.0,2.0,3.0,3.0,1.0,1.0,2.0,5.0,3.0,2.0,2.0,2.0,2.0,1.0,3.0,3.0,1.0,1.0,1.0,2.0,2.0,1.0,1.0,1.0,2.0,2.0,2.0,1.0,2.0,3.0,3.0,1.0,3.0,2.0,3.0,4.0,5.0,2.0,2.0,1.0,2.0,4.0,1.0,3.0,4.0,2.0,1.0,1.0,2.0,4.0,1.0,2.0,2.0,3.0,2.0,2.0,4.0,3.0,2.0,4.0,6.0,3.0,3.0,2.0,1.0,3.0,2.0,1.0,1.0,2.0,3.0,2.0,1.0,3.0,1.0,2.0,2.0,1.0,2.0,1.0,2.0,3.0,1.0,2.0,4.0,1.0,1.0,3.0,1.0,3.0,3.0,2.0,4.0,4.0,3.0,2.0,1.0,3.0,3.0,2.0,1.0,2.0,1.0,2.0,2.0,1.0,1.0,4.0,4.0,3.0,4.0,3.0,1.0,2.0,2.0,3.0,1.0,2.0,2.0,4.0,2.0,2.0,2.0,1.0,5.0,2.0,1.0,3.0,2.0,5.0,4.0,2.0,2.0,2.0,3.0,1.0,3.0,3.0,1.0],\"legendgroup\":\"\",\"name\":\"\",\"showlegend\":true,\"type\":\"pie\"}],                        {\"template\":{\"data\":{\"histogram2dcontour\":[{\"type\":\"histogram2dcontour\",\"colorbar\":{\"outlinewidth\":0,\"ticks\":\"\"},\"colorscale\":[[0.0,\"#0d0887\"],[0.1111111111111111,\"#46039f\"],[0.2222222222222222,\"#7201a8\"],[0.3333333333333333,\"#9c179e\"],[0.4444444444444444,\"#bd3786\"],[0.5555555555555556,\"#d8576b\"],[0.6666666666666666,\"#ed7953\"],[0.7777777777777778,\"#fb9f3a\"],[0.8888888888888888,\"#fdca26\"],[1.0,\"#f0f921\"]]}],\"choropleth\":[{\"type\":\"choropleth\",\"colorbar\":{\"outlinewidth\":0,\"ticks\":\"\"}}],\"histogram2d\":[{\"type\":\"histogram2d\",\"colorbar\":{\"outlinewidth\":0,\"ticks\":\"\"},\"colorscale\":[[0.0,\"#0d0887\"],[0.1111111111111111,\"#46039f\"],[0.2222222222222222,\"#7201a8\"],[0.3333333333333333,\"#9c179e\"],[0.4444444444444444,\"#bd3786\"],[0.5555555555555556,\"#d8576b\"],[0.6666666666666666,\"#ed7953\"],[0.7777777777777778,\"#fb9f3a\"],[0.8888888888888888,\"#fdca26\"],[1.0,\"#f0f921\"]]}],\"heatmap\":[{\"type\":\"heatmap\",\"colorbar\":{\"outlinewidth\":0,\"ticks\":\"\"},\"colorscale\":[[0.0,\"#0d0887\"],[0.1111111111111111,\"#46039f\"],[0.2222222222222222,\"#7201a8\"],[0.3333333333333333,\"#9c179e\"],[0.4444444444444444,\"#bd3786\"],[0.5555555555555556,\"#d8576b\"],[0.6666666666666666,\"#ed7953\"],[0.7777777777777778,\"#fb9f3a\"],[0.8888888888888888,\"#fdca26\"],[1.0,\"#f0f921\"]]}],\"heatmapgl\":[{\"type\":\"heatmapgl\",\"colorbar\":{\"outlinewidth\":0,\"ticks\":\"\"},\"colorscale\":[[0.0,\"#0d0887\"],[0.1111111111111111,\"#46039f\"],[0.2222222222222222,\"#7201a8\"],[0.3333333333333333,\"#9c179e\"],[0.4444444444444444,\"#bd3786\"],[0.5555555555555556,\"#d8576b\"],[0.6666666666666666,\"#ed7953\"],[0.7777777777777778,\"#fb9f3a\"],[0.8888888888888888,\"#fdca26\"],[1.0,\"#f0f921\"]]}],\"contourcarpet\":[{\"type\":\"contourcarpet\",\"colorbar\":{\"outlinewidth\":0,\"ticks\":\"\"}}],\"contour\":[{\"type\":\"contour\",\"colorbar\":{\"outlinewidth\":0,\"ticks\":\"\"},\"colorscale\":[[0.0,\"#0d0887\"],[0.1111111111111111,\"#46039f\"],[0.2222222222222222,\"#7201a8\"],[0.3333333333333333,\"#9c179e\"],[0.4444444444444444,\"#bd3786\"],[0.5555555555555556,\"#d8576b\"],[0.6666666666666666,\"#ed7953\"],[0.7777777777777778,\"#fb9f3a\"],[0.8888888888888888,\"#fdca26\"],[1.0,\"#f0f921\"]]}],\"surface\":[{\"type\":\"surface\",\"colorbar\":{\"outlinewidth\":0,\"ticks\":\"\"},\"colorscale\":[[0.0,\"#0d0887\"],[0.1111111111111111,\"#46039f\"],[0.2222222222222222,\"#7201a8\"],[0.3333333333333333,\"#9c179e\"],[0.4444444444444444,\"#bd3786\"],[0.5555555555555556,\"#d8576b\"],[0.6666666666666666,\"#ed7953\"],[0.7777777777777778,\"#fb9f3a\"],[0.8888888888888888,\"#fdca26\"],[1.0,\"#f0f921\"]]}],\"mesh3d\":[{\"type\":\"mesh3d\",\"colorbar\":{\"outlinewidth\":0,\"ticks\":\"\"}}],\"scatter\":[{\"fillpattern\":{\"fillmode\":\"overlay\",\"size\":10,\"solidity\":0.2},\"type\":\"scatter\"}],\"parcoords\":[{\"type\":\"parcoords\",\"line\":{\"colorbar\":{\"outlinewidth\":0,\"ticks\":\"\"}}}],\"scatterpolargl\":[{\"type\":\"scatterpolargl\",\"marker\":{\"colorbar\":{\"outlinewidth\":0,\"ticks\":\"\"}}}],\"bar\":[{\"error_x\":{\"color\":\"#2a3f5f\"},\"error_y\":{\"color\":\"#2a3f5f\"},\"marker\":{\"line\":{\"color\":\"#E5ECF6\",\"width\":0.5},\"pattern\":{\"fillmode\":\"overlay\",\"size\":10,\"solidity\":0.2}},\"type\":\"bar\"}],\"scattergeo\":[{\"type\":\"scattergeo\",\"marker\":{\"colorbar\":{\"outlinewidth\":0,\"ticks\":\"\"}}}],\"scatterpolar\":[{\"type\":\"scatterpolar\",\"marker\":{\"colorbar\":{\"outlinewidth\":0,\"ticks\":\"\"}}}],\"histogram\":[{\"marker\":{\"pattern\":{\"fillmode\":\"overlay\",\"size\":10,\"solidity\":0.2}},\"type\":\"histogram\"}],\"scattergl\":[{\"type\":\"scattergl\",\"marker\":{\"colorbar\":{\"outlinewidth\":0,\"ticks\":\"\"}}}],\"scatter3d\":[{\"type\":\"scatter3d\",\"line\":{\"colorbar\":{\"outlinewidth\":0,\"ticks\":\"\"}},\"marker\":{\"colorbar\":{\"outlinewidth\":0,\"ticks\":\"\"}}}],\"scattermapbox\":[{\"type\":\"scattermapbox\",\"marker\":{\"colorbar\":{\"outlinewidth\":0,\"ticks\":\"\"}}}],\"scatterternary\":[{\"type\":\"scatterternary\",\"marker\":{\"colorbar\":{\"outlinewidth\":0,\"ticks\":\"\"}}}],\"scattercarpet\":[{\"type\":\"scattercarpet\",\"marker\":{\"colorbar\":{\"outlinewidth\":0,\"ticks\":\"\"}}}],\"carpet\":[{\"aaxis\":{\"endlinecolor\":\"#2a3f5f\",\"gridcolor\":\"white\",\"linecolor\":\"white\",\"minorgridcolor\":\"white\",\"startlinecolor\":\"#2a3f5f\"},\"baxis\":{\"endlinecolor\":\"#2a3f5f\",\"gridcolor\":\"white\",\"linecolor\":\"white\",\"minorgridcolor\":\"white\",\"startlinecolor\":\"#2a3f5f\"},\"type\":\"carpet\"}],\"table\":[{\"cells\":{\"fill\":{\"color\":\"#EBF0F8\"},\"line\":{\"color\":\"white\"}},\"header\":{\"fill\":{\"color\":\"#C8D4E3\"},\"line\":{\"color\":\"white\"}},\"type\":\"table\"}],\"barpolar\":[{\"marker\":{\"line\":{\"color\":\"#E5ECF6\",\"width\":0.5},\"pattern\":{\"fillmode\":\"overlay\",\"size\":10,\"solidity\":0.2}},\"type\":\"barpolar\"}],\"pie\":[{\"automargin\":true,\"type\":\"pie\"}]},\"layout\":{\"autotypenumbers\":\"strict\",\"colorway\":[\"#636efa\",\"#EF553B\",\"#00cc96\",\"#ab63fa\",\"#FFA15A\",\"#19d3f3\",\"#FF6692\",\"#B6E880\",\"#FF97FF\",\"#FECB52\"],\"font\":{\"color\":\"#2a3f5f\"},\"hovermode\":\"closest\",\"hoverlabel\":{\"align\":\"left\"},\"paper_bgcolor\":\"white\",\"plot_bgcolor\":\"#E5ECF6\",\"polar\":{\"bgcolor\":\"#E5ECF6\",\"angularaxis\":{\"gridcolor\":\"white\",\"linecolor\":\"white\",\"ticks\":\"\"},\"radialaxis\":{\"gridcolor\":\"white\",\"linecolor\":\"white\",\"ticks\":\"\"}},\"ternary\":{\"bgcolor\":\"#E5ECF6\",\"aaxis\":{\"gridcolor\":\"white\",\"linecolor\":\"white\",\"ticks\":\"\"},\"baxis\":{\"gridcolor\":\"white\",\"linecolor\":\"white\",\"ticks\":\"\"},\"caxis\":{\"gridcolor\":\"white\",\"linecolor\":\"white\",\"ticks\":\"\"}},\"coloraxis\":{\"colorbar\":{\"outlinewidth\":0,\"ticks\":\"\"}},\"colorscale\":{\"sequential\":[[0.0,\"#0d0887\"],[0.1111111111111111,\"#46039f\"],[0.2222222222222222,\"#7201a8\"],[0.3333333333333333,\"#9c179e\"],[0.4444444444444444,\"#bd3786\"],[0.5555555555555556,\"#d8576b\"],[0.6666666666666666,\"#ed7953\"],[0.7777777777777778,\"#fb9f3a\"],[0.8888888888888888,\"#fdca26\"],[1.0,\"#f0f921\"]],\"sequentialminus\":[[0.0,\"#0d0887\"],[0.1111111111111111,\"#46039f\"],[0.2222222222222222,\"#7201a8\"],[0.3333333333333333,\"#9c179e\"],[0.4444444444444444,\"#bd3786\"],[0.5555555555555556,\"#d8576b\"],[0.6666666666666666,\"#ed7953\"],[0.7777777777777778,\"#fb9f3a\"],[0.8888888888888888,\"#fdca26\"],[1.0,\"#f0f921\"]],\"diverging\":[[0,\"#8e0152\"],[0.1,\"#c51b7d\"],[0.2,\"#de77ae\"],[0.3,\"#f1b6da\"],[0.4,\"#fde0ef\"],[0.5,\"#f7f7f7\"],[0.6,\"#e6f5d0\"],[0.7,\"#b8e186\"],[0.8,\"#7fbc41\"],[0.9,\"#4d9221\"],[1,\"#276419\"]]},\"xaxis\":{\"gridcolor\":\"white\",\"linecolor\":\"white\",\"ticks\":\"\",\"title\":{\"standoff\":15},\"zerolinecolor\":\"white\",\"automargin\":true,\"zerolinewidth\":2},\"yaxis\":{\"gridcolor\":\"white\",\"linecolor\":\"white\",\"ticks\":\"\",\"title\":{\"standoff\":15},\"zerolinecolor\":\"white\",\"automargin\":true,\"zerolinewidth\":2},\"scene\":{\"xaxis\":{\"backgroundcolor\":\"#E5ECF6\",\"gridcolor\":\"white\",\"linecolor\":\"white\",\"showbackground\":true,\"ticks\":\"\",\"zerolinecolor\":\"white\",\"gridwidth\":2},\"yaxis\":{\"backgroundcolor\":\"#E5ECF6\",\"gridcolor\":\"white\",\"linecolor\":\"white\",\"showbackground\":true,\"ticks\":\"\",\"zerolinecolor\":\"white\",\"gridwidth\":2},\"zaxis\":{\"backgroundcolor\":\"#E5ECF6\",\"gridcolor\":\"white\",\"linecolor\":\"white\",\"showbackground\":true,\"ticks\":\"\",\"zerolinecolor\":\"white\",\"gridwidth\":2}},\"shapedefaults\":{\"line\":{\"color\":\"#2a3f5f\"}},\"annotationdefaults\":{\"arrowcolor\":\"#2a3f5f\",\"arrowhead\":0,\"arrowwidth\":1},\"geo\":{\"bgcolor\":\"white\",\"landcolor\":\"#E5ECF6\",\"subunitcolor\":\"white\",\"showland\":true,\"showlakes\":true,\"lakecolor\":\"white\"},\"title\":{\"x\":0.05},\"mapbox\":{\"style\":\"light\"}}},\"legend\":{\"tracegroupgap\":0},\"title\":{\"text\":\"\\u0414\\u043e\\u043b\\u044f \\u043a\\u0432\\u0430\\u0440\\u0442\\u0438\\u0440 \\u043f\\u043e \\u043a\\u043e\\u043b\\u0438\\u0447\\u0435\\u0441\\u0442\\u0432\\u0443 \\u043a\\u043e\\u043c\\u043d\\u0430\\u0442 \"}},                        {\"responsive\": true}                    ).then(function(){\n",
       "                            \n",
       "var gd = document.getElementById('4abe4f68-064f-4ef8-b43f-f12761a93018');\n",
       "var x = new MutationObserver(function (mutations, observer) {{\n",
       "        var display = window.getComputedStyle(gd).display;\n",
       "        if (!display || display === 'none') {{\n",
       "            console.log([gd, 'removed!']);\n",
       "            Plotly.purge(gd);\n",
       "            observer.disconnect();\n",
       "        }}\n",
       "}});\n",
       "\n",
       "// Listen for the removal of the full notebook cells\n",
       "var notebookContainer = gd.closest('#notebook-container');\n",
       "if (notebookContainer) {{\n",
       "    x.observe(notebookContainer, {childList: true});\n",
       "}}\n",
       "\n",
       "// Listen for the clearing of the current output cell\n",
       "var outputEl = gd.closest('.output');\n",
       "if (outputEl) {{\n",
       "    x.observe(outputEl, {childList: true});\n",
       "}}\n",
       "\n",
       "                        })                };                });            </script>        </div>"
      ]
     },
     "metadata": {},
     "output_type": "display_data"
    }
   ],
   "source": [
    "px.pie(df, names = 'rooms', title = 'Доля квартир по количеству комнат ' )"
   ]
  }
 ],
 "metadata": {
  "kernelspec": {
   "display_name": "Python [conda env:base] *",
   "language": "python",
   "name": "conda-base-py"
  },
  "language_info": {
   "codemirror_mode": {
    "name": "ipython",
    "version": 3
   },
   "file_extension": ".py",
   "mimetype": "text/x-python",
   "name": "python",
   "nbconvert_exporter": "python",
   "pygments_lexer": "ipython3",
   "version": "3.12.7"
  }
 },
 "nbformat": 4,
 "nbformat_minor": 5
}
